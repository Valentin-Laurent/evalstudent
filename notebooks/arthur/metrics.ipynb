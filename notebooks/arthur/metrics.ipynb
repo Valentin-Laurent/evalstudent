{
 "cells": [
  {
   "cell_type": "markdown",
   "id": "13115bc0",
   "metadata": {},
   "source": [
    "<center><font size=18><strong> Metrics</strong></font></center>\n",
    "<br><br>\n",
    "This notebook wraps up the metrics used during the training of the models and the evaluation metric for the kaggle competition. It is intended to be used for evaluating the results on the test split."
   ]
  },
  {
   "cell_type": "markdown",
   "id": "165075d8",
   "metadata": {},
   "source": [
    "## Imports"
   ]
  },
  {
   "cell_type": "code",
   "execution_count": 80,
   "id": "c422e5a0",
   "metadata": {
    "ExecuteTime": {
     "end_time": "2022-03-09T15:17:19.666460Z",
     "start_time": "2022-03-09T15:17:19.662202Z"
    }
   },
   "outputs": [],
   "source": [
    "import os \n",
    "import pickle\n",
    "\n",
    "from tqdm.notebook import tqdm\n",
    "from IPython.display import HTML"
   ]
  },
  {
   "cell_type": "code",
   "execution_count": 13,
   "id": "ab1e01c2",
   "metadata": {
    "ExecuteTime": {
     "end_time": "2022-03-09T14:49:24.857038Z",
     "start_time": "2022-03-09T14:49:24.850370Z"
    }
   },
   "outputs": [],
   "source": [
    "import pandas as pd \n",
    "import numpy as np \n",
    "import matplotlib.pyplot as plt\n",
    "import seaborn as sns\n",
    "import tensorflow as tf\n",
    "\n",
    "#import seqeval.metrics #not used\n",
    "\n",
    "from transformers import AutoTokenizer"
   ]
  },
  {
   "cell_type": "markdown",
   "id": "20541fd0",
   "metadata": {},
   "source": [
    "## Evaluation metric\n",
    "\n",
    "Create a metric to evaluate model performance according to the Kaggle\n",
    "competition rules.\n",
    "\n",
    "- For each sample, all ground truths and predictions for a given class are \n",
    "    compared.\n",
    "- If the overlap between the ground truth and prediction is >= 0.5, \n",
    "  and the overlap between the prediction and the ground truth >= 0.5, \n",
    "  the prediction is a match and considered a true positive. If multiple \n",
    "  matches exist, the match with the highest pair of overlaps is taken.\n",
    "- Any unmatched ground truths are false negatives and any unmatched \n",
    "  predictions are false positives.\n",
    "    "
   ]
  },
  {
   "cell_type": "markdown",
   "id": "0acd78d9",
   "metadata": {},
   "source": [
    "### Get the data\n",
    "Only for testing purposes"
   ]
  },
  {
   "cell_type": "code",
   "execution_count": 62,
   "id": "04b7374c",
   "metadata": {
    "ExecuteTime": {
     "end_time": "2022-03-09T15:06:35.671605Z",
     "start_time": "2022-03-09T15:06:14.451551Z"
    }
   },
   "outputs": [],
   "source": [
    "#get the data\n",
    "df_essays = pd.read_csv('../../raw_data/preprocessed_v3.csv',converters={'predictionstring':eval,\n",
    "                                                                     'label':eval})\n",
    "with open('../../raw_data/preds_on_testsplit.pickle','rb') as file:\n",
    "    y_pred = pickle.load(file)\n",
    "    \n",
    "with open('../../raw_data/dataset_v3.pickle','rb') as file:\n",
    "    dataset = pickle.load(file)\n"
   ]
  },
  {
   "cell_type": "code",
   "execution_count": 63,
   "id": "812217ff",
   "metadata": {
    "ExecuteTime": {
     "end_time": "2022-03-09T15:06:35.774779Z",
     "start_time": "2022-03-09T15:06:35.767373Z"
    }
   },
   "outputs": [],
   "source": [
    "#Max len of essay \n",
    "SEQ_LEN = 1024 ## THIS SHOULD NOT BE CHANGED without appropriate changes in the preprocessing \n",
    "\n",
    "#Train, val, test split proportion\n",
    "VAL_SPLIT = 0.8\n",
    "TEST_SPLIT = 0.9\n",
    "\n",
    "LEN=len(dataset['labels'])\n",
    "\n",
    "idx_val=int(LEN*VAL_SPLIT)\n",
    "idx_test=int(LEN*TEST_SPLIT)\n",
    "\n",
    "idx_train=list(range(0,idx_val))\n",
    "idx_val=list(range(idx_val,idx_test))\n",
    "idx_test=list(range(idx_test,LEN))\n",
    "\n",
    "assert(len(idx_test)+len(idx_train)+len(idx_val)==LEN)"
   ]
  },
  {
   "cell_type": "code",
   "execution_count": 64,
   "id": "fc7a9007",
   "metadata": {
    "ExecuteTime": {
     "end_time": "2022-03-09T15:06:39.132604Z",
     "start_time": "2022-03-09T15:06:38.798107Z"
    }
   },
   "outputs": [],
   "source": [
    "#creating X_test, y_test, ps_test\n",
    "\n",
    "X_test = {\n",
    "    'input_ids' : dataset['inputs']['input_ids'][idx_test],\n",
    "    'attention_mask' : dataset['inputs']['attention_mask'][idx_test]\n",
    "}\n",
    "\n",
    "y_test = dataset['labels'][idx_test]\n",
    "ps_test = dataset['predictionstrings'][idx_test]"
   ]
  },
  {
   "cell_type": "code",
   "execution_count": 65,
   "id": "f9dad965",
   "metadata": {
    "ExecuteTime": {
     "end_time": "2022-03-09T15:06:39.511659Z",
     "start_time": "2022-03-09T15:06:39.503787Z"
    }
   },
   "outputs": [],
   "source": [
    "#Labels mapping\n",
    "\n",
    "labels_mapping = {'B-Lead' : 0,\n",
    "                  'B-Position' : 1,\n",
    "                  'B-Evidence' : 2,\n",
    "                  'B-Claim' : 3,\n",
    "                  'B-Concluding_Statement' : 4,\n",
    "                  'B-Counterclaim' : 5,\n",
    "                  'B-Rebuttal' : 6,\n",
    "                  'I-Lead' : 7,\n",
    "                  'I-Position' : 8,\n",
    "                  'I-Evidence' : 9,\n",
    "                  'I-Claim' : 10,\n",
    "                  'I-Concluding_Statement' : 11,\n",
    "                  'I-Counterclaim' : 12,\n",
    "                  'I-Rebuttal': 13,\n",
    "                 'O':14,\n",
    "                 'PAD':15}\n",
    "\n",
    "reversed_mapping = {v:(k[2:] if v<14 else k) for k,v in labels_mapping.items()}"
   ]
  },
  {
   "cell_type": "markdown",
   "id": "d23afa93",
   "metadata": {},
   "source": [
    "### Creating predictions df"
   ]
  },
  {
   "cell_type": "code",
   "execution_count": 66,
   "id": "da5e8108",
   "metadata": {
    "ExecuteTime": {
     "end_time": "2022-03-09T15:06:40.745753Z",
     "start_time": "2022-03-09T15:06:40.732491Z"
    }
   },
   "outputs": [],
   "source": [
    "def get_preds(y_pred,ps):\n",
    "    \"\"\"\n",
    "    Generate readable predictions from the output of the model.\n",
    "\n",
    "    Args:\n",
    "        y_pred (ndarray): output of the model\n",
    "        ps (ndarray): predictionstring referring to the token predicted\n",
    "\n",
    "    Returns:\n",
    "        DataFrame : DataFrame with class and predictionstrings\n",
    "    \"\"\"\n",
    "\n",
    "\n",
    "    labels = []\n",
    "    predictionstrings = []\n",
    "    counts = []\n",
    "    \n",
    "    counter=dict()\n",
    "    \n",
    "    for tok,pos in zip(y_pred,ps):\n",
    "        \n",
    "        if tok <= 13:\n",
    "            lab = reversed_mapping[tok]\n",
    "            labels.append(lab)\n",
    "            predictionstrings.append(pos)\n",
    "            if len(labels)<2:\n",
    "                counts.append(str(1))\n",
    "                counter.setdefault(lab,1)\n",
    "                continue\n",
    "            if lab == labels[-2]:\n",
    "                counts.append(str(counter[lab]))\n",
    "            else: \n",
    "                try:\n",
    "                    counter[lab]+=1\n",
    "                except KeyError:\n",
    "                    counter.setdefault(lab,1)\n",
    "                counts.append(str(counter[lab]))\n",
    "    \n",
    "    preds = pd.DataFrame([labels,counts,predictionstrings],index=['class','count','predictionstring']).T\n",
    "    preds['class'] += ' ' + preds['count'].astype(str)\n",
    "    preds = preds.groupby('class',sort=False).agg({'predictionstring':list}).reset_index()\n",
    "    preds['class']=preds['class'].apply(lambda txt : txt.split()[0])\n",
    "    preds['predictionstring']=preds['predictionstring'].apply(lambda l_ : [str(l) for l in l_])\n",
    "    preds['predictionstring']=preds['predictionstring'].apply(lambda l_ : ' '.join(l_))\n",
    "    \n",
    "    return preds"
   ]
  },
  {
   "cell_type": "code",
   "execution_count": 119,
   "id": "bb83207b",
   "metadata": {
    "ExecuteTime": {
     "end_time": "2022-03-09T15:45:51.980869Z",
     "start_time": "2022-03-09T15:45:21.173101Z"
    }
   },
   "outputs": [
    {
     "data": {
      "application/vnd.jupyter.widget-view+json": {
       "model_id": "cf1cf26322bf4a4da886f6e656ecf205",
       "version_major": 2,
       "version_minor": 0
      },
      "text/plain": [
       "  0%|          | 0/1560 [00:00<?, ?it/s]"
      ]
     },
     "metadata": {},
     "output_type": "display_data"
    }
   ],
   "source": [
    "## Working essay per essay, building pred_df\n",
    "\n",
    "preds = np.argmax(y_pred,axis=-1)\n",
    "pred_df=pd.DataFrame()\n",
    "for i,idx in tqdm(enumerate(idx_test),total=len(idx_test)): ## CHANGE idx_test\n",
    "    \n",
    "    pred_ = get_preds(preds[i],ps_test[i])\n",
    "    \n",
    "    pred_['id']=df_essays.iloc[idx]['id']\n",
    "    \n",
    "    pred_df = pred_df.append(pred_)"
   ]
  },
  {
   "cell_type": "code",
   "execution_count": 120,
   "id": "1f1c075b",
   "metadata": {
    "ExecuteTime": {
     "end_time": "2022-03-09T15:46:22.184188Z",
     "start_time": "2022-03-09T15:45:52.028424Z"
    }
   },
   "outputs": [
    {
     "data": {
      "application/vnd.jupyter.widget-view+json": {
       "model_id": "f0864c6ff2f246c4943a0472e867ba78",
       "version_major": 2,
       "version_minor": 0
      },
      "text/plain": [
       "  0%|          | 0/1560 [00:00<?, ?it/s]"
      ]
     },
     "metadata": {},
     "output_type": "display_data"
    }
   ],
   "source": [
    "# Working essay per essay, building true_df\n",
    "\n",
    "## NB : this does not yield exactly the same result as if \n",
    "## we processed train.csv. \n",
    "## TODO : First glance shows delta to be negligible. Yet to further investigate.\n",
    "\n",
    "true = np.argmax(y_test,axis=-1)\n",
    "true_df=pd.DataFrame()\n",
    "for i,idx in tqdm(enumerate(idx_test),total=len(idx_test)): ## CHANGE idx_test\n",
    "    \n",
    "    true_ = get_preds(true[i],ps_test[i])\n",
    "    \n",
    "    true_['id']=df_essays.iloc[idx]['id']\n",
    "    \n",
    "    true_df = true_df.append(true_)"
   ]
  },
  {
   "cell_type": "markdown",
   "id": "94cdc11d",
   "metadata": {},
   "source": [
    "### Scoring functions"
   ]
  },
  {
   "cell_type": "code",
   "execution_count": 121,
   "id": "b2f51aee",
   "metadata": {
    "ExecuteTime": {
     "end_time": "2022-03-09T15:46:24.737610Z",
     "start_time": "2022-03-09T15:46:24.729361Z"
    }
   },
   "outputs": [],
   "source": [
    "def scoring(predictionstring_true,predictionstring_pred):\n",
    "    \"\"\"\n",
    "    Identify each prediction to be a True Positive, a False Positive or a False \n",
    "    Negative according to the competition rules : \n",
    "    - For each sample, all ground truths and predictions for a given class are \n",
    "    compared.\n",
    "    - If the overlap between the ground truth and prediction is >= 0.5, \n",
    "    and the overlap between the prediction and the ground truth >= 0.5, \n",
    "    the prediction is a match and considered a true positive. If multiple \n",
    "    matches exist, the match with the highest pair of overlaps is taken.\n",
    "    - Any unmatched ground truths are false negatives and any unmatched \n",
    "    predictions are false positives.\n",
    "    \n",
    "    predictionstring_true and predictionstring_pred are a possible match from an\n",
    "    outer join of all predictions.\n",
    "\n",
    "    Args:\n",
    "        predictionstring_true (str): predictionstring of a true discourse\n",
    "        predictionstring_pred (str): predictionstring of a predicted discourse\n",
    "\n",
    "    Returns:\n",
    "        str: TP, FP, or FP \n",
    "    \"\"\"\n",
    "    \n",
    "    if predictionstring_true is np.nan :\n",
    "        return 'FP'\n",
    "    \n",
    "    elif predictionstring_pred is np.nan :\n",
    "        return 'FN'\n",
    "    \n",
    "    else:\n",
    "        \n",
    "        ps_true = set(predictionstring_true.split(' '))\n",
    "        ps_pred = set(predictionstring_pred.split(' '))\n",
    "\n",
    "        inter = ps_pred.intersection(ps_true)\n",
    "        overlap_1 = len(inter)/len(ps_true)\n",
    "        overlap_2 = len(inter)/len(ps_pred)\n",
    "\n",
    "        if overlap_1 >= .5 and overlap_2 >= .5:\n",
    "            return 'TP'\n",
    "        else:\n",
    "            return 'FP'\n",
    "\n",
    "## vectorize the funct\n",
    "scoring_vect = np.vectorize(scoring)"
   ]
  },
  {
   "cell_type": "code",
   "execution_count": 122,
   "id": "ce1ca8c1",
   "metadata": {
    "ExecuteTime": {
     "end_time": "2022-03-09T15:46:25.371679Z",
     "start_time": "2022-03-09T15:46:25.368371Z"
    }
   },
   "outputs": [],
   "source": [
    "def f1_score(fp,fn,tp):\n",
    "    return tp/(tp+.5*(fp+fn))*100"
   ]
  },
  {
   "cell_type": "code",
   "execution_count": 123,
   "id": "e9933025",
   "metadata": {
    "ExecuteTime": {
     "end_time": "2022-03-09T15:46:25.961577Z",
     "start_time": "2022-03-09T15:46:25.945019Z"
    }
   },
   "outputs": [],
   "source": [
    "def scores_df(merged_df):\n",
    "    \"\"\"\n",
    "    Computes f1-score summary.\n",
    "\n",
    "    Args:\n",
    "        merged_df (DataFrame): DF with all correspondances of ground truth and \n",
    "        predictions.\n",
    "\n",
    "    Returns:\n",
    "        df, plot: Returns a dataframe summarizing f1-score per class and a\n",
    "        barplot showing f1 levels in comparison to the Macro f1-score\n",
    "    \"\"\"\n",
    "    \n",
    "    merged_df['FP'] = np.where(merged_df['score']=='FP',1,0)\n",
    "    merged_df['FN'] = np.where(merged_df['score']=='FN',1,0)\n",
    "    merged_df['TP'] = np.where(merged_df['score']=='TP',1,0)\n",
    "\n",
    "    merged_df['key'] = merged_df['id']+merged_df['class']+merged_df['predictionstring_pred']+\\\n",
    "                        merged_df['predictionstring_true']\n",
    "    \n",
    "    idx_potential_duplicates = merged_df[(merged_df['key'].duplicated()) & (merged_df['TP']==1)].index\n",
    "    \n",
    "    merged_df.drop(idx_potential_duplicates,inplace=True,axis=0)\n",
    "    \n",
    "    merged_df.drop('key',axis=1,inplace=True)\n",
    "    \n",
    "    score_df = merged_df.groupby('class').agg({'TP':sum,'FP':sum,'FN':sum})\n",
    "    score_df['F1'] = f1_score(score_df.FP,score_df.FN,score_df.TP)\n",
    "    \n",
    "    #Create a total row\n",
    "    score_df.loc['Total']=score_df.mean()\n",
    "\n",
    "    ## weighted average\n",
    "    score_df['Support'] = true_df.groupby('class').count()['id']\n",
    "    score_df['F1_Weighted']=score_df['F1']*(score_df['Support']/score_df['Support'].sum())\n",
    "    score_df.loc['Total','Support']=score_df.Support.sum()\n",
    "    score_df.loc['Total','F1_Weighted']=score_df.F1_Weighted.sum()\n",
    "\n",
    "    # impute correct values for the Total row for TP FN FP \n",
    "    score_df.loc['Total','FP'] = score_df.loc[:'Rebuttal','FP'].sum()\n",
    "    score_df.loc['Total','FN'] = score_df.loc[:'Rebuttal','FN'].sum()\n",
    "    score_df.loc['Total','TP'] = score_df.loc[:'Rebuttal','TP'].sum()    \n",
    "    \n",
    "    #Print aggregated scores\n",
    "    print(f\"F1 Macro Score = {score_df.loc['Total','F1']:.2f}%\")\n",
    "    print(f\"F1 Micro Score = {f1_score(score_df.loc['Total','FP'],score_df.loc['Total','FN'],score_df.loc['Total','TP']):.2f}%\")\n",
    "    print(f\"F1 Weighted Score = {score_df.loc['Total','F1_Weighted']:.2f}%\")\n",
    "    \n",
    "    ## Creating figure\n",
    "    sns.barplot(y=score_df.reset_index().loc[:6,'F1'],x=score_df.index[:-1],palette='Set2')\n",
    "    plt.xticks(rotation=90)\n",
    "    locs,_=plt.xticks()\n",
    "    plt.plot([locs[0]-.5,locs[-1]+.5],[score_df.loc['Total','F1'],score_df.loc['Total','F1']],c='r');\n",
    "    plt.title('Macro F1',size= 16);\n",
    "\n",
    "    ## FORMATING\n",
    "    score_df[['TP','FN','FP','Support']] = score_df[['TP','FN','FP','Support']].applymap('{:.0f}'.format)\n",
    "    score_df[['F1','F1_Weighted']] = score_df[['F1','F1_Weighted']].applymap('{:.2f}%'.format)\n",
    "    \n",
    "    \n",
    "    return score_df"
   ]
  },
  {
   "cell_type": "markdown",
   "id": "69ece2c1",
   "metadata": {},
   "source": [
    "### Building F1 report"
   ]
  },
  {
   "cell_type": "code",
   "execution_count": 124,
   "id": "74444e77",
   "metadata": {
    "ExecuteTime": {
     "end_time": "2022-03-09T15:46:27.465480Z",
     "start_time": "2022-03-09T15:46:27.005560Z"
    },
    "scrolled": true
   },
   "outputs": [
    {
     "data": {
      "text/html": [
       "<div>\n",
       "<style scoped>\n",
       "    .dataframe tbody tr th:only-of-type {\n",
       "        vertical-align: middle;\n",
       "    }\n",
       "\n",
       "    .dataframe tbody tr th {\n",
       "        vertical-align: top;\n",
       "    }\n",
       "\n",
       "    .dataframe thead th {\n",
       "        text-align: right;\n",
       "    }\n",
       "</style>\n",
       "<table border=\"1\" class=\"dataframe\">\n",
       "  <thead>\n",
       "    <tr style=\"text-align: right;\">\n",
       "      <th></th>\n",
       "      <th>class</th>\n",
       "      <th>predictionstring_pred</th>\n",
       "      <th>id</th>\n",
       "      <th>predictionstring_true</th>\n",
       "      <th>score</th>\n",
       "    </tr>\n",
       "  </thead>\n",
       "  <tbody>\n",
       "    <tr>\n",
       "      <th>0</th>\n",
       "      <td>Lead</td>\n",
       "      <td>0 1 2 3 4 5 6 7 8 9 10 11 12 13 14 15 16 17 18...</td>\n",
       "      <td>E6870101D8EE</td>\n",
       "      <td>NaN</td>\n",
       "      <td>FP</td>\n",
       "    </tr>\n",
       "    <tr>\n",
       "      <th>1</th>\n",
       "      <td>Lead</td>\n",
       "      <td>65 66 67 68 69 70 71 72 73 74 75 76 77 78</td>\n",
       "      <td>E6870101D8EE</td>\n",
       "      <td>NaN</td>\n",
       "      <td>FP</td>\n",
       "    </tr>\n",
       "    <tr>\n",
       "      <th>2</th>\n",
       "      <td>Lead</td>\n",
       "      <td>83 84</td>\n",
       "      <td>E6870101D8EE</td>\n",
       "      <td>NaN</td>\n",
       "      <td>FP</td>\n",
       "    </tr>\n",
       "    <tr>\n",
       "      <th>3</th>\n",
       "      <td>Evidence</td>\n",
       "      <td>31 32 33 34 35 36 37 38 39 40 41 42 43 44 45 4...</td>\n",
       "      <td>E6870101D8EE</td>\n",
       "      <td>0 1 2 3 4 5 6 7 8 9 10 11 12 13 14 15 16 17 18...</td>\n",
       "      <td>FP</td>\n",
       "    </tr>\n",
       "    <tr>\n",
       "      <th>4</th>\n",
       "      <td>Evidence</td>\n",
       "      <td>31 32 33 34 35 36 37 38 39 40 41 42 43 44 45 4...</td>\n",
       "      <td>E6870101D8EE</td>\n",
       "      <td>110 111 112 113 114 115 116 117 118 119 120 12...</td>\n",
       "      <td>FP</td>\n",
       "    </tr>\n",
       "  </tbody>\n",
       "</table>\n",
       "</div>"
      ],
      "text/plain": [
       "      class                              predictionstring_pred            id  \\\n",
       "0      Lead  0 1 2 3 4 5 6 7 8 9 10 11 12 13 14 15 16 17 18...  E6870101D8EE   \n",
       "1      Lead          65 66 67 68 69 70 71 72 73 74 75 76 77 78  E6870101D8EE   \n",
       "2      Lead                                              83 84  E6870101D8EE   \n",
       "3  Evidence  31 32 33 34 35 36 37 38 39 40 41 42 43 44 45 4...  E6870101D8EE   \n",
       "4  Evidence  31 32 33 34 35 36 37 38 39 40 41 42 43 44 45 4...  E6870101D8EE   \n",
       "\n",
       "                               predictionstring_true score  \n",
       "0                                                NaN    FP  \n",
       "1                                                NaN    FP  \n",
       "2                                                NaN    FP  \n",
       "3  0 1 2 3 4 5 6 7 8 9 10 11 12 13 14 15 16 17 18...    FP  \n",
       "4  110 111 112 113 114 115 116 117 118 119 120 12...    FP  "
      ]
     },
     "execution_count": 124,
     "metadata": {},
     "output_type": "execute_result"
    }
   ],
   "source": [
    "#Merge true_df and pred_df to get all possible matches\n",
    "merged_df = pred_df.merge(true_df,how = 'outer',on=['id','class'],suffixes=('_pred','_true'))\n",
    "merged_df['score'] = scoring_vect(merged_df.predictionstring_true,\n",
    "                                  merged_df.predictionstring_pred) # apply scoring func to determine for each\n",
    "                                                                    # pred if it FP,FN,TP\n",
    "merged_df.head()"
   ]
  },
  {
   "cell_type": "code",
   "execution_count": 125,
   "id": "88eed805",
   "metadata": {
    "ExecuteTime": {
     "end_time": "2022-03-09T15:46:27.936324Z",
     "start_time": "2022-03-09T15:46:27.595069Z"
    }
   },
   "outputs": [
    {
     "name": "stdout",
     "output_type": "stream",
     "text": [
      "F1 Macro Score = 44.92%\n",
      "F1 Micro Score = 39.31%\n",
      "F1 Weighted Score = 42.86%\n"
     ]
    },
    {
     "data": {
      "text/html": [
       "<div>\n",
       "<style scoped>\n",
       "    .dataframe tbody tr th:only-of-type {\n",
       "        vertical-align: middle;\n",
       "    }\n",
       "\n",
       "    .dataframe tbody tr th {\n",
       "        vertical-align: top;\n",
       "    }\n",
       "\n",
       "    .dataframe thead th {\n",
       "        text-align: right;\n",
       "    }\n",
       "</style>\n",
       "<table border=\"1\" class=\"dataframe\">\n",
       "  <thead>\n",
       "    <tr style=\"text-align: right;\">\n",
       "      <th></th>\n",
       "      <th>TP</th>\n",
       "      <th>FP</th>\n",
       "      <th>FN</th>\n",
       "      <th>F1</th>\n",
       "      <th>Support</th>\n",
       "      <th>F1_Weighted</th>\n",
       "    </tr>\n",
       "    <tr>\n",
       "      <th>class</th>\n",
       "      <th></th>\n",
       "      <th></th>\n",
       "      <th></th>\n",
       "      <th></th>\n",
       "      <th></th>\n",
       "      <th></th>\n",
       "    </tr>\n",
       "  </thead>\n",
       "  <tbody>\n",
       "    <tr>\n",
       "      <th>Claim</th>\n",
       "      <td>1570</td>\n",
       "      <td>7897</td>\n",
       "      <td>49</td>\n",
       "      <td>28.32%</td>\n",
       "      <td>3412</td>\n",
       "      <td>8.06%</td>\n",
       "    </tr>\n",
       "    <tr>\n",
       "      <th>Concluding_Statement</th>\n",
       "      <td>1106</td>\n",
       "      <td>605</td>\n",
       "      <td>27</td>\n",
       "      <td>77.78%</td>\n",
       "      <td>1346</td>\n",
       "      <td>8.73%</td>\n",
       "    </tr>\n",
       "    <tr>\n",
       "      <th>Counterclaim</th>\n",
       "      <td>141</td>\n",
       "      <td>573</td>\n",
       "      <td>202</td>\n",
       "      <td>26.68%</td>\n",
       "      <td>542</td>\n",
       "      <td>1.21%</td>\n",
       "    </tr>\n",
       "    <tr>\n",
       "      <th>Evidence</th>\n",
       "      <td>2400</td>\n",
       "      <td>9860</td>\n",
       "      <td>0</td>\n",
       "      <td>32.74%</td>\n",
       "      <td>3792</td>\n",
       "      <td>10.35%</td>\n",
       "    </tr>\n",
       "    <tr>\n",
       "      <th>Lead</th>\n",
       "      <td>774</td>\n",
       "      <td>618</td>\n",
       "      <td>50</td>\n",
       "      <td>69.86%</td>\n",
       "      <td>963</td>\n",
       "      <td>5.61%</td>\n",
       "    </tr>\n",
       "    <tr>\n",
       "      <th>Position</th>\n",
       "      <td>955</td>\n",
       "      <td>909</td>\n",
       "      <td>68</td>\n",
       "      <td>66.16%</td>\n",
       "      <td>1535</td>\n",
       "      <td>8.47%</td>\n",
       "    </tr>\n",
       "    <tr>\n",
       "      <th>Rebuttal</th>\n",
       "      <td>57</td>\n",
       "      <td>571</td>\n",
       "      <td>199</td>\n",
       "      <td>12.90%</td>\n",
       "      <td>402</td>\n",
       "      <td>0.43%</td>\n",
       "    </tr>\n",
       "    <tr>\n",
       "      <th>Total</th>\n",
       "      <td>7003</td>\n",
       "      <td>21033</td>\n",
       "      <td>595</td>\n",
       "      <td>44.92%</td>\n",
       "      <td>11992</td>\n",
       "      <td>42.86%</td>\n",
       "    </tr>\n",
       "  </tbody>\n",
       "</table>\n",
       "</div>"
      ],
      "text/plain": [
       "                        TP     FP   FN      F1 Support F1_Weighted\n",
       "class                                                             \n",
       "Claim                 1570   7897   49  28.32%    3412       8.06%\n",
       "Concluding_Statement  1106    605   27  77.78%    1346       8.73%\n",
       "Counterclaim           141    573  202  26.68%     542       1.21%\n",
       "Evidence              2400   9860    0  32.74%    3792      10.35%\n",
       "Lead                   774    618   50  69.86%     963       5.61%\n",
       "Position               955    909   68  66.16%    1535       8.47%\n",
       "Rebuttal                57    571  199  12.90%     402       0.43%\n",
       "Total                 7003  21033  595  44.92%   11992      42.86%"
      ]
     },
     "execution_count": 125,
     "metadata": {},
     "output_type": "execute_result"
    },
    {
     "data": {
      "image/png": "[encoded data removed]",
      "text/plain": [
       "<Figure size 432x288 with 1 Axes>"
      ]
     },
     "metadata": {
      "needs_background": "light"
     },
     "output_type": "display_data"
    }
   ],
   "source": [
    "f1_report = scores_df(merged_df)\n",
    "f1_report"
   ]
  },
  {
   "cell_type": "markdown",
   "id": "2fe56a67",
   "metadata": {},
   "source": [
    "## Confusion matrix"
   ]
  },
  {
   "cell_type": "code",
   "execution_count": 126,
   "id": "d8ddb586",
   "metadata": {
    "ExecuteTime": {
     "end_time": "2022-03-09T15:46:29.450945Z",
     "start_time": "2022-03-09T15:46:29.446883Z"
    }
   },
   "outputs": [],
   "source": [
    "from sklearn.metrics import confusion_matrix"
   ]
  },
  {
   "cell_type": "code",
   "execution_count": 127,
   "id": "0edffa7e",
   "metadata": {
    "ExecuteTime": {
     "end_time": "2022-03-09T15:46:30.090905Z",
     "start_time": "2022-03-09T15:46:30.078373Z"
    }
   },
   "outputs": [],
   "source": [
    "def show_confusion_matrix(y_true,y_pred):\n",
    "    \"\"\"\n",
    "    Plots a confusion matrix.\n",
    "\n",
    "    Args:\n",
    "        y_true (np.array): targets of shape (None, 1024)\n",
    "        y_pred (np.array): targets predicted of shape (None, 1024)\n",
    "    \"\"\"\n",
    "\n",
    "    reversed_mapping = {\n",
    "                        0: 'Lead',\n",
    "                        1: 'Position',\n",
    "                        2: 'Evidence',\n",
    "                        3: 'Claim',\n",
    "                        4: 'Concluding_Statement',\n",
    "                        5: 'Counterclaim',\n",
    "                        6: 'Rebuttal',\n",
    "                        7: 'Lead',\n",
    "                        8: 'Position',\n",
    "                        9: 'Evidence',\n",
    "                        10: 'Claim',\n",
    "                        11: 'Concluding_Statement',\n",
    "                        12: 'Counterclaim',\n",
    "                        13: 'Rebuttal',\n",
    "                        14: 'O',\n",
    "                        15: 'PAD'}\n",
    "    \n",
    "    y_true_flat = [reversed_mapping[y] for y in y_true.flatten()]\n",
    "    y_pred_flat = [reversed_mapping[y] for y in y_pred.flatten()]\n",
    "    \n",
    "    LABELS = ['Lead','Position','Claim','Counterclaim','Rebuttal','Evidence','Concluding_Statement','O','PAD']\n",
    "\n",
    "    cfn = confusion_matrix(y_true_flat,y_pred_flat,labels=LABELS)\n",
    "    \n",
    "    fig,ax = plt.subplots(1,1,figsize=(10,10))\n",
    "    plt.title('Confusion Matrix',size=18,pad=20)\n",
    "    sns.heatmap(cfn/np.sum(cfn,axis=0)*100,cmap='Blues',annot = True,fmt='.2f',annot_kws={'size':10},ax=ax);\n",
    "    plt.xticks(np.arange(len(LABELS))+.5,LABELS,rotation = 90,size=12);\n",
    "    plt.yticks(np.arange(len(LABELS))+.5,LABELS,rotation = 0,size=12);\n",
    "    plt.xlabel('PREDICTED',size=16);\n",
    "    plt.ylabel('ACTUAL',size=16);\n",
    "    for t in ax.texts: t.set_text(t.get_text() + \" %\")\n",
    "    \n",
    "    plt.show()"
   ]
  },
  {
   "cell_type": "code",
   "execution_count": 128,
   "id": "55ecfde3",
   "metadata": {
    "ExecuteTime": {
     "end_time": "2022-03-09T15:46:36.552537Z",
     "start_time": "2022-03-09T15:46:30.718342Z"
    }
   },
   "outputs": [
    {
     "data": {
      "image/png": "[encoded data removed]",
      "text/plain": [
       "<Figure size 720x720 with 2 Axes>"
      ]
     },
     "metadata": {
      "needs_background": "light"
     },
     "output_type": "display_data"
    }
   ],
   "source": [
    "show_confusion_matrix(true,preds)"
   ]
  },
  {
   "cell_type": "code",
   "execution_count": 129,
   "id": "ccebd2db",
   "metadata": {
    "ExecuteTime": {
     "end_time": "2022-03-09T15:46:36.610274Z",
     "start_time": "2022-03-09T15:46:36.600824Z"
    }
   },
   "outputs": [
    {
     "data": {
      "text/html": [
       "<div>\n",
       "<style scoped>\n",
       "    .dataframe tbody tr th:only-of-type {\n",
       "        vertical-align: middle;\n",
       "    }\n",
       "\n",
       "    .dataframe tbody tr th {\n",
       "        vertical-align: top;\n",
       "    }\n",
       "\n",
       "    .dataframe thead th {\n",
       "        text-align: right;\n",
       "    }\n",
       "</style>\n",
       "<table border=\"1\" class=\"dataframe\">\n",
       "  <thead>\n",
       "    <tr style=\"text-align: right;\">\n",
       "      <th></th>\n",
       "      <th>class</th>\n",
       "      <th>predictionstring</th>\n",
       "      <th>id</th>\n",
       "    </tr>\n",
       "  </thead>\n",
       "  <tbody>\n",
       "    <tr>\n",
       "      <th>0</th>\n",
       "      <td>Lead</td>\n",
       "      <td>0 1 2 3 4 5 6 7 8 9 10 11 12 13 14 15 16 17 18...</td>\n",
       "      <td>E6870101D8EE</td>\n",
       "    </tr>\n",
       "    <tr>\n",
       "      <th>1</th>\n",
       "      <td>Evidence</td>\n",
       "      <td>31 32 33 34 35 36 37 38 39 40 41 42 43 44 45 4...</td>\n",
       "      <td>E6870101D8EE</td>\n",
       "    </tr>\n",
       "    <tr>\n",
       "      <th>2</th>\n",
       "      <td>Lead</td>\n",
       "      <td>65 66 67 68 69 70 71 72 73 74 75 76 77 78</td>\n",
       "      <td>E6870101D8EE</td>\n",
       "    </tr>\n",
       "    <tr>\n",
       "      <th>3</th>\n",
       "      <td>Claim</td>\n",
       "      <td>79 80 81 82</td>\n",
       "      <td>E6870101D8EE</td>\n",
       "    </tr>\n",
       "    <tr>\n",
       "      <th>4</th>\n",
       "      <td>Lead</td>\n",
       "      <td>83 84</td>\n",
       "      <td>E6870101D8EE</td>\n",
       "    </tr>\n",
       "    <tr>\n",
       "      <th>...</th>\n",
       "      <td>...</td>\n",
       "      <td>...</td>\n",
       "      <td>...</td>\n",
       "    </tr>\n",
       "    <tr>\n",
       "      <th>5</th>\n",
       "      <td>Evidence</td>\n",
       "      <td>122 123 124 125 126 127 128 129 130 131 132 13...</td>\n",
       "      <td>FFFD0AF13501</td>\n",
       "    </tr>\n",
       "    <tr>\n",
       "      <th>6</th>\n",
       "      <td>Concluding_Statement</td>\n",
       "      <td>195 196 197 198 199 200 201 202 203 204 205 20...</td>\n",
       "      <td>FFFD0AF13501</td>\n",
       "    </tr>\n",
       "    <tr>\n",
       "      <th>0</th>\n",
       "      <td>Lead</td>\n",
       "      <td>0 1 2 3 4 5 6</td>\n",
       "      <td>FFFF80B8CC2F</td>\n",
       "    </tr>\n",
       "    <tr>\n",
       "      <th>1</th>\n",
       "      <td>Evidence</td>\n",
       "      <td>7 8 9 10 11 12 13 14 15 16 17 18 19 20 21 22 2...</td>\n",
       "      <td>FFFF80B8CC2F</td>\n",
       "    </tr>\n",
       "    <tr>\n",
       "      <th>2</th>\n",
       "      <td>Concluding_Statement</td>\n",
       "      <td>171</td>\n",
       "      <td>FFFF80B8CC2F</td>\n",
       "    </tr>\n",
       "  </tbody>\n",
       "</table>\n",
       "<p>14446 rows × 3 columns</p>\n",
       "</div>"
      ],
      "text/plain": [
       "                   class                                   predictionstring  \\\n",
       "0                   Lead  0 1 2 3 4 5 6 7 8 9 10 11 12 13 14 15 16 17 18...   \n",
       "1               Evidence  31 32 33 34 35 36 37 38 39 40 41 42 43 44 45 4...   \n",
       "2                   Lead          65 66 67 68 69 70 71 72 73 74 75 76 77 78   \n",
       "3                  Claim                                        79 80 81 82   \n",
       "4                   Lead                                              83 84   \n",
       "..                   ...                                                ...   \n",
       "5               Evidence  122 123 124 125 126 127 128 129 130 131 132 13...   \n",
       "6   Concluding_Statement  195 196 197 198 199 200 201 202 203 204 205 20...   \n",
       "0                   Lead                                      0 1 2 3 4 5 6   \n",
       "1               Evidence  7 8 9 10 11 12 13 14 15 16 17 18 19 20 21 22 2...   \n",
       "2   Concluding_Statement                                                171   \n",
       "\n",
       "              id  \n",
       "0   E6870101D8EE  \n",
       "1   E6870101D8EE  \n",
       "2   E6870101D8EE  \n",
       "3   E6870101D8EE  \n",
       "4   E6870101D8EE  \n",
       "..           ...  \n",
       "5   FFFD0AF13501  \n",
       "6   FFFD0AF13501  \n",
       "0   FFFF80B8CC2F  \n",
       "1   FFFF80B8CC2F  \n",
       "2   FFFF80B8CC2F  \n",
       "\n",
       "[14446 rows x 3 columns]"
      ]
     },
     "execution_count": 129,
     "metadata": {},
     "output_type": "execute_result"
    }
   ],
   "source": [
    "pred_df"
   ]
  },
  {
   "cell_type": "markdown",
   "id": "18964d26",
   "metadata": {},
   "source": [
    "## Visualize"
   ]
  },
  {
   "cell_type": "markdown",
   "id": "1bb5f707",
   "metadata": {},
   "source": [
    "### Match predictionstring and text"
   ]
  },
  {
   "cell_type": "code",
   "execution_count": 130,
   "id": "adc1a38f",
   "metadata": {
    "ExecuteTime": {
     "end_time": "2022-03-09T15:46:36.710303Z",
     "start_time": "2022-03-09T15:46:36.705680Z"
    }
   },
   "outputs": [],
   "source": [
    "def get_essay(id_,mode='train'):\n",
    "    \"\"\"Function to get the full text of an essay from the .txt file.\n",
    "\n",
    "    Args:\n",
    "        id_ (str): id of the essay\n",
    "        mode (str, optional): determines whether to access *train* or *test* texts. \\\n",
    "        Defaults to 'train'.\n",
    "\n",
    "    Returns:\n",
    "        str: Returns the full text of the id\n",
    "    \"\"\"\n",
    "    with open(os.path.join('../../raw_data',mode,f'{id_}.txt'),'r') as file:\n",
    "        txt = file.read()\n",
    "    return txt.strip()"
   ]
  },
  {
   "cell_type": "code",
   "execution_count": 131,
   "id": "d378153b",
   "metadata": {
    "ExecuteTime": {
     "end_time": "2022-03-09T15:46:38.107370Z",
     "start_time": "2022-03-09T15:46:36.754811Z"
    }
   },
   "outputs": [],
   "source": [
    "#retrie the full text of the essay\n",
    "pred_df['text']=pred_df['id'].apply(get_essay)\n",
    "true_df['text']=true_df['id'].apply(get_essay)"
   ]
  },
  {
   "cell_type": "code",
   "execution_count": 132,
   "id": "77cbed6a",
   "metadata": {
    "ExecuteTime": {
     "end_time": "2022-03-09T15:46:38.164710Z",
     "start_time": "2022-03-09T15:46:38.159254Z"
    }
   },
   "outputs": [],
   "source": [
    "#creating a function that will slice the full essay text from predictionstring\n",
    "\n",
    "def slicer(text,idx_first_word,idx_last_word):\n",
    "    text = text.split()\n",
    "    if idx_first_word==0:\n",
    "        return ' '.join(text[:idx_last_word+1])\n",
    "    return ' '.join(text[idx_first_word:idx_last_word+1])\n",
    "    \n",
    "slicer_vect=np.vectorize(slicer) #vectorize"
   ]
  },
  {
   "cell_type": "code",
   "execution_count": 133,
   "id": "6ea6fabb",
   "metadata": {
    "ExecuteTime": {
     "end_time": "2022-03-09T15:46:38.385679Z",
     "start_time": "2022-03-09T15:46:38.223863Z"
    }
   },
   "outputs": [],
   "source": [
    "## utilities columns to get first and last word index for each discourse\n",
    "pred_df['first_word'] = pred_df['predictionstring'].apply(lambda txt : txt.split()[0]).astype(int)\n",
    "pred_df['last_word'] = pred_df['predictionstring'].apply(lambda txt : txt.split()[-1]).astype(int)\n",
    "true_df['first_word'] = true_df['predictionstring'].apply(lambda txt : txt.split()[0]).astype(int)\n",
    "true_df['last_word'] = true_df['predictionstring'].apply(lambda txt : txt.split()[-1]).astype(int)\n"
   ]
  },
  {
   "cell_type": "code",
   "execution_count": 134,
   "id": "6e03ea58",
   "metadata": {
    "ExecuteTime": {
     "end_time": "2022-03-09T15:46:40.827206Z",
     "start_time": "2022-03-09T15:46:39.157947Z"
    }
   },
   "outputs": [],
   "source": [
    "pred_df['discourse_text']=slicer_vect(pred_df['text'],pred_df['first_word'],pred_df['last_word'])\n",
    "true_df['discourse_text']=slicer_vect(true_df['text'],true_df['first_word'],true_df['last_word'])"
   ]
  },
  {
   "cell_type": "markdown",
   "id": "2e12a48c",
   "metadata": {},
   "source": [
    "### Build HTLM dataframe for visualization purposes"
   ]
  },
  {
   "cell_type": "code",
   "execution_count": 135,
   "id": "0227a07e",
   "metadata": {
    "ExecuteTime": {
     "end_time": "2022-03-09T15:46:41.386769Z",
     "start_time": "2022-03-09T15:46:41.356795Z"
    }
   },
   "outputs": [],
   "source": [
    "#keep only columns of interest\n",
    "pred_df.drop(['predictionstring','text','first_word','last_word'],axis=1,inplace=True)\n",
    "true_df.drop(['predictionstring','text','first_word','last_word'],axis=1,inplace=True)"
   ]
  },
  {
   "cell_type": "code",
   "execution_count": 136,
   "id": "80f5ced6",
   "metadata": {
    "ExecuteTime": {
     "end_time": "2022-03-09T15:46:41.504686Z",
     "start_time": "2022-03-09T15:46:41.501563Z"
    }
   },
   "outputs": [],
   "source": [
    "def render_html(df):\n",
    "    return \"<{0} style='padding: 2px'>{1} <strong> [{0}] </strong></{0}>\".format(df['class'],df['discourse_text'])"
   ]
  },
  {
   "cell_type": "code",
   "execution_count": 137,
   "id": "d1e76052",
   "metadata": {
    "ExecuteTime": {
     "end_time": "2022-03-09T15:46:42.312088Z",
     "start_time": "2022-03-09T15:46:41.974066Z"
    }
   },
   "outputs": [],
   "source": [
    "#apply html function\n",
    "true_df['html'] = true_df.apply(render_html,axis=1)\n",
    "pred_df['html'] = pred_df.apply(render_html,axis=1)"
   ]
  },
  {
   "cell_type": "code",
   "execution_count": 138,
   "id": "71039e73",
   "metadata": {
    "ExecuteTime": {
     "end_time": "2022-03-09T15:46:42.398461Z",
     "start_time": "2022-03-09T15:46:42.360806Z"
    }
   },
   "outputs": [],
   "source": [
    "#group by essay \n",
    "true_df = true_df.groupby('id').agg({'html':' '.join,}).reset_index()\n",
    "pred_df = pred_df.groupby('id').agg({'html':' '.join,}).reset_index()"
   ]
  },
  {
   "cell_type": "markdown",
   "id": "16554383",
   "metadata": {},
   "source": [
    "### Visualize random essays across the test split"
   ]
  },
  {
   "cell_type": "code",
   "execution_count": 139,
   "id": "cad61be8",
   "metadata": {
    "ExecuteTime": {
     "end_time": "2022-03-09T15:46:43.232355Z",
     "start_time": "2022-03-09T15:46:43.225824Z"
    }
   },
   "outputs": [
    {
     "data": {
      "text/html": [
       "<style>\n",
       ".column {\n",
       "  float: left;\n",
       "  width: 50%;\n",
       "  /*margin-top:10px;*/\n",
       "  border-right: 2px dotted black;\n",
       "  text-align:justify;\n",
       "  }\n",
       ".column:first-child {\n",
       "  padding-right:16px;\n",
       "  padding-left:0px;\n",
       "  }\n",
       "\n",
       ".column:last-child {\n",
       "  padding-right:0px;\n",
       "  padding-left:15px;\n",
       "  border: none;\n",
       "  }\n",
       "\n",
       ".row:after {\n",
       "  content: \"\";\n",
       "  display: table;\n",
       "  clear: both;\n",
       "  text-align:left\n",
       "  }\n",
       "\n",
       ".title {\n",
       "  text-align:center;\n",
       "  padding-bottom: 15px;\n",
       "  padding-top: 0;\n",
       "  margin-top: 0;\n",
       "  border-bottom: 2px dotted black\n",
       " }\n",
       "\n",
       "\n",
       "div.content > * {\n",
       "  text-align: center;\n",
       "  font-weight: bold;\n",
       "  padding-right: 10px;\n",
       "  padding-left: 10px;\n",
       "  padding-top: 5px ;\n",
       "  padding-bottom:5px;\n",
       " }\n",
       "\n",
       ".content {\n",
       "  display:flex;\n",
       "  justify-content:space-evenly;\n",
       "  margin: 0px auto;\n",
       "  margin-bottom: 5p;\n",
       "  background: #FFFFFF;\n",
       "  padding-block: 10px;\n",
       "  max-width:auto;\n",
       "  border: 2px solid black;\n",
       "  }\n",
       "\n",
       "/*styles for each discourse type*/\n",
       "\n",
       "Lead {\n",
       "    background-color:#ff8585;\n",
       "  }\n",
       "Position {\n",
       "  background-color: #7cf0ff;\n",
       "  }\n",
       "Evidence {\n",
       "  background-color: #badcfc;\n",
       "  }\n",
       "Claim {\n",
       "  background-color: #3a3dff;\n",
       "  }\n",
       "Concluding_Statement {\n",
       "  background-color: #ff7df9;\n",
       "  }\n",
       "Counterclaim {\n",
       "  background-color: #4d92e0;\n",
       "  }\n",
       "Rebuttal {\n",
       "  background-color: #ffd57c;\n",
       "  }\n",
       "</style>"
      ],
      "text/plain": [
       "<IPython.core.display.HTML object>"
      ]
     },
     "execution_count": 139,
     "metadata": {},
     "output_type": "execute_result"
    }
   ],
   "source": [
    "def css():\n",
    "    styles = open(\"./styles/custom.css\", \"r\").read()\n",
    "    return HTML('<style>'+styles+'</style>')\n",
    "css()"
   ]
  },
  {
   "cell_type": "code",
   "execution_count": 140,
   "id": "b34ea498",
   "metadata": {
    "ExecuteTime": {
     "end_time": "2022-03-09T15:46:43.831395Z",
     "start_time": "2022-03-09T15:46:43.827629Z"
    }
   },
   "outputs": [],
   "source": [
    "def comparison_text(prediction, ground_truth):\n",
    "    html = f\"\"\"\n",
    "    <div class=\"content\">\n",
    "     <span style=\"font-size:16px\">Legend --></span>\n",
    "      <lead>Lead</lead>\n",
    "      <Position>Position</Position>\n",
    "      <Claim>Claim</Claim>\n",
    "      <Counterclaim>Counterclaim</Counterclaim>\n",
    "      <Rebuttal>Rebuttal</Rebuttal>\n",
    "      <Evidence>Evidence</Evidence>\n",
    "      <Concluding_Statement>Concluding_Statement</Concluding_Statement>\n",
    "    </div>\n",
    "\n",
    "    <div class=\"row\">\n",
    "      <div class=\"column\">\n",
    "        <h2 class=\"title\">Prediction</h2>\n",
    "        <p style=\"text-align:justify\">{prediction}</p>\n",
    "      </div>\n",
    "      <div class=\"column\">\n",
    "        <h2 class=\"title\">Ground Truth</h2>\n",
    "        <p style=\"text-align:justify\">{ground_truth}</p>\n",
    "      </div>\n",
    "    </div>\n",
    "    \n",
    "    \"\"\"\n",
    "    \n",
    "    return HTML(html)"
   ]
  },
  {
   "cell_type": "code",
   "execution_count": 141,
   "id": "0e0570b1",
   "metadata": {
    "ExecuteTime": {
     "end_time": "2022-03-09T15:46:44.479805Z",
     "start_time": "2022-03-09T15:46:44.457309Z"
    },
    "scrolled": false
   },
   "outputs": [
    {
     "data": {
      "text/html": [
       "\n",
       "    <div class=\"content\">\n",
       "     <span style=\"font-size:16px\">Legend --></span>\n",
       "      <lead>Lead</lead>\n",
       "      <Position>Position</Position>\n",
       "      <Claim>Claim</Claim>\n",
       "      <Counterclaim>Counterclaim</Counterclaim>\n",
       "      <Rebuttal>Rebuttal</Rebuttal>\n",
       "      <Evidence>Evidence</Evidence>\n",
       "      <Concluding_Statement>Concluding_Statement</Concluding_Statement>\n",
       "    </div>\n",
       "\n",
       "    <div class=\"row\">\n",
       "      <div class=\"column\">\n",
       "        <h2 class=\"title\">Prediction</h2>\n",
       "        <p style=\"text-align:justify\"><Lead style='padding: 2px'>Car usage in the United States has gone down by nine percent since 2005. But we are not the only ones who have limited ourselves to decrease air pollution. Large cities <strong> [Lead] </strong></Lead> <Evidence style='padding: 2px'>around the world like Paris and Vauban have insistuted car free days to help keep the air clean. Carpooling or even riding a bicycle has become more and more popular. People are no longer <strong> [Evidence] </strong></Evidence> <Lead style='padding: 2px'>desiring to live in suburban areas, they want to be near the city. They <strong> [Lead] </strong></Lead> <Claim style='padding: 2px'>are becoming more active <strong> [Claim] </strong></Claim> <Lead style='padding: 2px'>and less <strong> [Lead] </strong></Lead> <Claim style='padding: 2px'>stressed. Limited car usage has caused people venture away from their normal actvities and try new things. Driving deprives you of the <strong> [Claim] </strong></Claim> <Evidence style='padding: 2px'>beauty of civilization. Weather it be that your missing the lights and crowded sidewalks full of random people in a huge city or small town full of trees and land marks, you are missin tout. You can not enjoy the air and sounds or all of the sights in your car through the windows. One Columbian ,Carlos Arturo, states that car free days are a good opportunity to take away stress. Taking a breahe of fresh air every now and again is exremely nessicary but we what will we do when we have polluted the air so much that there is no more fresh air left to take in? Limited car usage would also encorage people to be more active. They would have to walk eberywhere they wanted to go. This would possibly decrease America's obesity rates. \"Parks and sports centers also have bloomed throughout the city,\" is says in paragraph 28 of source three: Car-free day is spinning into a big hit in Bogota. Having a healthy nation would help with <strong> [Evidence] </strong></Evidence></p>\n",
       "      </div>\n",
       "      <div class=\"column\">\n",
       "        <h2 class=\"title\">Ground Truth</h2>\n",
       "        <p style=\"text-align:justify\"><Evidence style='padding: 2px'>Car usage in the United States has gone down by nine percent since 2005. But we are not the only ones who have limited ourselves to decrease air pollution. Large cities around the world like Paris and Vauban have insistuted car free days to help keep the air clean. Carpooling or even riding a bicycle has become more and more popular. People are no longer desiring to live in suburban areas, they want to be near the city. They are becoming more active and less stressed. <strong> [Evidence] </strong></Evidence> <Position style='padding: 2px'>Limited car usage has caused people venture away from their normal actvities and try new things. <strong> [Position] </strong></Position> <Claim style='padding: 2px'>Driving deprives you of the beauty of civilization. <strong> [Claim] </strong></Claim> <Evidence style='padding: 2px'>Weather it be that your missing the lights and crowded sidewalks full of random people in a huge city or small town full of trees and land marks, you are missin tout. You can not enjoy the air and sounds or all of the sights in your car through the windows. One Columbian ,Carlos Arturo, states that car free days are a good opportunity to take away stress. Taking a breahe of fresh air every now and again is exremely nessicary but we what will we do when we have polluted the air so much that there is no more fresh air left to take in? <strong> [Evidence] </strong></Evidence> <Claim style='padding: 2px'>Limited car usage would also encorage people to be more active. <strong> [Claim] </strong></Claim> <Evidence style='padding: 2px'>They would have to walk eberywhere they wanted to go. This would possibly decrease America's obesity rates. \"Parks and sports centers also have bloomed throughout the city,\" is says in paragraph 28 of source three: Car-free day is spinning into a big hit in Bogota. Having a healthy nation would help with so much more than anone could imagine. <strong> [Evidence] </strong></Evidence></p>\n",
       "      </div>\n",
       "    </div>\n",
       "    \n",
       "    "
      ],
      "text/plain": [
       "<IPython.core.display.HTML object>"
      ]
     },
     "metadata": {},
     "output_type": "display_data"
    },
    {
     "data": {
      "text/html": [
       "\n",
       "    <div class=\"content\">\n",
       "     <span style=\"font-size:16px\">Legend --></span>\n",
       "      <lead>Lead</lead>\n",
       "      <Position>Position</Position>\n",
       "      <Claim>Claim</Claim>\n",
       "      <Counterclaim>Counterclaim</Counterclaim>\n",
       "      <Rebuttal>Rebuttal</Rebuttal>\n",
       "      <Evidence>Evidence</Evidence>\n",
       "      <Concluding_Statement>Concluding_Statement</Concluding_Statement>\n",
       "    </div>\n",
       "\n",
       "    <div class=\"row\">\n",
       "      <div class=\"column\">\n",
       "        <h2 class=\"title\">Prediction</h2>\n",
       "        <p style=\"text-align:justify\"><Lead style='padding: 2px'>Often times, when we're looking for advice we talk to multiple people, why is that? When your looking for advice or a solution to a problem, do you talk to more than one person? If so, did that lead to a better result? In my experience <strong> [Lead] </strong></Lead> <Position style='padding: 2px'>talking to multiple people about a problem proved to be a good idea. I believe seeking multiple opinions can help someone make a better choice because of people's experiences, <strong> [Position] </strong></Position> <Claim style='padding: 2px'>perspectives, and backgrounds. First off, one reason <strong> [Claim] </strong></Claim> <Evidence style='padding: 2px'>People's experiences shape who they are, and determine how they respond to certain situations. Different people have different experiences, leading to different responses. Someone who has ran into your situation before will most likely give better advice than someone who's never been in that situation. People tell you to respect your elders because of all the experiences they've had, older people probably have a lot of solutions to problems you may have. Secondly, another reason why you should talk to multiple people about a situation are perspectives. Every person has an unique perspective, influenced by their past experiences or current situation. For example, if two people went to the store, a three year old and a twenty one year old, their perspectives would be very different. Everybody looks at a situation from a different perspective, and that can prove useful when you're looking for advice. The way someone comprehends a situation can be heavily influenced by their perspective. Lastly, there are people's backgrounds. Someone's background is made up of many different things including ethnicity, religion, or culture. Across cultures situations can be interpreted and handled differently, so someone's background can impact their interpretations of situations or problems. All this can lead to advice you wouldn't get from your own background. Someone's background plays a role in the first to things I mentioned, experience and perspective. People's unique backgrounds can give them unique experiences and perspectives, that might differ from your own. In conclusion, there are many benefits to seeking <strong> [Evidence] </strong></Evidence> <Concluding_Statement style='padding: 2px'>multiple opinions when trying to make a good choice, and there are many things that can have an impact on the advice people may give you. If you didn't ask others for advice, you would only have your own knowledge to deal with your problems, instead of the world of knowledge at your disposal. I believe you should seek opinions from multiple people because of people's unique experiences, perspectives, and backgrounds. <strong> [Concluding_Statement] </strong></Concluding_Statement></p>\n",
       "      </div>\n",
       "      <div class=\"column\">\n",
       "        <h2 class=\"title\">Ground Truth</h2>\n",
       "        <p style=\"text-align:justify\"><Lead style='padding: 2px'>Often times, when we're looking for advice we talk to multiple people, why is that? When your looking for advice or a solution to a problem, do you talk to more than one person? If so, did that lead to a better result? In my experience talking to multiple people about a problem proved to be a good idea. <strong> [Lead] </strong></Lead> <Position style='padding: 2px'>I believe seeking multiple opinions can help someone make a better choice <strong> [Position] </strong></Position> <Claim style='padding: 2px'>people's experiences, perspectives, and backgrounds. <strong> [Claim] </strong></Claim> <Evidence style='padding: 2px'>People's experiences shape who they are, and determine how they respond to certain situations. Different people have different experiences, leading to different responses. Someone who has ran into your situation before will most likely give better advice than someone who's never been in that situation. People tell you to respect your elders because of all the experiences they've had, older people probably have a lot of solutions to problems you may have. Secondly, another reason why you should talk to multiple people about a situation are perspectives. Every person has an unique perspective, influenced by their past experiences or current situation. For example, if two people went to the store, a three year old and a twenty one year old, their perspectives would be very different. Everybody looks at a situation from a different perspective, and that can prove useful when you're looking for advice. The way someone comprehends a situation can be heavily influenced by their perspective. Lastly, there are people's backgrounds. Someone's background is made up of many different things including ethnicity, religion, or culture. Across cultures situations can be interpreted and handled differently, so someone's background can impact their interpretations of situations or problems. All this can lead to advice you wouldn't get from your own background. Someone's background plays a role in the first to things I mentioned, experience and perspective. People's unique backgrounds can give them unique experiences and perspectives, that might differ from your own. <strong> [Evidence] </strong></Evidence> <Concluding_Statement style='padding: 2px'>there are many benefits to seeking multiple opinions when trying to make a good choice, and there are many things that can have an impact on the advice people may give you. If you didn't ask others for advice, you would only have your own knowledge to deal with your problems, instead of the world of knowledge at your disposal. I believe you should seek opinions from multiple people because of people's unique experiences, perspectives, and backgrounds. <strong> [Concluding_Statement] </strong></Concluding_Statement></p>\n",
       "      </div>\n",
       "    </div>\n",
       "    \n",
       "    "
      ],
      "text/plain": [
       "<IPython.core.display.HTML object>"
      ]
     },
     "metadata": {},
     "output_type": "display_data"
    },
    {
     "data": {
      "text/html": [
       "\n",
       "    <div class=\"content\">\n",
       "     <span style=\"font-size:16px\">Legend --></span>\n",
       "      <lead>Lead</lead>\n",
       "      <Position>Position</Position>\n",
       "      <Claim>Claim</Claim>\n",
       "      <Counterclaim>Counterclaim</Counterclaim>\n",
       "      <Rebuttal>Rebuttal</Rebuttal>\n",
       "      <Evidence>Evidence</Evidence>\n",
       "      <Concluding_Statement>Concluding_Statement</Concluding_Statement>\n",
       "    </div>\n",
       "\n",
       "    <div class=\"row\">\n",
       "      <div class=\"column\">\n",
       "        <h2 class=\"title\">Prediction</h2>\n",
       "        <p style=\"text-align:justify\"><Position style='padding: 2px'>I agree, students should participate in after school activities because <strong> [Position] </strong></Position> <Claim style='padding: 2px'>it's a way to express yourself and to get know other people, there is a big chance that you could make many friends as well. First, I believe that if you participate in an after school activity it will make your mental health and physical <strong> [Claim] </strong></Claim> <Evidence style='padding: 2px'>health better. For example, football is a very active sport, you can get a lot of exercise out of playing the game, doing drills or even just going over the plays, It tests you in a physical and mental way. What if thats just not your thing, you could go for robotics, it will challenge how well you are with your hands by putting intricate things together or even coding the robots or the project your working on. Maybe you just want a relaxing activity, there is a program called base, it helps students study by providing a nice, quit, and relaxing environment, you are allowed to talk to other people around you but the volume must stay low. Secondly, instead of all the activities, you are also allowed to stay after school with your teachers, make up some work, retake a quiz/test, or do some community service for them, there is a place for everyone at after school. Lastly, after school is open to anyone who wants to come, we will gladly welcome you with open arms, if you have any questions about where to go or even what teachers stay after school, you can ask the front desk, or your teachers for more information. The news will have announcements about after school if it will be an all academic day or if after school is canceled it will probably be announced on the news. I feel like everyone should go to after school so everyone can have the same oportonitys to ask teachers if they need help or what they need to do in class to catch up, or even show the gym teachers how good you are at sports, but always remember that after school should <strong> [Evidence] </strong></Evidence> <Concluding_Statement style='padding: 2px'>always be a safe and fun environment, and make it as enjoyable for other people as it is for you. <strong> [Concluding_Statement] </strong></Concluding_Statement></p>\n",
       "      </div>\n",
       "      <div class=\"column\">\n",
       "        <h2 class=\"title\">Ground Truth</h2>\n",
       "        <p style=\"text-align:justify\"><Position style='padding: 2px'>I agree, students should participate in after school activities <strong> [Position] </strong></Position> <Claim style='padding: 2px'>it's a way to express yourself and to get know other people, there is a big chance that you could make many friends as well. First, I believe that if you participate in an after school activity it will make your mental health and physical health better. <strong> [Claim] </strong></Claim> <Evidence style='padding: 2px'>For example, football is a very active sport, you can get a lot of exercise out of playing the game, doing drills or even just going over the plays, It tests you in a physical and mental way. What if thats just not your thing, you could go for robotics, it will challenge how well you are with your hands by putting intricate things together or even coding the robots or the project your working on. Maybe you just want a relaxing activity, there is a program called base, it helps students study by providing a nice, quit, and relaxing environment, you are allowed to talk to other people around you but the volume must stay low. Secondly, instead of all the activities, you are also allowed to stay after school with your teachers, make up some work, retake a quiz/test, or do some community service for them, <strong> [Evidence] </strong></Evidence> <Claim style='padding: 2px'>there is a place for everyone at after school. <strong> [Claim] </strong></Claim> <Evidence style='padding: 2px'>after school is open to anyone who wants to come, we will gladly welcome you with open arms, if you have any questions about where to go or even what teachers stay after school, you can ask the front desk, or your teachers for more information. The news will have announcements about after school if it will be an all academic day or if after school is canceled it will probably be announced on the news. <strong> [Evidence] </strong></Evidence> <Claim style='padding: 2px'>should go to after school so everyone can have the same oportonitys to ask teachers if they need help or what they need to do in class to catch up, or even show the gym teachers how good you are at sports, but <strong> [Claim] </strong></Claim> <Concluding_Statement style='padding: 2px'>after school should always be a safe and fun environment, and make it as enjoyable for other people as it is for you. <strong> [Concluding_Statement] </strong></Concluding_Statement></p>\n",
       "      </div>\n",
       "    </div>\n",
       "    \n",
       "    "
      ],
      "text/plain": [
       "<IPython.core.display.HTML object>"
      ]
     },
     "metadata": {},
     "output_type": "display_data"
    },
    {
     "data": {
      "text/html": [
       "\n",
       "    <div class=\"content\">\n",
       "     <span style=\"font-size:16px\">Legend --></span>\n",
       "      <lead>Lead</lead>\n",
       "      <Position>Position</Position>\n",
       "      <Claim>Claim</Claim>\n",
       "      <Counterclaim>Counterclaim</Counterclaim>\n",
       "      <Rebuttal>Rebuttal</Rebuttal>\n",
       "      <Evidence>Evidence</Evidence>\n",
       "      <Concluding_Statement>Concluding_Statement</Concluding_Statement>\n",
       "    </div>\n",
       "\n",
       "    <div class=\"row\">\n",
       "      <div class=\"column\">\n",
       "        <h2 class=\"title\">Prediction</h2>\n",
       "        <p style=\"text-align:justify\"><Lead style='padding: 2px'>Have you ever thought about participating in a seagoing program. Well Luke Bomberger has. His friend invited him to Europe on a cattle <strong> [Lead] </strong></Lead> <Position style='padding: 2px'>boat. Luke couldn't say no. Readers should join a seegoing program. People can have fun <strong> [Position] </strong></Position> <Claim style='padding: 2px'>have go on lot's of adventures and see lot's of unique places. Seagoing cowboys get to go to a lot of different and <strong> [Claim] </strong></Claim> <Evidence style='padding: 2px'>unique places by boat. Luke said he traveled to Europe, China, And he got to see the Acropolis in Greece. In the article he said that the Acropolis in Greece was special. Luke took a tour of an excavated castle in Crete and marveled at the Panama Canal on is way to China. The author of The Cowboy Who Rode the Waves stated that Luke went to Crete to visit and tour the castle and marveled at the Panama canal on his way to China. While on his way to China Luke cared <strong> [Evidence] </strong></Evidence> <Claim style='padding: 2px'>for the animals to keep him <strong> [Claim] </strong></Claim> <Evidence style='padding: 2px'>busy. The author wrote in the article that Caring for the animals during the crossings kept Luke busy. Luke fed and watered them at least three times a day. A seagoing Cowboy has to get hay and oats from the bottom deck of the ship and stalls had to be cleaned. A seagoing Cowboy can have lot's of fun on a boat. They can play baseball, volleyball, and table-tennis when the animals are unloaded from the ship. They can also play fencing, boxing, read, whittling, and games to pass time. Participating in the Seagoing <strong> [Evidence] </strong></Evidence> <Concluding_Statement style='padding: 2px'>Cowoys program can be lot's of fun. By seeing lot's of unique places and buildings . Maybe Readers and other people will join the Seagoing Cowboys program. And you can have lot's of fun with games. While on the booat you can make new friends. <strong> [Concluding_Statement] </strong></Concluding_Statement></p>\n",
       "      </div>\n",
       "      <div class=\"column\">\n",
       "        <h2 class=\"title\">Ground Truth</h2>\n",
       "        <p style=\"text-align:justify\"><Lead style='padding: 2px'>Have you ever thought about participating in a seagoing program. Well Luke Bomberger has. His friend invited him to Europe on a cattle boat. Luke couldn't say no. <strong> [Lead] </strong></Lead> <Position style='padding: 2px'>Readers should join a seegoing program. <strong> [Position] </strong></Position> <Claim style='padding: 2px'>People can have fun have go on lot's of adventures and see lot's of unique places. <strong> [Claim] </strong></Claim> <Evidence style='padding: 2px'>Seagoing cowboys get to go to a lot of different and unique places by boat. Luke said he traveled to Europe, China, And he got to see the Acropolis in Greece. In the article he said that the Acropolis in Greece was special. Luke took a tour of an excavated castle in Crete and marveled at the Panama Canal on is way to China. The author of The Cowboy Who Rode the Waves stated that Luke went to Crete to visit and tour the castle and marveled at the Panama canal on his way to China. <strong> [Evidence] </strong></Evidence> <Claim style='padding: 2px'>While on his way to China Luke cared for the animals to keep him busy. <strong> [Claim] </strong></Claim> <Evidence style='padding: 2px'>The author wrote in the article that Caring for the animals during the crossings kept Luke busy. Luke fed and watered them at least three times a day. A seagoing Cowboy has to get hay and oats from the bottom deck of the ship and stalls had to be cleaned. <strong> [Evidence] </strong></Evidence> <Claim style='padding: 2px'>A seagoing Cowboy can have lot's of fun on a boat. <strong> [Claim] </strong></Claim> <Evidence style='padding: 2px'>They can play baseball, volleyball, and table-tennis when the animals are unloaded from the ship. They can also play fencing, boxing, read, whittling, and games to pass time. <strong> [Evidence] </strong></Evidence> <Concluding_Statement style='padding: 2px'>Participating in the Seagoing Cowoys program can be lot's of fun. By seeing lot's of unique places and buildings . Maybe Readers and other people will join the Seagoing Cowboys program. And you can have lot's of fun with games. While on the booat you can make new friends. <strong> [Concluding_Statement] </strong></Concluding_Statement></p>\n",
       "      </div>\n",
       "    </div>\n",
       "    \n",
       "    "
      ],
      "text/plain": [
       "<IPython.core.display.HTML object>"
      ]
     },
     "metadata": {},
     "output_type": "display_data"
    },
    {
     "data": {
      "text/html": [
       "\n",
       "    <div class=\"content\">\n",
       "     <span style=\"font-size:16px\">Legend --></span>\n",
       "      <lead>Lead</lead>\n",
       "      <Position>Position</Position>\n",
       "      <Claim>Claim</Claim>\n",
       "      <Counterclaim>Counterclaim</Counterclaim>\n",
       "      <Rebuttal>Rebuttal</Rebuttal>\n",
       "      <Evidence>Evidence</Evidence>\n",
       "      <Concluding_Statement>Concluding_Statement</Concluding_Statement>\n",
       "    </div>\n",
       "\n",
       "    <div class=\"row\">\n",
       "      <div class=\"column\">\n",
       "        <h2 class=\"title\">Prediction</h2>\n",
       "        <p style=\"text-align:justify\"><Position style='padding: 2px'>In the article the author greatly supports the idea of studying Venus and that it will be worthy despite the dangers. In <strong> [Position] </strong></Position> <Claim style='padding: 2px'>paragraph 8 the author says that striving to meet the challenge presented by Venus has value, not only because of the insight to be gained on the planet <strong> [Claim] </strong></Claim> <Evidence style='padding: 2px'>itself. Another example is that in paragragh 4 it says that astronomers are fascinated by Venus because it may well once have been the most-earth like planet in our solar system. There are also many dangers that come when visiting Venus and they are that a thick atmosphere of almost 97 percent carbon dioxide covers Venus. Something that is even more challenging are the clouds of highly corrosive sulfuric acid in Venus's atmosphere. On the planet's surface, temperatures average over 800 degrees Fahrenheit, and the atmospheric pressure is 90 times greater than what we experience on our own planet. Venus has the hottest surface temperature of any planet in our solar system. NASA is working on other approaches to studying venus. One example is using old technology called mechanical computers. Human curiosity wil likely lead us into many equally intimidating endeavors. <strong> [Evidence] </strong></Evidence> <Concluding_Statement style='padding: 2px'>It is probably good to at least try our best and give it all we got to achieve what we want. <strong> [Concluding_Statement] </strong></Concluding_Statement></p>\n",
       "      </div>\n",
       "      <div class=\"column\">\n",
       "        <h2 class=\"title\">Ground Truth</h2>\n",
       "        <p style=\"text-align:justify\"><Position style='padding: 2px'>In the article the author greatly supports the idea of studying Venus and that it will be worthy despite the dangers. <strong> [Position] </strong></Position> <Claim style='padding: 2px'>the author says that striving to meet the challenge presented by Venus has value, not only because of the insight to be gained on the planet itself. <strong> [Claim] </strong></Claim> <Evidence style='padding: 2px'>Another example is that in paragragh 4 it says that astronomers are fascinated by Venus because it may well once have been the most-earth like planet in our solar system. <strong> [Evidence] </strong></Evidence> <Counterclaim style='padding: 2px'>There are also many dangers that come when visiting Venus <strong> [Counterclaim] </strong></Counterclaim> <Evidence style='padding: 2px'>and they are that a thick atmosphere of almost 97 percent carbon dioxide covers Venus. Something that is even more challenging are the clouds of highly corrosive sulfuric acid in Venus's atmosphere. On the planet's surface, temperatures average over 800 degrees Fahrenheit, and the atmospheric pressure is 90 times greater than what we experience on our own planet. Venus has the hottest surface temperature of any planet in our solar system. <strong> [Evidence] </strong></Evidence> <Rebuttal style='padding: 2px'>NASA is working on other approaches to studying venus. <strong> [Rebuttal] </strong></Rebuttal> <Evidence style='padding: 2px'>One example is using old technology called mechanical computers. Human curiosity wil likely lead us into many equally intimidating endeavors. <strong> [Evidence] </strong></Evidence> <Concluding_Statement style='padding: 2px'>It is probably good to at least try our best and give it all we got to achieve what we want. <strong> [Concluding_Statement] </strong></Concluding_Statement></p>\n",
       "      </div>\n",
       "    </div>\n",
       "    \n",
       "    "
      ],
      "text/plain": [
       "<IPython.core.display.HTML object>"
      ]
     },
     "metadata": {},
     "output_type": "display_data"
    },
    {
     "data": {
      "text/html": [
       "\n",
       "    <div class=\"content\">\n",
       "     <span style=\"font-size:16px\">Legend --></span>\n",
       "      <lead>Lead</lead>\n",
       "      <Position>Position</Position>\n",
       "      <Claim>Claim</Claim>\n",
       "      <Counterclaim>Counterclaim</Counterclaim>\n",
       "      <Rebuttal>Rebuttal</Rebuttal>\n",
       "      <Evidence>Evidence</Evidence>\n",
       "      <Concluding_Statement>Concluding_Statement</Concluding_Statement>\n",
       "    </div>\n",
       "\n",
       "    <div class=\"row\">\n",
       "      <div class=\"column\">\n",
       "        <h2 class=\"title\">Prediction</h2>\n",
       "        <p style=\"text-align:justify\"><Lead style='padding: 2px'>Do you think students in school doing extracurricular activities should be required or an <strong> [Lead] </strong></Lead> <Position style='padding: 2px'>option? I believe it should be required because <strong> [Position] </strong></Position> <Claim style='padding: 2px'>they can help students become more social, give them an outlook on being an adult, and give them an activity to do. Students <strong> [Claim] </strong></Claim> <Evidence style='padding: 2px'>and out going. Students will have to do things like work with other students, give speeches, present to large numbers of people, etc. Doing all of those things can help a student branch out. Being on a team or part of a club gives students peers to work with. After working with those people, students tend to stick with them and over time become friends. It is very hard for some people, especially at this age, to make friends and being apart of a team or club gives them the advantage. Something else that being apart of an extracurricular activity does for students is it gives them an outlook on adult life. Being on a sports team gives students the mindset of winning and accomplishing. Winning things isn't always how it goes so it also gives students a reality check, a view of reality. Students will have to do big things such as travel, give speeches, work on big projects, etc. They will be doing many things that give an outlook on adult life. Being apart of a team causes students to work together, have good sportsmanship, and strong attitudes which is something that all people need to have as an adult. Students must be in extracurricular activities because it helps them grow as teenagers and evolve into adults. Another reason why students should participate in these activities is because it gives them something to do. Many middle and high school students are overwhelmed with school, friends, families, etc. Being on a team or in a club with their friends, gives them something fun to do when they need it. Some students have a lot of free time and need to go somewhere to do something they enjoy such as playing a sport or helping design the year book. Teenagers become bored very easily and almost always need something to do. Students should join a club or team so that they can be apart of something they enjoy and have something to do. In conclusion, students must be apart <strong> [Evidence] </strong></Evidence> <Concluding_Statement style='padding: 2px'>of extracurricular activities because it helps students become more social, gives students an outlook on adult life, and gives them something to do. I believe that every school should make it a requirement for students to participate in some type of club, team, or group. <strong> [Concluding_Statement] </strong></Concluding_Statement></p>\n",
       "      </div>\n",
       "      <div class=\"column\">\n",
       "        <h2 class=\"title\">Ground Truth</h2>\n",
       "        <p style=\"text-align:justify\"><Lead style='padding: 2px'>Do you think students in school doing extracurricular activities should be required or an option? <strong> [Lead] </strong></Lead> <Position style='padding: 2px'>I believe it should be required <strong> [Position] </strong></Position> <Claim style='padding: 2px'>they can help students become more social, give them an outlook on being an adult, and give them an activity to do. <strong> [Claim] </strong></Claim> <Evidence style='padding: 2px'>Students will have to do things like work with other students, give speeches, present to large numbers of people, etc. Doing all of those things can help a student branch out. Being on a team or part of a club gives students peers to work with. After working with those people, students tend to stick with them and over time become friends. It is very hard for some people, especially at this age, to make friends and being apart of a team or club gives them the advantage. Something else that being apart of an extracurricular activity does for students is it gives them an outlook on adult life. Being on a sports team gives students the mindset of winning and accomplishing. Winning things isn't always how it goes so it also gives students a reality check, a view of reality. Students will have to do big things such as travel, give speeches, work on big projects, etc. They will be doing many things that give an outlook on adult life. Being apart of a team causes students to work together, have good sportsmanship, and strong attitudes which is something that all people need to have as an adult. Students must be in extracurricular activities because it helps them grow as teenagers and evolve into adults. Another reason why students should participate in these activities is because it gives them something to do. Many middle and high school students are overwhelmed with school, friends, families, etc. Being on a team or in a club with their friends, gives them something fun to do when they need it. Some students have a lot of free time and need to go somewhere to do something they enjoy such as playing a sport or helping design the year book. Teenagers become bored very easily and almost always need something to do. Students should join a club or team so that they can be apart of something they enjoy and have something to do. <strong> [Evidence] </strong></Evidence> <Concluding_Statement style='padding: 2px'>In conclusion, students must be apart of extracurricular activities because it helps students become more social, gives students an outlook on adult life, and gives them something to do. I believe that every school should make it a requirement for students to participate in some type of club, team, or group. <strong> [Concluding_Statement] </strong></Concluding_Statement></p>\n",
       "      </div>\n",
       "    </div>\n",
       "    \n",
       "    "
      ],
      "text/plain": [
       "<IPython.core.display.HTML object>"
      ]
     },
     "metadata": {},
     "output_type": "display_data"
    },
    {
     "data": {
      "text/html": [
       "\n",
       "    <div class=\"content\">\n",
       "     <span style=\"font-size:16px\">Legend --></span>\n",
       "      <lead>Lead</lead>\n",
       "      <Position>Position</Position>\n",
       "      <Claim>Claim</Claim>\n",
       "      <Counterclaim>Counterclaim</Counterclaim>\n",
       "      <Rebuttal>Rebuttal</Rebuttal>\n",
       "      <Evidence>Evidence</Evidence>\n",
       "      <Concluding_Statement>Concluding_Statement</Concluding_Statement>\n",
       "    </div>\n",
       "\n",
       "    <div class=\"row\">\n",
       "      <div class=\"column\">\n",
       "        <h2 class=\"title\">Prediction</h2>\n",
       "        <p style=\"text-align:justify\"><Position style='padding: 2px'>If I were apart of this I would agree <strong> [Position] </strong></Position> <Lead style='padding: 2px'>with <strong> [Lead] </strong></Lead> <Position style='padding: 2px'>you <strong> [Position] </strong></Position> <Lead style='padding: 2px'>and <strong> [Lead] </strong></Lead> <Position style='padding: 2px'>go against you. I have some possible reasons why the school policy should change, and why not the school policy should <strong> [Position] </strong></Position> <Claim style='padding: 2px'>policy should change is because some students don't do their work and some do, but in high school you do need a B average to get into sports. <strong> [Claim] </strong></Claim> <Evidence style='padding: 2px'>But other activities you don't. You can join any club you want to join in. But there are a few activities you need a B or an A average. Like the national Honors society club, computer science, etc. Reasons on why the school <strong> [Evidence] </strong></Evidence> <Claim style='padding: 2px'>policy should not change is because there are so many different activities across the universe. some activities give you <strong> [Claim] </strong></Claim> <Evidence style='padding: 2px'>extra credit for a class if your failing it. Now sports is different sports, you have pass a semester or you will never play a sport that happens everywhere in high school and college the school policy should <strong> [Evidence] </strong></Evidence> <Concluding_Statement style='padding: 2px'>not change for sports, because the students who fail and don't pass the semester have to keep trying and <strong> [Concluding_Statement] </strong></Concluding_Statement> <Evidence style='padding: 2px'>trying until they get a B <strong> [Evidence] </strong></Evidence></p>\n",
       "      </div>\n",
       "      <div class=\"column\">\n",
       "        <h2 class=\"title\">Ground Truth</h2>\n",
       "        <p style=\"text-align:justify\"><Position style='padding: 2px'>If I were apart of this I would agree with you and go against you. I have some possible reasons why the school policy should change, and why not the school policy should change. <strong> [Position] </strong></Position> <Claim style='padding: 2px'>The reasons the school policy should change is because some students don't do their work and some do, but in high school you do need a B average to get into sports. <strong> [Claim] </strong></Claim> <Evidence style='padding: 2px'>But other activities you don't. You can join any club you want to join in. But there are a few activities you need a B or an A average. Like the national Honors society club, computer science, etc. <strong> [Evidence] </strong></Evidence> <Claim style='padding: 2px'>Reasons on why the school policy should not change is because there are so many different activities across the universe. some activities give you extra credit for a class if your failing it. <strong> [Claim] </strong></Claim> <Evidence style='padding: 2px'>Now sports is different sports, you have pass a semester or you will never play a sport that happens everywhere in high school and college the school policy should not change for sports, because the students who fail and don't pass the semester have to keep trying and trying until they get a B average. <strong> [Evidence] </strong></Evidence></p>\n",
       "      </div>\n",
       "    </div>\n",
       "    \n",
       "    "
      ],
      "text/plain": [
       "<IPython.core.display.HTML object>"
      ]
     },
     "metadata": {},
     "output_type": "display_data"
    },
    {
     "data": {
      "text/html": [
       "\n",
       "    <div class=\"content\">\n",
       "     <span style=\"font-size:16px\">Legend --></span>\n",
       "      <lead>Lead</lead>\n",
       "      <Position>Position</Position>\n",
       "      <Claim>Claim</Claim>\n",
       "      <Counterclaim>Counterclaim</Counterclaim>\n",
       "      <Rebuttal>Rebuttal</Rebuttal>\n",
       "      <Evidence>Evidence</Evidence>\n",
       "      <Concluding_Statement>Concluding_Statement</Concluding_Statement>\n",
       "    </div>\n",
       "\n",
       "    <div class=\"row\">\n",
       "      <div class=\"column\">\n",
       "        <h2 class=\"title\">Prediction</h2>\n",
       "        <p style=\"text-align:justify\"><Position style='padding: 2px'>Studying Venus could lead us to a lot of stuff. There are many details we could get out of studying Venus. Even <strong> [Position] </strong></Position> <Claim style='padding: 2px'>though visiting Venus could be dangerous to visit, but it would also be very interesting. Venus <strong> [Claim] </strong></Claim> <Position style='padding: 2px'>has <strong> [Position] </strong></Position> <Claim style='padding: 2px'>a lot <strong> [Claim] </strong></Claim> <Evidence style='padding: 2px'>going on. Venus is planet in our solar system. At one point in time, Venus could have been like Earth. There are features such as valleys, mountains, and craters. Venus is our nearest option of planetery visit. Vistiting Venus <strong> [Evidence] </strong></Evidence> <Claim style='padding: 2px'>could and would be very dangerous to visit. <strong> [Claim] </strong></Claim> <Evidence style='padding: 2px'>Venus has high pressure and lots of heat. There are erupoting volcanoes, powerful earthquakes, and frequent lighting strikes. Studying why Venus does this could to lead to a lot. It could tell us about how Venus works and how it was created. Venus is a very hot planet. If a blimp was 30 miles above Venus, the temperture could still reach the blimp. That is not survivable for humans Studying Venus on how it is so hot could solve a lot and tell us more about the planet. To study Venus, scientists would need samples of rock, gas, or anthing else from Venus. On the other hand, there has been spacecrafts to land on Venus, but they only would survive for a couple of hours. In conclusion of visiting <strong> [Evidence] </strong></Evidence> <Concluding_Statement style='padding: 2px'>Venus, it would be dangerous. It would also be very interesting. Knowing there could have been life on Venus is pretty cool. We need to find out a way to get close to Venus. We need samples of Venus on Earth. <strong> [Concluding_Statement] </strong></Concluding_Statement></p>\n",
       "      </div>\n",
       "      <div class=\"column\">\n",
       "        <h2 class=\"title\">Ground Truth</h2>\n",
       "        <p style=\"text-align:justify\"><Lead style='padding: 2px'>Studying Venus could lead us to a lot of stuff. There are many details we could get out of studying Venus. <strong> [Lead] </strong></Lead> <Position style='padding: 2px'>Even though visiting Venus could be dangerous to visit, but it would also be very interesting. Venus has a lot going on. <strong> [Position] </strong></Position> <Evidence style='padding: 2px'>Venus is planet in our solar system. At one point in time, Venus could have been like Earth. There are features such as valleys, mountains, and craters. Venus is our nearest option of planetery visit. Vistiting Venus could and would be very dangerous to visit. Venus has high pressure and lots of heat. There are erupoting volcanoes, powerful earthquakes, and frequent lighting strikes. Studying why Venus does this could to lead to a lot. <strong> [Evidence] </strong></Evidence> <Claim style='padding: 2px'>It could tell us about how Venus works and how it was created. <strong> [Claim] </strong></Claim> <Evidence style='padding: 2px'>Venus is a very hot planet. If a blimp was 30 miles above Venus, the temperture could still reach the blimp. That is not survivable for humans <strong> [Evidence] </strong></Evidence> <Claim style='padding: 2px'>Studying Venus on how it is so hot could solve a lot and tell us more about the planet. <strong> [Claim] </strong></Claim> <Evidence style='padding: 2px'>To study Venus, scientists would need samples of rock, gas, or anthing else from Venus. On the other hand, there has been spacecrafts to land on Venus, but they only would survive for a couple of hours. <strong> [Evidence] </strong></Evidence> <Concluding_Statement style='padding: 2px'>In conclusion of visiting Venus, it would be dangerous. It would also be very interesting. Knowing there could have been life on Venus is pretty cool. We need to find out a way to get close to Venus. We need samples of Venus on Earth. <strong> [Concluding_Statement] </strong></Concluding_Statement></p>\n",
       "      </div>\n",
       "    </div>\n",
       "    \n",
       "    "
      ],
      "text/plain": [
       "<IPython.core.display.HTML object>"
      ]
     },
     "metadata": {},
     "output_type": "display_data"
    },
    {
     "data": {
      "text/html": [
       "\n",
       "    <div class=\"content\">\n",
       "     <span style=\"font-size:16px\">Legend --></span>\n",
       "      <lead>Lead</lead>\n",
       "      <Position>Position</Position>\n",
       "      <Claim>Claim</Claim>\n",
       "      <Counterclaim>Counterclaim</Counterclaim>\n",
       "      <Rebuttal>Rebuttal</Rebuttal>\n",
       "      <Evidence>Evidence</Evidence>\n",
       "      <Concluding_Statement>Concluding_Statement</Concluding_Statement>\n",
       "    </div>\n",
       "\n",
       "    <div class=\"row\">\n",
       "      <div class=\"column\">\n",
       "        <h2 class=\"title\">Prediction</h2>\n",
       "        <p style=\"text-align:justify\"><Lead style='padding: 2px'>Students would have more benefits taking online classes from home than going to school that is far away from where they are. Online classes would have huge impact in students lives which is going to solve many problems. I <strong> [Lead] </strong></Lead> <Position style='padding: 2px'>think students would have the benefits to take online classes from home instead of <strong> [Position] </strong></Position> <Claim style='padding: 2px'>going to a far school which is causing them to wake up early to catch up the bus, waste time, spend money and stress. This can be change if <strong> [Claim] </strong></Claim> <Position style='padding: 2px'>students are allowed to take online classes <strong> [Position] </strong></Position> <Claim style='padding: 2px'>from home. Students would have more benefits taking online classes from home than going to school, one of the main reason I said this is because of <strong> [Claim] </strong></Claim> <Evidence style='padding: 2px'>waking up early. For example, my daily life is waking up early to go to my bus stop because from my house is 30 minutes away and I have to walk where is dark outside like around 6:00am. Any student that walks in the morning in the darkest there is some chances to get in risk because bad people are outside to harm innocent people. My mom is always concern that I have to wake up early and walk in the darkest, she tries to change her work schedule more later but she can't but she always call me to make sure I get safe to my bus stop. I think this is one of the reason online classes can benefits students by protecting <strong> [Evidence] </strong></Evidence> <Claim style='padding: 2px'>them. Online classes from home would help students and their family to have time management. Sometimes <strong> [Claim] </strong></Claim> <Evidence style='padding: 2px'>students have to go to a doctor appointment which cause their parents to get out of work and go all the way to school and then go to the doctor with a lot of rushed because time goes fast. For example, in my personal experience sometimes I have a doctor appointment which cause my mom to pick me up from school and then go to the doctor but after that she has to pick up my siblings from the babysitter which is going to get her tired from driving too much and also wasting time which shouldn't been different if I had the chance to stay at home and do online classes, my mom and I wouldn't have to rushed to go to doctor appointment and cook for the family. My mom works everydays at 4:00am and she has to take my siblings to the babysitter to early even when is freezing. I will like to help her taking care of my siblings by taking online classes from home instead of going to school, therefore my mom and I would have use the time wisely. Online classes for <strong> [Evidence] </strong></Evidence> <Claim style='padding: 2px'>students will benefits their family economy. Instead of buying a lot of supplies and <strong> [Claim] </strong></Claim> <Evidence style='padding: 2px'>clothes to go to school would prevent them to spend too much money. One example related to my life is when schools are about to open and my mom has to save money to buy me supplies and clothes to go to school which would cause her to work more and save. Also in our society some families have problems with their economy which would be difficult for them to buy their kids supplies and clothes which would cause them to sell items from their houses. If online classes are provided to students it would benefits students family including mine because my mom is not going to waste money on babysitting,gas,clothes and supplies as usual. Online classes for students will benefits their health of not stressing anymore. Some students <strong> [Evidence] </strong></Evidence> <Claim style='padding: 2px'>stress a lot about what clothes they have <strong> [Claim] </strong></Claim> <Evidence style='padding: 2px'>to wear to school which is going to cause them to over think a lot. Stress is really serious problem because students feel stresses out when they go to school because of not having time management or not having enough sleep. Online classes will prevent students to get bullied in school. Stress is a really common symptoms between students and should be preventable for the safe of our students. For example, when I have to wake up early I stress a lot because I have to get ready fast and walk to my bus stop and sometimes I skipped breakfast because I study when I get to school. If they provided me online classes I will have stress but not that much as I usually did in school because I will have more time to sleep and eat breakfast which would help <strong> [Evidence] </strong></Evidence> <Concluding_Statement style='padding: 2px'>me stay mentally healthy. I think students would have the benefits to take online classes from home instead of going to a far school which is causing them to wake up early to catch up the bus, waste time, spend money and stress. Students would have time to spend time with their family and communicated more to each other often and informed their parents about their problems. Online classes would impact our lives in a positive way to help students stay home safe, have time management, have a stable economy and less stress for the good of our lives. <strong> [Concluding_Statement] </strong></Concluding_Statement></p>\n",
       "      </div>\n",
       "      <div class=\"column\">\n",
       "        <h2 class=\"title\">Ground Truth</h2>\n",
       "        <p style=\"text-align:justify\"><Lead style='padding: 2px'>Students would have more benefits taking online classes from home than going to school that is far away from where they are. Online classes would have huge impact in students lives which is going to solve many problems. <strong> [Lead] </strong></Lead> <Position style='padding: 2px'>I think students would have the benefits to take online classes from home instead of going to a far school <strong> [Position] </strong></Position> <Claim style='padding: 2px'>which is causing them to wake up early to catch up the bus, waste time, spend money and stress. This can be change if students are allowed to take online classes from home. Students would have more benefits taking online classes from home than going to school, one of the main reason I said this is because of waking up early. <strong> [Claim] </strong></Claim> <Evidence style='padding: 2px'>For example, my daily life is waking up early to go to my bus stop because from my house is 30 minutes away and I have to walk where is dark outside like around 6:00am. Any student that walks in the morning in the darkest there is some chances to get in risk because bad people are outside to harm innocent people. My mom is always concern that I have to wake up early and walk in the darkest, she tries to change her work schedule more later but she can't but she always call me to make sure I get safe to my bus stop. I think this is one of the reason online classes can benefits students by protecting them. <strong> [Evidence] </strong></Evidence> <Claim style='padding: 2px'>Online classes from home would help students and their family to have time management. <strong> [Claim] </strong></Claim> <Evidence style='padding: 2px'>Sometimes students have to go to a doctor appointment which cause their parents to get out of work and go all the way to school and then go to the doctor with a lot of rushed because time goes fast. For example, in my personal experience sometimes I have a doctor appointment which cause my mom to pick me up from school and then go to the doctor but after that she has to pick up my siblings from the babysitter which is going to get her tired from driving too much and also wasting time which shouldn't been different if I had the chance to stay at home and do online classes, my mom and I wouldn't have to rushed to go to doctor appointment and cook for the family. My mom works everydays at 4:00am and she has to take my siblings to the babysitter to early even when is freezing. I will like to help her taking care of my siblings by taking online classes from home instead of going to school, therefore my mom and I would have use the time wisely. <strong> [Evidence] </strong></Evidence> <Claim style='padding: 2px'>Online classes for students will benefits their family economy. <strong> [Claim] </strong></Claim> <Evidence style='padding: 2px'>Instead of buying a lot of supplies and clothes to go to school would prevent them to spend too much money. One example related to my life is when schools are about to open and my mom has to save money to buy me supplies and clothes to go to school which would cause her to work more and save. Also in our society some families have problems with their economy which would be difficult for them to buy their kids supplies and clothes which would cause them to sell items from their houses. If online classes are provided to students it would benefits students family including mine because my mom is not going to waste money on babysitting,gas,clothes and supplies as usual. <strong> [Evidence] </strong></Evidence> <Claim style='padding: 2px'>Online classes for students will benefits their health of not stressing anymore. <strong> [Claim] </strong></Claim> <Evidence style='padding: 2px'>Some students stress a lot about what clothes they have to wear to school which is going to cause them to over think a lot. Stress is really serious problem because students feel stresses out when they go to school because of not having time management or not having enough sleep. Online classes will prevent students to get bullied in school. Stress is a really common symptoms between students and should be preventable for the safe of our students. For example, when I have to wake up early I stress a lot because I have to get ready fast and walk to my bus stop and sometimes I skipped breakfast because I study when I get to school. If they provided me online classes I will have stress but not that much as I usually did in school because I will have more time to sleep and eat breakfast which would help me stay mentally healthy. <strong> [Evidence] </strong></Evidence> <Concluding_Statement style='padding: 2px'>I think students would have the benefits to take online classes from home instead of going to a far school which is causing them to wake up early to catch up the bus, waste time, spend money and stress. Students would have time to spend time with their family and communicated more to each other often and informed their parents about their problems. Online classes would impact our lives in a positive way to help students stay home safe, have time management, have a stable economy and less stress for the good of our lives. <strong> [Concluding_Statement] </strong></Concluding_Statement></p>\n",
       "      </div>\n",
       "    </div>\n",
       "    \n",
       "    "
      ],
      "text/plain": [
       "<IPython.core.display.HTML object>"
      ]
     },
     "metadata": {},
     "output_type": "display_data"
    },
    {
     "data": {
      "text/html": [
       "\n",
       "    <div class=\"content\">\n",
       "     <span style=\"font-size:16px\">Legend --></span>\n",
       "      <lead>Lead</lead>\n",
       "      <Position>Position</Position>\n",
       "      <Claim>Claim</Claim>\n",
       "      <Counterclaim>Counterclaim</Counterclaim>\n",
       "      <Rebuttal>Rebuttal</Rebuttal>\n",
       "      <Evidence>Evidence</Evidence>\n",
       "      <Concluding_Statement>Concluding_Statement</Concluding_Statement>\n",
       "    </div>\n",
       "\n",
       "    <div class=\"row\">\n",
       "      <div class=\"column\">\n",
       "        <h2 class=\"title\">Prediction</h2>\n",
       "        <p style=\"text-align:justify\"><Lead style='padding: 2px'>Driverless cares are coming. It's true, though it almost seems something out of science fiction. Today, we have cars that can drive themselves with the aid of humans. This means that there is still a driver, though they won't be doing much except sitting and watching the road. They must watch the road as they may need to take control of the car if there is an accident, construction, or if a road is closed off for another reason. This is a far cry from what we think driverless cars to be. Of course, the technology is there, it's just a very basic state of it. Most of what is there, the basics, is still very complex. In my <strong> [Lead] </strong></Lead> <Position style='padding: 2px'>own opinion, yes, driverless cars are the way of the future. However, there is still use of a driver within the driverless car. So maybe not calling them <strong> [Position] </strong></Position> <Claim style='padding: 2px'>driverless <strong> [Claim] </strong></Claim> <Evidence style='padding: 2px'>cars as a start, perhaps independent cars or auto cars. Having a driver still within the car can help, it may be that some places aren't mapped on the maps within the car. This may mean that the driver will have to take over, placing the safety of others into the hands of the driver. The thing with the driverless cars is that if there is an <strong> [Evidence] </strong></Evidence> <Counterclaim style='padding: 2px'>accident, whether it be man-made or machine error, <strong> [Counterclaim] </strong></Counterclaim> <Evidence style='padding: 2px'>whose fault is it? This is a big question, with many different answers. The truth is, there isn't laws in place for this, as there are no true driverless cars on the roads. We could pin the blame on the driver, for not taking control at the right moment to prevent a disaster. The same could be said for the manufacturer, for creating a faulty program within the car. Today, the problem with cars is simple. They are dangerous. There isn't a bigger risk today than <strong> [Evidence] </strong></Evidence> <Claim style='padding: 2px'>getting <strong> [Claim] </strong></Claim> <Evidence style='padding: 2px'>in a car and driving. Hundreds of people die or are injured in a car accident today and most of them are due to humans. A driverless car could reduce the amount of accidents and deaths on the roads. There still is need of people being at the wheel of the vehicle, but with less human interaction of the vehicles operation, the less likely it is to result in failure on the drivers part. There is also a possibility of it helping drunk drivers. If someone gets into the vehicle, they could tell the car their destination, and be on their way. This could result in less accidents and less deaths with <strong> [Evidence] </strong></Evidence> <Rebuttal style='padding: 2px'>vehicles involved. <strong> [Rebuttal] </strong></Rebuttal> <Evidence style='padding: 2px'>However, on the flip side of <strong> [Evidence] </strong></Evidence> <Rebuttal style='padding: 2px'>things, this may not help. If a third party company <strong> [Rebuttal] </strong></Rebuttal> <Evidence style='padding: 2px'>creates a faulty <strong> [Evidence] </strong></Evidence> <Rebuttal style='padding: 2px'>program for the vehicles for a big company, the blame will be pinned on the big company for outsourcing. This results in more strict laws on driverless cars and could result in there <strong> [Rebuttal] </strong></Rebuttal> <Evidence style='padding: 2px'>being less appeal to the idea of a driverless, or semi-driverless, car. We're still a few years from having driverless cars, and even more from having completely <strong> [Evidence] </strong></Evidence> <Claim style='padding: 2px'>driverless <strong> [Claim] </strong></Claim> <Evidence style='padding: 2px'>cars. <strong> [Evidence] </strong></Evidence> <Claim style='padding: 2px'>My <strong> [Claim] </strong></Claim> <Concluding_Statement style='padding: 2px'>opinion is that self driving cars could help our society. We could gain so much from this, most of it being less accidents and deaths from something that is so important to many of our lives today. Taking the risk of getting in a car with someone who is new, elderly, or drunk is huge. Today, that risk is garunteed with consequences. Most of them are bad, with either injuries or death some big ones. Tomorrow, that risk could decrease with semi-driverless cars or completely driverless cars. The possibilities are endless with a car that rarely, if ever, requires human interaction on the road. <strong> [Concluding_Statement] </strong></Concluding_Statement></p>\n",
       "      </div>\n",
       "      <div class=\"column\">\n",
       "        <h2 class=\"title\">Ground Truth</h2>\n",
       "        <p style=\"text-align:justify\"><Lead style='padding: 2px'>Driverless cares are coming. It's true, though it almost seems something out of science fiction. Today, we have cars that can drive themselves with the aid of humans. This means that there is still a driver, though they won't be doing much except sitting and watching the road. They must watch the road as they may need to take control of the car if there is an accident, construction, or if a road is closed off for another reason. This is a far cry from what we think driverless cars to be. Of course, the technology is there, it's just a very basic state of it. Most of what is there, the basics, is still very complex. <strong> [Lead] </strong></Lead> <Position style='padding: 2px'>yes, driverless cars are the way of the future. <strong> [Position] </strong></Position> <Claim style='padding: 2px'>However, there is still use of a driver within the driverless car. <strong> [Claim] </strong></Claim> <Evidence style='padding: 2px'>So maybe not calling them driverless cars as a start, perhaps independent cars or auto cars. Having a driver still within the car can help, it may be that some places aren't mapped on the maps within the car. This may mean that the driver will have to take over, placing the safety of others into the hands of the driver. The thing with the driverless cars is that if there is an accident, whether it be man-made or machine error, whose fault is it? This is a big question, with many different answers. The truth is, there isn't laws in place for this, as there are no true driverless cars on the roads. We could pin the blame on the driver, for not taking control at the right moment to prevent a disaster. The same could be said for the manufacturer, for creating a faulty program within the car. <strong> [Evidence] </strong></Evidence> <Claim style='padding: 2px'>Today, the problem with cars is simple. They are dangerous. <strong> [Claim] </strong></Claim> <Evidence style='padding: 2px'>There isn't a bigger risk today than getting in a car and driving. Hundreds of people die or are injured in a car accident today and most of them are due to humans. A driverless car could reduce the amount of accidents and deaths on the roads. There still is need of people being at the wheel of the vehicle, but with less human interaction of the vehicles operation, the less likely it is to result in failure on the drivers part. There is also a possibility of it helping drunk drivers. If someone gets into the vehicle, they could tell the car their destination, and be on their way. This could result in less accidents and less deaths with vehicles involved. <strong> [Evidence] </strong></Evidence> <Counterclaim style='padding: 2px'>on the flip side of things, this may not help. <strong> [Counterclaim] </strong></Counterclaim> <Evidence style='padding: 2px'>If a third party company creates a faulty program for the vehicles for a big company, the blame will be pinned on the big company for outsourcing. This results in more strict laws on driverless cars and could result in there being less appeal to the idea of a driverless, or semi-driverless, car. We're still a few years from having driverless cars, and even more from having completely driverless cars. <strong> [Evidence] </strong></Evidence> <Concluding_Statement style='padding: 2px'>My opinion is that self driving cars could help our society. We could gain so much from this, most of it being less accidents and deaths from something that is so important to many of our lives today. Taking the risk of getting in a car with someone who is new, elderly, or drunk is huge. Today, that risk is garunteed with consequences. Most of them are bad, with either injuries or death some big ones. Tomorrow, that risk could decrease with semi-driverless cars or completely driverless cars. The possibilities are endless with a car that rarely, if ever, requires human interaction on the road. <strong> [Concluding_Statement] </strong></Concluding_Statement></p>\n",
       "      </div>\n",
       "    </div>\n",
       "    \n",
       "    "
      ],
      "text/plain": [
       "<IPython.core.display.HTML object>"
      ]
     },
     "metadata": {},
     "output_type": "display_data"
    }
   ],
   "source": [
    "for i in range(10):\n",
    "    display(comparison_text(pred_df.loc[i,'html'],true_df.loc[i,'html']))"
   ]
  },
  {
   "cell_type": "code",
   "execution_count": null,
   "id": "03c356fa",
   "metadata": {},
   "outputs": [],
   "source": []
  }
 ],
 "metadata": {
  "kernelspec": {
   "display_name": "Python 3 (ipykernel)",
   "language": "python",
   "name": "python3"
  },
  "language_info": {
   "codemirror_mode": {
    "name": "ipython",
    "version": 3
   },
   "file_extension": ".py",
   "mimetype": "text/x-python",
   "name": "python",
   "nbconvert_exporter": "python",
   "pygments_lexer": "ipython3",
   "version": "3.8.12"
  },
  "toc": {
   "base_numbering": "1",
   "nav_menu": {},
   "number_sections": true,
   "sideBar": true,
   "skip_h1_title": true,
   "title_cell": "Table of Contents",
   "title_sidebar": "Contents",
   "toc_cell": false,
   "toc_position": {
    "height": "calc(100% - 180px)",
    "left": "10px",
    "top": "150px",
    "width": "268px"
   },
   "toc_section_display": true,
   "toc_window_display": true
  },
  "varInspector": {
   "cols": {
    "lenName": 16,
    "lenType": 16,
    "lenVar": 40
   },
   "kernels_config": {
    "python": {
     "delete_cmd_postfix": "",
     "delete_cmd_prefix": "del ",
     "library": "var_list.py",
     "varRefreshCmd": "print(var_dic_list())"
    },
    "r": {
     "delete_cmd_postfix": ") ",
     "delete_cmd_prefix": "rm(",
     "library": "var_list.r",
     "varRefreshCmd": "cat(var_dic_list()) "
    }
   },
   "position": {
    "height": "505.844px",
    "left": "1063px",
    "right": "20px",
    "top": "120px",
    "width": "357px"
   },
   "types_to_exclude": [
    "module",
    "function",
    "builtin_function_or_method",
    "instance",
    "_Feature"
   ],
   "window_display": false
  }
 },
 "nbformat": 4,
 "nbformat_minor": 5
}
