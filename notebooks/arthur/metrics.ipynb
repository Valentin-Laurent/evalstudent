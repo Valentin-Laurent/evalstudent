{
 "cells": [
  {
   "cell_type": "markdown",
   "id": "13115bc0",
   "metadata": {},
   "source": [
    "<center><font size=18><strong> Metrics</strong></font></center>\n",
    "<br><br>\n",
    "This notebook wraps up the metrics used during the training of the models and the evaluation metric for the kaggle competition. It is intended to be used for evaluating the results on the test split."
   ]
  },
  {
   "cell_type": "markdown",
   "id": "165075d8",
   "metadata": {},
   "source": [
    "## Imports"
   ]
  },
  {
   "cell_type": "markdown",
   "id": "7b90e54b",
   "metadata": {},
   "source": [
    "### Imports"
   ]
  },
  {
   "cell_type": "code",
   "execution_count": 1,
   "id": "c422e5a0",
   "metadata": {
    "ExecuteTime": {
     "end_time": "2022-03-13T16:05:38.802880Z",
     "start_time": "2022-03-13T16:05:38.734017Z"
    }
   },
   "outputs": [],
   "source": [
    "import os \n",
    "import pickle\n",
    "\n",
    "import pandas as pd \n",
    "import numpy as np \n",
    "import matplotlib.pyplot as plt\n",
    "import seaborn as sns\n",
    "import tensorflow as tf\n",
    "\n",
    "from transformers import TFAutoModel, AutoConfig\n",
    "\n",
    "from sklearn.metrics import confusion_matrix\n",
    "\n",
    "from tqdm.notebook import tqdm\n",
    "from IPython.display import HTML"
   ]
  },
  {
   "cell_type": "markdown",
   "id": "0acd78d9",
   "metadata": {},
   "source": [
    "### Loading Data"
   ]
  },
  {
   "cell_type": "code",
   "execution_count": 3,
   "id": "04b7374c",
   "metadata": {
    "ExecuteTime": {
     "end_time": "2022-03-13T16:06:06.407250Z",
     "start_time": "2022-03-13T16:05:49.226391Z"
    }
   },
   "outputs": [],
   "source": [
    "#get the data\n",
    "df_essays = pd.read_csv('../../raw_data/preprocessed_v3.csv',converters={'predictionstring':eval,\n",
    "                                                                     'label':eval})\n",
    "with open('../../raw_data/preds_on_testsplit_v3.pickle','rb') as file:\n",
    "    y_pred = pickle.load(file)\n",
    "    \n",
    "with open('../../raw_data/dataset_v3.pickle','rb') as file:\n",
    "    dataset = pickle.load(file)\n"
   ]
  },
  {
   "cell_type": "code",
   "execution_count": 4,
   "id": "812217ff",
   "metadata": {
    "ExecuteTime": {
     "end_time": "2022-03-13T16:06:06.465046Z",
     "start_time": "2022-03-13T16:06:06.460659Z"
    }
   },
   "outputs": [],
   "source": [
    "#Max len of essay \n",
    "SEQ_LEN = 1024 ## THIS SHOULD NOT BE CHANGED without appropriate changes in the preprocessing \n",
    "\n",
    "#Train, val, test split proportion\n",
    "VAL_SPLIT = 0.8\n",
    "TEST_SPLIT = 0.9\n",
    "\n",
    "LEN=len(dataset['labels'])\n",
    "\n",
    "idx_val=int(LEN*VAL_SPLIT)\n",
    "idx_test=int(LEN*TEST_SPLIT)\n",
    "\n",
    "idx_train=list(range(0,idx_val))\n",
    "idx_val=list(range(idx_val,idx_test))\n",
    "idx_test=list(range(idx_test,LEN))\n",
    "\n",
    "assert(len(idx_test)+len(idx_train)+len(idx_val)==LEN)"
   ]
  },
  {
   "cell_type": "code",
   "execution_count": 5,
   "id": "fc7a9007",
   "metadata": {
    "ExecuteTime": {
     "end_time": "2022-03-13T16:06:06.725146Z",
     "start_time": "2022-03-13T16:06:06.515766Z"
    }
   },
   "outputs": [],
   "source": [
    "#creating X_test, y_test, ps_test\n",
    "\n",
    "X_test = {\n",
    "    'input_ids' : dataset['inputs']['input_ids'][idx_test],\n",
    "    'attention_mask' : dataset['inputs']['attention_mask'][idx_test]\n",
    "}\n",
    "\n",
    "y_test = dataset['labels'][idx_test]\n",
    "ps_test = dataset['predictionstrings'][idx_test]"
   ]
  },
  {
   "cell_type": "code",
   "execution_count": 6,
   "id": "f9dad965",
   "metadata": {
    "ExecuteTime": {
     "end_time": "2022-03-13T16:06:06.775412Z",
     "start_time": "2022-03-13T16:06:06.771344Z"
    }
   },
   "outputs": [],
   "source": [
    "#Labels mapping\n",
    "\n",
    "labels_mapping = {'B-Lead' : 0,\n",
    "                  'B-Position' : 1,\n",
    "                  'B-Evidence' : 2,\n",
    "                  'B-Claim' : 3,\n",
    "                  'B-Concluding_Statement' : 4,\n",
    "                  'B-Counterclaim' : 5,\n",
    "                  'B-Rebuttal' : 6,\n",
    "                  'I-Lead' : 7,\n",
    "                  'I-Position' : 8,\n",
    "                  'I-Evidence' : 9,\n",
    "                  'I-Claim' : 10,\n",
    "                  'I-Concluding_Statement' : 11,\n",
    "                  'I-Counterclaim' : 12,\n",
    "                  'I-Rebuttal': 13,\n",
    "                 'O':14,\n",
    "                 'PAD':15}\n",
    "\n",
    "reversed_mapping = {v:(k[2:] if v<14 else k) for k,v in labels_mapping.items()}"
   ]
  },
  {
   "cell_type": "markdown",
   "id": "4ba79112",
   "metadata": {},
   "source": [
    "### Predict on model loaded"
   ]
  },
  {
   "cell_type": "code",
   "execution_count": 54,
   "id": "592a7361",
   "metadata": {
    "ExecuteTime": {
     "end_time": "2022-03-13T17:30:31.705985Z",
     "start_time": "2022-03-13T17:30:31.578085Z"
    }
   },
   "outputs": [],
   "source": [
    "## load predictions from YV\n",
    "with open('../../raw_data/preds_val.pickle','rb') as file:\n",
    "    y_pred_yv = pickle.load(file)"
   ]
  },
  {
   "cell_type": "code",
   "execution_count": 78,
   "id": "cc9a2779",
   "metadata": {
    "ExecuteTime": {
     "end_time": "2022-03-13T17:44:24.395396Z",
     "start_time": "2022-03-13T17:44:24.388533Z"
    }
   },
   "outputs": [],
   "source": [
    "labels_mapping_yv = {'B-Lead' : 0,\n",
    "                     'I-Lead' : 1,\n",
    "                     'B-Position' : 2,\n",
    "                     'I-Position' : 3,\n",
    "                     'B-Evidence' : 4,\n",
    "                     'I-Evidence' : 5,\n",
    "                     'B-Claim' : 6,\n",
    "                     'I-Claim' : 7,\n",
    "                     'B-Concluding_Statement' : 8,\n",
    "                     'I-Concluding_Statement' : 9,\n",
    "                     'B-Counterclaim' : 10,\n",
    "                     'I-Counterclaim' : 11,\n",
    "                     'B-Rebuttal' : 12,\n",
    "                     'I-Rebuttal': 13,\n",
    "                     'O':14\n",
    "                    }\n",
    "\n",
    "# 0: LEAD_B, 1: LEAD_I\n",
    "        # 2: POSITION_B, 3: POSITION_I\n",
    "        # 4: EVIDENCE_B, 5: EVIDENCE_I\n",
    "        # 6: CLAIM_B, 7: CLAIM_I\n",
    "        # 8: CONCLUSION_B, 9: CONCLUSION_I\n",
    "        # 10: COUNTERCLAIM_B, 11: COUNTERCLAIM_I\n",
    "        # 12: REBUTTAL_B, 13: REBUTTAL_I\n",
    "        # 14: NOTHING i.e. O\n",
    "\n",
    "reversed_mapping_yv = {v:(k[2:] if v<14 else k) for k,v in labels_mapping_yv.items()}"
   ]
  },
  {
   "cell_type": "code",
   "execution_count": null,
   "id": "5af5d327",
   "metadata": {},
   "outputs": [],
   "source": []
  },
  {
   "cell_type": "markdown",
   "id": "20541fd0",
   "metadata": {},
   "source": [
    "## Evaluation metric\n",
    "\n",
    "Create a metric to evaluate model performance according to the Kaggle\n",
    "competition rules.\n",
    "\n",
    "- For each sample, all ground truths and predictions for a given class are \n",
    "    compared.\n",
    "- If the overlap between the ground truth and prediction is >= 0.5, \n",
    "  and the overlap between the prediction and the ground truth >= 0.5, \n",
    "  the prediction is a match and considered a true positive. If multiple \n",
    "  matches exist, the match with the highest pair of overlaps is taken.\n",
    "- Any unmatched ground truths are false negatives and any unmatched \n",
    "  predictions are false positives.\n",
    "    "
   ]
  },
  {
   "cell_type": "markdown",
   "id": "d23afa93",
   "metadata": {},
   "source": [
    "### Creating predictions df"
   ]
  },
  {
   "cell_type": "code",
   "execution_count": 96,
   "id": "da5e8108",
   "metadata": {
    "ExecuteTime": {
     "end_time": "2022-03-13T18:07:24.460543Z",
     "start_time": "2022-03-13T18:07:24.445949Z"
    }
   },
   "outputs": [],
   "source": [
    "def get_preds(y_pred,ps):\n",
    "    \"\"\"\n",
    "    Generate readable predictions from the output of the model.\n",
    "\n",
    "    Args:\n",
    "        y_pred (ndarray): output of the model\n",
    "        ps (ndarray): predictionstring referring to the token predicted\n",
    "\n",
    "    Returns:\n",
    "        DataFrame : DataFrame with class and predictionstrings\n",
    "    \"\"\"\n",
    "\n",
    "\n",
    "    labels = []\n",
    "    predictionstrings = []\n",
    "    counts = []\n",
    "    \n",
    "    counter=dict()\n",
    "    \n",
    "    for tok,pos in zip(y_pred,ps):\n",
    "        \n",
    "        if tok <= 13:\n",
    "            lab = reversed_mapping_yv[tok]\n",
    "            labels.append(lab)\n",
    "            predictionstrings.append(pos)\n",
    "            if len(labels)<2:\n",
    "                counts.append(str(1))\n",
    "                counter.setdefault(lab,1)\n",
    "                continue\n",
    "            if lab == labels[-2]:\n",
    "                counts.append(str(counter[lab]))\n",
    "            else: \n",
    "                try:\n",
    "                    counter[lab]+=1\n",
    "                except KeyError:\n",
    "                    counter.setdefault(lab,1)\n",
    "                counts.append(str(counter[lab]))\n",
    "    \n",
    "    preds = pd.DataFrame([labels,counts,predictionstrings],index=['class','count','predictionstring']).T\n",
    "    preds['class'] += ' ' + preds['count'].astype(str)\n",
    "    preds = preds.groupby('class',sort=False).agg({'predictionstring':list}).reset_index()\n",
    "    preds['class']=preds['class'].apply(lambda txt : txt.split()[0])\n",
    "    preds['predictionstring']=preds['predictionstring'].apply(lambda l_ : [str(l) for l in l_])\n",
    "    preds['predictionstring']=preds['predictionstring'].apply(lambda l_ : ' '.join(l_))\n",
    "    \n",
    "    return preds"
   ]
  },
  {
   "cell_type": "code",
   "execution_count": 97,
   "id": "bb83207b",
   "metadata": {
    "ExecuteTime": {
     "end_time": "2022-03-13T18:07:58.534087Z",
     "start_time": "2022-03-13T18:07:25.021222Z"
    }
   },
   "outputs": [
    {
     "data": {
      "application/vnd.jupyter.widget-view+json": {
       "model_id": "0377dd95f93d4676ae560d10894e82bc",
       "version_major": 2,
       "version_minor": 0
      },
      "text/plain": [
       "  0%|          | 0/1560 [00:00<?, ?it/s]"
      ]
     },
     "metadata": {},
     "output_type": "display_data"
    }
   ],
   "source": [
    "## Working essay per essay, building pred_df\n",
    "\n",
    "preds = np.argmax(y_pred_yv,axis=-1)\n",
    "\n",
    "y_pred_new = np.ndarray(shape=(preds.shape[0],1024))\n",
    "for i, pred in enumerate(preds):\n",
    "    # We don't care about the 14, as this should not appear in predictions anyways\n",
    "    y_pred_new[i] = np.append(14, pred)\n",
    "preds = y_pred_new\n",
    "\n",
    "pred_df=pd.DataFrame()\n",
    "for i,idx in tqdm(enumerate(idx_test),total=len(idx_test)): ## CHANGE idx_test\n",
    "    \n",
    "    pred_ = get_preds(preds[i],ps_test[i])\n",
    "    \n",
    "    pred_['id']=df_essays.iloc[idx]['id']\n",
    "    \n",
    "    pred_df = pred_df.append(pred_)"
   ]
  },
  {
   "cell_type": "code",
   "execution_count": 61,
   "id": "1f1c075b",
   "metadata": {
    "ExecuteTime": {
     "end_time": "2022-03-13T17:32:38.996189Z",
     "start_time": "2022-03-13T17:32:11.103300Z"
    }
   },
   "outputs": [
    {
     "data": {
      "application/vnd.jupyter.widget-view+json": {
       "model_id": "41c0f029f57e4b878632e5f1b57a6339",
       "version_major": 2,
       "version_minor": 0
      },
      "text/plain": [
       "  0%|          | 0/1560 [00:00<?, ?it/s]"
      ]
     },
     "metadata": {},
     "output_type": "display_data"
    }
   ],
   "source": [
    "# Working essay per essay, building true_df\n",
    "\n",
    "## NB : this does not yield exactly the same result as if \n",
    "## we processed train.csv. \n",
    "## TODO : First glance shows delta to be negligible. Yet to further investigate.\n",
    "\n",
    "true = np.argmax(y_test,axis=-1)\n",
    "true_df=pd.DataFrame()\n",
    "for i,idx in tqdm(enumerate(idx_test),total=len(idx_test)): \n",
    "    \n",
    "    true_ = get_preds(true[i],ps_test[i])\n",
    "    \n",
    "    true_['id']=df_essays.iloc[idx]['id']\n",
    "    \n",
    "    true_df = true_df.append(true_)"
   ]
  },
  {
   "cell_type": "code",
   "execution_count": 114,
   "id": "d4ad484d",
   "metadata": {
    "ExecuteTime": {
     "end_time": "2022-03-14T12:22:03.329668Z",
     "start_time": "2022-03-14T12:22:03.243207Z"
    }
   },
   "outputs": [
    {
     "data": {
      "text/html": [
       "<div>\n",
       "<style scoped>\n",
       "    .dataframe tbody tr th:only-of-type {\n",
       "        vertical-align: middle;\n",
       "    }\n",
       "\n",
       "    .dataframe tbody tr th {\n",
       "        vertical-align: top;\n",
       "    }\n",
       "\n",
       "    .dataframe thead th {\n",
       "        text-align: right;\n",
       "    }\n",
       "</style>\n",
       "<table border=\"1\" class=\"dataframe\">\n",
       "  <thead>\n",
       "    <tr style=\"text-align: right;\">\n",
       "      <th></th>\n",
       "      <th>class</th>\n",
       "      <th>id</th>\n",
       "      <th>discourse_text</th>\n",
       "      <th>html</th>\n",
       "    </tr>\n",
       "  </thead>\n",
       "  <tbody>\n",
       "    <tr>\n",
       "      <th>0</th>\n",
       "      <td>Evidence</td>\n",
       "      <td>E6870101D8EE</td>\n",
       "      <td>Car usage in the United States has gone down b...</td>\n",
       "      <td>&lt;Evidence style='padding: 2px'&gt;Car usage in th...</td>\n",
       "    </tr>\n",
       "    <tr>\n",
       "      <th>1</th>\n",
       "      <td>Position</td>\n",
       "      <td>E6870101D8EE</td>\n",
       "      <td>Limited car usage has caused people venture aw...</td>\n",
       "      <td>&lt;Position style='padding: 2px'&gt;Limited car usa...</td>\n",
       "    </tr>\n",
       "    <tr>\n",
       "      <th>2</th>\n",
       "      <td>Claim</td>\n",
       "      <td>E6870101D8EE</td>\n",
       "      <td>Driving deprives you of the beauty of civiliza...</td>\n",
       "      <td>&lt;Claim style='padding: 2px'&gt;Driving deprives y...</td>\n",
       "    </tr>\n",
       "    <tr>\n",
       "      <th>3</th>\n",
       "      <td>Evidence</td>\n",
       "      <td>E6870101D8EE</td>\n",
       "      <td>Weather it be that your missing the lights and...</td>\n",
       "      <td>&lt;Evidence style='padding: 2px'&gt;Weather it be t...</td>\n",
       "    </tr>\n",
       "    <tr>\n",
       "      <th>4</th>\n",
       "      <td>Claim</td>\n",
       "      <td>E6870101D8EE</td>\n",
       "      <td>Limited car usage would also encorage people t...</td>\n",
       "      <td>&lt;Claim style='padding: 2px'&gt;Limited car usage ...</td>\n",
       "    </tr>\n",
       "    <tr>\n",
       "      <th>...</th>\n",
       "      <td>...</td>\n",
       "      <td>...</td>\n",
       "      <td>...</td>\n",
       "      <td>...</td>\n",
       "    </tr>\n",
       "    <tr>\n",
       "      <th>2</th>\n",
       "      <td>Claim</td>\n",
       "      <td>FFFD0AF13501</td>\n",
       "      <td>Even if you just want to help out your world o...</td>\n",
       "      <td>&lt;Claim style='padding: 2px'&gt;Even if you just w...</td>\n",
       "    </tr>\n",
       "    <tr>\n",
       "      <th>3</th>\n",
       "      <td>Evidence</td>\n",
       "      <td>FFFD0AF13501</td>\n",
       "      <td>you might be able to look at the pretty things...</td>\n",
       "      <td>&lt;Evidence style='padding: 2px'&gt;you might be ab...</td>\n",
       "    </tr>\n",
       "    <tr>\n",
       "      <th>4</th>\n",
       "      <td>Position</td>\n",
       "      <td>FFFD0AF13501</td>\n",
       "      <td>all i'm saying is that the seagoing cowboys wo...</td>\n",
       "      <td>&lt;Position style='padding: 2px'&gt;all i'm saying ...</td>\n",
       "    </tr>\n",
       "    <tr>\n",
       "      <th>5</th>\n",
       "      <td>Concluding_Statement</td>\n",
       "      <td>FFFD0AF13501</td>\n",
       "      <td>You can go so many places and you rarely go to...</td>\n",
       "      <td>&lt;Concluding_Statement style='padding: 2px'&gt;You...</td>\n",
       "    </tr>\n",
       "    <tr>\n",
       "      <th>0</th>\n",
       "      <td>Evidence</td>\n",
       "      <td>FFFF80B8CC2F</td>\n",
       "      <td>Venus is a planet what belong the System Solar...</td>\n",
       "      <td>&lt;Evidence style='padding: 2px'&gt;Venus is a plan...</td>\n",
       "    </tr>\n",
       "  </tbody>\n",
       "</table>\n",
       "<p>11992 rows × 4 columns</p>\n",
       "</div>"
      ],
      "text/plain": [
       "                   class            id  \\\n",
       "0               Evidence  E6870101D8EE   \n",
       "1               Position  E6870101D8EE   \n",
       "2                  Claim  E6870101D8EE   \n",
       "3               Evidence  E6870101D8EE   \n",
       "4                  Claim  E6870101D8EE   \n",
       "..                   ...           ...   \n",
       "2                  Claim  FFFD0AF13501   \n",
       "3               Evidence  FFFD0AF13501   \n",
       "4               Position  FFFD0AF13501   \n",
       "5   Concluding_Statement  FFFD0AF13501   \n",
       "0               Evidence  FFFF80B8CC2F   \n",
       "\n",
       "                                       discourse_text  \\\n",
       "0   Car usage in the United States has gone down b...   \n",
       "1   Limited car usage has caused people venture aw...   \n",
       "2   Driving deprives you of the beauty of civiliza...   \n",
       "3   Weather it be that your missing the lights and...   \n",
       "4   Limited car usage would also encorage people t...   \n",
       "..                                                ...   \n",
       "2   Even if you just want to help out your world o...   \n",
       "3   you might be able to look at the pretty things...   \n",
       "4   all i'm saying is that the seagoing cowboys wo...   \n",
       "5   You can go so many places and you rarely go to...   \n",
       "0   Venus is a planet what belong the System Solar...   \n",
       "\n",
       "                                                 html  \n",
       "0   <Evidence style='padding: 2px'>Car usage in th...  \n",
       "1   <Position style='padding: 2px'>Limited car usa...  \n",
       "2   <Claim style='padding: 2px'>Driving deprives y...  \n",
       "3   <Evidence style='padding: 2px'>Weather it be t...  \n",
       "4   <Claim style='padding: 2px'>Limited car usage ...  \n",
       "..                                                ...  \n",
       "2   <Claim style='padding: 2px'>Even if you just w...  \n",
       "3   <Evidence style='padding: 2px'>you might be ab...  \n",
       "4   <Position style='padding: 2px'>all i'm saying ...  \n",
       "5   <Concluding_Statement style='padding: 2px'>You...  \n",
       "0   <Evidence style='padding: 2px'>Venus is a plan...  \n",
       "\n",
       "[11992 rows x 4 columns]"
      ]
     },
     "execution_count": 114,
     "metadata": {},
     "output_type": "execute_result"
    }
   ],
   "source": [
    "true_df"
   ]
  },
  {
   "cell_type": "markdown",
   "id": "94cdc11d",
   "metadata": {},
   "source": [
    "### Scoring functions"
   ]
  },
  {
   "cell_type": "code",
   "execution_count": 90,
   "id": "b2f51aee",
   "metadata": {
    "ExecuteTime": {
     "end_time": "2022-03-13T17:53:02.362448Z",
     "start_time": "2022-03-13T17:53:02.352174Z"
    }
   },
   "outputs": [],
   "source": [
    "def scoring(predictionstring_true,predictionstring_pred):\n",
    "    \"\"\"\n",
    "    Identify each prediction to be a True Positive, a False Positive or a False \n",
    "    Negative according to the competition rules : \n",
    "    - For each sample, all ground truths and predictions for a given class are \n",
    "    compared.\n",
    "    - If the overlap between the ground truth and prediction is >= 0.5, \n",
    "    and the overlap between the prediction and the ground truth >= 0.5, \n",
    "    the prediction is a match and considered a true positive. If multiple \n",
    "    matches exist, the match with the highest pair of overlaps is taken.\n",
    "    - Any unmatched ground truths are false negatives and any unmatched \n",
    "    predictions are false positives.\n",
    "    \n",
    "    predictionstring_true and predictionstring_pred are a possible match from an\n",
    "    outer join of all predictions.\n",
    "\n",
    "    Args:\n",
    "        predictionstring_true (str): predictionstring of a true discourse\n",
    "        predictionstring_pred (str): predictionstring of a predicted discourse\n",
    "\n",
    "    Returns:\n",
    "        str: TP, FP, or FP \n",
    "    \"\"\"\n",
    "    \n",
    "    if predictionstring_true is np.nan :\n",
    "        return 'FP'\n",
    "    \n",
    "    elif predictionstring_pred is np.nan :\n",
    "        return 'FN'\n",
    "    \n",
    "    else:\n",
    "        \n",
    "        ps_true = set(predictionstring_true.split(' '))\n",
    "        ps_pred = set(predictionstring_pred.split(' '))\n",
    "\n",
    "        inter = ps_pred.intersection(ps_true)\n",
    "        overlap_1 = len(inter)/len(ps_true)\n",
    "        overlap_2 = len(inter)/len(ps_pred)\n",
    "\n",
    "        if overlap_1 >= .5 and overlap_2 >= .5:\n",
    "            return 'TP'\n",
    "        else:\n",
    "            return 'FP'\n",
    "\n",
    "## vectorize the funct\n",
    "scoring_vect = np.vectorize(scoring)"
   ]
  },
  {
   "cell_type": "code",
   "execution_count": 91,
   "id": "ce1ca8c1",
   "metadata": {
    "ExecuteTime": {
     "end_time": "2022-03-13T17:53:03.183646Z",
     "start_time": "2022-03-13T17:53:03.179238Z"
    }
   },
   "outputs": [],
   "source": [
    "def f1_score(fp,fn,tp):\n",
    "    return tp/(tp+.5*(fp+fn))*100"
   ]
  },
  {
   "cell_type": "code",
   "execution_count": 92,
   "id": "e9933025",
   "metadata": {
    "ExecuteTime": {
     "end_time": "2022-03-13T17:53:04.099410Z",
     "start_time": "2022-03-13T17:53:04.083577Z"
    }
   },
   "outputs": [],
   "source": [
    "def scores_df(merged_df):\n",
    "    \"\"\"\n",
    "    Computes f1-score summary.\n",
    "\n",
    "    Args:\n",
    "        merged_df (DataFrame): DF with all correspondances of ground truth and \n",
    "        predictions.\n",
    "\n",
    "    Returns:\n",
    "        df, plot: Returns a dataframe summarizing f1-score per class and a\n",
    "        barplot showing f1 levels in comparison to the Macro f1-score\n",
    "    \"\"\"\n",
    "    \n",
    "    merged_df['FP'] = np.where(merged_df['score']=='FP',1,0)\n",
    "    merged_df['FN'] = np.where(merged_df['score']=='FN',1,0)\n",
    "    merged_df['TP'] = np.where(merged_df['score']=='TP',1,0)\n",
    "\n",
    "    merged_df['key'] = merged_df['id']+merged_df['class']+merged_df['predictionstring_pred']+\\\n",
    "                        merged_df['predictionstring_true']\n",
    "    \n",
    "    idx_potential_duplicates = merged_df[(merged_df['key'].duplicated()) & (merged_df['TP']==1)].index\n",
    "    \n",
    "    merged_df.drop(idx_potential_duplicates,inplace=True,axis=0)\n",
    "    \n",
    "    merged_df.drop('key',axis=1,inplace=True)\n",
    "    \n",
    "    score_df = merged_df.groupby('class').agg({'TP':sum,'FP':sum,'FN':sum})\n",
    "    score_df['F1'] = f1_score(score_df.FP,score_df.FN,score_df.TP)\n",
    "    \n",
    "    #Create a total row\n",
    "    score_df.loc['Total']=score_df.mean()\n",
    "\n",
    "    ## weighted average\n",
    "    score_df['Support'] = true_df.groupby('class').count()['id']\n",
    "    score_df['F1_Weighted']=score_df['F1']*(score_df['Support']/score_df['Support'].sum())\n",
    "    score_df.loc['Total','Support']=score_df.Support.sum()\n",
    "    score_df.loc['Total','F1_Weighted']=score_df.F1_Weighted.sum()\n",
    "\n",
    "    # impute correct values for the Total row for TP FN FP \n",
    "    score_df.loc['Total','FP'] = score_df.loc[:'Rebuttal','FP'].sum()\n",
    "    score_df.loc['Total','FN'] = score_df.loc[:'Rebuttal','FN'].sum()\n",
    "    score_df.loc['Total','TP'] = score_df.loc[:'Rebuttal','TP'].sum()    \n",
    "    \n",
    "    #Print aggregated scores\n",
    "    print(f\"F1 Macro Score = {score_df.loc['Total','F1']:.2f}%\")\n",
    "    print(f\"F1 Micro Score = {f1_score(score_df.loc['Total','FP'],score_df.loc['Total','FN'],score_df.loc['Total','TP']):.2f}%\")\n",
    "    print(f\"F1 Weighted Score = {score_df.loc['Total','F1_Weighted']:.2f}%\")\n",
    "    \n",
    "    ## Creating figure\n",
    "    sns.barplot(y=score_df.reset_index().loc[:6,'F1'],x=score_df.index[:-1],palette='Set2')\n",
    "    plt.xticks(rotation=90)\n",
    "    locs,_=plt.xticks()\n",
    "    plt.plot([locs[0]-.5,locs[-1]+.5],[score_df.loc['Total','F1'],score_df.loc['Total','F1']],c='r');\n",
    "    plt.title('Macro F1',size= 16);\n",
    "\n",
    "    ## FORMATING\n",
    "    score_df[['TP','FN','FP','Support']] = score_df[['TP','FN','FP','Support']].applymap('{:.0f}'.format)\n",
    "    score_df[['F1','F1_Weighted']] = score_df[['F1','F1_Weighted']].applymap('{:.2f}%'.format)\n",
    "    \n",
    "    \n",
    "    return score_df"
   ]
  },
  {
   "cell_type": "markdown",
   "id": "69ece2c1",
   "metadata": {},
   "source": [
    "### Building F1 report"
   ]
  },
  {
   "cell_type": "code",
   "execution_count": 98,
   "id": "74444e77",
   "metadata": {
    "ExecuteTime": {
     "end_time": "2022-03-13T18:08:16.948553Z",
     "start_time": "2022-03-13T18:08:16.415848Z"
    },
    "scrolled": true
   },
   "outputs": [
    {
     "data": {
      "text/html": [
       "<div>\n",
       "<style scoped>\n",
       "    .dataframe tbody tr th:only-of-type {\n",
       "        vertical-align: middle;\n",
       "    }\n",
       "\n",
       "    .dataframe tbody tr th {\n",
       "        vertical-align: top;\n",
       "    }\n",
       "\n",
       "    .dataframe thead th {\n",
       "        text-align: right;\n",
       "    }\n",
       "</style>\n",
       "<table border=\"1\" class=\"dataframe\">\n",
       "  <thead>\n",
       "    <tr style=\"text-align: right;\">\n",
       "      <th></th>\n",
       "      <th>class</th>\n",
       "      <th>predictionstring_pred</th>\n",
       "      <th>id</th>\n",
       "      <th>predictionstring_true</th>\n",
       "      <th>score</th>\n",
       "    </tr>\n",
       "  </thead>\n",
       "  <tbody>\n",
       "    <tr>\n",
       "      <th>0</th>\n",
       "      <td>Lead</td>\n",
       "      <td>0</td>\n",
       "      <td>E6870101D8EE</td>\n",
       "      <td>NaN</td>\n",
       "      <td>FP</td>\n",
       "    </tr>\n",
       "    <tr>\n",
       "      <th>1</th>\n",
       "      <td>Evidence</td>\n",
       "      <td>1 2 3 4 5 6 7 8 9 10 11 12 13 14 15 16 17 18 1...</td>\n",
       "      <td>E6870101D8EE</td>\n",
       "      <td>0 1 2 3 4 5 6 7 8 9 10 11 12 13 14 15 16 17 18...</td>\n",
       "      <td>TP</td>\n",
       "    </tr>\n",
       "    <tr>\n",
       "      <th>2</th>\n",
       "      <td>Evidence</td>\n",
       "      <td>1 2 3 4 5 6 7 8 9 10 11 12 13 14 15 16 17 18 1...</td>\n",
       "      <td>E6870101D8EE</td>\n",
       "      <td>110 111 112 113 114 115 116 117 118 119 120 12...</td>\n",
       "      <td>FP</td>\n",
       "    </tr>\n",
       "    <tr>\n",
       "      <th>3</th>\n",
       "      <td>Evidence</td>\n",
       "      <td>1 2 3 4 5 6 7 8 9 10 11 12 13 14 15 16 17 18 1...</td>\n",
       "      <td>E6870101D8EE</td>\n",
       "      <td>227 228 229 230 231 232 233 234 235 236 237 23...</td>\n",
       "      <td>FP</td>\n",
       "    </tr>\n",
       "    <tr>\n",
       "      <th>4</th>\n",
       "      <td>Evidence</td>\n",
       "      <td>121 122 123 124 125 126 127 128 129 130 131 13...</td>\n",
       "      <td>E6870101D8EE</td>\n",
       "      <td>0 1 2 3 4 5 6 7 8 9 10 11 12 13 14 15 16 17 18...</td>\n",
       "      <td>FP</td>\n",
       "    </tr>\n",
       "  </tbody>\n",
       "</table>\n",
       "</div>"
      ],
      "text/plain": [
       "      class                              predictionstring_pred            id  \\\n",
       "0      Lead                                                  0  E6870101D8EE   \n",
       "1  Evidence  1 2 3 4 5 6 7 8 9 10 11 12 13 14 15 16 17 18 1...  E6870101D8EE   \n",
       "2  Evidence  1 2 3 4 5 6 7 8 9 10 11 12 13 14 15 16 17 18 1...  E6870101D8EE   \n",
       "3  Evidence  1 2 3 4 5 6 7 8 9 10 11 12 13 14 15 16 17 18 1...  E6870101D8EE   \n",
       "4  Evidence  121 122 123 124 125 126 127 128 129 130 131 13...  E6870101D8EE   \n",
       "\n",
       "                               predictionstring_true score  \n",
       "0                                                NaN    FP  \n",
       "1  0 1 2 3 4 5 6 7 8 9 10 11 12 13 14 15 16 17 18...    TP  \n",
       "2  110 111 112 113 114 115 116 117 118 119 120 12...    FP  \n",
       "3  227 228 229 230 231 232 233 234 235 236 237 23...    FP  \n",
       "4  0 1 2 3 4 5 6 7 8 9 10 11 12 13 14 15 16 17 18...    FP  "
      ]
     },
     "execution_count": 98,
     "metadata": {},
     "output_type": "execute_result"
    }
   ],
   "source": [
    "#Merge true_df and pred_df to get all possible matches\n",
    "merged_df = pred_df.merge(true_df,how = 'outer',on=['id','class'],suffixes=('_pred','_true'))\n",
    "merged_df['score'] = scoring_vect(merged_df.predictionstring_true,\n",
    "                                  merged_df.predictionstring_pred) # apply scoring func to determine for each\n",
    "                                                                    # pred if it FP,FN,TP\n",
    "merged_df.head()"
   ]
  },
  {
   "cell_type": "code",
   "execution_count": 99,
   "id": "88eed805",
   "metadata": {
    "ExecuteTime": {
     "end_time": "2022-03-13T18:08:17.632438Z",
     "start_time": "2022-03-13T18:08:17.343049Z"
    }
   },
   "outputs": [
    {
     "name": "stdout",
     "output_type": "stream",
     "text": [
      "F1 Macro Score = 32.20%\n",
      "F1 Micro Score = 24.24%\n",
      "F1 Weighted Score = 28.80%\n"
     ]
    },
    {
     "data": {
      "text/html": [
       "<div>\n",
       "<style scoped>\n",
       "    .dataframe tbody tr th:only-of-type {\n",
       "        vertical-align: middle;\n",
       "    }\n",
       "\n",
       "    .dataframe tbody tr th {\n",
       "        vertical-align: top;\n",
       "    }\n",
       "\n",
       "    .dataframe thead th {\n",
       "        text-align: right;\n",
       "    }\n",
       "</style>\n",
       "<table border=\"1\" class=\"dataframe\">\n",
       "  <thead>\n",
       "    <tr style=\"text-align: right;\">\n",
       "      <th></th>\n",
       "      <th>TP</th>\n",
       "      <th>FP</th>\n",
       "      <th>FN</th>\n",
       "      <th>F1</th>\n",
       "      <th>Support</th>\n",
       "      <th>F1_Weighted</th>\n",
       "    </tr>\n",
       "    <tr>\n",
       "      <th>class</th>\n",
       "      <th></th>\n",
       "      <th></th>\n",
       "      <th></th>\n",
       "      <th></th>\n",
       "      <th></th>\n",
       "      <th></th>\n",
       "    </tr>\n",
       "  </thead>\n",
       "  <tbody>\n",
       "    <tr>\n",
       "      <th>Claim</th>\n",
       "      <td>886</td>\n",
       "      <td>12656</td>\n",
       "      <td>15</td>\n",
       "      <td>12.27%</td>\n",
       "      <td>3412</td>\n",
       "      <td>3.49%</td>\n",
       "    </tr>\n",
       "    <tr>\n",
       "      <th>Concluding_Statement</th>\n",
       "      <td>208</td>\n",
       "      <td>1565</td>\n",
       "      <td>17</td>\n",
       "      <td>20.82%</td>\n",
       "      <td>1346</td>\n",
       "      <td>2.34%</td>\n",
       "    </tr>\n",
       "    <tr>\n",
       "      <th>Counterclaim</th>\n",
       "      <td>90</td>\n",
       "      <td>1228</td>\n",
       "      <td>22</td>\n",
       "      <td>12.59%</td>\n",
       "      <td>542</td>\n",
       "      <td>0.57%</td>\n",
       "    </tr>\n",
       "    <tr>\n",
       "      <th>Evidence</th>\n",
       "      <td>2195</td>\n",
       "      <td>14882</td>\n",
       "      <td>0</td>\n",
       "      <td>22.78%</td>\n",
       "      <td>3792</td>\n",
       "      <td>7.20%</td>\n",
       "    </tr>\n",
       "    <tr>\n",
       "      <th>Lead</th>\n",
       "      <td>913</td>\n",
       "      <td>288</td>\n",
       "      <td>19</td>\n",
       "      <td>85.61%</td>\n",
       "      <td>963</td>\n",
       "      <td>6.87%</td>\n",
       "    </tr>\n",
       "    <tr>\n",
       "      <th>Position</th>\n",
       "      <td>899</td>\n",
       "      <td>1013</td>\n",
       "      <td>53</td>\n",
       "      <td>62.78%</td>\n",
       "      <td>1535</td>\n",
       "      <td>8.04%</td>\n",
       "    </tr>\n",
       "    <tr>\n",
       "      <th>Rebuttal</th>\n",
       "      <td>46</td>\n",
       "      <td>959</td>\n",
       "      <td>22</td>\n",
       "      <td>8.57%</td>\n",
       "      <td>402</td>\n",
       "      <td>0.29%</td>\n",
       "    </tr>\n",
       "    <tr>\n",
       "      <th>Total</th>\n",
       "      <td>5237</td>\n",
       "      <td>32591</td>\n",
       "      <td>148</td>\n",
       "      <td>32.20%</td>\n",
       "      <td>11992</td>\n",
       "      <td>28.80%</td>\n",
       "    </tr>\n",
       "  </tbody>\n",
       "</table>\n",
       "</div>"
      ],
      "text/plain": [
       "                        TP     FP   FN      F1 Support F1_Weighted\n",
       "class                                                             \n",
       "Claim                  886  12656   15  12.27%    3412       3.49%\n",
       "Concluding_Statement   208   1565   17  20.82%    1346       2.34%\n",
       "Counterclaim            90   1228   22  12.59%     542       0.57%\n",
       "Evidence              2195  14882    0  22.78%    3792       7.20%\n",
       "Lead                   913    288   19  85.61%     963       6.87%\n",
       "Position               899   1013   53  62.78%    1535       8.04%\n",
       "Rebuttal                46    959   22   8.57%     402       0.29%\n",
       "Total                 5237  32591  148  32.20%   11992      28.80%"
      ]
     },
     "execution_count": 99,
     "metadata": {},
     "output_type": "execute_result"
    },
    {
     "data": {
      "image/png": "[encoded data removed]",
      "text/plain": [
       "<Figure size 432x288 with 1 Axes>"
      ]
     },
     "metadata": {
      "needs_background": "light"
     },
     "output_type": "display_data"
    }
   ],
   "source": [
    "f1_report = scores_df(merged_df)\n",
    "f1_report"
   ]
  },
  {
   "cell_type": "markdown",
   "id": "2fe56a67",
   "metadata": {},
   "source": [
    "## Confusion matrix"
   ]
  },
  {
   "cell_type": "code",
   "execution_count": 69,
   "id": "0edffa7e",
   "metadata": {
    "ExecuteTime": {
     "end_time": "2022-03-13T17:35:11.322232Z",
     "start_time": "2022-03-13T17:35:11.288974Z"
    }
   },
   "outputs": [],
   "source": [
    "def show_confusion_matrix(y_true,y_pred):\n",
    "    \"\"\"\n",
    "    Plots a confusion matrix.\n",
    "\n",
    "    Args:\n",
    "        y_true (np.array): targets of shape (None, 1024)\n",
    "        y_pred (np.array): targets predicted of shape (None, 1024)\n",
    "    \"\"\"\n",
    "\n",
    "    reversed_mapping = {\n",
    "                        0: 'Lead',\n",
    "                        1: 'Position',\n",
    "                        2: 'Evidence',\n",
    "                        3: 'Claim',\n",
    "                        4: 'Concluding_Statement',\n",
    "                        5: 'Counterclaim',\n",
    "                        6: 'Rebuttal',\n",
    "                        7: 'Lead',\n",
    "                        8: 'Position',\n",
    "                        9: 'Evidence',\n",
    "                        10: 'Claim',\n",
    "                        11: 'Concluding_Statement',\n",
    "                        12: 'Counterclaim',\n",
    "                        13: 'Rebuttal',\n",
    "                        14: 'O',\n",
    "                        15: 'PAD'}\n",
    "    \n",
    "    y_true_flat = [reversed_mapping[y] for y in y_true.flatten()]\n",
    "    y_pred_flat = [reversed_mapping[y] for y in y_pred.flatten()]\n",
    "    \n",
    "    LABELS = ['Lead','Position','Claim','Counterclaim','Rebuttal','Evidence','Concluding_Statement','O','PAD']\n",
    "\n",
    "    cfn = confusion_matrix(y_true_flat,y_pred_flat,labels=LABELS)\n",
    "    \n",
    "    fig,ax = plt.subplots(1,1,figsize=(10,10))\n",
    "    plt.title('Confusion Matrix',size=18,pad=20)\n",
    "    sns.heatmap(cfn/np.sum(cfn,axis=0)*100,cmap='Blues',annot = True,fmt='.2f',annot_kws={'size':10},ax=ax);\n",
    "    plt.xticks(np.arange(len(LABELS))+.5,LABELS,rotation = 90,size=12);\n",
    "    plt.yticks(np.arange(len(LABELS))+.5,LABELS,rotation = 0,size=12);\n",
    "    plt.xlabel('PREDICTED',size=16);\n",
    "    plt.ylabel('ACTUAL',size=16);\n",
    "    for t in ax.texts: t.set_text(t.get_text() + \" %\")\n",
    "    \n",
    "    plt.show()"
   ]
  },
  {
   "cell_type": "code",
   "execution_count": 70,
   "id": "55ecfde3",
   "metadata": {
    "ExecuteTime": {
     "end_time": "2022-03-13T17:35:18.982458Z",
     "start_time": "2022-03-13T17:35:13.480942Z"
    }
   },
   "outputs": [
    {
     "data": {
      "image/png": "[encoded data removed]",
      "text/plain": [
       "<Figure size 720x720 with 2 Axes>"
      ]
     },
     "metadata": {
      "needs_background": "light"
     },
     "output_type": "display_data"
    }
   ],
   "source": [
    "show_confusion_matrix(true,preds)"
   ]
  },
  {
   "cell_type": "markdown",
   "id": "62c23a44",
   "metadata": {},
   "source": [
    "## Visualize"
   ]
  },
  {
   "cell_type": "markdown",
   "id": "55574370",
   "metadata": {},
   "source": [
    "### Match predictionstring and text"
   ]
  },
  {
   "cell_type": "code",
   "execution_count": 100,
   "id": "6099ba8b",
   "metadata": {
    "ExecuteTime": {
     "end_time": "2022-03-13T18:08:48.381946Z",
     "start_time": "2022-03-13T18:08:48.373189Z"
    }
   },
   "outputs": [],
   "source": [
    "def get_essay(id_,mode='train'):\n",
    "    \"\"\"Function to get the full text of an essay from the .txt file.\n",
    "\n",
    "    Args:\n",
    "        id_ (str): id of the essay\n",
    "        mode (str, optional): determines whether to access *train* or *test* texts. \\\n",
    "        Defaults to 'train'.\n",
    "\n",
    "    Returns:\n",
    "        str: Returns the full text of the id\n",
    "    \"\"\"\n",
    "    with open(os.path.join('../../raw_data',mode,f'{id_}.txt'),'r') as file:\n",
    "        txt = file.read()\n",
    "    return txt.strip()"
   ]
  },
  {
   "cell_type": "code",
   "execution_count": 101,
   "id": "3d6b6472",
   "metadata": {
    "ExecuteTime": {
     "end_time": "2022-03-13T18:08:52.940608Z",
     "start_time": "2022-03-13T18:08:50.884991Z"
    }
   },
   "outputs": [],
   "source": [
    "#retrie the full text of the essay\n",
    "pred_df['text']=pred_df['id'].apply(get_essay)\n",
    "true_df['text']=true_df['id'].apply(get_essay)"
   ]
  },
  {
   "cell_type": "code",
   "execution_count": 102,
   "id": "b9d24d63",
   "metadata": {
    "ExecuteTime": {
     "end_time": "2022-03-13T18:08:53.089756Z",
     "start_time": "2022-03-13T18:08:53.073243Z"
    }
   },
   "outputs": [],
   "source": [
    "#creating a function that will slice the full essay text from predictionstring\n",
    "\n",
    "def slicer(text,idx_first_word,idx_last_word):\n",
    "    text = text.split()\n",
    "    if idx_first_word==0:\n",
    "        return ' '.join(text[:idx_last_word+1])\n",
    "    return ' '.join(text[idx_first_word:idx_last_word+1])\n",
    "    \n",
    "slicer_vect=np.vectorize(slicer) #vectorize"
   ]
  },
  {
   "cell_type": "code",
   "execution_count": 103,
   "id": "d6b65823",
   "metadata": {
    "ExecuteTime": {
     "end_time": "2022-03-13T18:08:54.003874Z",
     "start_time": "2022-03-13T18:08:53.840451Z"
    }
   },
   "outputs": [],
   "source": [
    "## utilities columns to get first and last word index for each discourse\n",
    "pred_df['first_word'] = pred_df['predictionstring'].apply(lambda txt : txt.split()[0]).astype(int,errors='ignore')\n",
    "pred_df['last_word'] = pred_df['predictionstring'].apply(lambda txt : txt.split()[-1]).astype(int,errors='ignore')\n",
    "true_df['first_word'] = true_df['predictionstring'].apply(lambda txt : txt.split()[0]).astype(int,errors='ignore')\n",
    "true_df['last_word'] = true_df['predictionstring'].apply(lambda txt : txt.split()[-1]).astype(int,errors='ignore')\n"
   ]
  },
  {
   "cell_type": "code",
   "execution_count": 104,
   "id": "3a8969c0",
   "metadata": {
    "ExecuteTime": {
     "end_time": "2022-03-13T18:08:54.396491Z",
     "start_time": "2022-03-13T18:08:54.369953Z"
    }
   },
   "outputs": [],
   "source": [
    "pred_df.reset_index(inplace=True,drop=True)\n",
    "idx_to_drop= pred_df.index[(pred_df['first_word']=='None')|(pred_df['last_word']=='None')]\n",
    "pred_df.drop(idx_to_drop,inplace=True)\n",
    "\n",
    "pred_df['first_word']=pred_df['first_word'].astype(int)\n",
    "pred_df['last_word']=pred_df['last_word'].astype(int)\n",
    "true_df['first_word']=true_df['first_word'].astype(int)\n",
    "true_df['last_word']=true_df['last_word'].astype(int)"
   ]
  },
  {
   "cell_type": "code",
   "execution_count": 105,
   "id": "0f217aac",
   "metadata": {
    "ExecuteTime": {
     "end_time": "2022-03-13T18:08:56.488971Z",
     "start_time": "2022-03-13T18:08:54.822546Z"
    }
   },
   "outputs": [],
   "source": [
    "pred_df['discourse_text']=slicer_vect(pred_df['text'],pred_df['first_word'],pred_df['last_word'])\n",
    "true_df['discourse_text']=slicer_vect(true_df['text'],true_df['first_word'],true_df['last_word'])"
   ]
  },
  {
   "cell_type": "markdown",
   "id": "fcd0701c",
   "metadata": {},
   "source": [
    "### Build HTLM dataframe for visualization purposes"
   ]
  },
  {
   "cell_type": "code",
   "execution_count": 106,
   "id": "2f00a2dd",
   "metadata": {
    "ExecuteTime": {
     "end_time": "2022-03-13T18:08:57.117104Z",
     "start_time": "2022-03-13T18:08:57.072421Z"
    }
   },
   "outputs": [],
   "source": [
    "#keep only columns of interest\n",
    "pred_df.drop(['predictionstring','text','first_word','last_word'],axis=1,inplace=True)\n",
    "true_df.drop(['predictionstring','text','first_word','last_word'],axis=1,inplace=True)"
   ]
  },
  {
   "cell_type": "code",
   "execution_count": 107,
   "id": "9a33a021",
   "metadata": {
    "ExecuteTime": {
     "end_time": "2022-03-13T18:08:57.507984Z",
     "start_time": "2022-03-13T18:08:57.504456Z"
    }
   },
   "outputs": [],
   "source": [
    "def render_html(df):\n",
    "    return \"<{0} style='padding: 2px'>{1} <strong> [{0}] </strong></{0}>\".format(df['class'],df['discourse_text'])"
   ]
  },
  {
   "cell_type": "code",
   "execution_count": 108,
   "id": "e8b5ced7",
   "metadata": {
    "ExecuteTime": {
     "end_time": "2022-03-13T18:08:57.848491Z",
     "start_time": "2022-03-13T18:08:57.845473Z"
    }
   },
   "outputs": [],
   "source": [
    "def render_html_light(df):\n",
    "    return \"<{0} style='padding: 2px'>{1} </{0}>\".format(df['class'],df['discourse_text'].strip())"
   ]
  },
  {
   "cell_type": "code",
   "execution_count": 109,
   "id": "e8fdfeba",
   "metadata": {
    "ExecuteTime": {
     "end_time": "2022-03-13T18:08:58.557436Z",
     "start_time": "2022-03-13T18:08:58.155175Z"
    }
   },
   "outputs": [],
   "source": [
    "#apply html function\n",
    "true_df['html'] = true_df.apply(render_html_light,axis=1)\n",
    "pred_df['html'] = pred_df.apply(render_html_light,axis=1)"
   ]
  },
  {
   "cell_type": "code",
   "execution_count": 110,
   "id": "4a4d20ef",
   "metadata": {
    "ExecuteTime": {
     "end_time": "2022-03-13T18:08:58.692895Z",
     "start_time": "2022-03-13T18:08:58.657616Z"
    }
   },
   "outputs": [],
   "source": [
    "#group by essay \n",
    "true_essays = true_df.groupby('id').agg({'html':' '.join,}).reset_index()\n",
    "pred_essays = pred_df.groupby('id').agg({'html':' '.join,}).reset_index()"
   ]
  },
  {
   "cell_type": "markdown",
   "id": "0d14ad70",
   "metadata": {},
   "source": [
    "### Visualize random essays across the test split"
   ]
  },
  {
   "cell_type": "code",
   "execution_count": 111,
   "id": "05a76446",
   "metadata": {
    "ExecuteTime": {
     "end_time": "2022-03-13T18:08:59.463555Z",
     "start_time": "2022-03-13T18:08:59.456357Z"
    }
   },
   "outputs": [
    {
     "data": {
      "text/html": [
       "<style>\n",
       ".column {\n",
       "  float: left;\n",
       "  width: 50%;\n",
       "  /*margin-top:10px;*/\n",
       "  border-right: 2px dotted black;\n",
       "  text-align:justify;\n",
       "  }\n",
       ".column:first-child {\n",
       "  padding-right:16px;\n",
       "  padding-left:0px;\n",
       "  }\n",
       "\n",
       ".column:last-child {\n",
       "  padding-right:0px;\n",
       "  padding-left:15px;\n",
       "  border: none;\n",
       "  }\n",
       "\n",
       ".row:after {\n",
       "  content: \"\";\n",
       "  display: table;\n",
       "  clear: both;\n",
       "  text-align:left\n",
       "  }\n",
       "\n",
       ".title {\n",
       "  text-align:center;\n",
       "  padding-bottom: 15px;\n",
       "  padding-top: 0;\n",
       "  margin-top: 0;\n",
       "  border-bottom: 2px dotted black\n",
       " }\n",
       "\n",
       "\n",
       "div.content > * {\n",
       "  text-align: center;\n",
       "  font-weight: bold;\n",
       "  padding-right: 10px;\n",
       "  padding-left: 10px;\n",
       "  padding-top: 5px ;\n",
       "  padding-bottom:5px;\n",
       " }\n",
       "\n",
       ".content {\n",
       "  display:flex;\n",
       "  justify-content:space-evenly;\n",
       "  margin: 0px auto;\n",
       "  margin-bottom: 5p;\n",
       "  background: #FFFFFF;\n",
       "  padding-block: 10px;\n",
       "  max-width:auto;\n",
       "  border: 2px solid black;\n",
       "  }\n",
       "\n",
       "/*styles for each discourse type*/\n",
       "\n",
       "Lead {\n",
       "    background-color:#ff8585;\n",
       "  }\n",
       "Position {\n",
       "  background-color: #7cf0ff;\n",
       "  }\n",
       "Evidence {\n",
       "  background-color: #badcfc;\n",
       "  }\n",
       "Claim {\n",
       "  background-color: #3a3dff;\n",
       "  }\n",
       "Concluding_Statement {\n",
       "  background-color: #ff7df9;\n",
       "  }\n",
       "Counterclaim {\n",
       "  background-color: #4d92e0;\n",
       "  }\n",
       "Rebuttal {\n",
       "  background-color: #ffd57c;\n",
       "  }\n",
       "</style>"
      ],
      "text/plain": [
       "<IPython.core.display.HTML object>"
      ]
     },
     "execution_count": 111,
     "metadata": {},
     "output_type": "execute_result"
    }
   ],
   "source": [
    "def css():\n",
    "    styles = open(\"./styles/custom.css\", \"r\").read()\n",
    "    return HTML('<style>'+styles+'</style>')\n",
    "css()"
   ]
  },
  {
   "cell_type": "code",
   "execution_count": 112,
   "id": "f9c1a3ea",
   "metadata": {
    "ExecuteTime": {
     "end_time": "2022-03-13T18:09:00.069398Z",
     "start_time": "2022-03-13T18:09:00.064736Z"
    }
   },
   "outputs": [],
   "source": [
    "def comparison_text(prediction, ground_truth):\n",
    "    html = f\"\"\"\n",
    "    <div class=\"content\">\n",
    "     <span style=\"font-size:16px\">Legend --></span>\n",
    "      <lead>Lead</lead>\n",
    "      <Position>Position</Position>\n",
    "      <Claim>Claim</Claim>\n",
    "      <Counterclaim>Counterclaim</Counterclaim>\n",
    "      <Rebuttal>Rebuttal</Rebuttal>\n",
    "      <Evidence>Evidence</Evidence>\n",
    "      <Concluding_Statement>Concluding_Statement</Concluding_Statement>\n",
    "    </div>\n",
    "\n",
    "    <div class=\"row\">\n",
    "      <div class=\"column\">\n",
    "        <h2 class=\"title\">Prediction</h2>\n",
    "        <p style=\"text-align:justify\">{prediction}</p>\n",
    "      </div>\n",
    "      <div class=\"column\">\n",
    "        <h2 class=\"title\">Ground Truth</h2>\n",
    "        <p style=\"text-align:justify\">{ground_truth}</p>\n",
    "      </div>\n",
    "    </div>\n",
    "    \n",
    "    \"\"\"\n",
    "    \n",
    "    return HTML(html)"
   ]
  },
  {
   "cell_type": "code",
   "execution_count": 113,
   "id": "30380db0",
   "metadata": {
    "ExecuteTime": {
     "end_time": "2022-03-13T18:09:08.528717Z",
     "start_time": "2022-03-13T18:09:08.462017Z"
    },
    "scrolled": false
   },
   "outputs": [
    {
     "data": {
      "text/html": [
       "\n",
       "    <div class=\"content\">\n",
       "     <span style=\"font-size:16px\">Legend --></span>\n",
       "      <lead>Lead</lead>\n",
       "      <Position>Position</Position>\n",
       "      <Claim>Claim</Claim>\n",
       "      <Counterclaim>Counterclaim</Counterclaim>\n",
       "      <Rebuttal>Rebuttal</Rebuttal>\n",
       "      <Evidence>Evidence</Evidence>\n",
       "      <Concluding_Statement>Concluding_Statement</Concluding_Statement>\n",
       "    </div>\n",
       "\n",
       "    <div class=\"row\">\n",
       "      <div class=\"column\">\n",
       "        <h2 class=\"title\">Prediction</h2>\n",
       "        <p style=\"text-align:justify\"><Lead style='padding: 2px'>Car </Lead> <Evidence style='padding: 2px'>usage in the United States has gone down by nine percent since 2005. But we are not the only ones who have limited ourselves to decrease air pollution. Large cities around the world like Paris and Vauban have insistuted car free days to help keep the air clean. Carpooling or even riding a bicycle has become more and more popular. People are no longer desiring to live in suburban areas, they want to be near the city. They are becoming more active and less stressed. Limited car usage has caused people venture </Evidence> <Claim style='padding: 2px'>away from their normal actvities and try new things. Driving deprives you of the beauty of civilization. </Claim> <Position style='padding: 2px'>Weather </Position> <Claim style='padding: 2px'>be that your missing the lights and crowded sidewalks </Claim> <Evidence style='padding: 2px'>full of random people in a huge city or small town full of trees and land marks, you are missin tout. You can not enjoy the air and sounds or all of the sights in your car through the windows. One Columbian ,Carlos Arturo, states that car free days are a good opportunity to take away stress. Taking a breahe of fresh air every now and again is exremely nessicary but we what will we do when we have polluted the air so much that there is no more fresh air left to take in? Limited car usage would also encorage people to be more active. They would have to walk eberywhere they wanted </Evidence> <Claim style='padding: 2px'>go. This would possibly decrease America's obesity rates. \"Parks and sports centers </Claim> <Evidence style='padding: 2px'>also have bloomed throughout the city,\" is says in paragraph 28 of source three: Car-free day is spinning into a big hit in Bogota. Having a healthy nation would help with so much more than anone could imagine. </Evidence> <Concluding_Statement style='padding: 2px'> </Concluding_Statement> <Position style='padding: 2px'> </Position></p>\n",
       "      </div>\n",
       "      <div class=\"column\">\n",
       "        <h2 class=\"title\">Ground Truth</h2>\n",
       "        <p style=\"text-align:justify\"><Evidence style='padding: 2px'>Car usage in the United States has gone down by nine percent since 2005. But we are not the only ones who have limited ourselves to decrease air pollution. Large cities around the world like Paris and Vauban have insistuted car free days to help keep the air clean. Carpooling or even riding a bicycle has become more and more popular. People are no longer desiring to live in suburban areas, they want to be near the city. They are becoming more active and less stressed. </Evidence> <Position style='padding: 2px'>Limited car usage has caused people venture away from their normal actvities and try new things. </Position> <Claim style='padding: 2px'>Driving deprives you of the beauty of civilization. </Claim> <Evidence style='padding: 2px'>Weather it be that your missing the lights and crowded sidewalks full of random people in a huge city or small town full of trees and land marks, you are missin tout. You can not enjoy the air and sounds or all of the sights in your car through the windows. One Columbian ,Carlos Arturo, states that car free days are a good opportunity to take away stress. Taking a breahe of fresh air every now and again is exremely nessicary but we what will we do when we have polluted the air so much that there is no more fresh air left to take in? </Evidence> <Claim style='padding: 2px'>Limited car usage would also encorage people to be more active. </Claim> <Evidence style='padding: 2px'>They would have to walk eberywhere they wanted to go. This would possibly decrease America's obesity rates. \"Parks and sports centers also have bloomed throughout the city,\" is says in paragraph 28 of source three: Car-free day is spinning into a big hit in Bogota. Having a healthy nation would help with so much more than anone could imagine. </Evidence></p>\n",
       "      </div>\n",
       "    </div>\n",
       "    \n",
       "    "
      ],
      "text/plain": [
       "<IPython.core.display.HTML object>"
      ]
     },
     "metadata": {},
     "output_type": "display_data"
    },
    {
     "data": {
      "text/html": [
       "\n",
       "    <div class=\"content\">\n",
       "     <span style=\"font-size:16px\">Legend --></span>\n",
       "      <lead>Lead</lead>\n",
       "      <Position>Position</Position>\n",
       "      <Claim>Claim</Claim>\n",
       "      <Counterclaim>Counterclaim</Counterclaim>\n",
       "      <Rebuttal>Rebuttal</Rebuttal>\n",
       "      <Evidence>Evidence</Evidence>\n",
       "      <Concluding_Statement>Concluding_Statement</Concluding_Statement>\n",
       "    </div>\n",
       "\n",
       "    <div class=\"row\">\n",
       "      <div class=\"column\">\n",
       "        <h2 class=\"title\">Prediction</h2>\n",
       "        <p style=\"text-align:justify\"><Lead style='padding: 2px'>Often times, when we're looking for advice we talk to multiple people, why is that? When your looking for advice or a solution to a problem, do you talk to more than one person? If so, did that lead to a better result? In my experience talking to multiple people about a problem proved to be a good idea. I believe seeking multiple opinions can help someone make </Lead> <Position style='padding: 2px'>a better choice because of people's experiences, perspectives, and backgrounds. First off, </Position> <Claim style='padding: 2px'>why you should seek multiple opinions when trying to make a good choice are people's experiences. People's experiences shape who they are, and determine how they respond to certain situations. Different people have </Claim> <Evidence style='padding: 2px'>experiences, leading to different responses. Someone who has ran into your situation before will most likely give better advice than someone who's never been in that situation. People tell you to respect your elders because of all the experiences they've had, older people probably have a lot of solutions to problems you may have. Secondly, another reason why you should talk to multiple people about a situation are perspectives. Every person has an unique perspective, influenced by their past experiences or current </Evidence> <Claim style='padding: 2px'>twenty </Claim> <Evidence style='padding: 2px'>year old, their perspectives would be very different. Everybody looks at a situation from a different perspective, and that can prove useful when you're looking for advice. The way someone comprehends a situation can be heavily influenced by their perspective. Lastly, there are people's backgrounds. Someone's background is made up of many different things including ethnicity, religion, or culture. Across cultures situations can be interpreted and handled differently, so someone's background can impact their interpretations of situations or problems. All this can lead to advice you wouldn't get from your own background. Someone's background plays a role in the first to things I mentioned, experience and perspective. People's unique backgrounds can give them unique experiences and perspectives, that might differ from your own. In conclusion, there are many benefits to seeking multiple opinions when trying to make a good choice, and there are many things that can have an impact on the advice people may give you. If you didn't ask others for advice, you would only have your own knowledge to deal with your problems, instead of the world of knowledge at your disposal. </Evidence> <Concluding_Statement style='padding: 2px'>opinions from multiple people because of people's unique experiences, perspectives, and backgrounds. </Concluding_Statement></p>\n",
       "      </div>\n",
       "      <div class=\"column\">\n",
       "        <h2 class=\"title\">Ground Truth</h2>\n",
       "        <p style=\"text-align:justify\"><Lead style='padding: 2px'>Often times, when we're looking for advice we talk to multiple people, why is that? When your looking for advice or a solution to a problem, do you talk to more than one person? If so, did that lead to a better result? In my experience talking to multiple people about a problem proved to be a good idea. </Lead> <Position style='padding: 2px'>I believe seeking multiple opinions can help someone make a better choice </Position> <Claim style='padding: 2px'>people's experiences, perspectives, and backgrounds. </Claim> <Evidence style='padding: 2px'>People's experiences shape who they are, and determine how they respond to certain situations. Different people have different experiences, leading to different responses. Someone who has ran into your situation before will most likely give better advice than someone who's never been in that situation. People tell you to respect your elders because of all the experiences they've had, older people probably have a lot of solutions to problems you may have. Secondly, another reason why you should talk to multiple people about a situation are perspectives. Every person has an unique perspective, influenced by their past experiences or current situation. For example, if two people went to the store, a three year old and a twenty one year old, their perspectives would be very different. Everybody looks at a situation from a different perspective, and that can prove useful when you're looking for advice. The way someone comprehends a situation can be heavily influenced by their perspective. Lastly, there are people's backgrounds. Someone's background is made up of many different things including ethnicity, religion, or culture. Across cultures situations can be interpreted and handled differently, so someone's background can impact their interpretations of situations or problems. All this can lead to advice you wouldn't get from your own background. Someone's background plays a role in the first to things I mentioned, experience and perspective. People's unique backgrounds can give them unique experiences and perspectives, that might differ from your own. </Evidence> <Concluding_Statement style='padding: 2px'>there are many benefits to seeking multiple opinions when trying to make a good choice, and there are many things that can have an impact on the advice people may give you. If you didn't ask others for advice, you would only have your own knowledge to deal with your problems, instead of the world of knowledge at your disposal. I believe you should seek opinions from multiple people because of people's unique experiences, perspectives, and backgrounds. </Concluding_Statement></p>\n",
       "      </div>\n",
       "    </div>\n",
       "    \n",
       "    "
      ],
      "text/plain": [
       "<IPython.core.display.HTML object>"
      ]
     },
     "metadata": {},
     "output_type": "display_data"
    },
    {
     "data": {
      "text/html": [
       "\n",
       "    <div class=\"content\">\n",
       "     <span style=\"font-size:16px\">Legend --></span>\n",
       "      <lead>Lead</lead>\n",
       "      <Position>Position</Position>\n",
       "      <Claim>Claim</Claim>\n",
       "      <Counterclaim>Counterclaim</Counterclaim>\n",
       "      <Rebuttal>Rebuttal</Rebuttal>\n",
       "      <Evidence>Evidence</Evidence>\n",
       "      <Concluding_Statement>Concluding_Statement</Concluding_Statement>\n",
       "    </div>\n",
       "\n",
       "    <div class=\"row\">\n",
       "      <div class=\"column\">\n",
       "        <h2 class=\"title\">Prediction</h2>\n",
       "        <p style=\"text-align:justify\"><Position style='padding: 2px'>I agree, students should participate in after school activities because </Position> <Claim style='padding: 2px'>a way to express yourself and to get know other people, there is a big chance that you could make many friends as well. First, I believe that if you participate in an after school activity it will make your mental health and physical health better. For example, football is a very </Claim> <Evidence style='padding: 2px'>active sport, you can get a lot of exercise out of playing the game, doing drills or even just going over the plays, It tests you in a physical and mental way. What if thats just not your thing, you could go for robotics, it will challenge how well you are with your hands by putting intricate things together or even coding the robots or the project your working on. Maybe you just want a relaxing activity, there is a program called base, it helps students study by providing a nice, quit, and relaxing environment, you are allowed to talk to other people around you but the volume must stay low. Secondly, instead of all the activities, you are also allowed to stay after school with your teachers, make up some work, </Evidence> <Claim style='padding: 2px'>quiz/test, or do some community service for them, there is a place for everyone at after school. Lastly, after school is open to anyone who wants to come, we will gladly welcome you with open arms, if you </Claim> <Evidence style='padding: 2px'>have any questions about where to go </Evidence> <Claim style='padding: 2px'>or </Claim> <Evidence style='padding: 2px'>even </Evidence> <Claim style='padding: 2px'>stay after school, you can ask the front desk, or your teachers for </Claim> <Evidence style='padding: 2px'>more information. The news will have </Evidence> <Claim style='padding: 2px'>announcements </Claim> <Evidence style='padding: 2px'>about after school if it will be an all academic day or if after school is canceled it will probably be announced on the news. I feel like everyone should go to after school so everyone can have the same oportonitys to ask teachers if they need help or what they need to do in class to catch up, or even show </Evidence> <Concluding_Statement style='padding: 2px'>the gym teachers how good you are at sports, </Concluding_Statement> <Claim style='padding: 2px'>but always remember that after school should always be a safe and fun environment, and make it as enjoyable for other people as it is for you. </Claim> <Concluding_Statement style='padding: 2px'> </Concluding_Statement></p>\n",
       "      </div>\n",
       "      <div class=\"column\">\n",
       "        <h2 class=\"title\">Ground Truth</h2>\n",
       "        <p style=\"text-align:justify\"><Position style='padding: 2px'>I agree, students should participate in after school activities </Position> <Claim style='padding: 2px'>it's a way to express yourself and to get know other people, there is a big chance that you could make many friends as well. First, I believe that if you participate in an after school activity it will make your mental health and physical health better. </Claim> <Evidence style='padding: 2px'>For example, football is a very active sport, you can get a lot of exercise out of playing the game, doing drills or even just going over the plays, It tests you in a physical and mental way. What if thats just not your thing, you could go for robotics, it will challenge how well you are with your hands by putting intricate things together or even coding the robots or the project your working on. Maybe you just want a relaxing activity, there is a program called base, it helps students study by providing a nice, quit, and relaxing environment, you are allowed to talk to other people around you but the volume must stay low. Secondly, instead of all the activities, you are also allowed to stay after school with your teachers, make up some work, retake a quiz/test, or do some community service for them, </Evidence> <Claim style='padding: 2px'>there is a place for everyone at after school. </Claim> <Evidence style='padding: 2px'>after school is open to anyone who wants to come, we will gladly welcome you with open arms, if you have any questions about where to go or even what teachers stay after school, you can ask the front desk, or your teachers for more information. The news will have announcements about after school if it will be an all academic day or if after school is canceled it will probably be announced on the news. </Evidence> <Claim style='padding: 2px'>should go to after school so everyone can have the same oportonitys to ask teachers if they need help or what they need to do in class to catch up, or even show the gym teachers how good you are at sports, but </Claim> <Concluding_Statement style='padding: 2px'>after school should always be a safe and fun environment, and make it as enjoyable for other people as it is for you. </Concluding_Statement></p>\n",
       "      </div>\n",
       "    </div>\n",
       "    \n",
       "    "
      ],
      "text/plain": [
       "<IPython.core.display.HTML object>"
      ]
     },
     "metadata": {},
     "output_type": "display_data"
    },
    {
     "data": {
      "text/html": [
       "\n",
       "    <div class=\"content\">\n",
       "     <span style=\"font-size:16px\">Legend --></span>\n",
       "      <lead>Lead</lead>\n",
       "      <Position>Position</Position>\n",
       "      <Claim>Claim</Claim>\n",
       "      <Counterclaim>Counterclaim</Counterclaim>\n",
       "      <Rebuttal>Rebuttal</Rebuttal>\n",
       "      <Evidence>Evidence</Evidence>\n",
       "      <Concluding_Statement>Concluding_Statement</Concluding_Statement>\n",
       "    </div>\n",
       "\n",
       "    <div class=\"row\">\n",
       "      <div class=\"column\">\n",
       "        <h2 class=\"title\">Prediction</h2>\n",
       "        <p style=\"text-align:justify\"><Lead style='padding: 2px'>Have you ever thought about participating in a seagoing program. Well Luke Bomberger has. His friend invited him to Europe on a cattle boat. Luke couldn't say no. Readers should join a seegoing program. People can have </Lead> <Position style='padding: 2px'>fun have go on lot's of adventures and </Position> <Claim style='padding: 2px'>lot's of unique places. Seagoing cowboys get to go to a lot of different and unique places by boat. Luke </Claim> <Evidence style='padding: 2px'>he traveled to Europe, China, And he got to see the Acropolis in Greece. In the article he said that the Acropolis in Greece was special. Luke took a tour of an excavated castle in Crete and marveled at the Panama Canal on is way to China. The author of The Cowboy Who Rode the Waves stated that Luke went to Crete to visit and tour the castle and marveled at the Panama canal on his way to China. While on his way to China Luke cared for the animals to keep him busy. The author wrote in the article that Caring for the animals during </Evidence> <Claim style='padding: 2px'>crossings kept Luke busy. Luke fed and watered them at least three times a day. </Claim> <Evidence style='padding: 2px'>A </Evidence> <Claim style='padding: 2px'>seagoing </Claim> <Evidence style='padding: 2px'>has to get hay and oats from the bottom deck of the ship and stalls had to be cleaned. A seagoing Cowboy can have lot's of fun on a boat. They can play baseball, volleyball, and table-tennis when the animals are unloaded from the ship. They can also play fencing, boxing, read, whittling, and games to </Evidence> <Claim style='padding: 2px'>time. Participating in the Seagoing Cowoys program can be lot's of fun. By </Claim> <Evidence style='padding: 2px'>seeing lot's of unique places and buildings . Maybe Readers and other people will join the Seagoing Cowboys program. And you can have lot's of fun with games. While on the booat you can make new friends. </Evidence> <Concluding_Statement style='padding: 2px'> </Concluding_Statement></p>\n",
       "      </div>\n",
       "      <div class=\"column\">\n",
       "        <h2 class=\"title\">Ground Truth</h2>\n",
       "        <p style=\"text-align:justify\"><Lead style='padding: 2px'>Have you ever thought about participating in a seagoing program. Well Luke Bomberger has. His friend invited him to Europe on a cattle boat. Luke couldn't say no. </Lead> <Position style='padding: 2px'>Readers should join a seegoing program. </Position> <Claim style='padding: 2px'>People can have fun have go on lot's of adventures and see lot's of unique places. </Claim> <Evidence style='padding: 2px'>Seagoing cowboys get to go to a lot of different and unique places by boat. Luke said he traveled to Europe, China, And he got to see the Acropolis in Greece. In the article he said that the Acropolis in Greece was special. Luke took a tour of an excavated castle in Crete and marveled at the Panama Canal on is way to China. The author of The Cowboy Who Rode the Waves stated that Luke went to Crete to visit and tour the castle and marveled at the Panama canal on his way to China. </Evidence> <Claim style='padding: 2px'>While on his way to China Luke cared for the animals to keep him busy. </Claim> <Evidence style='padding: 2px'>The author wrote in the article that Caring for the animals during the crossings kept Luke busy. Luke fed and watered them at least three times a day. A seagoing Cowboy has to get hay and oats from the bottom deck of the ship and stalls had to be cleaned. </Evidence> <Claim style='padding: 2px'>A seagoing Cowboy can have lot's of fun on a boat. </Claim> <Evidence style='padding: 2px'>They can play baseball, volleyball, and table-tennis when the animals are unloaded from the ship. They can also play fencing, boxing, read, whittling, and games to pass time. </Evidence> <Concluding_Statement style='padding: 2px'>Participating in the Seagoing Cowoys program can be lot's of fun. By seeing lot's of unique places and buildings . Maybe Readers and other people will join the Seagoing Cowboys program. And you can have lot's of fun with games. While on the booat you can make new friends. </Concluding_Statement></p>\n",
       "      </div>\n",
       "    </div>\n",
       "    \n",
       "    "
      ],
      "text/plain": [
       "<IPython.core.display.HTML object>"
      ]
     },
     "metadata": {},
     "output_type": "display_data"
    },
    {
     "data": {
      "text/html": [
       "\n",
       "    <div class=\"content\">\n",
       "     <span style=\"font-size:16px\">Legend --></span>\n",
       "      <lead>Lead</lead>\n",
       "      <Position>Position</Position>\n",
       "      <Claim>Claim</Claim>\n",
       "      <Counterclaim>Counterclaim</Counterclaim>\n",
       "      <Rebuttal>Rebuttal</Rebuttal>\n",
       "      <Evidence>Evidence</Evidence>\n",
       "      <Concluding_Statement>Concluding_Statement</Concluding_Statement>\n",
       "    </div>\n",
       "\n",
       "    <div class=\"row\">\n",
       "      <div class=\"column\">\n",
       "        <h2 class=\"title\">Prediction</h2>\n",
       "        <p style=\"text-align:justify\"><Position style='padding: 2px'>In the article the author greatly supports the idea of studying Venus and that it will be worthy despite the dangers. In </Position> <Claim style='padding: 2px'>paragraph 8 the author says that striving to meet the challenge presented by Venus has value, not only because of the insight to be gained on the planet itself. Another example is that in paragragh 4 it says that astronomers are fascinated by Venus because it may well once have been the most-earth like planet in our solar system. There are also many dangers that </Claim> <Counterclaim style='padding: 2px'>come </Counterclaim> <Claim style='padding: 2px'>when visiting Venus and they are that a thick </Claim> <Evidence style='padding: 2px'>atmosphere of almost 97 percent carbon dioxide covers Venus. Something that is even more challenging are the clouds of highly corrosive sulfuric acid in Venus's atmosphere. On the planet's surface, temperatures average over 800 degrees Fahrenheit, and the atmospheric pressure is 90 times greater than what we experience on our own planet. Venus has the hottest surface temperature of any planet in our solar system. NASA is working on other approaches to studying venus. One example is using old technology called mechanical computers. Human curiosity wil likely lead us into many equally intimidating endeavors. It is probably good to at least try our best and give it all we got to achieve what we </Evidence> <Concluding_Statement style='padding: 2px'> </Concluding_Statement> <Evidence style='padding: 2px'> </Evidence></p>\n",
       "      </div>\n",
       "      <div class=\"column\">\n",
       "        <h2 class=\"title\">Ground Truth</h2>\n",
       "        <p style=\"text-align:justify\"><Position style='padding: 2px'>In the article the author greatly supports the idea of studying Venus and that it will be worthy despite the dangers. </Position> <Claim style='padding: 2px'>the author says that striving to meet the challenge presented by Venus has value, not only because of the insight to be gained on the planet itself. </Claim> <Evidence style='padding: 2px'>Another example is that in paragragh 4 it says that astronomers are fascinated by Venus because it may well once have been the most-earth like planet in our solar system. </Evidence> <Counterclaim style='padding: 2px'>There are also many dangers that come when visiting Venus </Counterclaim> <Evidence style='padding: 2px'>and they are that a thick atmosphere of almost 97 percent carbon dioxide covers Venus. Something that is even more challenging are the clouds of highly corrosive sulfuric acid in Venus's atmosphere. On the planet's surface, temperatures average over 800 degrees Fahrenheit, and the atmospheric pressure is 90 times greater than what we experience on our own planet. Venus has the hottest surface temperature of any planet in our solar system. </Evidence> <Rebuttal style='padding: 2px'>NASA is working on other approaches to studying venus. </Rebuttal> <Evidence style='padding: 2px'>One example is using old technology called mechanical computers. Human curiosity wil likely lead us into many equally intimidating endeavors. </Evidence> <Concluding_Statement style='padding: 2px'>It is probably good to at least try our best and give it all we got to achieve what we want. </Concluding_Statement></p>\n",
       "      </div>\n",
       "    </div>\n",
       "    \n",
       "    "
      ],
      "text/plain": [
       "<IPython.core.display.HTML object>"
      ]
     },
     "metadata": {},
     "output_type": "display_data"
    },
    {
     "data": {
      "text/html": [
       "\n",
       "    <div class=\"content\">\n",
       "     <span style=\"font-size:16px\">Legend --></span>\n",
       "      <lead>Lead</lead>\n",
       "      <Position>Position</Position>\n",
       "      <Claim>Claim</Claim>\n",
       "      <Counterclaim>Counterclaim</Counterclaim>\n",
       "      <Rebuttal>Rebuttal</Rebuttal>\n",
       "      <Evidence>Evidence</Evidence>\n",
       "      <Concluding_Statement>Concluding_Statement</Concluding_Statement>\n",
       "    </div>\n",
       "\n",
       "    <div class=\"row\">\n",
       "      <div class=\"column\">\n",
       "        <h2 class=\"title\">Prediction</h2>\n",
       "        <p style=\"text-align:justify\"><Lead style='padding: 2px'>Do you think students in school doing extracurricular activities should be required or an option? I </Lead> <Position style='padding: 2px'>believe it should be required because </Position> <Claim style='padding: 2px'>can help students become more social, give them an outlook on being an adult, and give them an activity to do. Students should be required to </Claim> <Evidence style='padding: 2px'>other students, give speeches, present to large numbers of people, etc. Doing all of those things can help a student branch out. Being on a team or part of a club gives students peers to work with. After working with those people, students tend to stick with them and over time become friends. It is very hard for some people, especially at this age, to make friends and being apart of a team or club gives them the advantage. Something else that being apart of an extracurricular activity does for students is it gives them an outlook on adult life. Being on a sports team gives students the mindset of winning and accomplishing. Winning things isn't always how it goes so it also gives students a reality check, a view of reality. Students will have to do big things such as travel, give speeches, work on big projects, etc. They will be doing many things that give an outlook on adult life. Being apart of a team causes students to work together, have good sportsmanship, and strong attitudes which is something that all people need to have as an adult. Students must be in extracurricular activities because it helps them grow as teenagers and evolve into adults. Another reason why students should participate in these activities is because it gives them something to do. Many middle and high school students are overwhelmed with school, friends, families, etc. Being on a team or in a club with their friends, gives them something fun to do when they need it. Some students have a lot of free time and need to go somewhere to do something they enjoy such as playing a sport or helping design the year book. Teenagers become bored very easily and almost always need something to do. Students should join a club or team so that they can be apart of something they enjoy and have something to do. In conclusion, students must be apart of extracurricular activities because it helps students become more social, gives students an outlook on adult life, and gives them something to do. I believe that every school should make it a requirement for students to participate in some type of club, team, or </Evidence> <Concluding_Statement style='padding: 2px'> </Concluding_Statement></p>\n",
       "      </div>\n",
       "      <div class=\"column\">\n",
       "        <h2 class=\"title\">Ground Truth</h2>\n",
       "        <p style=\"text-align:justify\"><Lead style='padding: 2px'>Do you think students in school doing extracurricular activities should be required or an option? </Lead> <Position style='padding: 2px'>I believe it should be required </Position> <Claim style='padding: 2px'>they can help students become more social, give them an outlook on being an adult, and give them an activity to do. </Claim> <Evidence style='padding: 2px'>Students will have to do things like work with other students, give speeches, present to large numbers of people, etc. Doing all of those things can help a student branch out. Being on a team or part of a club gives students peers to work with. After working with those people, students tend to stick with them and over time become friends. It is very hard for some people, especially at this age, to make friends and being apart of a team or club gives them the advantage. Something else that being apart of an extracurricular activity does for students is it gives them an outlook on adult life. Being on a sports team gives students the mindset of winning and accomplishing. Winning things isn't always how it goes so it also gives students a reality check, a view of reality. Students will have to do big things such as travel, give speeches, work on big projects, etc. They will be doing many things that give an outlook on adult life. Being apart of a team causes students to work together, have good sportsmanship, and strong attitudes which is something that all people need to have as an adult. Students must be in extracurricular activities because it helps them grow as teenagers and evolve into adults. Another reason why students should participate in these activities is because it gives them something to do. Many middle and high school students are overwhelmed with school, friends, families, etc. Being on a team or in a club with their friends, gives them something fun to do when they need it. Some students have a lot of free time and need to go somewhere to do something they enjoy such as playing a sport or helping design the year book. Teenagers become bored very easily and almost always need something to do. Students should join a club or team so that they can be apart of something they enjoy and have something to do. </Evidence> <Concluding_Statement style='padding: 2px'>In conclusion, students must be apart of extracurricular activities because it helps students become more social, gives students an outlook on adult life, and gives them something to do. I believe that every school should make it a requirement for students to participate in some type of club, team, or group. </Concluding_Statement></p>\n",
       "      </div>\n",
       "    </div>\n",
       "    \n",
       "    "
      ],
      "text/plain": [
       "<IPython.core.display.HTML object>"
      ]
     },
     "metadata": {},
     "output_type": "display_data"
    },
    {
     "data": {
      "text/html": [
       "\n",
       "    <div class=\"content\">\n",
       "     <span style=\"font-size:16px\">Legend --></span>\n",
       "      <lead>Lead</lead>\n",
       "      <Position>Position</Position>\n",
       "      <Claim>Claim</Claim>\n",
       "      <Counterclaim>Counterclaim</Counterclaim>\n",
       "      <Rebuttal>Rebuttal</Rebuttal>\n",
       "      <Evidence>Evidence</Evidence>\n",
       "      <Concluding_Statement>Concluding_Statement</Concluding_Statement>\n",
       "    </div>\n",
       "\n",
       "    <div class=\"row\">\n",
       "      <div class=\"column\">\n",
       "        <h2 class=\"title\">Prediction</h2>\n",
       "        <p style=\"text-align:justify\"><Position style='padding: 2px'>If I were apart of this I would agree with you and go against you. I have some possible reasons why the school policy should change, and why not the school policy should change. The reasons the </Position> <Claim style='padding: 2px'>school policy should change is because some students don't do their work and some do, but in high school you do need a B average to get into sports. But other activities you don't. You </Claim> <Evidence style='padding: 2px'>can join any club you want to join in. But there are a few activities you need a B or an A average. Like the national Honors society club, computer science, etc. Reasons on why the school policy should not change is because there are </Evidence> <Claim style='padding: 2px'>so many different activities across the universe. some activities give you extra credit for a class if your failing it. Now sports is different sports, you have pass a semester or you will never </Claim> <Evidence style='padding: 2px'>play a sport that happens everywhere in high school and college the school policy should not change for sports, because the students who fail and don't pass the semester have to keep trying and trying until they get a B average. </Evidence></p>\n",
       "      </div>\n",
       "      <div class=\"column\">\n",
       "        <h2 class=\"title\">Ground Truth</h2>\n",
       "        <p style=\"text-align:justify\"><Position style='padding: 2px'>If I were apart of this I would agree with you and go against you. I have some possible reasons why the school policy should change, and why not the school policy should change. </Position> <Claim style='padding: 2px'>The reasons the school policy should change is because some students don't do their work and some do, but in high school you do need a B average to get into sports. </Claim> <Evidence style='padding: 2px'>But other activities you don't. You can join any club you want to join in. But there are a few activities you need a B or an A average. Like the national Honors society club, computer science, etc. </Evidence> <Claim style='padding: 2px'>Reasons on why the school policy should not change is because there are so many different activities across the universe. some activities give you extra credit for a class if your failing it. </Claim> <Evidence style='padding: 2px'>Now sports is different sports, you have pass a semester or you will never play a sport that happens everywhere in high school and college the school policy should not change for sports, because the students who fail and don't pass the semester have to keep trying and trying until they get a B average. </Evidence></p>\n",
       "      </div>\n",
       "    </div>\n",
       "    \n",
       "    "
      ],
      "text/plain": [
       "<IPython.core.display.HTML object>"
      ]
     },
     "metadata": {},
     "output_type": "display_data"
    },
    {
     "data": {
      "text/html": [
       "\n",
       "    <div class=\"content\">\n",
       "     <span style=\"font-size:16px\">Legend --></span>\n",
       "      <lead>Lead</lead>\n",
       "      <Position>Position</Position>\n",
       "      <Claim>Claim</Claim>\n",
       "      <Counterclaim>Counterclaim</Counterclaim>\n",
       "      <Rebuttal>Rebuttal</Rebuttal>\n",
       "      <Evidence>Evidence</Evidence>\n",
       "      <Concluding_Statement>Concluding_Statement</Concluding_Statement>\n",
       "    </div>\n",
       "\n",
       "    <div class=\"row\">\n",
       "      <div class=\"column\">\n",
       "        <h2 class=\"title\">Prediction</h2>\n",
       "        <p style=\"text-align:justify\"><Lead style='padding: 2px'>Studying Venus could lead us to a lot of stuff. There are many details we could get out of studying Venus. Even though </Lead> <Position style='padding: 2px'>visiting Venus could be dangerous to visit, but it would also be very interesting. Venus has a lot going on. Venus is planet in our solar </Position> <Evidence style='padding: 2px'>At one point in time, Venus could have been like Earth. There are features such as valleys, mountains, and craters. Venus is our nearest option of planetery visit. Vistiting Venus could and would be very dangerous to visit. Venus has high pressure and lots of heat. There are erupoting volcanoes, powerful earthquakes, and frequent lighting strikes. Studying why Venus does this could to lead to a lot. It could tell us about how Venus works </Evidence> <Claim style='padding: 2px'>and how it was created. Venus is a very hot planet. If a blimp was 30 miles above Venus, the temperture could still reach the blimp. That is not </Claim> <Evidence style='padding: 2px'>not survivable for humans Studying Venus on how it is so hot could solve a lot and tell us more about the planet. To study Venus, scientists would need samples of </Evidence> <Claim style='padding: 2px'>of rock, gas, or anthing else from Venus. On the other hand, there has been spacecrafts to land on </Claim> <Evidence style='padding: 2px'>Venus, but they only would survive for a couple of hours. In conclusion of visiting Venus, it would be dangerous. It would also be very interesting. Knowing there could have been life on Venus is pretty cool. We need to find out a way to get </Evidence> <Concluding_Statement style='padding: 2px'>to Venus. We need samples of Venus on Earth. </Concluding_Statement></p>\n",
       "      </div>\n",
       "      <div class=\"column\">\n",
       "        <h2 class=\"title\">Ground Truth</h2>\n",
       "        <p style=\"text-align:justify\"><Lead style='padding: 2px'>Studying Venus could lead us to a lot of stuff. There are many details we could get out of studying Venus. </Lead> <Position style='padding: 2px'>Even though visiting Venus could be dangerous to visit, but it would also be very interesting. Venus has a lot going on. </Position> <Evidence style='padding: 2px'>Venus is planet in our solar system. At one point in time, Venus could have been like Earth. There are features such as valleys, mountains, and craters. Venus is our nearest option of planetery visit. Vistiting Venus could and would be very dangerous to visit. Venus has high pressure and lots of heat. There are erupoting volcanoes, powerful earthquakes, and frequent lighting strikes. Studying why Venus does this could to lead to a lot. </Evidence> <Claim style='padding: 2px'>It could tell us about how Venus works and how it was created. </Claim> <Evidence style='padding: 2px'>Venus is a very hot planet. If a blimp was 30 miles above Venus, the temperture could still reach the blimp. That is not survivable for humans </Evidence> <Claim style='padding: 2px'>Studying Venus on how it is so hot could solve a lot and tell us more about the planet. </Claim> <Evidence style='padding: 2px'>To study Venus, scientists would need samples of rock, gas, or anthing else from Venus. On the other hand, there has been spacecrafts to land on Venus, but they only would survive for a couple of hours. </Evidence> <Concluding_Statement style='padding: 2px'>In conclusion of visiting Venus, it would be dangerous. It would also be very interesting. Knowing there could have been life on Venus is pretty cool. We need to find out a way to get close to Venus. We need samples of Venus on Earth. </Concluding_Statement></p>\n",
       "      </div>\n",
       "    </div>\n",
       "    \n",
       "    "
      ],
      "text/plain": [
       "<IPython.core.display.HTML object>"
      ]
     },
     "metadata": {},
     "output_type": "display_data"
    },
    {
     "data": {
      "text/html": [
       "\n",
       "    <div class=\"content\">\n",
       "     <span style=\"font-size:16px\">Legend --></span>\n",
       "      <lead>Lead</lead>\n",
       "      <Position>Position</Position>\n",
       "      <Claim>Claim</Claim>\n",
       "      <Counterclaim>Counterclaim</Counterclaim>\n",
       "      <Rebuttal>Rebuttal</Rebuttal>\n",
       "      <Evidence>Evidence</Evidence>\n",
       "      <Concluding_Statement>Concluding_Statement</Concluding_Statement>\n",
       "    </div>\n",
       "\n",
       "    <div class=\"row\">\n",
       "      <div class=\"column\">\n",
       "        <h2 class=\"title\">Prediction</h2>\n",
       "        <p style=\"text-align:justify\"><Lead style='padding: 2px'>Students would have more benefits taking online classes from home than going to school that is far away from where they are. Online classes would have huge impact in students lives which is going to solve many problems. I think </Lead> <Position style='padding: 2px'>students would have the benefits to take online classes from home instead of going to a far school which is </Position> <Claim style='padding: 2px'>causing them to wake up early to catch up the bus, waste time, spend money and stress. This can be change if students are allowed to take online classes from home. Students would have more benefits taking online classes from home than going to school, one of the main reason I said this is because of waking up early. For example, my daily life is waking up early to </Claim> <Evidence style='padding: 2px'>go to my bus stop because from my house is 30 minutes away and I have to walk where is dark outside like around 6:00am. Any student that walks in the morning in the darkest there is some chances to get in risk because bad people are outside to harm innocent people. My mom is always concern that I have to wake up early and walk in the darkest, she tries to change her work schedule more later but she can't but she always call me to make sure I get safe to my bus stop. I think this is one of the reason online classes can benefits students by protecting them. Online classes from home would help students and their family to have time management. Sometimes students have to go to a </Evidence> <Claim style='padding: 2px'>appointment which cause their parents to get out of work and go all the way </Claim> <Evidence style='padding: 2px'>to school and then go to the doctor with a lot of rushed because time goes fast. For example, in my personal experience sometimes I have a doctor appointment which cause my mom to pick me up from school and then go to the doctor but after that she has to pick up my siblings from the babysitter which is going to get her tired from driving too much and also wasting time which shouldn't been different if I had the chance to stay at home and do online classes, my mom and I wouldn't have to rushed to go to doctor appointment and cook for the family. My mom works everydays at 4:00am and she has to take my siblings to the babysitter to early even when is freezing. I will like to help her taking care of my siblings by taking online classes from home instead of going to school, therefore my mom and I would have use the time wisely. Online classes for students will benefits their family economy. Instead of buying a lot of supplies and clothes to go to school would prevent them to spend too much money. One example related to my life </Evidence> <Claim style='padding: 2px'>when schools are about to open and my mom has </Claim> <Evidence style='padding: 2px'>to save money to buy me supplies and clothes to go to school which would cause her to work more and save. Also in our society some families have problems with their economy which would be difficult for them to buy their kids supplies and clothes which would cause them to sell items from their houses. If online classes are provided to students it would benefits students family including mine because my mom is not going to waste money on babysitting,gas,clothes and supplies as usual. Online classes for students will benefits their health of not stressing anymore. Some students stress a lot about what clothes they have to wear to school which is going to cause them to over think a lot. Stress is really serious problem because students feel stresses out </Evidence> <Claim style='padding: 2px'>they go to school because of not having time management or not having </Claim> <Evidence style='padding: 2px'>enough sleep. Online classes will prevent students to get bullied in school. Stress is a really common symptoms between students and should be preventable for the safe of our students. For example, when I have to wake up early I stress a lot because I have to get ready fast and walk to my bus stop and sometimes I skipped breakfast because I study when I get to school. If they provided me online classes I will have stress but not that much as I usually did in school because I will have more time to sleep and eat breakfast which would help me stay mentally healthy. I think students would have the benefits to take online classes from home instead of going to a far school which is causing them to wake up early to catch up the bus, waste time, spend money and stress. Students would have time to spend time with their family and communicated more to each other often and informed their parents </Evidence> <Concluding_Statement style='padding: 2px'>their problems. Online classes would impact our lives in a positive way to help students stay home safe, have time management, have a stable economy and less stress for the good of our lives. </Concluding_Statement></p>\n",
       "      </div>\n",
       "      <div class=\"column\">\n",
       "        <h2 class=\"title\">Ground Truth</h2>\n",
       "        <p style=\"text-align:justify\"><Lead style='padding: 2px'>Students would have more benefits taking online classes from home than going to school that is far away from where they are. Online classes would have huge impact in students lives which is going to solve many problems. </Lead> <Position style='padding: 2px'>I think students would have the benefits to take online classes from home instead of going to a far school </Position> <Claim style='padding: 2px'>which is causing them to wake up early to catch up the bus, waste time, spend money and stress. This can be change if students are allowed to take online classes from home. Students would have more benefits taking online classes from home than going to school, one of the main reason I said this is because of waking up early. </Claim> <Evidence style='padding: 2px'>For example, my daily life is waking up early to go to my bus stop because from my house is 30 minutes away and I have to walk where is dark outside like around 6:00am. Any student that walks in the morning in the darkest there is some chances to get in risk because bad people are outside to harm innocent people. My mom is always concern that I have to wake up early and walk in the darkest, she tries to change her work schedule more later but she can't but she always call me to make sure I get safe to my bus stop. I think this is one of the reason online classes can benefits students by protecting them. </Evidence> <Claim style='padding: 2px'>Online classes from home would help students and their family to have time management. </Claim> <Evidence style='padding: 2px'>Sometimes students have to go to a doctor appointment which cause their parents to get out of work and go all the way to school and then go to the doctor with a lot of rushed because time goes fast. For example, in my personal experience sometimes I have a doctor appointment which cause my mom to pick me up from school and then go to the doctor but after that she has to pick up my siblings from the babysitter which is going to get her tired from driving too much and also wasting time which shouldn't been different if I had the chance to stay at home and do online classes, my mom and I wouldn't have to rushed to go to doctor appointment and cook for the family. My mom works everydays at 4:00am and she has to take my siblings to the babysitter to early even when is freezing. I will like to help her taking care of my siblings by taking online classes from home instead of going to school, therefore my mom and I would have use the time wisely. </Evidence> <Claim style='padding: 2px'>Online classes for students will benefits their family economy. </Claim> <Evidence style='padding: 2px'>Instead of buying a lot of supplies and clothes to go to school would prevent them to spend too much money. One example related to my life is when schools are about to open and my mom has to save money to buy me supplies and clothes to go to school which would cause her to work more and save. Also in our society some families have problems with their economy which would be difficult for them to buy their kids supplies and clothes which would cause them to sell items from their houses. If online classes are provided to students it would benefits students family including mine because my mom is not going to waste money on babysitting,gas,clothes and supplies as usual. </Evidence> <Claim style='padding: 2px'>Online classes for students will benefits their health of not stressing anymore. </Claim> <Evidence style='padding: 2px'>Some students stress a lot about what clothes they have to wear to school which is going to cause them to over think a lot. Stress is really serious problem because students feel stresses out when they go to school because of not having time management or not having enough sleep. Online classes will prevent students to get bullied in school. Stress is a really common symptoms between students and should be preventable for the safe of our students. For example, when I have to wake up early I stress a lot because I have to get ready fast and walk to my bus stop and sometimes I skipped breakfast because I study when I get to school. If they provided me online classes I will have stress but not that much as I usually did in school because I will have more time to sleep and eat breakfast which would help me stay mentally healthy. </Evidence> <Concluding_Statement style='padding: 2px'>I think students would have the benefits to take online classes from home instead of going to a far school which is causing them to wake up early to catch up the bus, waste time, spend money and stress. Students would have time to spend time with their family and communicated more to each other often and informed their parents about their problems. Online classes would impact our lives in a positive way to help students stay home safe, have time management, have a stable economy and less stress for the good of our lives. </Concluding_Statement></p>\n",
       "      </div>\n",
       "    </div>\n",
       "    \n",
       "    "
      ],
      "text/plain": [
       "<IPython.core.display.HTML object>"
      ]
     },
     "metadata": {},
     "output_type": "display_data"
    },
    {
     "data": {
      "text/html": [
       "\n",
       "    <div class=\"content\">\n",
       "     <span style=\"font-size:16px\">Legend --></span>\n",
       "      <lead>Lead</lead>\n",
       "      <Position>Position</Position>\n",
       "      <Claim>Claim</Claim>\n",
       "      <Counterclaim>Counterclaim</Counterclaim>\n",
       "      <Rebuttal>Rebuttal</Rebuttal>\n",
       "      <Evidence>Evidence</Evidence>\n",
       "      <Concluding_Statement>Concluding_Statement</Concluding_Statement>\n",
       "    </div>\n",
       "\n",
       "    <div class=\"row\">\n",
       "      <div class=\"column\">\n",
       "        <h2 class=\"title\">Prediction</h2>\n",
       "        <p style=\"text-align:justify\"><Lead style='padding: 2px'>Driverless cares are coming. It's true, though it almost seems something out of science fiction. Today, we have cars that can drive themselves with the aid of humans. This means that there is still a driver, though they won't be doing much except sitting and watching the road. They must watch the road as they may need to take control of the car if there is an accident, construction, or if a road is closed off for another reason. This is a far cry from what we think driverless cars to be. Of course, the technology is there, it's just a very basic state of it. Most of what is there, the basics, is still very complex. In my own opinion, yes, driverless cars are the way of the future. However, there is still use of a driver </Lead> <Position style='padding: 2px'>the driverless car. So maybe not calling them driverless cars as a start, perhaps independent cars or </Position> <Claim style='padding: 2px'>auto cars. Having a driver still within the car can help, it may </Claim> <Evidence style='padding: 2px'>be that some places aren't mapped on the maps within the car. This may mean that the </Evidence> <Claim style='padding: 2px'>driver </Claim> <Evidence style='padding: 2px'>will have to take over, placing the safety of others into the hands of the driver. The thing with the driverless cars is that if there is an accident, whether it be man-made or machine error, whose fault is it? This is a big question, with many different answers. The truth is, there isn't laws in place for this, as there are no true driverless cars on the roads. We could pin the blame on the driver, for not taking control at the right moment to prevent a disaster. The same could be said for the manufacturer, for creating a faulty program within the car. Today, the problem with cars is simple. They are dangerous. There isn't a bigger risk today than getting in a car and driving. Hundreds of people die or are injured in a car accident today and most of them are due to humans. A driverless car could reduce the amount </Evidence> <Claim style='padding: 2px'>accidents and deaths on the roads. There still is need of people being </Claim> <Evidence style='padding: 2px'>at the wheel of the vehicle, but with less human interaction of the vehicles operation, the less likely it is to result in failure on the drivers part. There is also a possibility of it helping drunk drivers. If someone gets into the vehicle, they could tell the car their destination, and be on their way. This could result in less accidents and less deaths with vehicles involved. However, on the flip side of things, this may not help. If a third party company creates a faulty program for the vehicles for a big company, the blame will be pinned on the big company for outsourcing. This results in more strict laws on driverless cars and could result in there being less appeal to the idea of a driverless, or semi-driverless, car. We're still </Evidence> <Counterclaim style='padding: 2px'>few years from having driverless cars, and even more from having completely driverless </Counterclaim> <Evidence style='padding: 2px'>cars. My opinion is that self driving cars could help our society. We could gain so much from this, most of it being less accidents and deaths from something that is so important to many of our lives today. Taking the risk of getting in a car with someone who is new, elderly, or drunk is huge. Today, that risk is garunteed with consequences. Most of them are bad, with either injuries or death some big ones. Tomorrow, that risk could </Evidence> <Concluding_Statement style='padding: 2px'>with semi-driverless cars or completely driverless cars. The possibilities are endless with a car that rarely, if ever, requires human interaction on the road. </Concluding_Statement></p>\n",
       "      </div>\n",
       "      <div class=\"column\">\n",
       "        <h2 class=\"title\">Ground Truth</h2>\n",
       "        <p style=\"text-align:justify\"><Lead style='padding: 2px'>Driverless cares are coming. It's true, though it almost seems something out of science fiction. Today, we have cars that can drive themselves with the aid of humans. This means that there is still a driver, though they won't be doing much except sitting and watching the road. They must watch the road as they may need to take control of the car if there is an accident, construction, or if a road is closed off for another reason. This is a far cry from what we think driverless cars to be. Of course, the technology is there, it's just a very basic state of it. Most of what is there, the basics, is still very complex. </Lead> <Position style='padding: 2px'>yes, driverless cars are the way of the future. </Position> <Claim style='padding: 2px'>However, there is still use of a driver within the driverless car. </Claim> <Evidence style='padding: 2px'>So maybe not calling them driverless cars as a start, perhaps independent cars or auto cars. Having a driver still within the car can help, it may be that some places aren't mapped on the maps within the car. This may mean that the driver will have to take over, placing the safety of others into the hands of the driver. The thing with the driverless cars is that if there is an accident, whether it be man-made or machine error, whose fault is it? This is a big question, with many different answers. The truth is, there isn't laws in place for this, as there are no true driverless cars on the roads. We could pin the blame on the driver, for not taking control at the right moment to prevent a disaster. The same could be said for the manufacturer, for creating a faulty program within the car. </Evidence> <Claim style='padding: 2px'>Today, the problem with cars is simple. They are dangerous. </Claim> <Evidence style='padding: 2px'>There isn't a bigger risk today than getting in a car and driving. Hundreds of people die or are injured in a car accident today and most of them are due to humans. A driverless car could reduce the amount of accidents and deaths on the roads. There still is need of people being at the wheel of the vehicle, but with less human interaction of the vehicles operation, the less likely it is to result in failure on the drivers part. There is also a possibility of it helping drunk drivers. If someone gets into the vehicle, they could tell the car their destination, and be on their way. This could result in less accidents and less deaths with vehicles involved. </Evidence> <Counterclaim style='padding: 2px'>on the flip side of things, this may not help. </Counterclaim> <Evidence style='padding: 2px'>If a third party company creates a faulty program for the vehicles for a big company, the blame will be pinned on the big company for outsourcing. This results in more strict laws on driverless cars and could result in there being less appeal to the idea of a driverless, or semi-driverless, car. We're still a few years from having driverless cars, and even more from having completely driverless cars. </Evidence> <Concluding_Statement style='padding: 2px'>My opinion is that self driving cars could help our society. We could gain so much from this, most of it being less accidents and deaths from something that is so important to many of our lives today. Taking the risk of getting in a car with someone who is new, elderly, or drunk is huge. Today, that risk is garunteed with consequences. Most of them are bad, with either injuries or death some big ones. Tomorrow, that risk could decrease with semi-driverless cars or completely driverless cars. The possibilities are endless with a car that rarely, if ever, requires human interaction on the road. </Concluding_Statement></p>\n",
       "      </div>\n",
       "    </div>\n",
       "    \n",
       "    "
      ],
      "text/plain": [
       "<IPython.core.display.HTML object>"
      ]
     },
     "metadata": {},
     "output_type": "display_data"
    },
    {
     "data": {
      "text/html": [
       "\n",
       "    <div class=\"content\">\n",
       "     <span style=\"font-size:16px\">Legend --></span>\n",
       "      <lead>Lead</lead>\n",
       "      <Position>Position</Position>\n",
       "      <Claim>Claim</Claim>\n",
       "      <Counterclaim>Counterclaim</Counterclaim>\n",
       "      <Rebuttal>Rebuttal</Rebuttal>\n",
       "      <Evidence>Evidence</Evidence>\n",
       "      <Concluding_Statement>Concluding_Statement</Concluding_Statement>\n",
       "    </div>\n",
       "\n",
       "    <div class=\"row\">\n",
       "      <div class=\"column\">\n",
       "        <h2 class=\"title\">Prediction</h2>\n",
       "        <p style=\"text-align:justify\"><Position style='padding: 2px'>in life, it helps the community become cleaner, makes more people want </Position> <Claim style='padding: 2px'>to join, and also community service can provide a better place. When people do community service it really shows how much they care about </Claim> <Evidence style='padding: 2px'>the world. Also when people do work around their community people start to enjoy walking outside </Evidence> <Claim style='padding: 2px'>and </Claim> <Evidence style='padding: 2px'>seeing this wonderful place and not no dirty </Evidence> <Claim style='padding: 2px'>place </Claim> <Evidence style='padding: 2px'>with garbage everywhere you look, </Evidence> <Claim style='padding: 2px'>and </Claim> <Evidence style='padding: 2px'>with the help </Evidence> <Claim style='padding: 2px'>of everyone joining together this place can be </Claim> <Evidence style='padding: 2px'>great. </Evidence> <Claim style='padding: 2px'>Community service is a smart thing to make everyone do in the school because it makes </Claim> <Evidence style='padding: 2px'>only make it better and then maybe more and more people will join them and next thing you know, day by day the community is just getting nicer and nicer. With all this nasty garbage on the ground, please make everyone help out, this place is going to come along to be the best place known to man. Also, when a lot of people start to do something it makes a lot more people interested in the thing they are doing. And if more and more people join this place is going to look a lot better than it is now. So, make it your choice but think about all the good things that can make this place a lot better. Without community service the community is just going to get worse by the minute, kids are going to be throwing the garbage on the ground, spitting gum onto the new sidewalks, and also many other things that can destroy our community. Last is that community service can make our community a better place. I think if everyone in the school helps out with the community, this place will end up in your brand new fantasy dream. Also, it can provide a better place because all the dirty candy wrappers, the litters everywhere you walk will be decreasing faster and faster. With the help of everyone in the school, this object can really come out to be an amazing place. In conclusion, i think that you should really take position and make the community service a thing at school, and it will help the community become cleaner, makes more people want to join, and also community service can provide a better place. So with the help </Evidence> <Concluding_Statement style='padding: 2px'>place can turn very new in just a moment of time. Also when people do work around their community people start to enjoy walking outside and seeing this wonderful place and not no dirty place with garbage everywhere you look, and with the help of everyone joining together this place can turn into one of the best places in the world. Can you imagine living in that wonderful, amazing place. </Concluding_Statement></p>\n",
       "      </div>\n",
       "      <div class=\"column\">\n",
       "        <h2 class=\"title\">Ground Truth</h2>\n",
       "        <p style=\"text-align:justify\"><Claim style='padding: 2px'>it helps the community become cleaner, makes more people want to join, and also community service can provide a better place. </Claim> <Evidence style='padding: 2px'>When people do community service it really shows how much they care about the world. Also when people do work around their community people start to enjoy walking outside and seeing this wonderful place and not no dirty place with garbage everywhere you look, </Evidence> <Position style='padding: 2px'>Community service is a smart thing to make everyone do in the school </Position> <Evidence style='padding: 2px'>This is because if one person can help the community out by just cleaning up some garbage it can only make it better and then maybe more and more people will join them and next thing you know, day by day the community is just getting nicer and nicer. With all this nasty garbage on the ground, please make everyone help out, this place is going to come along to be the best place known to man. Also, when a lot of people start to do something it makes a lot more people interested in the thing they are doing. And if more and more people join this place is going to look a lot better than it is now. So, make it your choice but think about all the good things that can make this place a lot better. Without community service the community is just going to get worse by the minute, kids are going to be throwing the garbage on the ground, spitting gum onto the new sidewalks, and also many other things that can destroy our community. Last is that community service can make our community a better place. I think if everyone in the school helps out with the community, this place will end up in your brand new fantasy dream. Also, it can provide a better place because all the dirty candy wrappers, the litters everywhere you walk will be decreasing faster and faster. With the help of everyone in the school, this object can really come out to be an amazing place. </Evidence> <Concluding_Statement style='padding: 2px'>In conclusion, i think that you should really take position and make the community service a thing at school, and it will help the community become cleaner, makes more people want to join, and also community service can provide a better place. So with the help of community service this place can turn very new in just a moment of time. Also when people do work around their community people start to enjoy walking outside and seeing this wonderful place and not no dirty place with garbage everywhere you look, and with the help of everyone joining together this place can turn into one of the best places in the world. Can you imagine living in that wonderful, amazing place. </Concluding_Statement></p>\n",
       "      </div>\n",
       "    </div>\n",
       "    \n",
       "    "
      ],
      "text/plain": [
       "<IPython.core.display.HTML object>"
      ]
     },
     "metadata": {},
     "output_type": "display_data"
    },
    {
     "data": {
      "text/html": [
       "\n",
       "    <div class=\"content\">\n",
       "     <span style=\"font-size:16px\">Legend --></span>\n",
       "      <lead>Lead</lead>\n",
       "      <Position>Position</Position>\n",
       "      <Claim>Claim</Claim>\n",
       "      <Counterclaim>Counterclaim</Counterclaim>\n",
       "      <Rebuttal>Rebuttal</Rebuttal>\n",
       "      <Evidence>Evidence</Evidence>\n",
       "      <Concluding_Statement>Concluding_Statement</Concluding_Statement>\n",
       "    </div>\n",
       "\n",
       "    <div class=\"row\">\n",
       "      <div class=\"column\">\n",
       "        <h2 class=\"title\">Prediction</h2>\n",
       "        <p style=\"text-align:justify\"><Lead style='padding: 2px'>Different people have different mind sets and have faced different things. By asking multiple people about there opinion you can create one based off of their opinions. People have different points of views, there could be two sides of what your discussing. Overall I believe that </Lead> <Position style='padding: 2px'>asking more people about there opinions can help you find the best answer. There are different point of views </Position> <Evidence style='padding: 2px'>everything. When seeking for an answer, it might now come right away. Asking multiple people gives you more ideas, more time to think, and there could also be two different sides to your answer. There could be ups and downs to your answer but it has to be what fits you the best. You talk to so many people that all have different ideas and opinions, so talking </Evidence> <Claim style='padding: 2px'>to more and more people could give you more ideas and more opinions. When seeking an answer you take everything into consideration. Thinking about how different people are </Claim> <Evidence style='padding: 2px'>all </Evidence> <Claim style='padding: 2px'>different. </Claim> <Evidence style='padding: 2px'>one is the same, this could be used because the more people you talk to the different ideas that you could be told. This could be good or bad because when you talk to multiple people all of there opinions most likely will be different, so when different people tell you different things it could get confusing. You could also look at it you could take all of there opinions and use that to create your own, use their ideas and create a new own that fits best for you. You could also think of it the other way. You could say that multiple opinions are bad because people are telling you different things and they all tell </Evidence> <Counterclaim style='padding: 2px'>something different and that if you talked to one person that it would be better because you would get their opinion and only their opinion. My opinion is to talk to multiple people, I just started golfing and I started off talking to one person about my swing, but now that I have talked to multiple </Counterclaim> <Evidence style='padding: 2px'>I have now been satisfied by the </Evidence> <Rebuttal style='padding: 2px'>way </Rebuttal> <Evidence style='padding: 2px'>I hit the ball and how my swing looks and feels. This is one of my main reason why I chose to ask multiple people. In my opinion, asking multiple people about their opinions is better than asking one person about theirs. People have different points of views, different sides of whats going on, different things they have faced. Dr. Seuss </Evidence> <Concluding_Statement style='padding: 2px'>said \"The more you learn, the more you know\". I believe that Dr. Guess said this is because the only way you could know more is by communicating to other people about what they know. It all comes down to what fits the best for you. -Generic_Name </Concluding_Statement></p>\n",
       "      </div>\n",
       "      <div class=\"column\">\n",
       "        <h2 class=\"title\">Ground Truth</h2>\n",
       "        <p style=\"text-align:justify\"><Lead style='padding: 2px'>Different people have different mind sets and have faced different things. By asking multiple people about there opinion you can create one based off of their opinions. People have different points of views, there could be two sides of what your discussing. </Lead> <Position style='padding: 2px'>Overall I believe that asking more people about there opinions can help you find the best answer. </Position> <Evidence style='padding: 2px'>There are different point of views for everything. When seeking for an answer, it might now come right away. Asking multiple people gives you more ideas, more time to think, and there could also be two different sides to your answer. There could be ups and downs to your answer but it has to be what fits you the best. </Evidence> <Claim style='padding: 2px'>You talk to so many people that all have different ideas and opinions, so talking to more and more people could give you more ideas and more opinions. When seeking an answer you take everything into consideration. Thinking about how different people are all different. </Claim> <Evidence style='padding: 2px'>No one is the same, this could be used because the more people you talk to the different ideas that you could be told. This could be good or bad because when you talk to multiple people all of there opinions most likely will be different, so when different people tell you different things it could get confusing. You could also look at it you could take all of there opinions and use that to create your own, use their ideas and create a new own that fits best for you. </Evidence> <Counterclaim style='padding: 2px'>You could also think of it the other way. You could say that multiple opinions are bad because people are telling you different things and they all tell you something different and that if you talked to one person that it would be better because you would get their opinion and only their opinion. </Counterclaim> <Rebuttal style='padding: 2px'>My opinion is to talk to multiple people, </Rebuttal> <Evidence style='padding: 2px'>I just started golfing and I started off talking to one person about my swing, but now that I have talked to multiple I have now been satisfied by the way I hit the ball and how my swing looks and feels. This is one of my main reason why I chose to ask multiple people. </Evidence> <Concluding_Statement style='padding: 2px'>asking multiple people about their opinions is better than asking one person about theirs. People have different points of views, different sides of whats going on, different things they have faced. Dr. Seuss once said \"The more you learn, the more you know\". I believe that Dr. Guess said this is because the only way you could know more is by communicating to other people about what they know. It all comes down to what fits the best for you. </Concluding_Statement></p>\n",
       "      </div>\n",
       "    </div>\n",
       "    \n",
       "    "
      ],
      "text/plain": [
       "<IPython.core.display.HTML object>"
      ]
     },
     "metadata": {},
     "output_type": "display_data"
    },
    {
     "data": {
      "text/html": [
       "\n",
       "    <div class=\"content\">\n",
       "     <span style=\"font-size:16px\">Legend --></span>\n",
       "      <lead>Lead</lead>\n",
       "      <Position>Position</Position>\n",
       "      <Claim>Claim</Claim>\n",
       "      <Counterclaim>Counterclaim</Counterclaim>\n",
       "      <Rebuttal>Rebuttal</Rebuttal>\n",
       "      <Evidence>Evidence</Evidence>\n",
       "      <Concluding_Statement>Concluding_Statement</Concluding_Statement>\n",
       "    </div>\n",
       "\n",
       "    <div class=\"row\">\n",
       "      <div class=\"column\">\n",
       "        <h2 class=\"title\">Prediction</h2>\n",
       "        <p style=\"text-align:justify\"><Position style='padding: 2px'>For many years now people have been cutting down on the usage of their cars. Their are many advatages to limiting car usage like </Position> <Claim style='padding: 2px'>become happier, less pollution, and money is spent wisely. many different outcomes come </Claim> <Evidence style='padding: 2px'>have reduced the amount of time they use their cars and the outcome has been phenomonal. Heidrun Walter was asked about how she felt about taking cars out of her life, she answered \"When I had a car I was always tense. I'm much happier this way,\" (Rosenthal par3). Cars have been liked stress and when cars were taken out of Carlos Arturo Plaza's life he said \"It's a good opportunity to take away stress...\" (Selsky par24). When cars were taken out of their lifes they felt happier and stress free. In these last few centuries we have polluted the world </Evidence> <Claim style='padding: 2px'>more than anyone else has. This is due our technological advances. One of </Claim> <Evidence style='padding: 2px'>the biggist advance in these centuries is the motor vehicle. The car has now become a houshold item. Cars are one of the main reasons why our ozone layer is open and we responsible for \"50 percent...of greenhouse gass emissions\" (Roseenthal par5). It's shoking to see how far we have advanced but to see how much we have destroyed in the world at the same time is crazy. Paris has become so poluted that they had to get a \"partial driving ban to clear the air of the global city\" (Duffer par10). \"Congestion was down 60 percent in the capital of france, after five-days intensifying smog\" (Duffer par14). Imagine what would happen if cars were recuced in use for a month. For many people in these countries they have gotten many benifites back. The government has always used \"80 percent of appropriations have by law gone to highways and only 20 percent to other transport\" (Rosenthal par9). Its shocking how much money goes to bulding roads and not things for the development of our comunities. The people in Bogota,Colombia have cut back on their use of their cars anf the money the government usually uses for cars or gas is now going to other things. \"Parks and sports centers also have boomed throughout the city.\"(Selsky par28). many of the \"uneven, pitted sidewalks have been repaced by broad, smooth sidewalks; rush-hour restrictions have dramaticly cut traffic; and new restaurants and upscale shopping districts have cropped up\" (Selsky par28). When the goverment did not have to pay for highways or streets they used that money for parks or smooth sidewalks. Their are many advantages to limiting car usage like people become happierand stress free, less pollution, and money is spent wisely. If everyone cuts back on the time they use their cars the world would be healthier, the population would be heathier and happier, in addition the government would use money for more important things. Reducing the use of cars is step one in the world becoming healthy again. </Evidence> <Concluding_Statement style='padding: 2px'> </Concluding_Statement></p>\n",
       "      </div>\n",
       "      <div class=\"column\">\n",
       "        <h2 class=\"title\">Ground Truth</h2>\n",
       "        <p style=\"text-align:justify\"><Position style='padding: 2px'>For many years now people have been cutting down on the usage of their cars. Their are many advatages to limiting car usage </Position> <Claim style='padding: 2px'>you become happier, less pollution, and money is spent wisely. </Claim> <Evidence style='padding: 2px'>In many countries around the world people have reduced the amount of time they use their cars and the outcome has been phenomonal. Heidrun Walter was asked about how she felt about taking cars out of her life, she answered \"When I had a car I was always tense. I'm much happier this way,\" (Rosenthal par3). Cars have been liked stress and when cars were taken out of Carlos Arturo Plaza's life he said \"It's a good opportunity to take away stress...\" (Selsky par24). </Evidence> <Claim style='padding: 2px'>When cars were taken out of their lifes they felt happier and stress free. </Claim> <Evidence style='padding: 2px'>In these last few centuries we have polluted the world more than anyone else has. This is due our technological advances. One of the biggist advance in these centuries is the motor vehicle. The car has now become a houshold item. Cars are one of the main reasons why our ozone layer is open and we responsible for \"50 percent...of greenhouse gass emissions\" (Roseenthal par5). It's shoking to see how far we have advanced but to see how much we have destroyed in the world at the same time is crazy. Paris has become so poluted that they had to get a \"partial driving ban to clear the air of the global city\" (Duffer par10). \"Congestion was down 60 percent in the capital of france, after five-days intensifying smog\" (Duffer par14). Imagine what would happen if cars were recuced in use for a month. For many people in these countries they have gotten many benifites back. The government has always used \"80 percent of appropriations have by law gone to highways and only 20 percent to other transport\" (Rosenthal par9). Its shocking how much money goes to bulding roads and not things for the development of our comunities. The people in Bogota,Colombia have cut back on their use of their cars anf the money the government usually uses for cars or gas is now going to other things. \"Parks and sports centers also have boomed throughout the city.\"(Selsky par28). many of the \"uneven, pitted sidewalks have been repaced by broad, smooth sidewalks; rush-hour restrictions have dramaticly cut traffic; and new restaurants and upscale shopping districts have cropped up\" (Selsky par28). When the goverment did not have to pay for highways or streets they used that money for parks or smooth sidewalks. </Evidence> <Concluding_Statement style='padding: 2px'>Their are many advantages to limiting car usage like people become happierand stress free, less pollution, and money is spent wisely. If everyone cuts back on the time they use their cars the world would be healthier, the population would be heathier and happier, in addition the government would use money for more important things. Reducing the use of cars is step one in the world becoming healthy again. </Concluding_Statement></p>\n",
       "      </div>\n",
       "    </div>\n",
       "    \n",
       "    "
      ],
      "text/plain": [
       "<IPython.core.display.HTML object>"
      ]
     },
     "metadata": {},
     "output_type": "display_data"
    },
    {
     "data": {
      "text/html": [
       "\n",
       "    <div class=\"content\">\n",
       "     <span style=\"font-size:16px\">Legend --></span>\n",
       "      <lead>Lead</lead>\n",
       "      <Position>Position</Position>\n",
       "      <Claim>Claim</Claim>\n",
       "      <Counterclaim>Counterclaim</Counterclaim>\n",
       "      <Rebuttal>Rebuttal</Rebuttal>\n",
       "      <Evidence>Evidence</Evidence>\n",
       "      <Concluding_Statement>Concluding_Statement</Concluding_Statement>\n",
       "    </div>\n",
       "\n",
       "    <div class=\"row\">\n",
       "      <div class=\"column\">\n",
       "        <h2 class=\"title\">Prediction</h2>\n",
       "        <p style=\"text-align:justify\"><Lead style='padding: 2px'>Did you know that the human touch is very important to the human brain? Human touch lets the brain know that you're still alive and breathing. It will let the brain know that their body will always be okay and that they are in safe hands. Without human touch, you or anyone else, could die. Students may experience enormous mental health problems </Lead> <Position style='padding: 2px'>but they should at least try to participate because students will become healthier through human </Position> <Claim style='padding: 2px'>and they can use these activities for future references. Any student can become healthier through small activities, here's </Claim> <Evidence style='padding: 2px'>making friends. Even if this activity requires the tiniest conversation, the brain is becoming more active and is not being isolated in it's own thoughts. Students will come in contact with sports through this process. Sports would be a great way to become healthy. A body requires physical exersize, this will help with the vitamins that your body needs throughout the years. Students will be able to think in a more imaginative way. This opens another part of your brain which may have never been used before. This will help you imagine fun things for a \"get away\" space! Any extracurricular activity can helps your students in a healthy way. These kids will have rough times throughout their lifetime. These activities will help them through their scenario today! Students will have more experience if a future problem gets </Evidence> <Claim style='padding: 2px'>their way. The, now grown up, student can reference their past extracurricular activity. They will be able to think more clearly and will be able to get passed their real life problem. Students </Claim> <Evidence style='padding: 2px'>use certain extracurricular activities for community service projects. In their future, community service will be very important to college applications. They can use these hours as an example for this future application. Students can think back to their activity and think about the good times that they might have had there. This will make them smile at the eperience they had in high school. It will leave a perminant smile on their face whenever they think of their school. Everyone will have fun yet different scenarios they can look back on and use for future references. Some kids might have a spiraling and out of control mental health situation. If that is a big problem, then they should not have to do the extracurricular activity. Anything having to do with mental to physical pain should be taken seriously at all times. </Evidence> <Claim style='padding: 2px'>smallest thing may be able to tigger this emotion. If this student wants </Claim> <Evidence style='padding: 2px'>to </Evidence> <Claim style='padding: 2px'>do an activity, you should let them! Anyone with mental health and physical pain issues can try new </Claim> <Evidence style='padding: 2px'>things which includes after school activities, just take things a bit slow and see how it goes! Students may experience mental health issues but you should at least let them try to participate because, these students will become healthier and they will have this for future references! Even though kids may have these issues, that doesn't mean they can't try. Anything can be healthy in it's own way, shape, and form! I think </Evidence> <Concluding_Statement style='padding: 2px'>you should make the kids at least have one after school activity but only to an extent. </Concluding_Statement></p>\n",
       "      </div>\n",
       "      <div class=\"column\">\n",
       "        <h2 class=\"title\">Ground Truth</h2>\n",
       "        <p style=\"text-align:justify\"><Lead style='padding: 2px'>Did you know that the human touch is very important to the human brain? Human touch lets the brain know that you're still alive and breathing. It will let the brain know that their body will always be okay and that they are in safe hands. Without human touch, you or anyone else, could die. </Lead> <Position style='padding: 2px'>Students may experience enormous mental health problems but they should at least try to participate </Position> <Claim style='padding: 2px'>students will become healthier through human interactions and they can use these activities for future references. </Claim> <Evidence style='padding: 2px'>These kids will become more social with eachother and they may end up making friends. Even if this activity requires the tiniest conversation, the brain is becoming more active and is not being isolated in it's own thoughts. Students will come in contact with sports through this process. Sports would be a great way to become healthy. A body requires physical exersize, this will help with the vitamins that your body needs throughout the years. Students will be able to think in a more imaginative way. This opens another part of your brain which may have never been used before. This will help you imagine fun things for a \"get away\" space! Any extracurricular activity can helps your students in a healthy way. These kids will have rough times throughout their lifetime. These activities will help them through their scenario today! Students will have more experience if a future problem gets in their way. The, now grown up, student can reference their past extracurricular activity. They will be able to think more clearly and will be able to get passed their real life problem. Students can use certain extracurricular activities for community service projects. In their future, community service will be very important to college applications. They can use these hours as an example for this future application. Students can think back to their activity and think about the good times that they might have had there. This will make them smile at the eperience they had in high school. It will leave a perminant smile on their face whenever they think of their school. Everyone will have fun yet different scenarios they can look back on and use for future references. </Evidence> <Claim style='padding: 2px'>Some kids might have a spiraling and out of control mental health situation. If that is a big problem, then they should not have to do the extracurricular activity. </Claim> <Evidence style='padding: 2px'>Anything having to do with mental to physical pain should be taken seriously at all times. The smallest thing may be able to tigger this emotion. If this student wants to do an activity, you should let them! Anyone with mental health and physical pain issues can try new things which includes after school activities, just take things a bit slow and see how it goes! </Evidence> <Concluding_Statement style='padding: 2px'>Students may experience mental health issues but you should at least let them try to participate because, these students will become healthier and they will have this for future references! </Concluding_Statement></p>\n",
       "      </div>\n",
       "    </div>\n",
       "    \n",
       "    "
      ],
      "text/plain": [
       "<IPython.core.display.HTML object>"
      ]
     },
     "metadata": {},
     "output_type": "display_data"
    },
    {
     "data": {
      "text/html": [
       "\n",
       "    <div class=\"content\">\n",
       "     <span style=\"font-size:16px\">Legend --></span>\n",
       "      <lead>Lead</lead>\n",
       "      <Position>Position</Position>\n",
       "      <Claim>Claim</Claim>\n",
       "      <Counterclaim>Counterclaim</Counterclaim>\n",
       "      <Rebuttal>Rebuttal</Rebuttal>\n",
       "      <Evidence>Evidence</Evidence>\n",
       "      <Concluding_Statement>Concluding_Statement</Concluding_Statement>\n",
       "    </div>\n",
       "\n",
       "    <div class=\"row\">\n",
       "      <div class=\"column\">\n",
       "        <h2 class=\"title\">Prediction</h2>\n",
       "        <p style=\"text-align:justify\"><Lead style='padding: 2px'>As human beings we must care for the earth that was so kindly bestowed upon us, meaning we must do all in our power to prevent it from self-destructing due to our carlessness. One way we seem </Lead> <Position style='padding: 2px'>to have recently discoved we can make a difference is that the limiting of car usage is an enormous step towards our goal. Cars have been a topic </Position> <Evidence style='padding: 2px'>of contriversy worldwide, as it seems people refused to stop the usage of such a helpful tool in todays society, but as time goes on we have opened our eyes to a world of better choices. Citizens from all around see that car usage can be cut down, and it will be an astonishing change for both humans, as well as the earth. The limitation of car usage will provide a more healthy enviornment </Evidence> <Claim style='padding: 2px'>for the earth as well as those who live on it. Cars are a simply a machine in which we have allowed ourselves </Claim> <Evidence style='padding: 2px'>to believe that life can not go on without it. Here we will discover how truley wrong we were. Although we all understand that these vehicles allow use to save much time by getting </Evidence> <Counterclaim style='padding: 2px'>to our destinations quicker, it does alot of harm to our planet as well. As stated in the article, \"In German </Counterclaim> <Rebuttal style='padding: 2px'>Suburb, Life Goes on Without Cars\", cars are responsible for 50 </Rebuttal> <Evidence style='padding: 2px'>percent greenhouse gas emission in certain areas of the United states. The fuel we use to power our cars is released into the O-Zone layer, and into our atmosphere which creates a greenhouse affect and slowly, but surley destroys our enviornment. However, we have the power to protect the planet we live on for we have so many different choices of transpertation that causes way less harm. Cutting down on driving is a simple task in which we can all participate in. Next we focus more on how car limiation affects ourselves. Driving take a toll on us because other forms of transportation do so much good towards ones self being, but as humans we seem to always take the easy way out. If we didnt always use cars, and took a walk for instance it would improve health as well as many other things. In an artice written by Andrew Selsky it states that \"It's a good opportunity to take away stress and lower air pollution.\" The less smog in the air, the better we can breath which will improve our health, and walking is good for that as well. We don\"t need cars to live our lives. Life goes on without the use of a machine. All in all cars we must care for this world as well as ourselves, and this is the first step towards this goal. Some fear that this change in society will have horrible consequences because we are so use to cars in our life, but these vehicles dont control </Evidence> <Concluding_Statement style='padding: 2px'>By use limiting car usage we are providing a healthier enviornment for both human beings as well as our earth. Lets take the steps toward making this world a better place to live for us as well as the many generations to come. Don't you wish to </Concluding_Statement> <Rebuttal style='padding: 2px'>live </Rebuttal> <Concluding_Statement style='padding: 2px'>in </Concluding_Statement> <Rebuttal style='padding: 2px'>a </Rebuttal> <Concluding_Statement style='padding: 2px'>clean, </Concluding_Statement> <Rebuttal style='padding: 2px'>and healthy world? </Rebuttal> <Concluding_Statement style='padding: 2px'> </Concluding_Statement></p>\n",
       "      </div>\n",
       "      <div class=\"column\">\n",
       "        <h2 class=\"title\">Ground Truth</h2>\n",
       "        <p style=\"text-align:justify\"><Lead style='padding: 2px'>As human beings we must care for the earth that was so kindly bestowed upon us, meaning we must do all in our power to prevent it from self-destructing due to our carlessness. </Lead> <Position style='padding: 2px'>One way we seem to have recently discoved we can make a difference is that the limiting of car usage is an enormous step towards our goal. </Position> <Evidence style='padding: 2px'>Cars have been a topic of contriversy worldwide, as it seems people refused to stop the usage of such a helpful tool in todays society, but as time goes on we have opened our eyes to a world of better choices. Citizens from all around see that car usage can be cut down, and it will be an astonishing change for both humans, as well as the earth. </Evidence> <Claim style='padding: 2px'>The limitation of car usage will provide a more healthy enviornment for the earth as well as those who live on it. </Claim> <Counterclaim style='padding: 2px'>Although we all understand that these vehicles allow use to save much time by getting us to our destinations quicker, </Counterclaim> <Rebuttal style='padding: 2px'>it does alot of harm to our planet as well. </Rebuttal> <Evidence style='padding: 2px'>As stated in the article, \"In German Suburb, Life Goes on Without Cars\", cars are responsible for 50 percent greenhouse gas emission in certain areas of the United states. The fuel we use to power our cars is released into the O-Zone layer, and into our atmosphere which creates a greenhouse affect and slowly, but surley destroys our enviornment. </Evidence> <Claim style='padding: 2px'>we have the power to protect the planet we live on for we have so many different choices of transpertation that causes way less harm. </Claim> <Evidence style='padding: 2px'>Next we focus more on how car limiation affects ourselves. Driving take a toll on us because other forms of transportation do so much good towards ones self being, but as humans we seem to always take the easy way out. </Evidence> <Claim style='padding: 2px'>If we didnt always use cars, and took a walk for instance it would improve health as well as many other things. </Claim> <Evidence style='padding: 2px'>In an artice written by Andrew Selsky it states that \"It's a good opportunity to take away stress and lower air pollution.\" The less smog in the air, the better we can breath which will improve our health, and walking is good for that as well. We don\"t need cars to live our lives. Life goes on without the use of a machine. </Evidence> <Concluding_Statement style='padding: 2px'>All in all cars we must care for this world as well as ourselves, and this is the first step towards this goal. Some fear that this change in society will have horrible consequences because we are so use to cars in our life, but these vehicles dont control us. By use limiting car usage we are providing a healthier enviornment for both human beings as well as our earth. Lets take the steps toward making this world a better place to live for us as well as the many generations to come. Don't you wish to live in a clean, and healthy world? </Concluding_Statement></p>\n",
       "      </div>\n",
       "    </div>\n",
       "    \n",
       "    "
      ],
      "text/plain": [
       "<IPython.core.display.HTML object>"
      ]
     },
     "metadata": {},
     "output_type": "display_data"
    },
    {
     "data": {
      "text/html": [
       "\n",
       "    <div class=\"content\">\n",
       "     <span style=\"font-size:16px\">Legend --></span>\n",
       "      <lead>Lead</lead>\n",
       "      <Position>Position</Position>\n",
       "      <Claim>Claim</Claim>\n",
       "      <Counterclaim>Counterclaim</Counterclaim>\n",
       "      <Rebuttal>Rebuttal</Rebuttal>\n",
       "      <Evidence>Evidence</Evidence>\n",
       "      <Concluding_Statement>Concluding_Statement</Concluding_Statement>\n",
       "    </div>\n",
       "\n",
       "    <div class=\"row\">\n",
       "      <div class=\"column\">\n",
       "        <h2 class=\"title\">Prediction</h2>\n",
       "        <p style=\"text-align:justify\"><Lead style='padding: 2px'>Beep.. Beep.. Beep... That is the sound of someone's heart monitor at a hospital. can you imagine waking up in the hospital after a car wreck. Well it's happened plenty of times, but the accident was never caused by a driverless car. What about the new laws they will have to make for these new cars? These cars will never happen, and if they do they </Lead> <Position style='padding: 2px'>will cause many accidents in the future. In the article I had just read it says \"Even if traffic laws </Position> <Evidence style='padding: 2px'>new laws will be needed in order to cover liability in the case of an accident.\" Say you were to get in a wreck while driving a driverless car, and the car wouldn't use its break </Evidence> <Claim style='padding: 2px'>so you went through a stop sign and </Claim> <Evidence style='padding: 2px'>hit </Evidence> <Claim style='padding: 2px'>another car and someone was killed in the accident. Who's fault is it? Is it your fault for hitting the other car, or is it the manufactures fault </Claim> <Evidence style='padding: 2px'>for </Evidence> <Claim style='padding: 2px'>safely making your vehicle? Driverless cars are not safe and never will be. Technology always has a glitch somewhere. In the article Driverless Cars are Coming, the talk about sensors in paragraphs four to seven. \"The car can handle </Claim> <Evidence style='padding: 2px'>driving functions </Evidence> <Claim style='padding: 2px'>at </Claim> <Evidence style='padding: 2px'>speeds up </Evidence> <Claim style='padding: 2px'>to </Claim> <Evidence style='padding: 2px'>25 mph, but special touch sensors make sure the driver keeps hold of the wheel.\" This was said in paragraph seven of the article. But why would they make these driverless cars if they can only reach 25 mph.? Most people would want a driverless car for interstates and highways, because those are the most boring roads in history. Driverless cars are not safe, they can cause many accidents and who's at fault, you or the manufacturer? Companies just need to stop trying to make driverless cars because they aren't going to be sucessful for society today. </Evidence> <Concluding_Statement style='padding: 2px'>need to be human driven and that's all. No driverless cars are coming, not now not ever! </Concluding_Statement></p>\n",
       "      </div>\n",
       "      <div class=\"column\">\n",
       "        <h2 class=\"title\">Ground Truth</h2>\n",
       "        <p style=\"text-align:justify\"><Lead style='padding: 2px'>Beep.. Beep.. Beep... That is the sound of someone's heart monitor at a hospital. can you imagine waking up in the hospital after a car wreck. Well it's happened plenty of times, but the accident was never caused by a driverless car. What about the new laws they will have to make for these new cars? </Lead> <Position style='padding: 2px'>These cars will never happen, and if they do they will cause many accidents in the future. </Position> <Evidence style='padding: 2px'>\"Even if traffic laws change, new laws will be needed in order to cover liability in the case of an accident.\" </Evidence> <Claim style='padding: 2px'>Say you were to get in a wreck while driving a driverless car, and the car wouldn't use its break so you went through a stop sign and hit another car and someone was killed in the accident. Who's fault is it? Is it your fault for hitting the other car, or is it the manufactures fault for not safely making your vehicle? Driverless cars are not safe and never will be. </Claim> <Evidence style='padding: 2px'>Technology always has a glitch somewhere. In the article Driverless Cars are Coming, the talk about sensors in paragraphs four to seven. \"The car can handle driving functions at speeds up to 25 mph, but special touch sensors make sure the driver keeps hold of the wheel.\" This was said in paragraph seven of the article. But why would they make these driverless cars if they can only reach 25 mph.? Most people would want a driverless car for interstates and highways, because those are the most boring roads in history. </Evidence> <Concluding_Statement style='padding: 2px'>Driverless cars are not safe, they can cause many accidents and who's at fault, you or the manufacturer? Companies just need to stop trying to make driverless cars because they aren't going to be sucessful for society today. Cars need to be human driven and that's all. No driverless cars are coming, not now not ever! </Concluding_Statement></p>\n",
       "      </div>\n",
       "    </div>\n",
       "    \n",
       "    "
      ],
      "text/plain": [
       "<IPython.core.display.HTML object>"
      ]
     },
     "metadata": {},
     "output_type": "display_data"
    },
    {
     "data": {
      "text/html": [
       "\n",
       "    <div class=\"content\">\n",
       "     <span style=\"font-size:16px\">Legend --></span>\n",
       "      <lead>Lead</lead>\n",
       "      <Position>Position</Position>\n",
       "      <Claim>Claim</Claim>\n",
       "      <Counterclaim>Counterclaim</Counterclaim>\n",
       "      <Rebuttal>Rebuttal</Rebuttal>\n",
       "      <Evidence>Evidence</Evidence>\n",
       "      <Concluding_Statement>Concluding_Statement</Concluding_Statement>\n",
       "    </div>\n",
       "\n",
       "    <div class=\"row\">\n",
       "      <div class=\"column\">\n",
       "        <h2 class=\"title\">Prediction</h2>\n",
       "        <p style=\"text-align:justify\"><Lead style='padding: 2px'>The story about \"Making Mona Lisa Smile\" describe how a new technology called the Facial Action Coding System enable computers to indentify humans emotion by writing a essay arguing weather the use of this technology or to read the emotional expression ? Will I think </Lead> <Claim style='padding: 2px'>using this technology if it bring a smile to my face while it shows how much this computer can do. Then I might have to get it. Like if the computer no if </Claim> <Evidence style='padding: 2px'>im happy or sad in my emotion then thats a be a good feeling I dont know why but it will. A classroom computer could recognize when a </Evidence> <Claim style='padding: 2px'>student is becoming confused </Claim> <Evidence style='padding: 2px'>or bored. So if you confused on something the </Evidence> <Claim style='padding: 2px'>computer </Claim> <Evidence style='padding: 2px'>could help or figure it out for you . I think its good because if the teacher is helping another students work the computer could help the kids or whoever. So I think it will be good for students to </Evidence> <Claim style='padding: 2px'>a smart computer like that so when you do need help like that or feeling disgusted or fearful the computer will help. Like on her last asignment she could feel not knowing how </Claim> <Evidence style='padding: 2px'>to do things .Then you can calculate emotions like the math homework . In the computer constructs a 3-D computer model of the face in if you dont know how to work a app it will show you . But one reason why I dont know about it because one day you can be mad </Evidence> <Counterclaim style='padding: 2px'>not let no one know . Or want somebody to know whats going on with you. So I think thats probably one reason . Then you might not want help or want people seeing </Counterclaim> <Evidence style='padding: 2px'>your emotion even the teacher. so thats the reason I probably would'nt get on the computer for that reason or some people probably just dont like the setting to it or probably want think its useful.. But last I think its valuable in someways in school or at home . Sometimes people dont know whats wrong with they body. </Evidence> <Concluding_Statement style='padding: 2px'>can get right </Concluding_Statement> <Position style='padding: 2px'>on </Position> <Concluding_Statement style='padding: 2px'>the </Concluding_Statement> <Position style='padding: 2px'>computer in </Position> <Concluding_Statement style='padding: 2px'>so the computer could tell them like your despress or things like thats . So I think its a good learning envoirment for the kids in grown ups . So thats some reason why I thi nk its valuable. </Concluding_Statement> <Position style='padding: 2px'> </Position> <Concluding_Statement style='padding: 2px'> </Concluding_Statement></p>\n",
       "      </div>\n",
       "      <div class=\"column\">\n",
       "        <h2 class=\"title\">Ground Truth</h2>\n",
       "        <p style=\"text-align:justify\"><Lead style='padding: 2px'>The story about \"Making Mona Lisa Smile\" describe how a new technology called the Facial Action Coding System enable computers to indentify humans emotion by writing a essay arguing weather the use of this technology or to read the emotional expression ? </Lead> <Claim style='padding: 2px'>Will I think by using this technology if it bring a smile to my face while it shows how much this computer can do. Then I might have to get it. </Claim> <Evidence style='padding: 2px'>Like if the computer no if im happy or sad in my emotion then thats a be a good feeling I dont know why but it will. </Evidence> <Claim style='padding: 2px'>A classroom computer could recognize when a student is becoming confused or bored. </Claim> <Evidence style='padding: 2px'>So if you confused on something the computer could help or figure it out for you . I think its good because if the teacher is helping another students work the computer could help the kids or whoever. </Evidence> <Claim style='padding: 2px'>So I think it will be good for students to get a smart computer like that so when you do need help like that or feeling disgusted or fearful the computer will help. </Claim> <Evidence style='padding: 2px'>Like on her last asignment she could feel not knowing how to do things .Then you can calculate emotions like the math homework . In the computer constructs a 3-D computer model of the face in if you dont know how to work a app it will show you . </Evidence> <Counterclaim style='padding: 2px'>But one reason why I dont know about it because one day you can be mad in not let no one know . Or want somebody to know whats going on with you. </Counterclaim> <Evidence style='padding: 2px'>So I think thats probably one reason . Then you might not want help or want people seeing your emotion even the teacher. so thats the reason I probably would'nt get on the computer for that reason or some people probably just dont like the setting to it or probably want think its useful.. </Evidence> <Concluding_Statement style='padding: 2px'>But last I think its valuable in someways in school or at home . Sometimes people dont know whats wrong with they body. They can get right on the computer in so the computer could tell them like your despress or things like thats </Concluding_Statement> <Position style='padding: 2px'>I think its a good learning envoirment for the kids in grown ups . So thats some reason why I thi nk its valuable. </Position></p>\n",
       "      </div>\n",
       "    </div>\n",
       "    \n",
       "    "
      ],
      "text/plain": [
       "<IPython.core.display.HTML object>"
      ]
     },
     "metadata": {},
     "output_type": "display_data"
    },
    {
     "data": {
      "text/html": [
       "\n",
       "    <div class=\"content\">\n",
       "     <span style=\"font-size:16px\">Legend --></span>\n",
       "      <lead>Lead</lead>\n",
       "      <Position>Position</Position>\n",
       "      <Claim>Claim</Claim>\n",
       "      <Counterclaim>Counterclaim</Counterclaim>\n",
       "      <Rebuttal>Rebuttal</Rebuttal>\n",
       "      <Evidence>Evidence</Evidence>\n",
       "      <Concluding_Statement>Concluding_Statement</Concluding_Statement>\n",
       "    </div>\n",
       "\n",
       "    <div class=\"row\">\n",
       "      <div class=\"column\">\n",
       "        <h2 class=\"title\">Prediction</h2>\n",
       "        <p style=\"text-align:justify\"><Lead style='padding: 2px'>\"In my opinion you should go to a doctor if your back really hurts\" said Generic_Name's mom \"Maybe she should just rest and see if your back gets better\" said Generic_Name's dad \" Um I think i'll just take moms advice and go see a doctor, because my back has been hurting for a while now\" Generic_Name said. Generic_Name had asked her parents for advice, for her back pain that she has had for a couple of weeks now. First off, some people take advice from others because they really can't make a choice it's like their stuck between a huge </Lead> <Claim style='padding: 2px'>For example, Generic_Name didn't know, what shoes to get should she get the all white Vans or the all black Vans she just couldnt choose she really </Claim> <Evidence style='padding: 2px'>loved both of them she was stuck between a rock and a wall. Generic_Name couldn't make a choice, so she asked her friend Generic_Name which ones should she get \" You should get the all white ones their so cute\" said Generic_Name. Generic_Name thought to herself and decided to ask another one of her friends just to make sure, so she told Generic_Name what Generic_Name had said and asked for her opinion Generic_Name said \" Yeah I agree with Generic_Name plus you have a tone of black shoes\". There fore Generic_Name bought the all white Vans, and was actually really happy with the advice her friends had given her. This is one reason why people take advice from more then one person because their really stuck or, because that person has been in the situation as them or, get new advice that the person never even thought about. Secondly, people sometimes take advice from more then one person, because they been in the same situation before. For example, Generic_Name was getting really depressed and started to fail school, and didn't talk to any of her friends she just wanted to be alone. Generic_Name's mom got really concern and stated to seek for advice from mother's that have been in the </Evidence> <Claim style='padding: 2px'>mother. A friend of Generic_Name's mom told her that she should engorge Generic_Name too go out with friends, play </Claim> <Evidence style='padding: 2px'>a sport, and to stay positive around Generic_Name \"Thats what i did with my daughter and she got though her depression and now is very happy\" said Generic_Name's moms friend. Generic_Name's mother ask Generic_Name what is was like going though depression, and what her mother did to help her Generic_Name told Generic_Name's mom that, it was hard at first and that she felt really lonely until she opened up to her mom and told her everything from there her mom took her to a doctor to get help ,and got therapy that Generic_Name felt that helped her a lot. From there Generic_Name's mom told Generic_Name to open up to her and engorged Generic_Name too go hang out with friend or play a sport and, Generic_Name's mom told her that she would be there for her and that she isn't alone. Generic_Name's mom took her friends advice because, she felt like that was the best for her and Generic_Name. Finally, people also take advice from other people too see if they can find a better solution or advice. For example, Generic_Name is an actress she loves too act, but everywhere she goes theres always people taking pictures or videos of her. She was getting so annoyed by these people, and it got to the point where she stopped going out. Her producer told her that she should just tell them to go away, or get body guards. Generic_Name asked Generic_Name that was her best friend what to do Generic_Name told Generic_Name that she should just put on a disguise and go out like a regular person. Generic_Name took her producers advice because she had never thought about just getting a body guard before he had told her. In conclusion, there are many reasons why </Evidence> <Claim style='padding: 2px'>too ask more then one person for advice. People sometimes get stuck and really can't make a choice </Claim> <Evidence style='padding: 2px'>and ask for peoples advice. Other people ask people for advice that have been thought the same thing as that person asking for the advice. And some times people just don't know what to do or are just clueless. </Evidence> <Concluding_Statement style='padding: 2px'> </Concluding_Statement></p>\n",
       "      </div>\n",
       "      <div class=\"column\">\n",
       "        <h2 class=\"title\">Ground Truth</h2>\n",
       "        <p style=\"text-align:justify\"><Lead style='padding: 2px'>\"In my opinion you should go to a doctor if your back really hurts\" said Generic_Name's mom \"Maybe she should just rest and see if your back gets better\" said Generic_Name's dad \" Um I think i'll just take moms advice and go see a doctor, because my back has been hurting for a while now\" Generic_Name said. Generic_Name had asked her parents for advice, for her back pain that she has had for a couple of weeks now. </Lead> <Claim style='padding: 2px'>some people take advice from others because they really can't make a choice it's like their stuck between a huge rock and a wall. </Claim> <Evidence style='padding: 2px'>Generic_Name didn't know, what shoes to get should she get the all white Vans or the all black Vans she just couldnt choose she really loved both of them she was stuck between a rock and a wall. Generic_Name couldn't make a choice, so she asked her friend Generic_Name which ones should she get \" You should get the all white ones their so cute\" said Generic_Name. Generic_Name thought to herself and decided to ask another one of her friends just to make sure, so she told Generic_Name what Generic_Name had said and asked for her opinion Generic_Name said \" Yeah I agree with Generic_Name plus you have a tone of black shoes\". There fore Generic_Name bought the all white Vans, and was actually really happy with the advice her friends had given her. This is one reason why people take advice from more then one person because their really stuck or, because that person has been in the situation as them or, get new advice that the person never even thought about. </Evidence> <Claim style='padding: 2px'>people sometimes take advice from more then one person, because they been in the same situation before. </Claim> <Evidence style='padding: 2px'>Generic_Name was getting really depressed and started to fail school, and didn't talk to any of her friends she just wanted to be alone. Generic_Name's mom got really concern and stated to seek for advice from mother's that have been in the same situation as Generic_Name's mother. A friend of Generic_Name's mom told her that she should engorge Generic_Name too go out with friends, play a sport, and to stay positive around Generic_Name \"Thats what i did with my daughter and she got though her depression and now is very happy\" said Generic_Name's moms friend. Generic_Name's mother ask Generic_Name what is was like going though depression, and what her mother did to help her Generic_Name told Generic_Name's mom that, it was hard at first and that she felt really lonely until she opened up to her mom and told her everything from there her mom took her to a doctor to get help ,and got therapy that Generic_Name felt that helped her a lot. From there Generic_Name's mom told Generic_Name to open up to her and engorged Generic_Name too go hang out with friend or play a sport and, Generic_Name's mom told her that she would be there for her and that she isn't alone. Generic_Name's mom took her friends advice because, she felt like that was the best for her and Generic_Name. </Evidence> <Claim style='padding: 2px'>people also take advice from other people too see if they can find a better solution or advice. </Claim> <Evidence style='padding: 2px'>Generic_Name is an actress she loves too act, but everywhere she goes theres always people taking pictures or videos of her. She was getting so annoyed by these people, and it got to the point where she stopped going out. Her producer told her that she should just tell them to go away, or get body guards. Generic_Name asked Generic_Name that was her best friend what to do Generic_Name told Generic_Name that she should just put on a disguise and go out like a regular person. Generic_Name took her producers advice because she had never thought about just getting a body guard before he had told her. </Evidence> <Position style='padding: 2px'>there are many reasons why people make the decision too ask more then one person for advice. </Position> <Concluding_Statement style='padding: 2px'>People sometimes get stuck and really can't make a choice and ask for peoples advice. Other people ask people for advice that have been thought the same thing as that person asking for the advice. And some times people just don't know what to do or are just clueless. </Concluding_Statement></p>\n",
       "      </div>\n",
       "    </div>\n",
       "    \n",
       "    "
      ],
      "text/plain": [
       "<IPython.core.display.HTML object>"
      ]
     },
     "metadata": {},
     "output_type": "display_data"
    },
    {
     "data": {
      "text/html": [
       "\n",
       "    <div class=\"content\">\n",
       "     <span style=\"font-size:16px\">Legend --></span>\n",
       "      <lead>Lead</lead>\n",
       "      <Position>Position</Position>\n",
       "      <Claim>Claim</Claim>\n",
       "      <Counterclaim>Counterclaim</Counterclaim>\n",
       "      <Rebuttal>Rebuttal</Rebuttal>\n",
       "      <Evidence>Evidence</Evidence>\n",
       "      <Concluding_Statement>Concluding_Statement</Concluding_Statement>\n",
       "    </div>\n",
       "\n",
       "    <div class=\"row\">\n",
       "      <div class=\"column\">\n",
       "        <h2 class=\"title\">Prediction</h2>\n",
       "        <p style=\"text-align:justify\"><Lead style='padding: 2px'>First, he talk about the venus whihc is reffering to as \" evening star \" and how danger it is to earth in the present. he said that venus is </Lead> <Position style='padding: 2px'>a planet, in our solar system Venus is the second planet of our sun, he also think that it is a channelging place to examine more closely. Venus is referred to as </Position> <Evidence style='padding: 2px'>Earth twin, and because Venus is the closet planet to earth in terms of density and size and in distance too. Humans have sent numerous spacecraft to land on this cloud-draped world. WHihc mean everyone who go there not a single one survive. It is a very Channelging planet for human to study and it is provimity to us. It is a thick atmosphere of almost 97 percent carbon dioxide blankets Venus. Over the planet surface it the temperatures average over 800 degrees Fahrenheit and it 90 times greater than what we experience on our own planet. Astronomers are fascinated by Venus because it may well once have been the most earth-like </Evidence> <Claim style='padding: 2px'>in our solar system. The planet has a surface of rocky sedment and includes familiar features such as valleys, mountains, and craters. </Claim> <Evidence style='padding: 2px'>NASA are thinking about sending a human to study in Venus. Temperature will still be toasty at around 170 degrees Fahrenheit, but the air pressure would be close to the sea level on Earth. Solar power would be plentiful, and radiation would not exceed Earth levels. NOt easy condifitons, but survivable for humes. The researcher can't take a sample rock, gas or anything else, from the distance. so they need to get up close and personal despite the risk or they try to think that as a challlenges/ Many researcher are working on innovations that would allow the machines to last long enough to contribute meaningfully to our knowledge of Venus. NASA is working on other approaches to studying Venus. Another project is looking back to an old technology called Mechanical COmputers. These devices were first envisioned in the 1800s and played an important role in 1930s </Evidence> <Claim style='padding: 2px'>WWII. Modern computers are enormously powerful, flexible, and quick, but </Claim> <Evidence style='padding: 2px'>tend to be mroe delicate when it come to extreme physical conditions. Striving to meet the challenge presented by VEnus has value, not only because of the insight to be gained on the planet itself, but also because human curiosity will likely lead us into many eqyally intimidating endeavors. Our travels on Earth and beyond shold not be limited </Evidence> <Concluding_Statement style='padding: 2px'>dangers and doubts but should be expanded to meet the very edges of imagination and innovations. </Concluding_Statement></p>\n",
       "      </div>\n",
       "      <div class=\"column\">\n",
       "        <h2 class=\"title\">Ground Truth</h2>\n",
       "        <p style=\"text-align:justify\"><Lead style='padding: 2px'>First, he talk about the venus whihc is reffering to as \" evening star \" and how danger it is to earth in the present. he said that venus is a planet, in our solar system Venus is the second planet of our sun, </Lead> <Position style='padding: 2px'>he also think that it is a channelging place to examine more closely. </Position> <Evidence style='padding: 2px'>Venus is referred to as Earth twin, and because Venus is the closet planet to earth in terms of density and size and in distance too. Humans have sent numerous spacecraft to land on this cloud-draped world. WHihc mean everyone who go there not a single one survive. It is a very Channelging planet for human to study and it is provimity to us. It is a thick atmosphere of almost 97 percent carbon dioxide blankets Venus. Over the planet surface it the temperatures average over 800 degrees Fahrenheit and it 90 times greater than what we experience on our own planet. </Evidence> <Claim style='padding: 2px'>Astronomers are fascinated by Venus because it may well once have been the most earth-like okanet in our solar system. </Claim> <Evidence style='padding: 2px'>The planet has a surface of rocky sedment and includes familiar features such as valleys, mountains, and craters. NASA are thinking about sending a human to study in Venus. Temperature will still be toasty at around 170 degrees Fahrenheit, but the air pressure would be close to the sea level on Earth. Solar power would be plentiful, and radiation would not exceed Earth levels. NOt easy condifitons, but survivable for humes. The researcher can't take a sample rock, gas or anything else, from the distance. so they need to get up close and personal despite the risk or they try to think that as a challlenges/ Many researcher are working on innovations that would allow the machines to last long enough to contribute meaningfully to our knowledge of Venus. </Evidence> <Claim style='padding: 2px'>NASA is working on other approaches to studying Venus. </Claim> <Evidence style='padding: 2px'>Another project is looking back to an old technology called Mechanical COmputers. These devices were first envisioned in the 1800s and played an important role in 1930s during WWII. Modern computers are enormously powerful, flexible, and quick, but tend to be mroe delicate when it come to extreme physical conditions. </Evidence> <Concluding_Statement style='padding: 2px'>Striving to meet the challenge presented by VEnus has value, not only because of the insight to be gained on the planet itself, but also because human curiosity will likely lead us into many eqyally intimidating endeavors. Our travels on Earth and beyond shold not be limited by dangers and doubts but should be expanded to meet the very edges of imagination and innovations. </Concluding_Statement></p>\n",
       "      </div>\n",
       "    </div>\n",
       "    \n",
       "    "
      ],
      "text/plain": [
       "<IPython.core.display.HTML object>"
      ]
     },
     "metadata": {},
     "output_type": "display_data"
    },
    {
     "data": {
      "text/html": [
       "\n",
       "    <div class=\"content\">\n",
       "     <span style=\"font-size:16px\">Legend --></span>\n",
       "      <lead>Lead</lead>\n",
       "      <Position>Position</Position>\n",
       "      <Claim>Claim</Claim>\n",
       "      <Counterclaim>Counterclaim</Counterclaim>\n",
       "      <Rebuttal>Rebuttal</Rebuttal>\n",
       "      <Evidence>Evidence</Evidence>\n",
       "      <Concluding_Statement>Concluding_Statement</Concluding_Statement>\n",
       "    </div>\n",
       "\n",
       "    <div class=\"row\">\n",
       "      <div class=\"column\">\n",
       "        <h2 class=\"title\">Prediction</h2>\n",
       "        <p style=\"text-align:justify\"><Position style='padding: 2px'>we should continue to use the electoral college to elect our presidents. using the electoral college is </Position> <Claim style='padding: 2px'>and more benificial beacauese there is a certanty of outcome, everyones preident, swing states, big states, and it aviods run off elections. When you use the electoral vote instead of the popular votes the electoral vote exeeds the popular vote. For example when president Obama ran his electoral votes equaled 61.7 percent, but his </Claim> <Evidence style='padding: 2px'>popular vote only equaled 51.3 percent. If your a fan of Obama then you should love the fact that we use electoral votes. Electoral votes make it so that a president can only win the election if the have the trans-regional vote. A trans-regional vote </Evidence> <Claim style='padding: 2px'>that if a president was popular in, lets say the south, but not in the west and only the south voted </Claim> <Evidence style='padding: 2px'>for him then he/she could not be elected. A candidate must have a widely spread out amount of votes across the regions in order to be elected president. There are such things as swing states. Swing states mean that the state is made up of people who are democratic and republican so the state has a mixed variety of voters. Candidates spend a </Evidence> <Claim style='padding: 2px'>of </Claim> <Evidence style='padding: 2px'>time campagning in these swing states to try and persuade the voters in the state into their favor. Swing states could be seen as tie breakers. You may not think so, but in electoral voting the size and population of a state matters. The more people you have in a state the more senators and people you get in the house of representatives which means that the </Evidence> <Claim style='padding: 2px'>gets more votes towards who gets elected. A state like Florida will have more votes then a place like </Claim> <Evidence style='padding: 2px'>Maine. In popular voting there is always a chance for there to be a tie but in electoral college they avoid ties by making it an uneven number so there will be no mix ups. Electoral college is the way to go when it comes to voting for </Evidence> <Claim style='padding: 2px'>presendent. </Claim> <Counterclaim style='padding: 2px'>From, Madi Bro </Counterclaim> <Claim style='padding: 2px'> </Claim> <Rebuttal style='padding: 2px'> </Rebuttal> <Concluding_Statement style='padding: 2px'> </Concluding_Statement></p>\n",
       "      </div>\n",
       "      <div class=\"column\">\n",
       "        <h2 class=\"title\">Ground Truth</h2>\n",
       "        <p style=\"text-align:justify\"><Position style='padding: 2px'>I believe that we should continue to use the electoral college to elect our presidents. </Position> <Claim style='padding: 2px'>using the electoral college is better and more benificial beacauese there is a certanty of outcome, everyones preident, swing states, big states, and it aviods run off elections. </Claim> <Evidence style='padding: 2px'>For example when president Obama ran his electoral votes equaled 61.7 percent, but his popular vote only equaled 51.3 percent. If your a fan of Obama then you should love the fact that we use electoral votes. Electoral votes make it so that a president can only win the election if the have the trans-regional vote. A trans-regional vote means that if a president was popular in, lets say the south, but not in the west and only the south voted for him then he/she could not be elected. A candidate must have a widely spread out amount of votes across the regions in order to be elected president. There are such things as swing states. Swing states mean that the state is made up of people who are democratic and republican so the state has a mixed variety of voters. Candidates spend a lot of time campagning in these swing states to try and persuade the voters in the state into their favor. </Evidence> <Claim style='padding: 2px'>in electoral voting the size and population of a state matters. </Claim> <Evidence style='padding: 2px'>The more people you have in a state the more senators and people you get in the house of representatives which means that the state gets more votes towards who gets elected. A state like Florida will have more votes then a place like Maine. </Evidence> <Concluding_Statement style='padding: 2px'>Electoral college is the way to go when it comes to voting for our presendent. </Concluding_Statement></p>\n",
       "      </div>\n",
       "    </div>\n",
       "    \n",
       "    "
      ],
      "text/plain": [
       "<IPython.core.display.HTML object>"
      ]
     },
     "metadata": {},
     "output_type": "display_data"
    },
    {
     "data": {
      "text/html": [
       "\n",
       "    <div class=\"content\">\n",
       "     <span style=\"font-size:16px\">Legend --></span>\n",
       "      <lead>Lead</lead>\n",
       "      <Position>Position</Position>\n",
       "      <Claim>Claim</Claim>\n",
       "      <Counterclaim>Counterclaim</Counterclaim>\n",
       "      <Rebuttal>Rebuttal</Rebuttal>\n",
       "      <Evidence>Evidence</Evidence>\n",
       "      <Concluding_Statement>Concluding_Statement</Concluding_Statement>\n",
       "    </div>\n",
       "\n",
       "    <div class=\"row\">\n",
       "      <div class=\"column\">\n",
       "        <h2 class=\"title\">Prediction</h2>\n",
       "        <p style=\"text-align:justify\"><Position style='padding: 2px'>I personally believe that driverless cars are a good idea and can be very useful. There are also some </Position> <Evidence style='padding: 2px'>major points </Evidence> <Claim style='padding: 2px'>that </Claim> <Evidence style='padding: 2px'>are needed to be </Evidence> <Position style='padding: 2px'>pointed out </Position> <Evidence style='padding: 2px'>before </Evidence> <Position style='padding: 2px'>a person purchases or drives one of these </Position> <Evidence style='padding: 2px'>cars. </Evidence> <Position style='padding: 2px'>I </Position> <Claim style='padding: 2px'>can see people taking advantage of these technologies and abusing the things the car may provide. The buyer should always </Claim> <Evidence style='padding: 2px'>take into consideration that these car could malfunction and be aware that these cars are not always going to be reliable. If the driver were </Evidence> <Claim style='padding: 2px'>to be carless and text and drive the car could possibly malfunction and you could be putting your life or someone else's life at risk. Manufactors are coming up with new techniques to help alert the driver of any danger that could possibly occur before the incident could even happen. Vibrating seats are providing the driver enough time to stop the </Claim> <Evidence style='padding: 2px'>car when it is about to run into another object. Flashing lights on the dash board are used to alert the driver if the car thinks they are being distracted from the road. In these cars the manufactors are installing video cameras to watch the driver inside that car and to watch for any danger the driver might encounter outside of the car. GPS are installed to monitor where the car is in case of a crash or if the driver is lost on the road the driver can use it to find there destination. Motion sensors are being put into cars to help the driver drive safely. The motion sensors help the driver know how far away they are from hitting another car or even a person. They are also used to apply brakes when the car is coming to close to another object. They are hoping to soon put in a display where the driverless car system can be shut off when the driver wants to be in control. \"The car read the positive and negative factors in binary code, they functioned surprisingly well but to make the massive upgrades needed would be far to expensive for them to even make it practical.\" The main focus that these manufactors have is to keep everyone on the roads safe. Take this into consideration, these cars could possibly </Evidence> <Concluding_Statement style='padding: 2px'>the human way of driving. Each and everyday new technologies are being discovered and giving humans another reason to become more lazy. These developments will eventually come into good use when the time comes, but that is if the people using them will have enough common sense to understand they can not abuse the advantages these cars provide and if they do it could lead into bigger consequenses. </Concluding_Statement></p>\n",
       "      </div>\n",
       "      <div class=\"column\">\n",
       "        <h2 class=\"title\">Ground Truth</h2>\n",
       "        <p style=\"text-align:justify\"><Position style='padding: 2px'>I personally believe that driverless cars are a good idea and can be very useful. There are also some major points that are needed to be pointed out before a person purchases or drives one of these cars. </Position> <Claim style='padding: 2px'>I can see people taking advantage of these technologies and abusing the things the car may provide. The buyer should always take into consideration that these car could malfunction and be aware that these cars are not always going to be reliable. If the driver were to be carless and text and drive the car could possibly malfunction and you could be putting your life or someone else's life at risk. </Claim> <Counterclaim style='padding: 2px'>Manufactors are coming up with new techniques to help alert the driver of any danger that could possibly occur before the incident could even happen. </Counterclaim> <Evidence style='padding: 2px'>Vibrating seats are providing the driver enough time to stop the car when it is about to run into another object. Flashing lights on the dash board are used to alert the driver if the car thinks they are being distracted from the road. In these cars the manufactors are installing video cameras to watch the driver inside that car and to watch for any danger the driver might encounter outside of the car. GPS are installed to monitor where the car is in case of a crash or if the driver is lost on the road the driver can use it to find there destination. Motion sensors are being put into cars to help the driver drive safely. The motion sensors help the driver know how far away they are from hitting another car or even a person. They are also used to apply brakes when the car is coming to close to another object. They are hoping to soon put in a display where the driverless car system can be shut off when the driver wants to be in control. \"The car read the positive and negative factors in binary code, they functioned surprisingly well but to make the massive upgrades needed would be far to expensive for them to even make it practical.\" </Evidence> <Concluding_Statement style='padding: 2px'>The main focus that these manufactors have is to keep everyone on the roads safe. Take this into consideration, these cars could possibly change the human way of driving. Each and everyday new technologies are being discovered and giving humans another reason to become more lazy. These developments will eventually come into good use when the time comes, but that is if the people using them will have enough common sense to understand they can not abuse the advantages these cars provide and if they do it could lead into bigger consequenses. </Concluding_Statement></p>\n",
       "      </div>\n",
       "    </div>\n",
       "    \n",
       "    "
      ],
      "text/plain": [
       "<IPython.core.display.HTML object>"
      ]
     },
     "metadata": {},
     "output_type": "display_data"
    },
    {
     "data": {
      "text/html": [
       "\n",
       "    <div class=\"content\">\n",
       "     <span style=\"font-size:16px\">Legend --></span>\n",
       "      <lead>Lead</lead>\n",
       "      <Position>Position</Position>\n",
       "      <Claim>Claim</Claim>\n",
       "      <Counterclaim>Counterclaim</Counterclaim>\n",
       "      <Rebuttal>Rebuttal</Rebuttal>\n",
       "      <Evidence>Evidence</Evidence>\n",
       "      <Concluding_Statement>Concluding_Statement</Concluding_Statement>\n",
       "    </div>\n",
       "\n",
       "    <div class=\"row\">\n",
       "      <div class=\"column\">\n",
       "        <h2 class=\"title\">Prediction</h2>\n",
       "        <p style=\"text-align:justify\"><Position style='padding: 2px'>People should join the seagoing cowboys because, it might be more than a adventure for you. Joining the </Position> <Claim style='padding: 2px'>seagoing cowboys might help you under stand the animals more better. You cold help </Claim> <Evidence style='padding: 2px'>animals like horses, young cows, and mules. The bad thing is that you are </Evidence> <Counterclaim style='padding: 2px'>from home for a while. Sometimes you could get hert when you are at the seagoing cowboys because, it is vary rainy at times. You couuld brake your ribs by checking on the animals in the rain. The good thing is that you can have fun helping the animals. It </Counterclaim> <Claim style='padding: 2px'>lead your family to have alot of vistors. You could even have fun </Claim> <Evidence style='padding: 2px'>on the boat to by unloading the animals. You might even help outher cuntrys for their needs. The going cowboys is an long job because, you have to crose Alantic Ocean. You could vist countrys that </Evidence> <Claim style='padding: 2px'>never visted </Claim> <Evidence style='padding: 2px'>before. </Evidence> <Claim style='padding: 2px'>before. On </Claim> <Evidence style='padding: 2px'>the </Evidence> <Claim style='padding: 2px'>boats </Claim> <Evidence style='padding: 2px'>you would have to cary the food for the animals. Sometimes you would play baseball, and volleyball where the animals where hosted. You would play games to pass the time like fencing, boxing, reading and </Evidence> <Claim style='padding: 2px'>If you joined going cowboys there is alot of interesting things to do. </Claim> <Evidence style='padding: 2px'> </Evidence> <Concluding_Statement style='padding: 2px'> </Concluding_Statement></p>\n",
       "      </div>\n",
       "      <div class=\"column\">\n",
       "        <h2 class=\"title\">Ground Truth</h2>\n",
       "        <p style=\"text-align:justify\"><Position style='padding: 2px'>People should join the seagoing cowboys </Position> <Claim style='padding: 2px'>it might be more than a adventure for you. Joining the seagoing cowboys might help you under stand the animals more better. </Claim> <Evidence style='padding: 2px'>You cold help animals like horses, young cows, and mules. </Evidence> <Counterclaim style='padding: 2px'>The bad thing is that you are gone from home for a while. Sometimes you could get hert when you are at the seagoing cowboys because, it is vary rainy at times. You couuld brake your ribs by checking on the animals in the rain. </Counterclaim> <Claim style='padding: 2px'>It can lead your family to have alot of vistors. </Claim> <Evidence style='padding: 2px'>You could even have fun on the boat to by unloading the animals. </Evidence> <Claim style='padding: 2px'>You might even help outher cuntrys for their needs. </Claim> <Evidence style='padding: 2px'>The going cowboys is an long job because, you have to crose Alantic Ocean. </Evidence> <Claim style='padding: 2px'>You could vist countrys that you never visted before. </Claim> <Evidence style='padding: 2px'>On the boats you would have to cary the food for the animals. Sometimes you would play baseball, and volleyball where the animals where hosted. You would play games to pass the time like fencing, boxing, reading and whitting. </Evidence> <Claim style='padding: 2px'>If you joined going cowboys there is alot of interesting things to do. </Claim></p>\n",
       "      </div>\n",
       "    </div>\n",
       "    \n",
       "    "
      ],
      "text/plain": [
       "<IPython.core.display.HTML object>"
      ]
     },
     "metadata": {},
     "output_type": "display_data"
    },
    {
     "data": {
      "text/html": [
       "\n",
       "    <div class=\"content\">\n",
       "     <span style=\"font-size:16px\">Legend --></span>\n",
       "      <lead>Lead</lead>\n",
       "      <Position>Position</Position>\n",
       "      <Claim>Claim</Claim>\n",
       "      <Counterclaim>Counterclaim</Counterclaim>\n",
       "      <Rebuttal>Rebuttal</Rebuttal>\n",
       "      <Evidence>Evidence</Evidence>\n",
       "      <Concluding_Statement>Concluding_Statement</Concluding_Statement>\n",
       "    </div>\n",
       "\n",
       "    <div class=\"row\">\n",
       "      <div class=\"column\">\n",
       "        <h2 class=\"title\">Prediction</h2>\n",
       "        <p style=\"text-align:justify\"><Position style='padding: 2px'>I agree with the principal and most people just hang around and dont do any work. Kids </Position> <Claim style='padding: 2px'>need to start being more happy and play sports and enjoy life. At certain </Claim> <Evidence style='padding: 2px'>schools around the world Students act bad and just act up in general at school, and teachers dont seem to do things about it. If kids played sports </Evidence> <Claim style='padding: 2px'>more </Claim> <Evidence style='padding: 2px'>the school would gain a good reputaion. Sports are always fun, more people need to get there gets in sports like how the schools wants them too I believe that we should have all </Evidence> <Claim style='padding: 2px'>make kids certain sports, in certain times of the day. Like In elementary school you have gym after a class. </Claim> <Evidence style='padding: 2px'>We should tell parents that would want there kids to do activities that they would enjoy. If we had Students playing sports everyday then lots of people would be happy, plus who doesn't like to have fun once in awhile. If you wanna get on to the yearbook you need to be good in class and </Evidence> <Claim style='padding: 2px'>have good grades. If you do good things like help the teacher out they might take a picture and </Claim> <Evidence style='padding: 2px'>post you on there, saying something like \"This person helped me do something difficult\". In order to be a student councilor, you need to understand others in a way that you can help them if </Evidence> <Claim style='padding: 2px'>need it. Also you need to be a decent person and very understanding. Some kids may come if they need someone to talk to or are </Claim> <Evidence style='padding: 2px'>having trouble at home. As a student councilor you have very many responsabities such as caring and helping others when they need you. In our future we should all be happy and enjoy life. Schools should let students play sports and be a councilor or be in the year book. Parents should let there </Evidence> <Concluding_Statement style='padding: 2px'>kids </Concluding_Statement> <Evidence style='padding: 2px'>be a little more free. </Evidence> <Concluding_Statement style='padding: 2px'> </Concluding_Statement></p>\n",
       "      </div>\n",
       "      <div class=\"column\">\n",
       "        <h2 class=\"title\">Ground Truth</h2>\n",
       "        <p style=\"text-align:justify\"><Position style='padding: 2px'>I agree with the principal and most people just hang around and dont do any work. </Position> <Claim style='padding: 2px'>Kids need to start being more happy and play sports and enjoy life. </Claim> <Evidence style='padding: 2px'>At certain schools around the world Students act bad and just act up in general at school, and teachers dont seem to do things about it. If kids played sports more the school would gain a good reputaion. Sports are always fun, more people need to get there gets in sports like how the schools wants them too I believe that we should have all schools make kids certain sports, in certain times of the day. Like In elementary school you have gym after a class. We should tell parents that would want there kids to do activities that they would enjoy. If we had Students playing sports everyday then lots of people would be happy, plus who doesn't like to have fun once in awhile. </Evidence> <Claim style='padding: 2px'>If you wanna get on to the yearbook you need to be good in class and have good grades. </Claim> <Evidence style='padding: 2px'>If you do good things like help the teacher out they might take a picture and post you on there, saying something like \"This person helped me do something difficult\". </Evidence> <Claim style='padding: 2px'>In order to be a student councilor, you need to understand others in a way that you can help them if they need it. </Claim> <Evidence style='padding: 2px'>Also you need to be a decent person and very understanding. Some kids may come if they need someone to talk to or are having trouble at home. As a student councilor you have very many responsabities such as caring and helping others when they need you. </Evidence> <Concluding_Statement style='padding: 2px'>In our future we should all be happy and enjoy life. Schools should let students play sports and be a councilor or be in the year book. Parents should let there kids be a little more free. </Concluding_Statement></p>\n",
       "      </div>\n",
       "    </div>\n",
       "    \n",
       "    "
      ],
      "text/plain": [
       "<IPython.core.display.HTML object>"
      ]
     },
     "metadata": {},
     "output_type": "display_data"
    },
    {
     "data": {
      "text/html": [
       "\n",
       "    <div class=\"content\">\n",
       "     <span style=\"font-size:16px\">Legend --></span>\n",
       "      <lead>Lead</lead>\n",
       "      <Position>Position</Position>\n",
       "      <Claim>Claim</Claim>\n",
       "      <Counterclaim>Counterclaim</Counterclaim>\n",
       "      <Rebuttal>Rebuttal</Rebuttal>\n",
       "      <Evidence>Evidence</Evidence>\n",
       "      <Concluding_Statement>Concluding_Statement</Concluding_Statement>\n",
       "    </div>\n",
       "\n",
       "    <div class=\"row\">\n",
       "      <div class=\"column\">\n",
       "        <h2 class=\"title\">Prediction</h2>\n",
       "        <p style=\"text-align:justify\"><Lead style='padding: 2px'>According to Phones and Driving from the following prompt it asks the question should phones be used during travel, or should not. Throughout the recent years and the invention of \"the smartphone people\" utilized the technology to keep in contact with family and other people around the world. But during this time people would get carless and use their phone while driving. This is called \"Texting and Driving\", a word that is collaborated with \"Drinking and Driving\" where people would be under the use of alcohol while operating a vehicle, but texting and driving is applied that the driver is using their phone while driving causing the driver to be distracted from keeping their eyes on the road. Texting and Driving is a serious problem in the U.S and can cause </Lead> <Position style='padding: 2px'>problems for the driver and other drivers on the road. Heres one case According to the source (https://www. cbsnews. com/news/new-jersey-woman-faces-10-years-in-prison-for-deadly-texting-while-driving-case-2019-11-26/) \"A New Jersey woman is facing </Position> <Evidence style='padding: 2px'>up to a decade in prison after being convicted in a groundbreaking case. She was texting while driving, and killed a pedestrian, in a state that now considers that just as serious as drunk driving. \" Due to this report it shows the casualties that can form from texting and driving. This could have been easily avoided if the driver took her eyes off the phones for at least 5 more seconds before impacting the car. Texting and Driving can easily land anyone in prison or cause them to receive serious injuries from not looking at the road and driving properly. Local PD </Evidence> <Claim style='padding: 2px'>others would sincerely advice any driver to put their phone on silent to avoid severe casualties </Claim> <Evidence style='padding: 2px'>and to keep others safe while on the road Phones & Driving </Evidence> <Concluding_Statement style='padding: 2px'> </Concluding_Statement> <Evidence style='padding: 2px'> </Evidence> <Concluding_Statement style='padding: 2px'> </Concluding_Statement></p>\n",
       "      </div>\n",
       "      <div class=\"column\">\n",
       "        <h2 class=\"title\">Ground Truth</h2>\n",
       "        <p style=\"text-align:justify\"><Lead style='padding: 2px'>According to Phones and Driving from the following prompt it asks the question should phones be used during travel, or should not. Throughout the recent years and the invention of \"the smartphone people\" utilized the technology to keep in contact with family and other people around the world. But during this time people would get carless and use their phone while driving. This is called \"Texting and Driving\", a word that is collaborated with \"Drinking and Driving\" where people would be under the use of alcohol while operating a vehicle, but texting and driving is applied that the driver is using their phone while driving causing the driver to be distracted from keeping their eyes on the road. </Lead> <Position style='padding: 2px'>Texting and Driving is a serious problem in the U.S and can cause multiple problems for the driver and other drivers on the road. </Position> <Evidence style='padding: 2px'>Heres one case According to the source (https://www. cbsnews. com/news/new-jersey-woman-faces-10-years-in-prison-for-deadly-texting-while-driving-case-2019-11-26/) \"A New Jersey woman is facing up to a decade in prison after being convicted in a groundbreaking case. She was texting while driving, and killed a pedestrian, in a state that now considers that just as serious as drunk driving. \" Due to this report it shows the casualties that can form from texting and driving. </Evidence> <Claim style='padding: 2px'>This could have been easily avoided if the driver took her eyes off the phones for at least 5 more seconds before impacting the car. Texting and Driving can easily land anyone in prison or cause them to receive serious injuries from not looking at the road and driving properly. </Claim> <Concluding_Statement style='padding: 2px'>Local PD and others would sincerely advice any driver to put their phone on silent to avoid severe casualties and to keep others safe while on the road </Concluding_Statement></p>\n",
       "      </div>\n",
       "    </div>\n",
       "    \n",
       "    "
      ],
      "text/plain": [
       "<IPython.core.display.HTML object>"
      ]
     },
     "metadata": {},
     "output_type": "display_data"
    },
    {
     "data": {
      "text/html": [
       "\n",
       "    <div class=\"content\">\n",
       "     <span style=\"font-size:16px\">Legend --></span>\n",
       "      <lead>Lead</lead>\n",
       "      <Position>Position</Position>\n",
       "      <Claim>Claim</Claim>\n",
       "      <Counterclaim>Counterclaim</Counterclaim>\n",
       "      <Rebuttal>Rebuttal</Rebuttal>\n",
       "      <Evidence>Evidence</Evidence>\n",
       "      <Concluding_Statement>Concluding_Statement</Concluding_Statement>\n",
       "    </div>\n",
       "\n",
       "    <div class=\"row\">\n",
       "      <div class=\"column\">\n",
       "        <h2 class=\"title\">Prediction</h2>\n",
       "        <p style=\"text-align:justify\"><Position style='padding: 2px'>Do you think its is a good idea to limit car usage? Well i do and </Position> <Claim style='padding: 2px'>people now a days just have completely stop caring about the enviornment. I say </Claim> <Evidence style='padding: 2px'>this because more and more people are getting these big trucks and they are not realizing that when that truck starts it is letting out bad gases that harms our atmosphear. I read that people are now getting fines in Columbia because of there cars and right now i think that's a good idea. I say this because people are just down right lazy and they need to get up and go exercise, they could just go walk or even ride a bike to where they have to go, it's really not that hard. Next I read that president Obama has abitious goals to curb the united states greenhouse gas emission. I know that it will work out because I read that peopel think that america is pass the car age or what ever and that more and more people are starting to do whats right and start walking and riding bikes. Now I have also read that Car compinies are suffering from that one day without cars </Evidence> <Counterclaim style='padding: 2px'>because i think they fear that people might love the day without cars so much,that they just might stop buying them. Car componies are also suffering because I read that more and more people are becoming unemployed or they just cant affored it so they take alternet ways to get to where they have to go and they just dont worry about it. These are some of the reasons why i think it is a good idea that we should limit the usage in this </Counterclaim> <Concluding_Statement style='padding: 2px'>because there are so many pro's and cons on why its a good/bad idea. </Concluding_Statement></p>\n",
       "      </div>\n",
       "      <div class=\"column\">\n",
       "        <h2 class=\"title\">Ground Truth</h2>\n",
       "        <p style=\"text-align:justify\"><Position style='padding: 2px'>Do you think its is a good idea to limit car usage? Well i do </Position> <Claim style='padding: 2px'>more people now a days just have completely stop caring about the enviornment. </Claim> <Evidence style='padding: 2px'>I say this because more and more people are getting these big trucks and they are not realizing that when that truck starts it is letting out bad gases that harms our atmosphear. I read that people are now getting fines in Columbia because of there cars and right now i think that's a good idea. </Evidence> <Claim style='padding: 2px'>people are just down right lazy and they need to get up and go exercise, </Claim> <Evidence style='padding: 2px'>president Obama has abitious goals to curb the united states greenhouse gas emission. I know that it will work out because I read that peopel think that america is pass the car age or what ever and that more and more people are starting to do whats right and start walking and riding bikes. </Evidence> <Counterclaim style='padding: 2px'>Now I have also read that Car compinies are suffering from that one day without cars thing because i think they fear that people might love the day without cars so much,that they just might stop buying them. Car componies are also suffering because I read that more and more people are becoming unemployed or they just cant affored it so they take alternet ways to get to where they have to go and they just dont worry about it. </Counterclaim> <Concluding_Statement style='padding: 2px'>These are some of the reasons why i think it is a good idea that we should limit the usage in this world because there are so many pro's and cons on why its a good/bad idea. </Concluding_Statement></p>\n",
       "      </div>\n",
       "    </div>\n",
       "    \n",
       "    "
      ],
      "text/plain": [
       "<IPython.core.display.HTML object>"
      ]
     },
     "metadata": {},
     "output_type": "display_data"
    },
    {
     "data": {
      "text/html": [
       "\n",
       "    <div class=\"content\">\n",
       "     <span style=\"font-size:16px\">Legend --></span>\n",
       "      <lead>Lead</lead>\n",
       "      <Position>Position</Position>\n",
       "      <Claim>Claim</Claim>\n",
       "      <Counterclaim>Counterclaim</Counterclaim>\n",
       "      <Rebuttal>Rebuttal</Rebuttal>\n",
       "      <Evidence>Evidence</Evidence>\n",
       "      <Concluding_Statement>Concluding_Statement</Concluding_Statement>\n",
       "    </div>\n",
       "\n",
       "    <div class=\"row\">\n",
       "      <div class=\"column\">\n",
       "        <h2 class=\"title\">Prediction</h2>\n",
       "        <p style=\"text-align:justify\"><Lead style='padding: 2px'>With technological advancements consistently increasing, the presence of technology in our everyday lives is becoming more prevalent. The so called, \"age of technology,\" is among us, so there are many different ways in which we can incorporate technology to make our lives easier. However, students should not be given the </Lead> <Position style='padding: 2px'>ability to participate in their classes from home through the use of distance learning because there is no guarantee that students will </Position> <Claim style='padding: 2px'>remain on task, there are risks of several technological issues, and not all students have internet access at home. One of the biggest struggles for students, if given the ability to attend their classes online, will be the lack of motivation and concentration. Even when in school, many students find it difficult to pay attention or to find the </Claim> <Evidence style='padding: 2px'>will to complete work, so who is to say that at home distractions won't make this issue worse? Also considering that students are staying home while they are sick, they may not have the energy to work on school. Although students may attend their classes while at home via the internet, they may just do so in order for it to </Evidence> <Counterclaim style='padding: 2px'>appear on record that they viewed the class, but may not actually </Counterclaim> <Evidence style='padding: 2px'>pay attention </Evidence> <Rebuttal style='padding: 2px'>to the lesson. Teachers and parents would have to find a way to motivate these students in </Rebuttal> <Evidence style='padding: 2px'>order for </Evidence> <Rebuttal style='padding: 2px'>the distance learning option to be successful in </Rebuttal> <Evidence style='padding: 2px'>terms of legitimately helping students learn missed information from class. Technology can be seen being used almost anywhere in our modernized world, but just because it's widely used, does not mean that it is entirely reliable. The </Evidence> <Claim style='padding: 2px'>of technology is unpredictable, which means that solutions to a problem are not always known either. There is no way to avoid all the possible problems that may arise, like </Claim> <Evidence style='padding: 2px'>the various viruses that personal devices are susceptible of contacting. If students were to use devices to attend classes online, it's likely that they will experience network issues on more than one occasion due to the fact that this form of e-learning is long distance. The idea of broadcasting classes by video calling sounds like a good idea, until you consider the reality of it's unlikely success. Directly related to technological issues is the concept that not all students even have access to a personal device or internet connection at home. This makes it entirely impossible for a student to be capable of participating in distance learning and attending their classes. Unless schools </Evidence> <Claim style='padding: 2px'>to provide county-authorized personal devices for the soul purpose of completing school work, students have an unequal opportunity to partake in this practice. It's </Claim> <Evidence style='padding: 2px'>crucial that students are given an equal chance, otherwise it is strictly unfair and possible that students who are not able to receive access to technology will fall further behind in classes compared to those who do have the ability. Although the risks of distance learning are clear, there are also reasons for this option to be made available. If given the ability to attend classes online, it will be significantly easier for students to make up any missed work, and as a result, students will be less likely to fall behind in class. There are many </Evidence> <Counterclaim style='padding: 2px'>who do not enjoy attending school as much as they should, however, missing class and having to make up the work </Counterclaim> <Evidence style='padding: 2px'>is considerably more stressful. In that case, the use of distance learning would ultimately be beneficial for all students. </Evidence> <Concluding_Statement style='padding: 2px'> </Concluding_Statement> <Evidence style='padding: 2px'> </Evidence> <Concluding_Statement style='padding: 2px'> </Concluding_Statement> <Evidence style='padding: 2px'> </Evidence> <Rebuttal style='padding: 2px'> </Rebuttal> <Concluding_Statement style='padding: 2px'> </Concluding_Statement> <Rebuttal style='padding: 2px'> </Rebuttal></p>\n",
       "      </div>\n",
       "      <div class=\"column\">\n",
       "        <h2 class=\"title\">Ground Truth</h2>\n",
       "        <p style=\"text-align:justify\"><Lead style='padding: 2px'>With technological advancements consistently increasing, the presence of technology in our everyday lives is becoming more prevalent. The so called, \"age of technology,\" is among us, so there are many different ways in which we can incorporate technology to make our lives easier. </Lead> <Position style='padding: 2px'>However, students should not be given the ability to participate in their classes from home through the use of distance learning </Position> <Claim style='padding: 2px'>because there is no guarantee that students will remain on task, there are risks of several technological issues, and not all students have internet access at home. One of the biggest struggles for students, if given the ability to attend their classes online, will be the lack of motivation and concentration. </Claim> <Evidence style='padding: 2px'>Even when in school, many students find it difficult to pay attention or to find the will to complete work, so who is to say that at home distractions won't make this issue worse? Also considering that students are staying home while they are sick, they may not have the energy to work on school. Although students may attend their classes while at home via the internet, they may just do so in order for it to appear on record that they viewed the class, but may not actually pay attention to the lesson. Teachers and parents would have to find a way to motivate these students in order for the distance learning option to be successful in terms of legitimately helping students learn missed information from class. </Evidence> <Claim style='padding: 2px'>Technology can be seen being used almost anywhere in our modernized world, but just because it's widely used, does not mean that it is entirely reliable. </Claim> <Evidence style='padding: 2px'>The use of technology is unpredictable, which means that solutions to a problem are not always known either. There is no way to avoid all the possible problems that may arise, like the various viruses that personal devices are susceptible of contacting. If students were to use devices to attend classes online, it's likely that they will experience network issues on more than one occasion due to the fact that this form of e-learning is long distance. The idea of broadcasting classes by video calling sounds like a good idea, until you consider the reality of it's unlikely success. </Evidence> <Claim style='padding: 2px'>Directly related to technological issues is the concept that not all students even have access to a personal device or internet connection at home. </Claim> <Evidence style='padding: 2px'>This makes it entirely impossible for a student to be capable of participating in distance learning and attending their classes. Unless schools were to provide county-authorized personal devices for the soul purpose of completing school work, students have an unequal opportunity to partake in this practice. It's crucial that students are given an equal chance, otherwise it is strictly unfair and possible that students who are not able to receive access to technology will fall further behind in classes compared to those who do have the ability. </Evidence> <Counterclaim style='padding: 2px'>Although the risks of distance learning are clear, there are also reasons for this option to be made available. If given the ability to attend classes online, it will be significantly easier for students to make up any missed work, and as a result, students will be less likely to fall behind in class. </Counterclaim> <Evidence style='padding: 2px'>There are many students who do not enjoy attending school as much as they should, however, missing class and having to make up the work is considerably more stressful. In that case, the use of distance learning would ultimately be beneficial for all students. </Evidence></p>\n",
       "      </div>\n",
       "    </div>\n",
       "    \n",
       "    "
      ],
      "text/plain": [
       "<IPython.core.display.HTML object>"
      ]
     },
     "metadata": {},
     "output_type": "display_data"
    },
    {
     "data": {
      "text/html": [
       "\n",
       "    <div class=\"content\">\n",
       "     <span style=\"font-size:16px\">Legend --></span>\n",
       "      <lead>Lead</lead>\n",
       "      <Position>Position</Position>\n",
       "      <Claim>Claim</Claim>\n",
       "      <Counterclaim>Counterclaim</Counterclaim>\n",
       "      <Rebuttal>Rebuttal</Rebuttal>\n",
       "      <Evidence>Evidence</Evidence>\n",
       "      <Concluding_Statement>Concluding_Statement</Concluding_Statement>\n",
       "    </div>\n",
       "\n",
       "    <div class=\"row\">\n",
       "      <div class=\"column\">\n",
       "        <h2 class=\"title\">Prediction</h2>\n",
       "        <p style=\"text-align:justify\"><Lead style='padding: 2px'>Many schools offer distance learning as an option for students to attend classes from home. Students would use this resource to attend class through online or video conferencing, instead of actually going into school everyday. Students would not </Lead> <Position style='padding: 2px'>benefit from being able to attend classes from home because at school </Position> <Claim style='padding: 2px'>they have deadlines, they have peers at school to interact with, and they have many resources available. Students can benefit from being in school instead of online school if they have deadlines. Having a physical deadline for many students allows them </Claim> <Evidence style='padding: 2px'>to make goals for themselves. By doing so, they can either procrastinate or start working straight ahead to get the paper or homework done. Producing goals as a student can make school life easier to maintain. Although in online school, they do have deadlines, but many students choose to do it later than the deadline. This can often set them back, but by having deadlines to get their work done at school, they will be able to maintain their course to succeed with good grades. Having deadlines in school, students will be able to maintain their success with completing assignments on time to obtain good grades. Many students can benefit from going to school instead of online school because they have peers at school to interact with. Often </Evidence> <Claim style='padding: 2px'>school can be boring and make students not want to do their school work, but by having friends in classes students would </Claim> <Evidence style='padding: 2px'>want to go and do their work more. WIth having many peers at school, students can interact with eachother to make school more fun and have a better learning enviroment. In doing so, students would want to go to their classes or have study groups with their friends. Also, students and their friends could interact and engage in the class lectures and boost the learning enviroment to be able to have more fun, which makes students work harder in school to acquire good grades. Having a fun learning enviroment shows that students actually learn better as well. Students would not benefit from attending classes through online school because they do not have a lot of resources. When students go into school, they have many available resources that they can use. For many </Evidence> <Claim style='padding: 2px'>projects or research they need to conduct, they would need some guidance or information. To get this information they could </Claim> <Evidence style='padding: 2px'>turn to any teachers or professors, and they could even go to the school library. Often times, students would not be able to acquire such resources at their own homes. By being able to get information from books or teachers, they would get valuable and accurate information that would help them to succeed in their research or projects in school. Critics may argue that by having students attend school from their homes and through online/video conferencing, students will benefit more than if they went into schools. Often times students cannot commute to their school/college or perhaps they cannot go into school because they are sick. Although, being able </Evidence> <Counterclaim style='padding: 2px'>go into school and listen to teachers lectures or get resources will be far more beneficial. Students should attend school rather than online or video conferencing because they can maintain their </Counterclaim> <Evidence style='padding: 2px'>grades through deadlines, have a better learning enviroment through friends in their classes, and there are many resources available that students </Evidence> <Rebuttal style='padding: 2px'>would not be able to get at home. </Rebuttal> <Concluding_Statement style='padding: 2px'> </Concluding_Statement></p>\n",
       "      </div>\n",
       "      <div class=\"column\">\n",
       "        <h2 class=\"title\">Ground Truth</h2>\n",
       "        <p style=\"text-align:justify\"><Lead style='padding: 2px'>Many schools offer distance learning as an option for students to attend classes from home. Students would use this resource to attend class through online or video conferencing, instead of actually going into school everyday. </Lead> <Position style='padding: 2px'>Students would not benefit from being able to attend classes from home </Position> <Claim style='padding: 2px'>because at school they have deadlines, they have peers at school to interact with, and they have many resources available. Students can benefit from being in school instead of online school if they have deadlines. Having a physical deadline for many students allows them to make goals for themselves. </Claim> <Evidence style='padding: 2px'>By doing so, they can either procrastinate or start working straight ahead to get the paper or homework done. Producing goals as a student can make school life easier to maintain. Although in online school, they do have deadlines, but many students choose to do it later than the deadline. This can often set them back, but by having deadlines to get their work done at school, they will be able to maintain their course to succeed with good grades. Having deadlines in school, students will be able to maintain their success with completing assignments on time to obtain good grades. </Evidence> <Claim style='padding: 2px'>Many students can benefit from going to school instead of online school because they have peers at school to interact with. </Claim> <Evidence style='padding: 2px'>Often times school can be boring and make students not want to do their school work, but by having friends in classes students would want to go and do their work more. WIth having many peers at school, students can interact with eachother to make school more fun and have a better learning enviroment. In doing so, students would want to go to their classes or have study groups with their friends. Also, students and their friends could interact and engage in the class lectures and boost the learning enviroment to be able to have more fun, which makes students work harder in school to acquire good grades. Having a fun learning enviroment shows that students actually learn better as well. </Evidence> <Claim style='padding: 2px'>Students would not benefit from attending classes through online school because they do not have a lot of resources. When students go into school, they have many available resources that they can use. </Claim> <Evidence style='padding: 2px'>For many school projects or research they need to conduct, they would need some guidance or information. To get this information they could turn to any teachers or professors, and they could even go to the school library. Often times, students would not be able to acquire such resources at their own homes. By being able to get information from books or teachers, they would get valuable and accurate information that would help them to succeed in their research or projects in school. </Evidence> <Counterclaim style='padding: 2px'>Critics may argue that by having students attend school from their homes and through online/video conferencing, students will benefit more than if they went into schools. </Counterclaim> <Evidence style='padding: 2px'>Often times students cannot commute to their school/college or perhaps they cannot go into school because they are sick. </Evidence> <Rebuttal style='padding: 2px'>Although, being able to go into school and listen to teachers lectures or get resources will be far more beneficial. </Rebuttal> <Concluding_Statement style='padding: 2px'>Students should attend school rather than online or video conferencing because they can maintain their grades through deadlines, have a better learning enviroment through friends in their classes, and there are many resources available that students would not be able to get at home. </Concluding_Statement></p>\n",
       "      </div>\n",
       "    </div>\n",
       "    \n",
       "    "
      ],
      "text/plain": [
       "<IPython.core.display.HTML object>"
      ]
     },
     "metadata": {},
     "output_type": "display_data"
    },
    {
     "data": {
      "text/html": [
       "\n",
       "    <div class=\"content\">\n",
       "     <span style=\"font-size:16px\">Legend --></span>\n",
       "      <lead>Lead</lead>\n",
       "      <Position>Position</Position>\n",
       "      <Claim>Claim</Claim>\n",
       "      <Counterclaim>Counterclaim</Counterclaim>\n",
       "      <Rebuttal>Rebuttal</Rebuttal>\n",
       "      <Evidence>Evidence</Evidence>\n",
       "      <Concluding_Statement>Concluding_Statement</Concluding_Statement>\n",
       "    </div>\n",
       "\n",
       "    <div class=\"row\">\n",
       "      <div class=\"column\">\n",
       "        <h2 class=\"title\">Prediction</h2>\n",
       "        <p style=\"text-align:justify\"><Position style='padding: 2px'>Why </Position> <Lead style='padding: 2px'>is </Lead> <Position style='padding: 2px'>venus worth pursuiting. Well </Position> <Claim style='padding: 2px'>venus </Claim> <Position style='padding: 2px'>is </Position> <Claim style='padding: 2px'>is </Claim> <Position style='padding: 2px'>worth putsuiting because </Position> <Claim style='padding: 2px'>you would be able to gain ifotmation like samples of rocks, samples of gases or anything else. venus used to </Claim> <Evidence style='padding: 2px'>have water like earth, and scientists would like to know what happen to all the water. venus used to be able to support life, but now it can't. venus still has some features of earth, like the rocky sediment that includes valleys, mountains,and craters. Why is venus so dangers to have human explor it. Well venus tempture is </Evidence> <Claim style='padding: 2px'>dregees, It 97% covered in carbon dioxide. The atomosphere pressure is </Claim> <Evidence style='padding: 2px'>90 time greater than earth and the clouds on venus are highly corrsive sulfric acid. Why is venus worth putsuiting well if NASA could find a way for hunman to explor it then we could find </Evidence> <Claim style='padding: 2px'>new thing about space. like why is it so hot on venus. then have been spacecraft sent to venus but no human was on it for </Claim> <Evidence style='padding: 2px'>good reason. The space craft didn't last more than a few hours after landing. They have some ways to explore venus but all of them have failed but venus is worth pursit if they can find away to get it. they will </Evidence> <Concluding_Statement style='padding: 2px'>away because human curiosty will likely lead us into many equally intimidating endavors. </Concluding_Statement></p>\n",
       "      </div>\n",
       "      <div class=\"column\">\n",
       "        <h2 class=\"title\">Ground Truth</h2>\n",
       "        <p style=\"text-align:justify\"><Lead style='padding: 2px'>Why is venus worth pursuiting. </Lead> <Position style='padding: 2px'>Well venus is worth putsuiting </Position> <Claim style='padding: 2px'>you would be able to gain ifotmation </Claim> <Evidence style='padding: 2px'>samples of rocks, samples of gases or anything else. venus used to have water like earth, and scientists would like to know what happen to all the water. venus used to be able to support life, but now it can't. venus still has some features of earth, like the rocky sediment that includes valleys, mountains,and craters. </Evidence> <Claim style='padding: 2px'>venus so dangers to have human explor it. </Claim> <Evidence style='padding: 2px'>Well venus tempture is 800 dregees, It 97% covered in carbon dioxide. The atomosphere pressure is 90 time greater than earth and the clouds on venus are highly corrsive sulfric acid. </Evidence> <Claim style='padding: 2px'>if NASA could find a way for hunman to explor it then we could find out new thing about space. </Claim> <Evidence style='padding: 2px'>like why is it so hot on venus. then have been spacecraft sent to venus but no human was on it for good reason. The space craft didn't last more than a few hours after landing. </Evidence> <Concluding_Statement style='padding: 2px'>They have some ways to explore venus but all of them have failed but venus is worth pursit if they can find away to get it. they will find away because human curiosty will likely lead us into many equally intimidating endavors. </Concluding_Statement></p>\n",
       "      </div>\n",
       "    </div>\n",
       "    \n",
       "    "
      ],
      "text/plain": [
       "<IPython.core.display.HTML object>"
      ]
     },
     "metadata": {},
     "output_type": "display_data"
    },
    {
     "data": {
      "text/html": [
       "\n",
       "    <div class=\"content\">\n",
       "     <span style=\"font-size:16px\">Legend --></span>\n",
       "      <lead>Lead</lead>\n",
       "      <Position>Position</Position>\n",
       "      <Claim>Claim</Claim>\n",
       "      <Counterclaim>Counterclaim</Counterclaim>\n",
       "      <Rebuttal>Rebuttal</Rebuttal>\n",
       "      <Evidence>Evidence</Evidence>\n",
       "      <Concluding_Statement>Concluding_Statement</Concluding_Statement>\n",
       "    </div>\n",
       "\n",
       "    <div class=\"row\">\n",
       "      <div class=\"column\">\n",
       "        <h2 class=\"title\">Prediction</h2>\n",
       "        <p style=\"text-align:justify\"><Lead style='padding: 2px'>\"It's offcial: The electoral college is unfair, outdated, and irrational\" (Plumer, Source 2). Many do not like the electoral college for these reasons and many others such as it can be a distaster or because it is just plain dumb. Also there are a few reasons why the electoral college should be kept such as avoiding run-off elections or big states, but those not in favor of it out weigh those in favor of it. The people who despise the electoral college are in favor of popular vote since </Lead> <Position style='padding: 2px'>it is the better choice. For various reasons the electoral college is unfair such as not everyones decisions count just those </Position> <Claim style='padding: 2px'>people in the electoral collge. In a popular vote election everyones vote counts not just those who are considered better than us because </Claim> <Evidence style='padding: 2px'>they hold authority over people. Those people can also be sneaky and can change votes to be in favor of their choice of president. They will even take bribes sometimes just becuase they can even though us other people do count. The system should not even be here today because it is outdated way past our time. \"It's hard to say this, but </Evidence> <Claim style='padding: 2px'>Dole was right: Abolsi the electoral college!\" (Plumer, Source 2) and many others do agree with </Claim> <Evidence style='padding: 2px'>this statement because it rather true that we do so instead of let a bunch of monkeys run our states and country, but I am pretty sure that sometimes they could even do a better job than those in office right now. \".....over 60 percent of voters would prefer a direct election to the kind we have now\" (Plumer, Source 2) every day as we continue that percentage continues to grow and that data was recorded in 2000. Lastly, the electoral college is irrational like seriously what idiotic person came up with this. I will say this again, but a monkey could of made a better system than this. \"Under the electoral college system, voters vote not for the </Evidence> <Claim style='padding: 2px'>but for a slate of electors, who in turn elect the president........Who are the electors? They can be </Claim> <Evidence style='padding: 2px'>anyone not holding public office. </Evidence> <Claim style='padding: 2px'>Who </Claim> <Evidence style='padding: 2px'>picks </Evidence> <Claim style='padding: 2px'>the electors in the first place? It depends on the </Claim> <Evidence style='padding: 2px'>state. Sometimes state conventions, sometimes the state party's central committee, soemtimes the presidential candidate themselves. Can voters control whom their electors vote for? Not always. DO voters sometimes get confused about the electors and vote for the wrong candiate? Sometimes\" (Plumer, Source 2) I know this statement says it all becuase how could one simply not want popular vote after reading this. I know that electoral college vote can help and not cause problems, but there are more problems while there is one easy fix which is popular vote. \"It's offcial: The electoral college is unfair, outdated, and irrational\" (Plumer, Source 2). </Evidence> <Concluding_Statement style='padding: 2px'> </Concluding_Statement> <Evidence style='padding: 2px'> </Evidence> <Concluding_Statement style='padding: 2px'> </Concluding_Statement></p>\n",
       "      </div>\n",
       "      <div class=\"column\">\n",
       "        <h2 class=\"title\">Ground Truth</h2>\n",
       "        <p style=\"text-align:justify\"><Lead style='padding: 2px'>\"It's offcial: The electoral college is unfair, outdated, and irrational\" (Plumer, Source 2). Many do not like the electoral college for these reasons and many others such as it can be a distaster or because it is just plain dumb. Also there are a few reasons why the electoral college should be kept such as avoiding run-off elections or big states, but those not in favor of it out weigh those in favor of it. </Lead> <Position style='padding: 2px'>The people who despise the electoral college are in favor of popular vote since it is the better choice. </Position> <Claim style='padding: 2px'>For various reasons the electoral college is unfair such as not everyones decisions count just those few people in the electoral collge. </Claim> <Evidence style='padding: 2px'>In a popular vote election everyones vote counts not just those who are considered better than us because they hold authority over people. Those people can also be sneaky and can change votes to be in favor of their choice of president. They will even take bribes sometimes just becuase they can even though us other people do count. </Evidence> <Claim style='padding: 2px'>The system should not even be here today because it is outdated way past our time. </Claim> <Evidence style='padding: 2px'>\"It's hard to say this, but Bob Dole was right: Abolsi the electoral college!\" (Plumer, Source 2) and many others do agree with this statement because it rather true that we do so instead of let a bunch of monkeys run our states and country, but I am pretty sure that sometimes they could even do a better job than those in office right now. \".....over 60 percent of voters would prefer a direct election to the kind we have now\" (Plumer, Source 2) every day as we continue that percentage continues to grow and that data was recorded in 2000. </Evidence> <Claim style='padding: 2px'>Lastly, the electoral college is irrational </Claim> <Evidence style='padding: 2px'>\"Under the electoral college system, voters vote not for the president, but for a slate of electors, who in turn elect the president........Who are the electors? They can be anyone not holding public office. Who picks the electors in the first place? It depends on the state. Sometimes state conventions, sometimes the state party's central committee, soemtimes the presidential candidate themselves. Can voters control whom their electors vote for? Not always. DO voters sometimes get confused about the electors and vote for the wrong candiate? Sometimes\" (Plumer, Source 2) I know this statement says it all becuase how could one simply not want popular vote after reading this. </Evidence> <Concluding_Statement style='padding: 2px'>I know that electoral college vote can help and not cause problems, but there are more problems while there is one easy fix which is popular vote. \"It's offcial: The electoral college is unfair, outdated, and irrational\" (Plumer, Source 2). </Concluding_Statement></p>\n",
       "      </div>\n",
       "    </div>\n",
       "    \n",
       "    "
      ],
      "text/plain": [
       "<IPython.core.display.HTML object>"
      ]
     },
     "metadata": {},
     "output_type": "display_data"
    },
    {
     "data": {
      "text/html": [
       "\n",
       "    <div class=\"content\">\n",
       "     <span style=\"font-size:16px\">Legend --></span>\n",
       "      <lead>Lead</lead>\n",
       "      <Position>Position</Position>\n",
       "      <Claim>Claim</Claim>\n",
       "      <Counterclaim>Counterclaim</Counterclaim>\n",
       "      <Rebuttal>Rebuttal</Rebuttal>\n",
       "      <Evidence>Evidence</Evidence>\n",
       "      <Concluding_Statement>Concluding_Statement</Concluding_Statement>\n",
       "    </div>\n",
       "\n",
       "    <div class=\"row\">\n",
       "      <div class=\"column\">\n",
       "        <h2 class=\"title\">Prediction</h2>\n",
       "        <p style=\"text-align:justify\"><Position style='padding: 2px'>should be required to do at least 24 hours of community service each year. That's adds up to only </Position> <Claim style='padding: 2px'>day of your 365 day year. It is not asking for a lot from the us to sacrifice one day. I think if you want to do more than 24 hours of </Claim> <Evidence style='padding: 2px'>go right ahead that would be even better. If 1,000 students each help out for a day, that would be 24,000 hours of community service! That could make a huge impact in our community. I know some people would still disagree and not do this, but as a second option you can make them do a large project that would take </Evidence> <Counterclaim style='padding: 2px'>a lot longer than a day. I don't know too </Counterclaim> <Claim style='padding: 2px'>many people that would much rather do a huge project rather than sacrifice a total of two, maybe three whole days to help out their </Claim> <Evidence style='padding: 2px'>community. </Evidence> <Claim style='padding: 2px'>It </Claim> <Evidence style='padding: 2px'>take long at all. It could be as easy as picking up some trash in the local park or, if you want to you can be able to tutor kids or help out kids with a disability. Either way, you are going to help out the community in a positive way. Just imagine, what we could be able to do if our whole school were to chip in 24 hours of community service. We could do so much if we were to put this rule into our school program. I do community service every year just to help out the </Evidence> <Claim style='padding: 2px'>community without being required to do it. I have cleaned up the park, helped make sandwiches for the homeless, helped kids with disabilities. I can </Claim> <Evidence style='padding: 2px'>only imagine how much this could change our community if everybody in our school were required to do this. People that we would be helping would be so grateful. We as a school could become the school that everyone talks so greatly about. We could start promoting this idea around school by hanging posters up, handing out flyers, reminding people on the morning and afternoon announcements. If you get behind my idea, I know students and teachers will follow us and make a huge difference in our community. We could even send out e-mails to each student's parents telling them of this idea. If the parents find out about this, I believe they will certainly force their kids to take part in a small amount of community service. All I am asking from you, is to just enforce this one little rule into </Evidence> <Concluding_Statement style='padding: 2px'>school. It could change lives. I am not asking for everybody to do a whole lot, just 24 hours of your life to help out the community. There are so many opportunities for our students to help out our community. Who knows, maybe you could save somebody's life while doing the community service. Sincerely, STUDENT_NAME </Concluding_Statement></p>\n",
       "      </div>\n",
       "      <div class=\"column\">\n",
       "        <h2 class=\"title\">Ground Truth</h2>\n",
       "        <p style=\"text-align:justify\"><Position style='padding: 2px'>I believe everyone should be required to do at least 24 hours of community service each year. That's adds up to only one day of your 365 day year. </Position> <Claim style='padding: 2px'>It is not asking for a lot from the us to sacrifice one day. </Claim> <Evidence style='padding: 2px'>I think if you want to do more than 24 hours of service, go right ahead that would be even better. If 1,000 students each help out for a day, that would be 24,000 hours of community service! That could make a huge impact in our community. </Evidence> <Claim style='padding: 2px'>I know some people would still disagree and not do this, but as a second option you can make them do a large project that would take them a lot longer than a day. </Claim> <Evidence style='padding: 2px'>I don't know too many people that would much rather do a huge project rather than sacrifice a total of two, maybe three whole days to help out their community. It wouldn't take long at all. It could be as easy as picking up some trash in the local park or, if you want to you can be able to tutor kids or help out kids with a disability. Either way, you are going to help out the community in a positive way. </Evidence> <Claim style='padding: 2px'>Just imagine, what we could be able to do if our whole school were to chip in 24 hours of community service. </Claim> <Evidence style='padding: 2px'>We could do so much if we were to put this rule into our school program. I do community service every year just to help out the community without being required to do it. I have cleaned up the park, helped make sandwiches for the homeless, helped kids with disabilities. I can only imagine how much this could change our community if everybody in our school were required to do this. People that we would be helping would be so grateful. We as a school could become the school that everyone talks so greatly about. We could start promoting this idea around school by hanging posters up, handing out flyers, reminding people on the morning and afternoon announcements. </Evidence> <Concluding_Statement style='padding: 2px'>If you get behind my idea, I know students and teachers will follow us and make a huge difference in our community. We could even send out e-mails to each student's parents telling them of this idea. If the parents find out about this, I believe they will certainly force their kids to take part in a small amount of community service. All I am asking from you, is to just enforce this one little rule into our school. It could change lives. I am not asking for everybody to do a whole lot, just 24 hours of your life to help out the community. There are so many opportunities for our students to help out our community. Who knows, maybe you could save somebody's life while doing the community service. </Concluding_Statement></p>\n",
       "      </div>\n",
       "    </div>\n",
       "    \n",
       "    "
      ],
      "text/plain": [
       "<IPython.core.display.HTML object>"
      ]
     },
     "metadata": {},
     "output_type": "display_data"
    }
   ],
   "source": [
    "for i in range(30):\n",
    "    display(comparison_text(pred_essays.loc[i,'html'],true_essays.loc[i,'html']))"
   ]
  },
  {
   "cell_type": "code",
   "execution_count": null,
   "id": "15dc50c6",
   "metadata": {},
   "outputs": [],
   "source": []
  }
 ],
 "metadata": {
  "kernelspec": {
   "display_name": "Python 3 (ipykernel)",
   "language": "python",
   "name": "python3"
  },
  "language_info": {
   "codemirror_mode": {
    "name": "ipython",
    "version": 3
   },
   "file_extension": ".py",
   "mimetype": "text/x-python",
   "name": "python",
   "nbconvert_exporter": "python",
   "pygments_lexer": "ipython3",
   "version": "3.8.12"
  },
  "toc": {
   "base_numbering": "1",
   "nav_menu": {},
   "number_sections": true,
   "sideBar": true,
   "skip_h1_title": true,
   "title_cell": "Table of Contents",
   "title_sidebar": "Contents",
   "toc_cell": false,
   "toc_position": {
    "height": "calc(100% - 180px)",
    "left": "10px",
    "top": "150px",
    "width": "268px"
   },
   "toc_section_display": true,
   "toc_window_display": true
  },
  "varInspector": {
   "cols": {
    "lenName": 16,
    "lenType": 16,
    "lenVar": 40
   },
   "kernels_config": {
    "python": {
     "delete_cmd_postfix": "",
     "delete_cmd_prefix": "del ",
     "library": "var_list.py",
     "varRefreshCmd": "print(var_dic_list())"
    },
    "r": {
     "delete_cmd_postfix": ") ",
     "delete_cmd_prefix": "rm(",
     "library": "var_list.r",
     "varRefreshCmd": "cat(var_dic_list()) "
    }
   },
   "position": {
    "height": "505.844px",
    "left": "1063px",
    "right": "20px",
    "top": "120px",
    "width": "357px"
   },
   "types_to_exclude": [
    "module",
    "function",
    "builtin_function_or_method",
    "instance",
    "_Feature"
   ],
   "window_display": false
  }
 },
 "nbformat": 4,
 "nbformat_minor": 5
}
