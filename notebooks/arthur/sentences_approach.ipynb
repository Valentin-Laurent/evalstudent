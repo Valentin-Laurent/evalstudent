{
 "cells": [
  {
   "cell_type": "markdown",
   "id": "9879f5a0",
   "metadata": {},
   "source": [
    "# Imports and data load"
   ]
  },
  {
   "cell_type": "code",
   "execution_count": 1,
   "id": "fcd8c290",
   "metadata": {
    "ExecuteTime": {
     "end_time": "2022-03-02T19:45:56.183023Z",
     "start_time": "2022-03-02T19:45:46.041329Z"
    }
   },
   "outputs": [],
   "source": [
    "import os\n",
    "import pandas as pd \n",
    "import numpy as np \n",
    "import matplotlib.pyplot as plt\n",
    "import seaborn as sns \n",
    "import tensorflow as tf  \n",
    "\n",
    "from collections import Counter"
   ]
  },
  {
   "cell_type": "code",
   "execution_count": 2,
   "id": "b7e58032",
   "metadata": {
    "ExecuteTime": {
     "end_time": "2022-03-02T19:45:56.203644Z",
     "start_time": "2022-03-02T19:45:56.200676Z"
    }
   },
   "outputs": [],
   "source": [
    "# Variables\n",
    "\n",
    "LOAD_PREPROCESSED = False"
   ]
  },
  {
   "cell_type": "code",
   "execution_count": 4,
   "id": "f29c02a0",
   "metadata": {
    "ExecuteTime": {
     "end_time": "2022-03-02T19:46:04.106775Z",
     "start_time": "2022-03-02T19:46:03.267638Z"
    }
   },
   "outputs": [
    {
     "data": {
      "text/html": [
       "<div>\n",
       "<style scoped>\n",
       "    .dataframe tbody tr th:only-of-type {\n",
       "        vertical-align: middle;\n",
       "    }\n",
       "\n",
       "    .dataframe tbody tr th {\n",
       "        vertical-align: top;\n",
       "    }\n",
       "\n",
       "    .dataframe thead th {\n",
       "        text-align: right;\n",
       "    }\n",
       "</style>\n",
       "<table border=\"1\" class=\"dataframe\">\n",
       "  <thead>\n",
       "    <tr style=\"text-align: right;\">\n",
       "      <th></th>\n",
       "      <th>id</th>\n",
       "      <th>discourse_id</th>\n",
       "      <th>discourse_start</th>\n",
       "      <th>discourse_end</th>\n",
       "      <th>discourse_text</th>\n",
       "      <th>discourse_type</th>\n",
       "      <th>discourse_type_num</th>\n",
       "      <th>predictionstring</th>\n",
       "    </tr>\n",
       "  </thead>\n",
       "  <tbody>\n",
       "    <tr>\n",
       "      <th>0</th>\n",
       "      <td>423A1CA112E2</td>\n",
       "      <td>1.622628e+12</td>\n",
       "      <td>8.0</td>\n",
       "      <td>229.0</td>\n",
       "      <td>Modern humans today are always on their phone....</td>\n",
       "      <td>Lead</td>\n",
       "      <td>Lead 1</td>\n",
       "      <td>1 2 3 4 5 6 7 8 9 10 11 12 13 14 15 16 17 18 1...</td>\n",
       "    </tr>\n",
       "    <tr>\n",
       "      <th>1</th>\n",
       "      <td>423A1CA112E2</td>\n",
       "      <td>1.622628e+12</td>\n",
       "      <td>230.0</td>\n",
       "      <td>312.0</td>\n",
       "      <td>They are some really bad consequences when stu...</td>\n",
       "      <td>Position</td>\n",
       "      <td>Position 1</td>\n",
       "      <td>45 46 47 48 49 50 51 52 53 54 55 56 57 58 59</td>\n",
       "    </tr>\n",
       "  </tbody>\n",
       "</table>\n",
       "</div>"
      ],
      "text/plain": [
       "             id  discourse_id  discourse_start  discourse_end  \\\n",
       "0  423A1CA112E2  1.622628e+12              8.0          229.0   \n",
       "1  423A1CA112E2  1.622628e+12            230.0          312.0   \n",
       "\n",
       "                                      discourse_text discourse_type  \\\n",
       "0  Modern humans today are always on their phone....           Lead   \n",
       "1  They are some really bad consequences when stu...       Position   \n",
       "\n",
       "  discourse_type_num                                   predictionstring  \n",
       "0             Lead 1  1 2 3 4 5 6 7 8 9 10 11 12 13 14 15 16 17 18 1...  \n",
       "1         Position 1       45 46 47 48 49 50 51 52 53 54 55 56 57 58 59  "
      ]
     },
     "execution_count": 4,
     "metadata": {},
     "output_type": "execute_result"
    }
   ],
   "source": [
    "#load data, working on a sample\n",
    "df = pd.read_csv('../../raw_data/train.csv')\n",
    "df['discourse_type']=df['discourse_type'].replace('Concluding Statement','Concluding_Statement') ## for later\n",
    "df.head(2)"
   ]
  },
  {
   "cell_type": "code",
   "execution_count": 5,
   "id": "6e24a0e1",
   "metadata": {
    "ExecuteTime": {
     "end_time": "2022-03-02T19:46:05.622555Z",
     "start_time": "2022-03-02T19:46:05.618889Z"
    }
   },
   "outputs": [],
   "source": [
    "def is_not_sentence(text):\n",
    "    if '.' not in text[-5:] or not text[0].isupper():\n",
    "        return 0\n",
    "    return 1"
   ]
  },
  {
   "cell_type": "code",
   "execution_count": 4,
   "id": "5838c6a9",
   "metadata": {
    "ExecuteTime": {
     "end_time": "2022-02-18T18:08:30.380129Z",
     "start_time": "2022-02-18T18:08:30.282980Z"
    }
   },
   "outputs": [
    {
     "name": "stdout",
     "output_type": "stream",
     "text": [
      "There is approximatively 25.65% of discourses not limited by a sentence\n"
     ]
    }
   ],
   "source": [
    "## let's check the proportion of sentences\n",
    "df['is_not_sent']=df['discourse_text'].apply(is_not_sentence)\n",
    "p = df['is_not_sent'].sum()/2/len(df)\n",
    "print(f\"There is approximatively {p*100:.2f}% of discourses not limited by a sentence\")"
   ]
  },
  {
   "cell_type": "markdown",
   "id": "85b6ec78",
   "metadata": {},
   "source": [
    "# Preprocess the data\n",
    "\n",
    "Objective = get the data at sentence level"
   ]
  },
  {
   "cell_type": "code",
   "execution_count": 6,
   "id": "174e003e",
   "metadata": {
    "ExecuteTime": {
     "end_time": "2022-03-02T19:46:07.056391Z",
     "start_time": "2022-03-02T19:46:07.053485Z"
    }
   },
   "outputs": [],
   "source": [
    "#Pseudo code : \n",
    "# 1- create a match predictionstring-label-word\n",
    "    # a) repeat label\n",
    "    # b) groupby id / join \n",
    "    # c) match id/full text\n",
    "    \n",
    "# 2- go the other way around : from full text / ps / label to sentences / ps / label \n",
    "    # a) get the indice of the end of a sentence ; explode our dataset\n",
    "    # b) split by this indice for ps and labels\n",
    "    \n",
    "# 3- choose a type for sentences with 2 types"
   ]
  },
  {
   "cell_type": "code",
   "execution_count": 12,
   "id": "c9996fda",
   "metadata": {
    "ExecuteTime": {
     "end_time": "2022-03-02T19:47:47.317058Z",
     "start_time": "2022-03-02T19:47:47.312402Z"
    }
   },
   "outputs": [],
   "source": [
    "def get_essay(id_,mode='train'):\n",
    "    \"\"\"Function to get the full text of an essay from the .txt file.\n",
    "\n",
    "    Args:\n",
    "        id_ (str): id of the essay\n",
    "        mode (str, optional): determines whether to access *train* or *test* texts. \\\n",
    "        Defaults to 'train'.\n",
    "\n",
    "    Returns:\n",
    "        str: Returns the full text of the id\n",
    "    \"\"\"\n",
    "    with open(os.path.join('../../raw_data',mode,f'{id_}.txt'),'r') as file:\n",
    "        txt = file.read()\n",
    "    return txt.strip()"
   ]
  },
  {
   "cell_type": "code",
   "execution_count": 8,
   "id": "ce756996",
   "metadata": {
    "ExecuteTime": {
     "end_time": "2022-03-02T19:46:28.171331Z",
     "start_time": "2022-03-02T19:46:08.822888Z"
    }
   },
   "outputs": [],
   "source": [
    "def repeater(label,txt):\n",
    "    \"\"\"\n",
    "    Repeat discourse_type * length of discourse\n",
    "    \"\"\"\n",
    "    words=[]\n",
    "    labels=[]\n",
    "    for w in txt.split():\n",
    "        if '.' in w[-2:]:\n",
    "            labels.append(label+'.')\n",
    "        else:\n",
    "            labels.append(label)\n",
    "    return ' '.join(labels)\n",
    "\n",
    "repeater_vect = np.vectorize(repeater) #vectorize our function\n",
    "\n",
    "df['labels'] = repeater_vect(df['discourse_type'],df['discourse_text']) #apply"
   ]
  },
  {
   "cell_type": "code",
   "execution_count": 9,
   "id": "adf20f60",
   "metadata": {
    "ExecuteTime": {
     "end_time": "2022-03-02T19:46:28.257186Z",
     "start_time": "2022-03-02T19:46:28.239459Z"
    }
   },
   "outputs": [
    {
     "data": {
      "text/html": [
       "<div>\n",
       "<style scoped>\n",
       "    .dataframe tbody tr th:only-of-type {\n",
       "        vertical-align: middle;\n",
       "    }\n",
       "\n",
       "    .dataframe tbody tr th {\n",
       "        vertical-align: top;\n",
       "    }\n",
       "\n",
       "    .dataframe thead th {\n",
       "        text-align: right;\n",
       "    }\n",
       "</style>\n",
       "<table border=\"1\" class=\"dataframe\">\n",
       "  <thead>\n",
       "    <tr style=\"text-align: right;\">\n",
       "      <th></th>\n",
       "      <th>id</th>\n",
       "      <th>discourse_id</th>\n",
       "      <th>discourse_start</th>\n",
       "      <th>discourse_end</th>\n",
       "      <th>discourse_text</th>\n",
       "      <th>discourse_type</th>\n",
       "      <th>discourse_type_num</th>\n",
       "      <th>predictionstring</th>\n",
       "      <th>labels</th>\n",
       "    </tr>\n",
       "  </thead>\n",
       "  <tbody>\n",
       "    <tr>\n",
       "      <th>0</th>\n",
       "      <td>423A1CA112E2</td>\n",
       "      <td>1.622628e+12</td>\n",
       "      <td>8.0</td>\n",
       "      <td>229.0</td>\n",
       "      <td>Modern humans today are always on their phone....</td>\n",
       "      <td>Lead</td>\n",
       "      <td>Lead 1</td>\n",
       "      <td>1 2 3 4 5 6 7 8 9 10 11 12 13 14 15 16 17 18 1...</td>\n",
       "      <td>Lead Lead Lead Lead Lead Lead Lead Lead. Lead ...</td>\n",
       "    </tr>\n",
       "  </tbody>\n",
       "</table>\n",
       "</div>"
      ],
      "text/plain": [
       "             id  discourse_id  discourse_start  discourse_end  \\\n",
       "0  423A1CA112E2  1.622628e+12              8.0          229.0   \n",
       "\n",
       "                                      discourse_text discourse_type  \\\n",
       "0  Modern humans today are always on their phone....           Lead   \n",
       "\n",
       "  discourse_type_num                                   predictionstring  \\\n",
       "0             Lead 1  1 2 3 4 5 6 7 8 9 10 11 12 13 14 15 16 17 18 1...   \n",
       "\n",
       "                                              labels  \n",
       "0  Lead Lead Lead Lead Lead Lead Lead Lead. Lead ...  "
      ]
     },
     "execution_count": 9,
     "metadata": {},
     "output_type": "execute_result"
    }
   ],
   "source": [
    "df.head(1)"
   ]
  },
  {
   "cell_type": "code",
   "execution_count": 10,
   "id": "4c0a1589",
   "metadata": {
    "ExecuteTime": {
     "end_time": "2022-03-02T19:47:23.962020Z",
     "start_time": "2022-03-02T19:47:23.361955Z"
    }
   },
   "outputs": [
    {
     "data": {
      "text/html": [
       "<div>\n",
       "<style scoped>\n",
       "    .dataframe tbody tr th:only-of-type {\n",
       "        vertical-align: middle;\n",
       "    }\n",
       "\n",
       "    .dataframe tbody tr th {\n",
       "        vertical-align: top;\n",
       "    }\n",
       "\n",
       "    .dataframe thead th {\n",
       "        text-align: right;\n",
       "    }\n",
       "</style>\n",
       "<table border=\"1\" class=\"dataframe\">\n",
       "  <thead>\n",
       "    <tr style=\"text-align: right;\">\n",
       "      <th></th>\n",
       "      <th>id</th>\n",
       "      <th>predictionstring</th>\n",
       "      <th>labels</th>\n",
       "    </tr>\n",
       "  </thead>\n",
       "  <tbody>\n",
       "    <tr>\n",
       "      <th>0</th>\n",
       "      <td>0000D23A521A</td>\n",
       "      <td>0 1 2 3 4 5 6 7 8 9 10 11 12 13 14 15 16 17 18...</td>\n",
       "      <td>Position Position Position Position Position P...</td>\n",
       "    </tr>\n",
       "  </tbody>\n",
       "</table>\n",
       "</div>"
      ],
      "text/plain": [
       "             id                                   predictionstring  \\\n",
       "0  0000D23A521A  0 1 2 3 4 5 6 7 8 9 10 11 12 13 14 15 16 17 18...   \n",
       "\n",
       "                                              labels  \n",
       "0  Position Position Position Position Position P...  "
      ]
     },
     "execution_count": 10,
     "metadata": {},
     "output_type": "execute_result"
    }
   ],
   "source": [
    "#recreate dataset at essay level \n",
    "df_essay=df.groupby('id').agg({'predictionstring':' '.join,'labels':' '.join}).reset_index()\n",
    "df_essay.head(1)"
   ]
  },
  {
   "cell_type": "code",
   "execution_count": 13,
   "id": "bbd97e49",
   "metadata": {
    "ExecuteTime": {
     "end_time": "2022-03-02T19:47:53.291034Z",
     "start_time": "2022-03-02T19:47:49.911520Z"
    }
   },
   "outputs": [
    {
     "data": {
      "text/html": [
       "<div>\n",
       "<style scoped>\n",
       "    .dataframe tbody tr th:only-of-type {\n",
       "        vertical-align: middle;\n",
       "    }\n",
       "\n",
       "    .dataframe tbody tr th {\n",
       "        vertical-align: top;\n",
       "    }\n",
       "\n",
       "    .dataframe thead th {\n",
       "        text-align: right;\n",
       "    }\n",
       "</style>\n",
       "<table border=\"1\" class=\"dataframe\">\n",
       "  <thead>\n",
       "    <tr style=\"text-align: right;\">\n",
       "      <th></th>\n",
       "      <th>id</th>\n",
       "      <th>predictionstring</th>\n",
       "      <th>labels</th>\n",
       "      <th>text</th>\n",
       "    </tr>\n",
       "  </thead>\n",
       "  <tbody>\n",
       "    <tr>\n",
       "      <th>0</th>\n",
       "      <td>0000D23A521A</td>\n",
       "      <td>0 1 2 3 4 5 6 7 8 9 10 11 12 13 14 15 16 17 18...</td>\n",
       "      <td>Position Position Position Position Position P...</td>\n",
       "      <td>Some people belive that the so called \"face\" o...</td>\n",
       "    </tr>\n",
       "    <tr>\n",
       "      <th>1</th>\n",
       "      <td>00066EA9880D</td>\n",
       "      <td>0 1 2 3 4 5 6 7 8 9 10 11 12 13 14 15 16 17 18...</td>\n",
       "      <td>Lead Lead Lead Lead Lead Lead Lead Lead Lead L...</td>\n",
       "      <td>Driverless cars are exaclty what you would exp...</td>\n",
       "    </tr>\n",
       "    <tr>\n",
       "      <th>2</th>\n",
       "      <td>000E6DE9E817</td>\n",
       "      <td>2 3 4 5 6 7 8 10 11 12 13 14 15 16 17 18 19 20...</td>\n",
       "      <td>Position Position Position Position Position P...</td>\n",
       "      <td>Dear: Principal\\n\\nI am arguing against the po...</td>\n",
       "    </tr>\n",
       "  </tbody>\n",
       "</table>\n",
       "</div>"
      ],
      "text/plain": [
       "             id                                   predictionstring  \\\n",
       "0  0000D23A521A  0 1 2 3 4 5 6 7 8 9 10 11 12 13 14 15 16 17 18...   \n",
       "1  00066EA9880D  0 1 2 3 4 5 6 7 8 9 10 11 12 13 14 15 16 17 18...   \n",
       "2  000E6DE9E817  2 3 4 5 6 7 8 10 11 12 13 14 15 16 17 18 19 20...   \n",
       "\n",
       "                                              labels  \\\n",
       "0  Position Position Position Position Position P...   \n",
       "1  Lead Lead Lead Lead Lead Lead Lead Lead Lead L...   \n",
       "2  Position Position Position Position Position P...   \n",
       "\n",
       "                                                text  \n",
       "0  Some people belive that the so called \"face\" o...  \n",
       "1  Driverless cars are exaclty what you would exp...  \n",
       "2  Dear: Principal\\n\\nI am arguing against the po...  "
      ]
     },
     "execution_count": 13,
     "metadata": {},
     "output_type": "execute_result"
    }
   ],
   "source": [
    "#retrieve full text\n",
    "df_essay['text']=df_essay['id'].apply(get_essay) #get essay full text for each id\n",
    "assert(df_essay.shape[0]==15594) #check\n",
    "df_essay.head(3)"
   ]
  },
  {
   "cell_type": "code",
   "execution_count": 14,
   "id": "1ee92c37",
   "metadata": {
    "ExecuteTime": {
     "end_time": "2022-03-02T19:47:59.859936Z",
     "start_time": "2022-03-02T19:47:58.475805Z"
    }
   },
   "outputs": [
    {
     "data": {
      "text/html": [
       "<div>\n",
       "<style scoped>\n",
       "    .dataframe tbody tr th:only-of-type {\n",
       "        vertical-align: middle;\n",
       "    }\n",
       "\n",
       "    .dataframe tbody tr th {\n",
       "        vertical-align: top;\n",
       "    }\n",
       "\n",
       "    .dataframe thead th {\n",
       "        text-align: right;\n",
       "    }\n",
       "</style>\n",
       "<table border=\"1\" class=\"dataframe\">\n",
       "  <thead>\n",
       "    <tr style=\"text-align: right;\">\n",
       "      <th></th>\n",
       "      <th>id</th>\n",
       "      <th>predictionstring</th>\n",
       "      <th>labels</th>\n",
       "      <th>text</th>\n",
       "      <th>idx_last_word</th>\n",
       "    </tr>\n",
       "  </thead>\n",
       "  <tbody>\n",
       "    <tr>\n",
       "      <th>0</th>\n",
       "      <td>0000D23A521A</td>\n",
       "      <td>0 1 2 3 4 5 6 7 8 9 10 11 12 13 14 15 16 17 18...</td>\n",
       "      <td>Position Position Position Position Position P...</td>\n",
       "      <td>Some people belive that the so called \"face\" o...</td>\n",
       "      <td>[15, 20, 33, 50, 68, 83, 116, 133, 139, 153, 1...</td>\n",
       "    </tr>\n",
       "    <tr>\n",
       "      <th>1</th>\n",
       "      <td>00066EA9880D</td>\n",
       "      <td>0 1 2 3 4 5 6 7 8 9 10 11 12 13 14 15 16 17 18...</td>\n",
       "      <td>Lead Lead Lead Lead Lead Lead Lead Lead Lead L...</td>\n",
       "      <td>Driverless cars are exaclty what you would exp...</td>\n",
       "      <td>[10, 27, 47, 62, 76, 97, 123, 153, 169, 194, 2...</td>\n",
       "    </tr>\n",
       "    <tr>\n",
       "      <th>2</th>\n",
       "      <td>000E6DE9E817</td>\n",
       "      <td>2 3 4 5 6 7 8 10 11 12 13 14 15 16 17 18 19 20...</td>\n",
       "      <td>Position Position Position Position Position P...</td>\n",
       "      <td>Dear: Principal\\n\\nI am arguing against the po...</td>\n",
       "      <td>[53, 72, 80, 114, 136, 171, 212, 241, 265, 271...</td>\n",
       "    </tr>\n",
       "  </tbody>\n",
       "</table>\n",
       "</div>"
      ],
      "text/plain": [
       "             id                                   predictionstring  \\\n",
       "0  0000D23A521A  0 1 2 3 4 5 6 7 8 9 10 11 12 13 14 15 16 17 18...   \n",
       "1  00066EA9880D  0 1 2 3 4 5 6 7 8 9 10 11 12 13 14 15 16 17 18...   \n",
       "2  000E6DE9E817  2 3 4 5 6 7 8 10 11 12 13 14 15 16 17 18 19 20...   \n",
       "\n",
       "                                              labels  \\\n",
       "0  Position Position Position Position Position P...   \n",
       "1  Lead Lead Lead Lead Lead Lead Lead Lead Lead L...   \n",
       "2  Position Position Position Position Position P...   \n",
       "\n",
       "                                                text  \\\n",
       "0  Some people belive that the so called \"face\" o...   \n",
       "1  Driverless cars are exaclty what you would exp...   \n",
       "2  Dear: Principal\\n\\nI am arguing against the po...   \n",
       "\n",
       "                                       idx_last_word  \n",
       "0  [15, 20, 33, 50, 68, 83, 116, 133, 139, 153, 1...  \n",
       "1  [10, 27, 47, 62, 76, 97, 123, 153, 169, 194, 2...  \n",
       "2  [53, 72, 80, 114, 136, 171, 212, 241, 265, 271...  "
      ]
     },
     "execution_count": 14,
     "metadata": {},
     "output_type": "execute_result"
    }
   ],
   "source": [
    "#Get the indices of the last word of a sentence, meaning position of all the words followed by a '.'\n",
    "df_essay['idx_last_word']=df_essay['text'].apply(lambda text : [i for i, w in enumerate(text.split()) if '.' in w[-2:]])\n",
    "df_essay.head(3)"
   ]
  },
  {
   "cell_type": "code",
   "execution_count": 15,
   "id": "9e62bc53",
   "metadata": {
    "ExecuteTime": {
     "end_time": "2022-03-02T19:48:00.135424Z",
     "start_time": "2022-03-02T19:47:59.910776Z"
    }
   },
   "outputs": [
    {
     "name": "stdout",
     "output_type": "stream",
     "text": [
      "(313505, 5)\n",
      "(313494, 5)\n"
     ]
    }
   ],
   "source": [
    "## 1- explode the dataset on column indices\n",
    "df_essay = df_essay.explode('idx_last_word')\n",
    "\n",
    "# /!\\We have 11 strange essays wandering around without any punctuation : ciao /!\\\n",
    "print(df_essay.shape)\n",
    "df_essay.dropna(axis=0,how='any',inplace=True)\n",
    "print(df_essay.shape)"
   ]
  },
  {
   "cell_type": "code",
   "execution_count": 16,
   "id": "73057e12",
   "metadata": {
    "ExecuteTime": {
     "end_time": "2022-03-02T19:48:08.096085Z",
     "start_time": "2022-03-02T19:48:08.082730Z"
    }
   },
   "outputs": [
    {
     "data": {
      "text/html": [
       "<div>\n",
       "<style scoped>\n",
       "    .dataframe tbody tr th:only-of-type {\n",
       "        vertical-align: middle;\n",
       "    }\n",
       "\n",
       "    .dataframe tbody tr th {\n",
       "        vertical-align: top;\n",
       "    }\n",
       "\n",
       "    .dataframe thead th {\n",
       "        text-align: right;\n",
       "    }\n",
       "</style>\n",
       "<table border=\"1\" class=\"dataframe\">\n",
       "  <thead>\n",
       "    <tr style=\"text-align: right;\">\n",
       "      <th></th>\n",
       "      <th>id</th>\n",
       "      <th>predictionstring</th>\n",
       "      <th>labels</th>\n",
       "      <th>text</th>\n",
       "      <th>idx_last_word</th>\n",
       "    </tr>\n",
       "  </thead>\n",
       "  <tbody>\n",
       "    <tr>\n",
       "      <th>0</th>\n",
       "      <td>0000D23A521A</td>\n",
       "      <td>0 1 2 3 4 5 6 7 8 9 10 11 12 13 14 15 16 17 18...</td>\n",
       "      <td>Position Position Position Position Position P...</td>\n",
       "      <td>Some people belive that the so called \"face\" o...</td>\n",
       "      <td>15</td>\n",
       "    </tr>\n",
       "    <tr>\n",
       "      <th>0</th>\n",
       "      <td>0000D23A521A</td>\n",
       "      <td>0 1 2 3 4 5 6 7 8 9 10 11 12 13 14 15 16 17 18...</td>\n",
       "      <td>Position Position Position Position Position P...</td>\n",
       "      <td>Some people belive that the so called \"face\" o...</td>\n",
       "      <td>20</td>\n",
       "    </tr>\n",
       "    <tr>\n",
       "      <th>0</th>\n",
       "      <td>0000D23A521A</td>\n",
       "      <td>0 1 2 3 4 5 6 7 8 9 10 11 12 13 14 15 16 17 18...</td>\n",
       "      <td>Position Position Position Position Position P...</td>\n",
       "      <td>Some people belive that the so called \"face\" o...</td>\n",
       "      <td>33</td>\n",
       "    </tr>\n",
       "    <tr>\n",
       "      <th>0</th>\n",
       "      <td>0000D23A521A</td>\n",
       "      <td>0 1 2 3 4 5 6 7 8 9 10 11 12 13 14 15 16 17 18...</td>\n",
       "      <td>Position Position Position Position Position P...</td>\n",
       "      <td>Some people belive that the so called \"face\" o...</td>\n",
       "      <td>50</td>\n",
       "    </tr>\n",
       "    <tr>\n",
       "      <th>0</th>\n",
       "      <td>0000D23A521A</td>\n",
       "      <td>0 1 2 3 4 5 6 7 8 9 10 11 12 13 14 15 16 17 18...</td>\n",
       "      <td>Position Position Position Position Position P...</td>\n",
       "      <td>Some people belive that the so called \"face\" o...</td>\n",
       "      <td>68</td>\n",
       "    </tr>\n",
       "    <tr>\n",
       "      <th>...</th>\n",
       "      <td>...</td>\n",
       "      <td>...</td>\n",
       "      <td>...</td>\n",
       "      <td>...</td>\n",
       "      <td>...</td>\n",
       "    </tr>\n",
       "    <tr>\n",
       "      <th>15593</th>\n",
       "      <td>FFFF80B8CC2F</td>\n",
       "      <td>0 1 2 3 4 5 6 7 8 9 10 11 12 13 14 15 16 17 18...</td>\n",
       "      <td>Evidence Evidence Evidence Evidence Evidence E...</td>\n",
       "      <td>Venus is a planet what belong the System Solar...</td>\n",
       "      <td>79</td>\n",
       "    </tr>\n",
       "    <tr>\n",
       "      <th>15593</th>\n",
       "      <td>FFFF80B8CC2F</td>\n",
       "      <td>0 1 2 3 4 5 6 7 8 9 10 11 12 13 14 15 16 17 18...</td>\n",
       "      <td>Evidence Evidence Evidence Evidence Evidence E...</td>\n",
       "      <td>Venus is a planet what belong the System Solar...</td>\n",
       "      <td>97</td>\n",
       "    </tr>\n",
       "    <tr>\n",
       "      <th>15593</th>\n",
       "      <td>FFFF80B8CC2F</td>\n",
       "      <td>0 1 2 3 4 5 6 7 8 9 10 11 12 13 14 15 16 17 18...</td>\n",
       "      <td>Evidence Evidence Evidence Evidence Evidence E...</td>\n",
       "      <td>Venus is a planet what belong the System Solar...</td>\n",
       "      <td>140</td>\n",
       "    </tr>\n",
       "    <tr>\n",
       "      <th>15593</th>\n",
       "      <td>FFFF80B8CC2F</td>\n",
       "      <td>0 1 2 3 4 5 6 7 8 9 10 11 12 13 14 15 16 17 18...</td>\n",
       "      <td>Evidence Evidence Evidence Evidence Evidence E...</td>\n",
       "      <td>Venus is a planet what belong the System Solar...</td>\n",
       "      <td>156</td>\n",
       "    </tr>\n",
       "    <tr>\n",
       "      <th>15593</th>\n",
       "      <td>FFFF80B8CC2F</td>\n",
       "      <td>0 1 2 3 4 5 6 7 8 9 10 11 12 13 14 15 16 17 18...</td>\n",
       "      <td>Evidence Evidence Evidence Evidence Evidence E...</td>\n",
       "      <td>Venus is a planet what belong the System Solar...</td>\n",
       "      <td>167</td>\n",
       "    </tr>\n",
       "  </tbody>\n",
       "</table>\n",
       "<p>313494 rows × 5 columns</p>\n",
       "</div>"
      ],
      "text/plain": [
       "                 id                                   predictionstring  \\\n",
       "0      0000D23A521A  0 1 2 3 4 5 6 7 8 9 10 11 12 13 14 15 16 17 18...   \n",
       "0      0000D23A521A  0 1 2 3 4 5 6 7 8 9 10 11 12 13 14 15 16 17 18...   \n",
       "0      0000D23A521A  0 1 2 3 4 5 6 7 8 9 10 11 12 13 14 15 16 17 18...   \n",
       "0      0000D23A521A  0 1 2 3 4 5 6 7 8 9 10 11 12 13 14 15 16 17 18...   \n",
       "0      0000D23A521A  0 1 2 3 4 5 6 7 8 9 10 11 12 13 14 15 16 17 18...   \n",
       "...             ...                                                ...   \n",
       "15593  FFFF80B8CC2F  0 1 2 3 4 5 6 7 8 9 10 11 12 13 14 15 16 17 18...   \n",
       "15593  FFFF80B8CC2F  0 1 2 3 4 5 6 7 8 9 10 11 12 13 14 15 16 17 18...   \n",
       "15593  FFFF80B8CC2F  0 1 2 3 4 5 6 7 8 9 10 11 12 13 14 15 16 17 18...   \n",
       "15593  FFFF80B8CC2F  0 1 2 3 4 5 6 7 8 9 10 11 12 13 14 15 16 17 18...   \n",
       "15593  FFFF80B8CC2F  0 1 2 3 4 5 6 7 8 9 10 11 12 13 14 15 16 17 18...   \n",
       "\n",
       "                                                  labels  \\\n",
       "0      Position Position Position Position Position P...   \n",
       "0      Position Position Position Position Position P...   \n",
       "0      Position Position Position Position Position P...   \n",
       "0      Position Position Position Position Position P...   \n",
       "0      Position Position Position Position Position P...   \n",
       "...                                                  ...   \n",
       "15593  Evidence Evidence Evidence Evidence Evidence E...   \n",
       "15593  Evidence Evidence Evidence Evidence Evidence E...   \n",
       "15593  Evidence Evidence Evidence Evidence Evidence E...   \n",
       "15593  Evidence Evidence Evidence Evidence Evidence E...   \n",
       "15593  Evidence Evidence Evidence Evidence Evidence E...   \n",
       "\n",
       "                                                    text idx_last_word  \n",
       "0      Some people belive that the so called \"face\" o...            15  \n",
       "0      Some people belive that the so called \"face\" o...            20  \n",
       "0      Some people belive that the so called \"face\" o...            33  \n",
       "0      Some people belive that the so called \"face\" o...            50  \n",
       "0      Some people belive that the so called \"face\" o...            68  \n",
       "...                                                  ...           ...  \n",
       "15593  Venus is a planet what belong the System Solar...            79  \n",
       "15593  Venus is a planet what belong the System Solar...            97  \n",
       "15593  Venus is a planet what belong the System Solar...           140  \n",
       "15593  Venus is a planet what belong the System Solar...           156  \n",
       "15593  Venus is a planet what belong the System Solar...           167  \n",
       "\n",
       "[313494 rows x 5 columns]"
      ]
     },
     "execution_count": 16,
     "metadata": {},
     "output_type": "execute_result"
    }
   ],
   "source": [
    "df_essay"
   ]
  },
  {
   "cell_type": "code",
   "execution_count": 17,
   "id": "e4004d14",
   "metadata": {
    "ExecuteTime": {
     "end_time": "2022-03-02T19:48:23.114526Z",
     "start_time": "2022-03-02T19:48:22.990630Z"
    }
   },
   "outputs": [],
   "source": [
    "## 2- create 'artificially' an 'idx_first_word' column by shifting idx_last_word col\n",
    "## /!\\ We will not add nor subtract at this point to avoid confusion /!\\\n",
    "\n",
    "\n",
    "\n",
    "df_essay['idx_first_word'] = df_essay.groupby('id')['idx_last_word'].shift(1) ## We shift per essay !\n",
    "\n",
    "df_essay['idx_first_word'].fillna(0,inplace=True) #replace NaN with 0 as it is the first word"
   ]
  },
  {
   "cell_type": "code",
   "execution_count": 18,
   "id": "0ed63cc0",
   "metadata": {
    "ExecuteTime": {
     "end_time": "2022-03-02T19:48:24.244491Z",
     "start_time": "2022-03-02T19:48:24.238947Z"
    }
   },
   "outputs": [],
   "source": [
    "## objective now = split ps, labels and text according to idx_first_word and idx_last_word \n",
    "\n",
    "def slicer(text,idx_first_word,idx_last_word):\n",
    "    text = text.split()\n",
    "    if idx_first_word==0:\n",
    "        return ' '.join(text[:idx_last_word+1])\n",
    "    return ' '.join(text[idx_first_word+1:idx_last_word+1])\n",
    "    \n",
    "slicer_vect=np.vectorize(slicer) #vectorize"
   ]
  },
  {
   "cell_type": "code",
   "execution_count": 19,
   "id": "0e9b835f",
   "metadata": {
    "ExecuteTime": {
     "end_time": "2022-03-02T19:48:25.435039Z",
     "start_time": "2022-03-02T19:48:25.403312Z"
    },
    "scrolled": true
   },
   "outputs": [],
   "source": [
    "## type issue \n",
    "df_essay['idx_last_word']=df_essay['idx_last_word'].astype(int)"
   ]
  },
  {
   "cell_type": "code",
   "execution_count": 20,
   "id": "89ee2368",
   "metadata": {
    "ExecuteTime": {
     "end_time": "2022-03-02T19:49:54.619654Z",
     "start_time": "2022-03-02T19:48:29.394620Z"
    }
   },
   "outputs": [],
   "source": [
    "#apply our magical slicer \n",
    "\n",
    "df_essay['sentence']=slicer_vect(df_essay['text'],df_essay['idx_first_word'],df_essay['idx_last_word'])\n",
    "df_essay['ps']=slicer_vect(df_essay['predictionstring'],df_essay['idx_first_word'],df_essay['idx_last_word'])\n",
    "df_essay['type']=slicer_vect(df_essay['labels'],df_essay['idx_first_word'],df_essay['idx_last_word'])"
   ]
  },
  {
   "cell_type": "code",
   "execution_count": 42,
   "id": "e36f98ac",
   "metadata": {
    "ExecuteTime": {
     "end_time": "2022-03-02T19:58:33.219614Z",
     "start_time": "2022-03-02T19:58:33.203217Z"
    },
    "collapsed": true
   },
   "outputs": [
    {
     "data": {
      "text/html": [
       "<div>\n",
       "<style scoped>\n",
       "    .dataframe tbody tr th:only-of-type {\n",
       "        vertical-align: middle;\n",
       "    }\n",
       "\n",
       "    .dataframe tbody tr th {\n",
       "        vertical-align: top;\n",
       "    }\n",
       "\n",
       "    .dataframe thead th {\n",
       "        text-align: right;\n",
       "    }\n",
       "</style>\n",
       "<table border=\"1\" class=\"dataframe\">\n",
       "  <thead>\n",
       "    <tr style=\"text-align: right;\">\n",
       "      <th></th>\n",
       "      <th>id</th>\n",
       "      <th>predictionstring</th>\n",
       "      <th>labels</th>\n",
       "      <th>text</th>\n",
       "      <th>idx_last_word</th>\n",
       "      <th>idx_first_word</th>\n",
       "      <th>sentence</th>\n",
       "      <th>ps</th>\n",
       "      <th>type</th>\n",
       "    </tr>\n",
       "  </thead>\n",
       "  <tbody>\n",
       "    <tr>\n",
       "      <th>0</th>\n",
       "      <td>0000D23A521A</td>\n",
       "      <td>0 1 2 3 4 5 6 7 8 9 10 11 12 13 14 15 16 17 18...</td>\n",
       "      <td>Position Position Position Position Position P...</td>\n",
       "      <td>Some people belive that the so called \"face\" o...</td>\n",
       "      <td>15</td>\n",
       "      <td>0</td>\n",
       "      <td>Some people belive that the so called \"face\" o...</td>\n",
       "      <td>0 1 2 3 4 5 6 7 8 9 10 11 12 13 14 15</td>\n",
       "      <td>Position Position Position Position Position P...</td>\n",
       "    </tr>\n",
       "    <tr>\n",
       "      <th>1</th>\n",
       "      <td>0000D23A521A</td>\n",
       "      <td>0 1 2 3 4 5 6 7 8 9 10 11 12 13 14 15 16 17 18...</td>\n",
       "      <td>Position Position Position Position Position P...</td>\n",
       "      <td>Some people belive that the so called \"face\" o...</td>\n",
       "      <td>20</td>\n",
       "      <td>15</td>\n",
       "      <td>This is not the case.</td>\n",
       "      <td>16 17 18 19 20</td>\n",
       "      <td>Position Position Position Position Position.</td>\n",
       "    </tr>\n",
       "    <tr>\n",
       "      <th>2</th>\n",
       "      <td>0000D23A521A</td>\n",
       "      <td>0 1 2 3 4 5 6 7 8 9 10 11 12 13 14 15 16 17 18...</td>\n",
       "      <td>Position Position Position Position Position P...</td>\n",
       "      <td>Some people belive that the so called \"face\" o...</td>\n",
       "      <td>33</td>\n",
       "      <td>20</td>\n",
       "      <td>The face on Mars is a naturally occuring land ...</td>\n",
       "      <td>21 22 23 24 25 26 27 28 29 30 31 32 33</td>\n",
       "      <td>Position Position Position Position Position P...</td>\n",
       "    </tr>\n",
       "    <tr>\n",
       "      <th>3</th>\n",
       "      <td>0000D23A521A</td>\n",
       "      <td>0 1 2 3 4 5 6 7 8 9 10 11 12 13 14 15 16 17 18...</td>\n",
       "      <td>Position Position Position Position Position P...</td>\n",
       "      <td>Some people belive that the so called \"face\" o...</td>\n",
       "      <td>50</td>\n",
       "      <td>33</td>\n",
       "      <td>It was not created by aliens, and there is no ...</td>\n",
       "      <td>34 35 36 37 38 39 40 41 42 43 44 45 46 47 48 4...</td>\n",
       "      <td>Evidence Evidence Evidence Evidence Evidence E...</td>\n",
       "    </tr>\n",
       "    <tr>\n",
       "      <th>4</th>\n",
       "      <td>0000D23A521A</td>\n",
       "      <td>0 1 2 3 4 5 6 7 8 9 10 11 12 13 14 15 16 17 18...</td>\n",
       "      <td>Position Position Position Position Position P...</td>\n",
       "      <td>Some people belive that the so called \"face\" o...</td>\n",
       "      <td>68</td>\n",
       "      <td>50</td>\n",
       "      <td>There is no evidence that NASA has found that ...</td>\n",
       "      <td>51 52 53 54 55 56 57 58 59 60 61 62 63 64 65 6...</td>\n",
       "      <td>Evidence Evidence Evidence Evidence Evidence E...</td>\n",
       "    </tr>\n",
       "    <tr>\n",
       "      <th>...</th>\n",
       "      <td>...</td>\n",
       "      <td>...</td>\n",
       "      <td>...</td>\n",
       "      <td>...</td>\n",
       "      <td>...</td>\n",
       "      <td>...</td>\n",
       "      <td>...</td>\n",
       "      <td>...</td>\n",
       "      <td>...</td>\n",
       "    </tr>\n",
       "    <tr>\n",
       "      <th>313489</th>\n",
       "      <td>FFFF80B8CC2F</td>\n",
       "      <td>0 1 2 3 4 5 6 7 8 9 10 11 12 13 14 15 16 17 18...</td>\n",
       "      <td>Evidence Evidence Evidence Evidence Evidence E...</td>\n",
       "      <td>Venus is a planet what belong the System Solar...</td>\n",
       "      <td>79</td>\n",
       "      <td>59</td>\n",
       "      <td>Astronomers are fascinated by Venus because it...</td>\n",
       "      <td>60 61 62 63 64 65 66 67 68 69 70 71 72 73 74 7...</td>\n",
       "      <td>Evidence Evidence Evidence Evidence Evidence E...</td>\n",
       "    </tr>\n",
       "    <tr>\n",
       "      <th>313490</th>\n",
       "      <td>FFFF80B8CC2F</td>\n",
       "      <td>0 1 2 3 4 5 6 7 8 9 10 11 12 13 14 15 16 17 18...</td>\n",
       "      <td>Evidence Evidence Evidence Evidence Evidence E...</td>\n",
       "      <td>Venus is a planet what belong the System Solar...</td>\n",
       "      <td>97</td>\n",
       "      <td>79</td>\n",
       "      <td>Today go to the univerce is very dangers becau...</td>\n",
       "      <td>80 81 82 83 84 85 86 87 88 89 90 91 92 93 94 9...</td>\n",
       "      <td>Evidence Evidence Evidence Evidence Evidence E...</td>\n",
       "    </tr>\n",
       "    <tr>\n",
       "      <th>313491</th>\n",
       "      <td>FFFF80B8CC2F</td>\n",
       "      <td>0 1 2 3 4 5 6 7 8 9 10 11 12 13 14 15 16 17 18...</td>\n",
       "      <td>Evidence Evidence Evidence Evidence Evidence E...</td>\n",
       "      <td>Venus is a planet what belong the System Solar...</td>\n",
       "      <td>140</td>\n",
       "      <td>97</td>\n",
       "      <td>The NASA has one particulary compelling idea f...</td>\n",
       "      <td>98 99 100 101 102 103 104 105 106 107 108 109 ...</td>\n",
       "      <td>Evidence Evidence Evidence Evidence Evidence E...</td>\n",
       "    </tr>\n",
       "    <tr>\n",
       "      <th>313492</th>\n",
       "      <td>FFFF80B8CC2F</td>\n",
       "      <td>0 1 2 3 4 5 6 7 8 9 10 11 12 13 14 15 16 17 18...</td>\n",
       "      <td>Evidence Evidence Evidence Evidence Evidence E...</td>\n",
       "      <td>Venus is a planet what belong the System Solar...</td>\n",
       "      <td>156</td>\n",
       "      <td>140</td>\n",
       "      <td>NOt can have table or cell phone is a acid or ...</td>\n",
       "      <td>141 142 143 144 145 146 147 148 149 150 151 15...</td>\n",
       "      <td>Evidence Evidence Evidence Evidence Evidence E...</td>\n",
       "    </tr>\n",
       "    <tr>\n",
       "      <th>313493</th>\n",
       "      <td>FFFF80B8CC2F</td>\n",
       "      <td>0 1 2 3 4 5 6 7 8 9 10 11 12 13 14 15 16 17 18...</td>\n",
       "      <td>Evidence Evidence Evidence Evidence Evidence E...</td>\n",
       "      <td>Venus is a planet what belong the System Solar...</td>\n",
       "      <td>167</td>\n",
       "      <td>156</td>\n",
       "      <td>The people are very corious what investigator ...</td>\n",
       "      <td>157 158 159 160 161 162 163 164 165 166 167</td>\n",
       "      <td>Evidence Evidence Evidence Evidence Evidence E...</td>\n",
       "    </tr>\n",
       "  </tbody>\n",
       "</table>\n",
       "<p>313494 rows × 9 columns</p>\n",
       "</div>"
      ],
      "text/plain": [
       "                  id                                   predictionstring  \\\n",
       "0       0000D23A521A  0 1 2 3 4 5 6 7 8 9 10 11 12 13 14 15 16 17 18...   \n",
       "1       0000D23A521A  0 1 2 3 4 5 6 7 8 9 10 11 12 13 14 15 16 17 18...   \n",
       "2       0000D23A521A  0 1 2 3 4 5 6 7 8 9 10 11 12 13 14 15 16 17 18...   \n",
       "3       0000D23A521A  0 1 2 3 4 5 6 7 8 9 10 11 12 13 14 15 16 17 18...   \n",
       "4       0000D23A521A  0 1 2 3 4 5 6 7 8 9 10 11 12 13 14 15 16 17 18...   \n",
       "...              ...                                                ...   \n",
       "313489  FFFF80B8CC2F  0 1 2 3 4 5 6 7 8 9 10 11 12 13 14 15 16 17 18...   \n",
       "313490  FFFF80B8CC2F  0 1 2 3 4 5 6 7 8 9 10 11 12 13 14 15 16 17 18...   \n",
       "313491  FFFF80B8CC2F  0 1 2 3 4 5 6 7 8 9 10 11 12 13 14 15 16 17 18...   \n",
       "313492  FFFF80B8CC2F  0 1 2 3 4 5 6 7 8 9 10 11 12 13 14 15 16 17 18...   \n",
       "313493  FFFF80B8CC2F  0 1 2 3 4 5 6 7 8 9 10 11 12 13 14 15 16 17 18...   \n",
       "\n",
       "                                                   labels  \\\n",
       "0       Position Position Position Position Position P...   \n",
       "1       Position Position Position Position Position P...   \n",
       "2       Position Position Position Position Position P...   \n",
       "3       Position Position Position Position Position P...   \n",
       "4       Position Position Position Position Position P...   \n",
       "...                                                   ...   \n",
       "313489  Evidence Evidence Evidence Evidence Evidence E...   \n",
       "313490  Evidence Evidence Evidence Evidence Evidence E...   \n",
       "313491  Evidence Evidence Evidence Evidence Evidence E...   \n",
       "313492  Evidence Evidence Evidence Evidence Evidence E...   \n",
       "313493  Evidence Evidence Evidence Evidence Evidence E...   \n",
       "\n",
       "                                                     text  idx_last_word  \\\n",
       "0       Some people belive that the so called \"face\" o...             15   \n",
       "1       Some people belive that the so called \"face\" o...             20   \n",
       "2       Some people belive that the so called \"face\" o...             33   \n",
       "3       Some people belive that the so called \"face\" o...             50   \n",
       "4       Some people belive that the so called \"face\" o...             68   \n",
       "...                                                   ...            ...   \n",
       "313489  Venus is a planet what belong the System Solar...             79   \n",
       "313490  Venus is a planet what belong the System Solar...             97   \n",
       "313491  Venus is a planet what belong the System Solar...            140   \n",
       "313492  Venus is a planet what belong the System Solar...            156   \n",
       "313493  Venus is a planet what belong the System Solar...            167   \n",
       "\n",
       "        idx_first_word                                           sentence  \\\n",
       "0                    0  Some people belive that the so called \"face\" o...   \n",
       "1                   15                              This is not the case.   \n",
       "2                   20  The face on Mars is a naturally occuring land ...   \n",
       "3                   33  It was not created by aliens, and there is no ...   \n",
       "4                   50  There is no evidence that NASA has found that ...   \n",
       "...                ...                                                ...   \n",
       "313489              59  Astronomers are fascinated by Venus because it...   \n",
       "313490              79  Today go to the univerce is very dangers becau...   \n",
       "313491              97  The NASA has one particulary compelling idea f...   \n",
       "313492             140  NOt can have table or cell phone is a acid or ...   \n",
       "313493             156  The people are very corious what investigator ...   \n",
       "\n",
       "                                                       ps  \\\n",
       "0                   0 1 2 3 4 5 6 7 8 9 10 11 12 13 14 15   \n",
       "1                                          16 17 18 19 20   \n",
       "2                  21 22 23 24 25 26 27 28 29 30 31 32 33   \n",
       "3       34 35 36 37 38 39 40 41 42 43 44 45 46 47 48 4...   \n",
       "4       51 52 53 54 55 56 57 58 59 60 61 62 63 64 65 6...   \n",
       "...                                                   ...   \n",
       "313489  60 61 62 63 64 65 66 67 68 69 70 71 72 73 74 7...   \n",
       "313490  80 81 82 83 84 85 86 87 88 89 90 91 92 93 94 9...   \n",
       "313491  98 99 100 101 102 103 104 105 106 107 108 109 ...   \n",
       "313492  141 142 143 144 145 146 147 148 149 150 151 15...   \n",
       "313493        157 158 159 160 161 162 163 164 165 166 167   \n",
       "\n",
       "                                                     type  \n",
       "0       Position Position Position Position Position P...  \n",
       "1           Position Position Position Position Position.  \n",
       "2       Position Position Position Position Position P...  \n",
       "3       Evidence Evidence Evidence Evidence Evidence E...  \n",
       "4       Evidence Evidence Evidence Evidence Evidence E...  \n",
       "...                                                   ...  \n",
       "313489  Evidence Evidence Evidence Evidence Evidence E...  \n",
       "313490  Evidence Evidence Evidence Evidence Evidence E...  \n",
       "313491  Evidence Evidence Evidence Evidence Evidence E...  \n",
       "313492  Evidence Evidence Evidence Evidence Evidence E...  \n",
       "313493  Evidence Evidence Evidence Evidence Evidence E...  \n",
       "\n",
       "[313494 rows x 9 columns]"
      ]
     },
     "execution_count": 42,
     "metadata": {},
     "output_type": "execute_result"
    }
   ],
   "source": [
    "df_essay"
   ]
  },
  {
   "cell_type": "code",
   "execution_count": 47,
   "id": "b6a4f2fb",
   "metadata": {
    "ExecuteTime": {
     "end_time": "2022-03-02T20:00:39.879142Z",
     "start_time": "2022-03-02T20:00:39.837663Z"
    },
    "scrolled": true
   },
   "outputs": [
    {
     "data": {
      "text/html": [
       "<div>\n",
       "<style scoped>\n",
       "    .dataframe tbody tr th:only-of-type {\n",
       "        vertical-align: middle;\n",
       "    }\n",
       "\n",
       "    .dataframe tbody tr th {\n",
       "        vertical-align: top;\n",
       "    }\n",
       "\n",
       "    .dataframe thead th {\n",
       "        text-align: right;\n",
       "    }\n",
       "</style>\n",
       "<table border=\"1\" class=\"dataframe\">\n",
       "  <thead>\n",
       "    <tr style=\"text-align: right;\">\n",
       "      <th></th>\n",
       "      <th>id</th>\n",
       "      <th>sentence</th>\n",
       "      <th>ps</th>\n",
       "      <th>type</th>\n",
       "    </tr>\n",
       "  </thead>\n",
       "  <tbody>\n",
       "    <tr>\n",
       "      <th>0</th>\n",
       "      <td>0000D23A521A</td>\n",
       "      <td>Some people belive that the so called \"face\" o...</td>\n",
       "      <td>0 1 2 3 4 5 6 7 8 9 10 11 12 13 14 15</td>\n",
       "      <td>Position Position Position Position Position P...</td>\n",
       "    </tr>\n",
       "    <tr>\n",
       "      <th>1</th>\n",
       "      <td>0000D23A521A</td>\n",
       "      <td>This is not the case.</td>\n",
       "      <td>16 17 18 19 20</td>\n",
       "      <td>Position Position Position Position Position.</td>\n",
       "    </tr>\n",
       "    <tr>\n",
       "      <th>2</th>\n",
       "      <td>0000D23A521A</td>\n",
       "      <td>The face on Mars is a naturally occuring land ...</td>\n",
       "      <td>21 22 23 24 25 26 27 28 29 30 31 32 33</td>\n",
       "      <td>Position Position Position Position Position P...</td>\n",
       "    </tr>\n",
       "    <tr>\n",
       "      <th>3</th>\n",
       "      <td>0000D23A521A</td>\n",
       "      <td>It was not created by aliens, and there is no ...</td>\n",
       "      <td>34 35 36 37 38 39 40 41 42 43 44 45 46 47 48 4...</td>\n",
       "      <td>Evidence Evidence Evidence Evidence Evidence E...</td>\n",
       "    </tr>\n",
       "    <tr>\n",
       "      <th>4</th>\n",
       "      <td>0000D23A521A</td>\n",
       "      <td>There is no evidence that NASA has found that ...</td>\n",
       "      <td>51 52 53 54 55 56 57 58 59 60 61 62 63 64 65 6...</td>\n",
       "      <td>Evidence Evidence Evidence Evidence Evidence E...</td>\n",
       "    </tr>\n",
       "  </tbody>\n",
       "</table>\n",
       "</div>"
      ],
      "text/plain": [
       "             id                                           sentence  \\\n",
       "0  0000D23A521A  Some people belive that the so called \"face\" o...   \n",
       "1  0000D23A521A                              This is not the case.   \n",
       "2  0000D23A521A  The face on Mars is a naturally occuring land ...   \n",
       "3  0000D23A521A  It was not created by aliens, and there is no ...   \n",
       "4  0000D23A521A  There is no evidence that NASA has found that ...   \n",
       "\n",
       "                                                  ps  \\\n",
       "0              0 1 2 3 4 5 6 7 8 9 10 11 12 13 14 15   \n",
       "1                                     16 17 18 19 20   \n",
       "2             21 22 23 24 25 26 27 28 29 30 31 32 33   \n",
       "3  34 35 36 37 38 39 40 41 42 43 44 45 46 47 48 4...   \n",
       "4  51 52 53 54 55 56 57 58 59 60 61 62 63 64 65 6...   \n",
       "\n",
       "                                                type  \n",
       "0  Position Position Position Position Position P...  \n",
       "1      Position Position Position Position Position.  \n",
       "2  Position Position Position Position Position P...  \n",
       "3  Evidence Evidence Evidence Evidence Evidence E...  \n",
       "4  Evidence Evidence Evidence Evidence Evidence E...  "
      ]
     },
     "execution_count": 47,
     "metadata": {},
     "output_type": "execute_result"
    }
   ],
   "source": [
    "## Now we can have a clean dataset\n",
    "df_essay.reset_index(inplace=True,drop=True)\n",
    "df_preproc = df_essay.drop(['predictionstring','labels','text','idx_first_word','idx_last_word'],axis=1)\n",
    "df_preproc.head()"
   ]
  },
  {
   "cell_type": "markdown",
   "id": "03e64a76",
   "metadata": {},
   "source": [
    "## Let's attribute a single discourse type per sentence\n",
    "\n",
    "We'll also check our initial assumption by looking at initial % of sentences of each type"
   ]
  },
  {
   "cell_type": "code",
   "execution_count": 52,
   "id": "b0b59f36",
   "metadata": {
    "ExecuteTime": {
     "end_time": "2022-03-02T20:02:43.708429Z",
     "start_time": "2022-03-02T20:02:41.617551Z"
    }
   },
   "outputs": [],
   "source": [
    "df_preproc['type_len']=df_preproc['type'].apply(lambda txt:Counter(txt.replace('.','').split()))"
   ]
  },
  {
   "cell_type": "code",
   "execution_count": 53,
   "id": "361fa403",
   "metadata": {
    "ExecuteTime": {
     "end_time": "2022-03-02T20:02:44.567600Z",
     "start_time": "2022-03-02T20:02:44.556786Z"
    }
   },
   "outputs": [
    {
     "data": {
      "text/html": [
       "<div>\n",
       "<style scoped>\n",
       "    .dataframe tbody tr th:only-of-type {\n",
       "        vertical-align: middle;\n",
       "    }\n",
       "\n",
       "    .dataframe tbody tr th {\n",
       "        vertical-align: top;\n",
       "    }\n",
       "\n",
       "    .dataframe thead th {\n",
       "        text-align: right;\n",
       "    }\n",
       "</style>\n",
       "<table border=\"1\" class=\"dataframe\">\n",
       "  <thead>\n",
       "    <tr style=\"text-align: right;\">\n",
       "      <th></th>\n",
       "      <th>id</th>\n",
       "      <th>sentence</th>\n",
       "      <th>ps</th>\n",
       "      <th>type</th>\n",
       "      <th>type_len</th>\n",
       "    </tr>\n",
       "  </thead>\n",
       "  <tbody>\n",
       "    <tr>\n",
       "      <th>0</th>\n",
       "      <td>0000D23A521A</td>\n",
       "      <td>Some people belive that the so called \"face\" o...</td>\n",
       "      <td>0 1 2 3 4 5 6 7 8 9 10 11 12 13 14 15</td>\n",
       "      <td>Position Position Position Position Position P...</td>\n",
       "      <td>{'Position': 16}</td>\n",
       "    </tr>\n",
       "    <tr>\n",
       "      <th>1</th>\n",
       "      <td>0000D23A521A</td>\n",
       "      <td>This is not the case.</td>\n",
       "      <td>16 17 18 19 20</td>\n",
       "      <td>Position Position Position Position Position.</td>\n",
       "      <td>{'Position': 5}</td>\n",
       "    </tr>\n",
       "    <tr>\n",
       "      <th>2</th>\n",
       "      <td>0000D23A521A</td>\n",
       "      <td>The face on Mars is a naturally occuring land ...</td>\n",
       "      <td>21 22 23 24 25 26 27 28 29 30 31 32 33</td>\n",
       "      <td>Position Position Position Position Position P...</td>\n",
       "      <td>{'Position': 13}</td>\n",
       "    </tr>\n",
       "    <tr>\n",
       "      <th>3</th>\n",
       "      <td>0000D23A521A</td>\n",
       "      <td>It was not created by aliens, and there is no ...</td>\n",
       "      <td>34 35 36 37 38 39 40 41 42 43 44 45 46 47 48 4...</td>\n",
       "      <td>Evidence Evidence Evidence Evidence Evidence E...</td>\n",
       "      <td>{'Evidence': 17}</td>\n",
       "    </tr>\n",
       "    <tr>\n",
       "      <th>4</th>\n",
       "      <td>0000D23A521A</td>\n",
       "      <td>There is no evidence that NASA has found that ...</td>\n",
       "      <td>51 52 53 54 55 56 57 58 59 60 61 62 63 64 65 6...</td>\n",
       "      <td>Evidence Evidence Evidence Evidence Evidence E...</td>\n",
       "      <td>{'Evidence': 18}</td>\n",
       "    </tr>\n",
       "  </tbody>\n",
       "</table>\n",
       "</div>"
      ],
      "text/plain": [
       "             id                                           sentence  \\\n",
       "0  0000D23A521A  Some people belive that the so called \"face\" o...   \n",
       "1  0000D23A521A                              This is not the case.   \n",
       "2  0000D23A521A  The face on Mars is a naturally occuring land ...   \n",
       "3  0000D23A521A  It was not created by aliens, and there is no ...   \n",
       "4  0000D23A521A  There is no evidence that NASA has found that ...   \n",
       "\n",
       "                                                  ps  \\\n",
       "0              0 1 2 3 4 5 6 7 8 9 10 11 12 13 14 15   \n",
       "1                                     16 17 18 19 20   \n",
       "2             21 22 23 24 25 26 27 28 29 30 31 32 33   \n",
       "3  34 35 36 37 38 39 40 41 42 43 44 45 46 47 48 4...   \n",
       "4  51 52 53 54 55 56 57 58 59 60 61 62 63 64 65 6...   \n",
       "\n",
       "                                                type          type_len  \n",
       "0  Position Position Position Position Position P...  {'Position': 16}  \n",
       "1      Position Position Position Position Position.   {'Position': 5}  \n",
       "2  Position Position Position Position Position P...  {'Position': 13}  \n",
       "3  Evidence Evidence Evidence Evidence Evidence E...  {'Evidence': 17}  \n",
       "4  Evidence Evidence Evidence Evidence Evidence E...  {'Evidence': 18}  "
      ]
     },
     "execution_count": 53,
     "metadata": {},
     "output_type": "execute_result"
    }
   ],
   "source": [
    "df_preproc.head()"
   ]
  },
  {
   "cell_type": "code",
   "execution_count": 81,
   "id": "4aa342bd",
   "metadata": {
    "ExecuteTime": {
     "end_time": "2022-03-02T20:10:08.601773Z",
     "start_time": "2022-03-02T20:10:08.597451Z"
    }
   },
   "outputs": [],
   "source": [
    "## create a function\n",
    "def length_checker(dict_):\n",
    "    if len(dict_.keys())==1:\n",
    "        return 1\n",
    "    try: #len(dict_.keys())==2:\n",
    "        return max(dict_.values())/sum(dict_.values())\n",
    "    except:\n",
    "        return None\n",
    "    else:\n",
    "        return None"
   ]
  },
  {
   "cell_type": "code",
   "execution_count": 82,
   "id": "a3bb6c3b",
   "metadata": {
    "ExecuteTime": {
     "end_time": "2022-03-02T20:10:09.228623Z",
     "start_time": "2022-03-02T20:10:09.072521Z"
    },
    "scrolled": true
   },
   "outputs": [
    {
     "data": {
      "text/html": [
       "<div>\n",
       "<style scoped>\n",
       "    .dataframe tbody tr th:only-of-type {\n",
       "        vertical-align: middle;\n",
       "    }\n",
       "\n",
       "    .dataframe tbody tr th {\n",
       "        vertical-align: top;\n",
       "    }\n",
       "\n",
       "    .dataframe thead th {\n",
       "        text-align: right;\n",
       "    }\n",
       "</style>\n",
       "<table border=\"1\" class=\"dataframe\">\n",
       "  <thead>\n",
       "    <tr style=\"text-align: right;\">\n",
       "      <th></th>\n",
       "      <th>id</th>\n",
       "      <th>sentence</th>\n",
       "      <th>ps</th>\n",
       "      <th>type</th>\n",
       "      <th>type_len</th>\n",
       "      <th>type_prop</th>\n",
       "    </tr>\n",
       "  </thead>\n",
       "  <tbody>\n",
       "    <tr>\n",
       "      <th>0</th>\n",
       "      <td>0000D23A521A</td>\n",
       "      <td>Some people belive that the so called \"face\" o...</td>\n",
       "      <td>0 1 2 3 4 5 6 7 8 9 10 11 12 13 14 15</td>\n",
       "      <td>Position Position Position Position Position P...</td>\n",
       "      <td>{'Position': 16}</td>\n",
       "      <td>1.0</td>\n",
       "    </tr>\n",
       "    <tr>\n",
       "      <th>1</th>\n",
       "      <td>0000D23A521A</td>\n",
       "      <td>This is not the case.</td>\n",
       "      <td>16 17 18 19 20</td>\n",
       "      <td>Position Position Position Position Position.</td>\n",
       "      <td>{'Position': 5}</td>\n",
       "      <td>1.0</td>\n",
       "    </tr>\n",
       "    <tr>\n",
       "      <th>2</th>\n",
       "      <td>0000D23A521A</td>\n",
       "      <td>The face on Mars is a naturally occuring land ...</td>\n",
       "      <td>21 22 23 24 25 26 27 28 29 30 31 32 33</td>\n",
       "      <td>Position Position Position Position Position P...</td>\n",
       "      <td>{'Position': 13}</td>\n",
       "      <td>1.0</td>\n",
       "    </tr>\n",
       "    <tr>\n",
       "      <th>3</th>\n",
       "      <td>0000D23A521A</td>\n",
       "      <td>It was not created by aliens, and there is no ...</td>\n",
       "      <td>34 35 36 37 38 39 40 41 42 43 44 45 46 47 48 4...</td>\n",
       "      <td>Evidence Evidence Evidence Evidence Evidence E...</td>\n",
       "      <td>{'Evidence': 17}</td>\n",
       "      <td>1.0</td>\n",
       "    </tr>\n",
       "    <tr>\n",
       "      <th>4</th>\n",
       "      <td>0000D23A521A</td>\n",
       "      <td>There is no evidence that NASA has found that ...</td>\n",
       "      <td>51 52 53 54 55 56 57 58 59 60 61 62 63 64 65 6...</td>\n",
       "      <td>Evidence Evidence Evidence Evidence Evidence E...</td>\n",
       "      <td>{'Evidence': 18}</td>\n",
       "      <td>1.0</td>\n",
       "    </tr>\n",
       "  </tbody>\n",
       "</table>\n",
       "</div>"
      ],
      "text/plain": [
       "             id                                           sentence  \\\n",
       "0  0000D23A521A  Some people belive that the so called \"face\" o...   \n",
       "1  0000D23A521A                              This is not the case.   \n",
       "2  0000D23A521A  The face on Mars is a naturally occuring land ...   \n",
       "3  0000D23A521A  It was not created by aliens, and there is no ...   \n",
       "4  0000D23A521A  There is no evidence that NASA has found that ...   \n",
       "\n",
       "                                                  ps  \\\n",
       "0              0 1 2 3 4 5 6 7 8 9 10 11 12 13 14 15   \n",
       "1                                     16 17 18 19 20   \n",
       "2             21 22 23 24 25 26 27 28 29 30 31 32 33   \n",
       "3  34 35 36 37 38 39 40 41 42 43 44 45 46 47 48 4...   \n",
       "4  51 52 53 54 55 56 57 58 59 60 61 62 63 64 65 6...   \n",
       "\n",
       "                                                type          type_len  \\\n",
       "0  Position Position Position Position Position P...  {'Position': 16}   \n",
       "1      Position Position Position Position Position.   {'Position': 5}   \n",
       "2  Position Position Position Position Position P...  {'Position': 13}   \n",
       "3  Evidence Evidence Evidence Evidence Evidence E...  {'Evidence': 17}   \n",
       "4  Evidence Evidence Evidence Evidence Evidence E...  {'Evidence': 18}   \n",
       "\n",
       "   type_prop  \n",
       "0        1.0  \n",
       "1        1.0  \n",
       "2        1.0  \n",
       "3        1.0  \n",
       "4        1.0  "
      ]
     },
     "execution_count": 82,
     "metadata": {},
     "output_type": "execute_result"
    }
   ],
   "source": [
    "df_preproc['type_prop']=df_preproc['type_len'].apply(length_checker)\n",
    "df_preproc.head()"
   ]
  },
  {
   "cell_type": "markdown",
   "id": "7f300dee",
   "metadata": {},
   "source": [
    "Current assumption is that `None` type_prop matches None sentences found in original text. It seems like only sentences at the end of the essay appear here, where are the other"
   ]
  },
  {
   "cell_type": "code",
   "execution_count": 84,
   "id": "01d4f4e1",
   "metadata": {
    "ExecuteTime": {
     "end_time": "2022-03-02T20:10:15.874934Z",
     "start_time": "2022-03-02T20:10:15.865985Z"
    }
   },
   "outputs": [
    {
     "data": {
      "text/html": [
       "<div>\n",
       "<style scoped>\n",
       "    .dataframe tbody tr th:only-of-type {\n",
       "        vertical-align: middle;\n",
       "    }\n",
       "\n",
       "    .dataframe tbody tr th {\n",
       "        vertical-align: top;\n",
       "    }\n",
       "\n",
       "    .dataframe thead th {\n",
       "        text-align: right;\n",
       "    }\n",
       "</style>\n",
       "<table border=\"1\" class=\"dataframe\">\n",
       "  <thead>\n",
       "    <tr style=\"text-align: right;\">\n",
       "      <th></th>\n",
       "      <th>id</th>\n",
       "      <th>sentence</th>\n",
       "      <th>ps</th>\n",
       "      <th>type</th>\n",
       "      <th>type_len</th>\n",
       "      <th>type_prop</th>\n",
       "    </tr>\n",
       "  </thead>\n",
       "  <tbody>\n",
       "  </tbody>\n",
       "</table>\n",
       "</div>"
      ],
      "text/plain": [
       "Empty DataFrame\n",
       "Columns: [id, sentence, ps, type, type_len, type_prop]\n",
       "Index: []"
      ]
     },
     "execution_count": 84,
     "metadata": {},
     "output_type": "execute_result"
    }
   ],
   "source": [
    "df_preproc[(df_preproc.type_prop == None)].head()"
   ]
  },
  {
   "cell_type": "code",
   "execution_count": 86,
   "id": "f65a8269",
   "metadata": {
    "ExecuteTime": {
     "end_time": "2022-03-02T20:10:44.230883Z",
     "start_time": "2022-03-02T20:10:44.029394Z"
    }
   },
   "outputs": [
    {
     "name": "stdout",
     "output_type": "stream",
     "text": [
      "There is 19.02% of sentences composed with two discourse type. No sentence with more than 2 discourse types as \n",
      "type_prop >0.5\n"
     ]
    },
    {
     "data": {
      "image/png": "[encoded data removed]",
      "text/plain": [
       "<Figure size 432x288 with 1 Axes>"
      ]
     },
     "metadata": {
      "needs_background": "light"
     },
     "output_type": "display_data"
    }
   ],
   "source": [
    "#First, our initial number was more or less correct:\n",
    "print(f\"There is {len(df_preproc[df_preproc['type_prop']<1])/len(df_preproc)*100:.2f}% of sentences composed with two discourse type. No sentence with more than 2 discourse types as \\ntype_prop >0.5\") \n",
    "df_preproc[df_preproc['type_prop']<1]['type_prop'].hist(bins=10);\n",
    "\n",
    "## not sure it is a correct assumption"
   ]
  },
  {
   "cell_type": "code",
   "execution_count": 87,
   "id": "c15232b8",
   "metadata": {
    "ExecuteTime": {
     "end_time": "2022-03-02T20:10:45.665070Z",
     "start_time": "2022-03-02T20:10:45.410720Z"
    }
   },
   "outputs": [],
   "source": [
    "# default needed to avoid throwing error\n",
    "df_preproc['label']=df_preproc['type_len'].apply(lambda dict_ : max(dict_,key=dict_.get,default=None))"
   ]
  },
  {
   "cell_type": "code",
   "execution_count": 88,
   "id": "573abbde",
   "metadata": {
    "ExecuteTime": {
     "end_time": "2022-03-02T20:10:46.470116Z",
     "start_time": "2022-03-02T20:10:46.439868Z"
    }
   },
   "outputs": [
    {
     "data": {
      "text/plain": [
       "Evidence                0.536202\n",
       "Concluding_Statement    0.134127\n",
       "Claim                   0.130290\n",
       "Lead                    0.079529\n",
       "Position                0.043053\n",
       "Counterclaim            0.019343\n",
       "Rebuttal                0.017059\n",
       "Name: label, dtype: float64"
      ]
     },
     "execution_count": 88,
     "metadata": {},
     "output_type": "execute_result"
    }
   ],
   "source": [
    "df_preproc.label.value_counts()/len(df_preproc)"
   ]
  },
  {
   "cell_type": "code",
   "execution_count": 89,
   "id": "c26fc937",
   "metadata": {
    "ExecuteTime": {
     "end_time": "2022-03-02T20:10:50.449623Z",
     "start_time": "2022-03-02T20:10:50.433392Z"
    }
   },
   "outputs": [
    {
     "data": {
      "text/plain": [
       "Claim                   0.347959\n",
       "Evidence                0.316731\n",
       "Position                0.106859\n",
       "Concluding_Statement    0.093594\n",
       "Lead                    0.064487\n",
       "Counterclaim            0.040314\n",
       "Rebuttal                0.030057\n",
       "Name: discourse_type, dtype: float64"
      ]
     },
     "execution_count": 89,
     "metadata": {},
     "output_type": "execute_result"
    }
   ],
   "source": [
    "df.discourse_type.value_counts()/len(df)"
   ]
  },
  {
   "cell_type": "code",
   "execution_count": null,
   "id": "b9fd4880",
   "metadata": {
    "ExecuteTime": {
     "end_time": "2022-02-18T08:22:18.441962Z",
     "start_time": "2022-02-18T08:22:18.438936Z"
    }
   },
   "outputs": [],
   "source": [
    "### ISSUE ? "
   ]
  },
  {
   "cell_type": "markdown",
   "id": "987ce471",
   "metadata": {},
   "source": [
    "### Let's try to tackle our big imbalance issue ?"
   ]
  },
  {
   "cell_type": "code",
   "execution_count": 92,
   "id": "3e07a98c",
   "metadata": {
    "ExecuteTime": {
     "end_time": "2022-03-02T20:11:37.133846Z",
     "start_time": "2022-03-02T20:11:36.713741Z"
    }
   },
   "outputs": [],
   "source": [
    "df_shuffled = df_preproc.sample(frac=1).reset_index(drop=True) #shuffle without replacement keeping all rows"
   ]
  },
  {
   "cell_type": "markdown",
   "id": "7cc0ed4b",
   "metadata": {},
   "source": [
    "#### Basic approach"
   ]
  },
  {
   "cell_type": "code",
   "execution_count": 94,
   "id": "fd2e5632",
   "metadata": {
    "ExecuteTime": {
     "end_time": "2022-03-02T20:11:40.064273Z",
     "start_time": "2022-03-02T20:11:39.424570Z"
    }
   },
   "outputs": [],
   "source": [
    "## Let's create a perfectly balanced dataset with n samples of the less represented discourse\n",
    "n = min(df_shuffled['label'].value_counts())\n",
    "\n",
    "df_balanced = pd.DataFrame(columns = df_shuffled.columns)\n",
    "\n",
    "labels = ['Evidence', 'Lead', 'Claim', 'Concluding_Statement','Rebuttal', 'Counterclaim', 'Position']\n",
    "\n",
    "\n",
    "for label in labels:\n",
    "    df_ = df_shuffled[df_shuffled['label']==label].sample(n)\n",
    "    df_balanced = df_balanced.append(df_)"
   ]
  },
  {
   "cell_type": "code",
   "execution_count": 96,
   "id": "b046b8d2",
   "metadata": {
    "ExecuteTime": {
     "end_time": "2022-03-02T20:11:42.746576Z",
     "start_time": "2022-03-02T20:11:42.736093Z"
    }
   },
   "outputs": [
    {
     "data": {
      "text/html": [
       "<div>\n",
       "<style scoped>\n",
       "    .dataframe tbody tr th:only-of-type {\n",
       "        vertical-align: middle;\n",
       "    }\n",
       "\n",
       "    .dataframe tbody tr th {\n",
       "        vertical-align: top;\n",
       "    }\n",
       "\n",
       "    .dataframe thead th {\n",
       "        text-align: right;\n",
       "    }\n",
       "</style>\n",
       "<table border=\"1\" class=\"dataframe\">\n",
       "  <thead>\n",
       "    <tr style=\"text-align: right;\">\n",
       "      <th></th>\n",
       "      <th>id</th>\n",
       "      <th>sentence</th>\n",
       "      <th>ps</th>\n",
       "      <th>type</th>\n",
       "      <th>type_len</th>\n",
       "      <th>type_prop</th>\n",
       "      <th>label</th>\n",
       "    </tr>\n",
       "  </thead>\n",
       "  <tbody>\n",
       "    <tr>\n",
       "      <th>227076</th>\n",
       "      <td>7E54AA9ADF2B</td>\n",
       "      <td>However, she is not sure if that is allowed, c...</td>\n",
       "      <td>770 771 772 773 774 775 776 777 778 779 780 78...</td>\n",
       "      <td>Evidence Evidence Evidence Evidence Evidence E...</td>\n",
       "      <td>{'Evidence': 10, 'Counterclaim': 9}</td>\n",
       "      <td>0.526316</td>\n",
       "      <td>Evidence</td>\n",
       "    </tr>\n",
       "  </tbody>\n",
       "</table>\n",
       "</div>"
      ],
      "text/plain": [
       "                  id                                           sentence  \\\n",
       "227076  7E54AA9ADF2B  However, she is not sure if that is allowed, c...   \n",
       "\n",
       "                                                       ps  \\\n",
       "227076  770 771 772 773 774 775 776 777 778 779 780 78...   \n",
       "\n",
       "                                                     type  \\\n",
       "227076  Evidence Evidence Evidence Evidence Evidence E...   \n",
       "\n",
       "                                   type_len  type_prop     label  \n",
       "227076  {'Evidence': 10, 'Counterclaim': 9}   0.526316  Evidence  "
      ]
     },
     "execution_count": 96,
     "metadata": {},
     "output_type": "execute_result"
    }
   ],
   "source": [
    "## NB \n",
    "df_balanced.head(1)"
   ]
  },
  {
   "cell_type": "markdown",
   "id": "2665420c",
   "metadata": {},
   "source": [
    "#### Random guess approach"
   ]
  },
  {
   "cell_type": "code",
   "execution_count": 97,
   "id": "b0ee664e",
   "metadata": {
    "ExecuteTime": {
     "end_time": "2022-03-02T20:11:48.434659Z",
     "start_time": "2022-03-02T20:11:48.221520Z"
    },
    "scrolled": true
   },
   "outputs": [
    {
     "data": {
      "text/plain": [
       "Evidence                31.431563\n",
       "Concluding_Statement     7.862378\n",
       "Claim                    7.637435\n",
       "Lead                     4.661930\n",
       "Position                 2.523747\n",
       "Counterclaim             1.133882\n",
       "Rebuttal                 1.000000\n",
       "Name: label, dtype: float64"
      ]
     },
     "metadata": {},
     "output_type": "display_data"
    },
    {
     "data": {
      "text/plain": [
       "Evidence                6.286313\n",
       "Concluding_Statement    3.931189\n",
       "Claim                   3.818717\n",
       "Lead                    2.330965\n",
       "Position                2.523747\n",
       "Counterclaim            1.133882\n",
       "Rebuttal                1.000000\n",
       "Name: label, dtype: float64"
      ]
     },
     "execution_count": 97,
     "metadata": {},
     "output_type": "execute_result"
    }
   ],
   "source": [
    "## another approach : still imbalance but less balanced\n",
    "\n",
    "n = min(df_shuffled['label'].value_counts())\n",
    "display(df_shuffled['label'].value_counts()/n)\n",
    "\n",
    "# idea would be to diminish the ratio ; we'll obviously keep 'Rebuttal to 1'\n",
    "random_guess_ratio = df_shuffled['label'].value_counts()/n/[5,2,2,2,1,1,1]\n",
    "random_guess_ratio"
   ]
  },
  {
   "cell_type": "code",
   "execution_count": 98,
   "id": "000d095b",
   "metadata": {
    "ExecuteTime": {
     "end_time": "2022-03-02T20:11:54.030310Z",
     "start_time": "2022-03-02T20:11:53.292218Z"
    }
   },
   "outputs": [],
   "source": [
    "df_balanced_yolo = pd.DataFrame(columns = df_shuffled.columns)\n",
    "\n",
    "labels = ['Evidence', 'Concluding_Statement', 'Claim','Lead', 'Position', 'Counterclaim', 'Rebuttal']\n",
    "\n",
    "for label,weight in zip(labels,random_guess_ratio):\n",
    "    df_ = df_shuffled[df_shuffled['label']==label].sample(int(n*weight))\n",
    "    df_balanced_yolo = df_balanced_yolo.append(df_)"
   ]
  },
  {
   "cell_type": "code",
   "execution_count": 99,
   "id": "65fe9099",
   "metadata": {
    "ExecuteTime": {
     "end_time": "2022-03-02T20:11:54.204533Z",
     "start_time": "2022-03-02T20:11:54.149816Z"
    }
   },
   "outputs": [
    {
     "data": {
      "text/plain": [
       "Evidence                0.298998\n",
       "Concluding_Statement    0.186981\n",
       "Claim                   0.181627\n",
       "Position                0.120030\n",
       "Lead                    0.110869\n",
       "Counterclaim            0.053931\n",
       "Rebuttal                0.047564\n",
       "Name: label, dtype: float64"
      ]
     },
     "execution_count": 99,
     "metadata": {},
     "output_type": "execute_result"
    }
   ],
   "source": [
    "df_balanced_yolo['label'].value_counts()/df_balanced_yolo['label'].value_counts().sum()"
   ]
  },
  {
   "cell_type": "markdown",
   "id": "7429b291",
   "metadata": {},
   "source": [
    "#### FYI useless approach"
   ]
  },
  {
   "cell_type": "code",
   "execution_count": 232,
   "id": "e77d7f01",
   "metadata": {
    "ExecuteTime": {
     "end_time": "2022-02-18T20:13:21.300700Z",
     "start_time": "2022-02-18T20:13:20.908601Z"
    }
   },
   "outputs": [],
   "source": [
    "### OR NEW APPROACH ! \n",
    "## We will replicate the distribution that we have in the original train.csv file, using number of words\n",
    "\n",
    "df['discourse_len'] = df['predictionstring'].apply(lambda txt : len(txt.split()))\n",
    "types_prop_df=df.groupby('discourse_type')[['discourse_len']].sum().reset_index()\n",
    "types_prop_df['distribution']=types_prop_df['discourse_len']/types_prop_df['discourse_len'].sum()\n",
    "\n",
    "## OK spoiler alert it does not change a thing :) "
   ]
  },
  {
   "cell_type": "code",
   "execution_count": 114,
   "id": "c5cf7eef",
   "metadata": {
    "ExecuteTime": {
     "end_time": "2022-03-02T20:21:23.314204Z",
     "start_time": "2022-03-02T20:21:20.969527Z"
    }
   },
   "outputs": [],
   "source": [
    "df_balanced_yolo.to_csv('data_balanced_dm.csv')"
   ]
  },
  {
   "cell_type": "code",
   "execution_count": 115,
   "id": "4d1fa847",
   "metadata": {
    "ExecuteTime": {
     "end_time": "2022-03-02T20:21:44.682341Z",
     "start_time": "2022-03-02T20:21:40.232887Z"
    }
   },
   "outputs": [],
   "source": [
    "df_preproc.to_csv('data_preproc_sen.csv')"
   ]
  },
  {
   "cell_type": "code",
   "execution_count": 116,
   "id": "547ebc2c",
   "metadata": {
    "ExecuteTime": {
     "end_time": "2022-03-02T20:22:31.079203Z",
     "start_time": "2022-03-02T20:22:31.073178Z"
    }
   },
   "outputs": [
    {
     "data": {
      "text/plain": [
       "0.3586639616707178"
      ]
     },
     "execution_count": 116,
     "metadata": {},
     "output_type": "execute_result"
    }
   ],
   "source": [
    "len(df_balanced_yolo)/len(df_preproc)"
   ]
  },
  {
   "cell_type": "markdown",
   "id": "bc341aaa",
   "metadata": {},
   "source": [
    "# Modeling "
   ]
  },
  {
   "cell_type": "markdown",
   "id": "0386198e",
   "metadata": {},
   "source": [
    "## Split the data"
   ]
  },
  {
   "cell_type": "code",
   "execution_count": 101,
   "id": "b93a4a7d",
   "metadata": {
    "ExecuteTime": {
     "end_time": "2022-03-02T20:12:08.380594Z",
     "start_time": "2022-03-02T20:12:08.000017Z"
    }
   },
   "outputs": [],
   "source": [
    "## We can not do a sample train test split : we would loose the connexion to our id ! Let's shuffle our df and create index\n",
    "\n",
    "VAL_SPLIT = .8\n",
    "TEST_SPLIT = .9\n",
    "\n",
    "df_shuffled = df_preproc.sample(frac=1).reset_index(drop=True) #shuffle without replacement keeping all rows\n",
    "\n",
    "LEN=len(df_shuffled)\n",
    "\n",
    "idx_val=int(LEN*VAL_SPLIT)\n",
    "idx_test=int(LEN*TEST_SPLIT)\n",
    "\n",
    "idx_train=list(range(0,idx_val))\n",
    "idx_val=list(range(idx_val,idx_test))\n",
    "idx_test=list(range(idx_test,LEN))\n",
    "\n",
    "assert(len(idx_test)+len(idx_train)+len(idx_val)==LEN)"
   ]
  },
  {
   "cell_type": "code",
   "execution_count": 102,
   "id": "e9473d5c",
   "metadata": {
    "ExecuteTime": {
     "end_time": "2022-03-02T20:12:08.726904Z",
     "start_time": "2022-03-02T20:12:08.616693Z"
    }
   },
   "outputs": [],
   "source": [
    "## Create our train, val, test split\n",
    "\n",
    "x_train = df_shuffled.loc[idx_train,'sentence'].values ## needs the .values to have an array, needed for the model\n",
    "x_val = df_shuffled.loc[idx_val,'sentence'].values ## needs the .values to have an array, needed for the model\n",
    "x_test = df_shuffled.loc[idx_test,'sentence'].values ## needs the .values to have an array, needed for the model\n",
    "\n",
    "y_train = df_shuffled.loc[idx_train,'label'].values ## needs the .values to have an array, needed for the model\n",
    "y_val = df_shuffled.loc[idx_val,'label'].values ## needs the .values to have an array, needed for the model\n",
    "y_test = df_shuffled.loc[idx_test,'label'].values ## needs the .values to have an array, needed for the model\n",
    "\n"
   ]
  },
  {
   "cell_type": "code",
   "execution_count": 103,
   "id": "e13511fd",
   "metadata": {
    "ExecuteTime": {
     "end_time": "2022-03-02T20:12:10.343323Z",
     "start_time": "2022-03-02T20:12:10.158626Z"
    }
   },
   "outputs": [],
   "source": [
    "## Create OHE for y\n",
    "\n",
    "#label mapping\n",
    "list_labels = pd.Series(y_train.flatten()).unique() #Serie + simple\n",
    "label_map = {l:i for i,l in enumerate(list_labels)}\n",
    "label_map\n",
    "\n",
    "y_train_mapped = np.vectorize(label_map.get)(y_train)\n",
    "y_val_mapped = np.vectorize(label_map.get)(y_val)\n",
    "y_test_mapped = np.vectorize(label_map.get)(y_test)\n",
    "\n",
    "\n",
    "y_train_ohe = np.zeros((len(y_train),len(label_map)))\n",
    "y_val_ohe = np.zeros((len(y_val),len(label_map)))\n",
    "y_test_ohe = np.zeros((len(y_train),len(label_map)))\n",
    "\n",
    "y_train_ohe[np.arange(len(y_train)),y_train_mapped]=1\n",
    "y_val_ohe[np.arange(len(y_val)),y_val_mapped]=1\n",
    "y_test_ohe[np.arange(len(y_test)),y_test_mapped]=1\n"
   ]
  },
  {
   "cell_type": "markdown",
   "id": "e9b484dc",
   "metadata": {},
   "source": [
    "## Let's take the opportunity to get an idea of a simple baseline"
   ]
  },
  {
   "cell_type": "code",
   "execution_count": 104,
   "id": "9c6df044",
   "metadata": {
    "ExecuteTime": {
     "end_time": "2022-03-02T20:12:23.104331Z",
     "start_time": "2022-03-02T20:12:13.143507Z"
    }
   },
   "outputs": [],
   "source": [
    "#tokenize\n",
    "\n",
    "tokenizer = tf.keras.preprocessing.text.Tokenizer()\n",
    "tokenizer.fit_on_texts(x_train)\n",
    "\n",
    "x_train_tok = tokenizer.texts_to_sequences(x_train)\n",
    "x_val_tok = tokenizer.texts_to_sequences(x_val)\n",
    "x_test_tok = tokenizer.texts_to_sequences(x_test)\n"
   ]
  },
  {
   "cell_type": "code",
   "execution_count": 105,
   "id": "4fe76052",
   "metadata": {
    "ExecuteTime": {
     "end_time": "2022-03-02T20:12:25.076680Z",
     "start_time": "2022-03-02T20:12:24.729178Z"
    }
   },
   "outputs": [
    {
     "data": {
      "text/plain": [
       "[<matplotlib.lines.Line2D at 0x18ef8a310>]"
      ]
     },
     "execution_count": 105,
     "metadata": {},
     "output_type": "execute_result"
    },
    {
     "data": {
      "image/png": "[encoded data removed]",
      "text/plain": [
       "<Figure size 432x288 with 1 Axes>"
      ]
     },
     "metadata": {
      "needs_background": "light"
     },
     "output_type": "display_data"
    }
   ],
   "source": [
    "#check distribution of length of distribution to determine padding \n",
    "\n",
    "df_shuffled['len_sen']=df_shuffled['sentence'].apply(len)\n",
    "df_shuffled['len_sen'].hist(bins=100)\n",
    "plt.xlim(0,1500)\n",
    "plt.plot([256,256],[0,90000],c='r')"
   ]
  },
  {
   "cell_type": "code",
   "execution_count": 109,
   "id": "f14a6321",
   "metadata": {
    "ExecuteTime": {
     "end_time": "2022-03-02T20:13:05.740267Z",
     "start_time": "2022-03-02T20:13:05.723475Z"
    }
   },
   "outputs": [
    {
     "data": {
      "text/plain": [
       "'96.58% sentences captured'"
      ]
     },
     "execution_count": 109,
     "metadata": {},
     "output_type": "execute_result"
    }
   ],
   "source": [
    "((1-len(df_shuffled[df_shuffled.len_sen>256])/len(df_shuffled))*100).__format__('.2f')+'% sentences captured'"
   ]
  },
  {
   "cell_type": "code",
   "execution_count": 110,
   "id": "169157e4",
   "metadata": {
    "ExecuteTime": {
     "end_time": "2022-03-02T20:13:19.212346Z",
     "start_time": "2022-03-02T20:13:17.417152Z"
    },
    "scrolled": true
   },
   "outputs": [],
   "source": [
    "#padding\n",
    "\n",
    "x_train_pad = tf.keras.preprocessing.sequence.pad_sequences(x_train_tok, \n",
    "                                                            dtype='float32', padding='post',maxlen=256)\n",
    "x_val_pad = tf.keras.preprocessing.sequence.pad_sequences(x_val_tok, \n",
    "                                                          dtype='float32', padding='post',maxlen=256)\n",
    "x_test_pad = tf.keras.preprocessing.sequence.pad_sequences(x_test_tok, \n",
    "                                                           dtype='float32', padding='post',maxlen=256)"
   ]
  },
  {
   "cell_type": "markdown",
   "id": "c02daab4",
   "metadata": {},
   "source": [
    "## Using simple embeddings and LSTM layers"
   ]
  },
  {
   "cell_type": "code",
   "execution_count": 111,
   "id": "251e781c",
   "metadata": {
    "ExecuteTime": {
     "end_time": "2022-03-02T20:13:20.882642Z",
     "start_time": "2022-03-02T20:13:20.877916Z"
    }
   },
   "outputs": [
    {
     "data": {
      "text/plain": [
       "47734"
      ]
     },
     "execution_count": 111,
     "metadata": {},
     "output_type": "execute_result"
    }
   ],
   "source": [
    "## Define variables for our embedding layer\n",
    "vocab_size = len(tokenizer.word_index)\n",
    "vocab_size"
   ]
  },
  {
   "cell_type": "markdown",
   "id": "deadfc7f",
   "metadata": {},
   "source": [
    "### Model architectures"
   ]
  },
  {
   "cell_type": "code",
   "execution_count": 112,
   "id": "dafa9422",
   "metadata": {
    "ExecuteTime": {
     "end_time": "2022-03-02T20:13:30.656845Z",
     "start_time": "2022-03-02T20:13:30.652490Z"
    }
   },
   "outputs": [],
   "source": [
    "## Create simplest model e v e r \n",
    "\n",
    "def simple_model():\n",
    "    \n",
    "    x = tf.keras.layers.Embedding(input_dim=vocab_size + 1, output_dim=64, mask_zero=True)(inputs)\n",
    "    \n",
    "    x = tf.keras.layers.LSTM(units = 256, activation = 'tanh', return_sequence=True)(x)\n",
    "    x = tf.keras.layers.LSTM(units = 128, activation = 'tanh')(x)\n",
    "    \n",
    "    x = tf.keras.layers.Dense(58,activation='relu')(x)\n",
    "    \n",
    "    outputs = tf.keras.layers.Dense(8,activation='softmax')(x)\n",
    "\n",
    "    return model "
   ]
  },
  {
   "cell_type": "code",
   "execution_count": 113,
   "id": "84a27b3c",
   "metadata": {
    "ExecuteTime": {
     "end_time": "2022-03-02T20:13:32.489628Z",
     "start_time": "2022-03-02T20:13:32.484806Z"
    }
   },
   "outputs": [],
   "source": [
    "def simple_model_bidirectionnal():\n",
    "    \n",
    "    x = tf.keras.layers.Embedding(input_dim=vocab_size + 1, output_dim=64, mask_zero=True)(inputs)\n",
    "    \n",
    "    x = tf.keras.layers.Bidirectional(LSTM(units = 256, activation = 'tanh', return_sequence=True))(x)\n",
    "    x = tf.keras.layers.Bidirectional(LSTM(units = 128, activation = 'tanh'))(x)\n",
    "    \n",
    "    x = tf.keras.layers.Dense(58,activation='relu')(x)\n",
    "    \n",
    "    outputs = tf.keras.layers.Dense(8,activation='softmax')(x)\n",
    "\n",
    "    return model "
   ]
  },
  {
   "cell_type": "markdown",
   "id": "46c9752a",
   "metadata": {},
   "source": [
    "### Model compilation and callbacks "
   ]
  },
  {
   "cell_type": "code",
   "execution_count": 255,
   "id": "515bdc42",
   "metadata": {
    "ExecuteTime": {
     "end_time": "2022-02-18T20:31:25.862634Z",
     "start_time": "2022-02-18T20:31:25.705832Z"
    },
    "scrolled": true
   },
   "outputs": [
    {
     "name": "stderr",
     "output_type": "stream",
     "text": [
      "2022-02-18 21:31:25.802181: I tensorflow/core/platform/cpu_feature_guard.cc:151] This TensorFlow binary is optimized with oneAPI Deep Neural Network Library (oneDNN) to use the following CPU instructions in performance-critical operations:  AVX2 FMA\n",
      "To enable them in other operations, rebuild TensorFlow with the appropriate compiler flags.\n"
     ]
    }
   ],
   "source": [
    "#init objects\n",
    "\n",
    "loss = tf.keras.losses.CategoricalCrossentropy()\n",
    "metrics = tf.keras.metrics.CategoricalAccuracy()\n",
    "lr_scheduler \n",
    "optimizer = tf.keras.optimizers.Adam()"
   ]
  },
  {
   "cell_type": "code",
   "execution_count": 257,
   "id": "d4e93e5a",
   "metadata": {
    "ExecuteTime": {
     "end_time": "2022-02-18T20:38:59.498366Z",
     "start_time": "2022-02-18T20:38:59.492076Z"
    }
   },
   "outputs": [],
   "source": [
    "# callbacks \n",
    "\n",
    "#paths\n",
    "checkpoints_path_simple = '/content/drive/MyDrive/feedback-prize/checkpoints/sentences_simple.ckpt'\n",
    "checkpoints_path_bi = '/content/drive/MyDrive/feedback-prize/checkpoints/sentences_bi.ckpt'\n",
    "logdir = '/content/drive/MyDrive/feedback-drive/logs/'\n",
    "\n",
    "es = tf.keras.callbacks.EarlyStopping(patience=1)\n",
    "\n",
    "checkpoint_saver_simple = tf.keras.callbacks.ModelCheckpoint(filepath=checkpoints_path_simple,\n",
    "                                                      save_weights_only=True,\n",
    "                                                      save_best_only = True,\n",
    "                                                      monitor = 'val_categorical_accuracy',\n",
    "                                                      mode = 'max',\n",
    "                                                      verbose = 1)\n",
    "\n",
    "checkpoint_saver_simple = tf.keras.callbacks.ModelCheckpoint(filepath=checkpoints_path_bi,\n",
    "                                                      save_weights_only=True,\n",
    "                                                      save_best_only = True,\n",
    "                                                      monitor = 'val_categorical_accuracy',\n",
    "                                                      mode = 'max',\n",
    "                                                      verbose = 1)\n",
    "\n",
    "tensorboard = tf.keras.callbacks.TensorBoard(log_dir=logdir)"
   ]
  },
  {
   "cell_type": "code",
   "execution_count": null,
   "id": "b146d57f",
   "metadata": {},
   "outputs": [],
   "source": []
  },
  {
   "cell_type": "markdown",
   "id": "cb8b3e17",
   "metadata": {},
   "source": [
    "## Transformers as embedder"
   ]
  },
  {
   "cell_type": "markdown",
   "id": "e79be84a",
   "metadata": {},
   "source": [
    "An other idea would be to use a transformer as an embedder before using LSTM to see if that improves the baseline. After further investigation of the limits of a sentence approach and given the timeline of the competition, it appeared to me that it would not be efficient to spend more time on this approach."
   ]
  },
  {
   "cell_type": "code",
   "execution_count": null,
   "id": "6f973513",
   "metadata": {},
   "outputs": [],
   "source": []
  }
 ],
 "metadata": {
  "kernelspec": {
   "display_name": "Python 3 (ipykernel)",
   "language": "python",
   "name": "python3"
  },
  "language_info": {
   "codemirror_mode": {
    "name": "ipython",
    "version": 3
   },
   "file_extension": ".py",
   "mimetype": "text/x-python",
   "name": "python",
   "nbconvert_exporter": "python",
   "pygments_lexer": "ipython3",
   "version": "3.8.12"
  },
  "toc": {
   "base_numbering": 1,
   "nav_menu": {},
   "number_sections": true,
   "sideBar": true,
   "skip_h1_title": false,
   "title_cell": "Table of Contents",
   "title_sidebar": "Contents",
   "toc_cell": false,
   "toc_position": {
    "height": "calc(100% - 180px)",
    "left": "10px",
    "top": "150px",
    "width": "288px"
   },
   "toc_section_display": true,
   "toc_window_display": true
  },
  "varInspector": {
   "cols": {
    "lenName": 16,
    "lenType": 16,
    "lenVar": 40
   },
   "kernels_config": {
    "python": {
     "delete_cmd_postfix": "",
     "delete_cmd_prefix": "del ",
     "library": "var_list.py",
     "varRefreshCmd": "print(var_dic_list())"
    },
    "r": {
     "delete_cmd_postfix": ") ",
     "delete_cmd_prefix": "rm(",
     "library": "var_list.r",
     "varRefreshCmd": "cat(var_dic_list()) "
    }
   },
   "position": {
    "height": "447.852px",
    "left": "856px",
    "right": "20px",
    "top": "104px",
    "width": "448px"
   },
   "types_to_exclude": [
    "module",
    "function",
    "builtin_function_or_method",
    "instance",
    "_Feature"
   ],
   "window_display": false
  }
 },
 "nbformat": 4,
 "nbformat_minor": 5
}
