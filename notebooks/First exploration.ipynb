{
 "cells": [
  {
   "cell_type": "code",
   "execution_count": 73,
   "id": "editorial-supervisor",
   "metadata": {
    "ExecuteTime": {
     "end_time": "2021-12-26T21:57:20.286615Z",
     "start_time": "2021-12-26T21:57:20.281142Z"
    }
   },
   "outputs": [],
   "source": [
    "import pandas as pd\n",
    "from IPython.core.display import HTML\n",
    "#import matplotlib.pyplot as plt\n",
    "#import seaborn as sns"
   ]
  },
  {
   "cell_type": "code",
   "execution_count": 146,
   "id": "innovative-potter",
   "metadata": {
    "ExecuteTime": {
     "end_time": "2021-12-27T10:11:47.769503Z",
     "start_time": "2021-12-27T10:11:47.763145Z"
    }
   },
   "outputs": [],
   "source": [
    "TYPE_COLORS = {\n",
    "    \"Lead\": \"Grey\",\n",
    "    \"Position\": \"YellowGreen\",\n",
    "    \"Claim\": \"DarkRed\",\n",
    "    \"Counterclaim\": \"MediumVioletRed\",\n",
    "    \"Rebuttal\": \"MediumPurple\",\n",
    "    \"Evidence\": \"Blue\",\n",
    "    \"Concluding Statement\": \"Green\",\n",
    "    \"Unlabelled\": \"Black\"\n",
    "}"
   ]
  },
  {
   "cell_type": "code",
   "execution_count": 112,
   "id": "impressive-edinburgh",
   "metadata": {
    "ExecuteTime": {
     "end_time": "2021-12-27T09:15:04.251762Z",
     "start_time": "2021-12-27T09:15:03.375138Z"
    }
   },
   "outputs": [],
   "source": [
    "train_df = pd.read_csv(\"../raw_data/train.csv\", dtype = {\"discourse_id\": int, \"discourse_start\": int, \"discourse_end\": int})"
   ]
  },
  {
   "cell_type": "code",
   "execution_count": 281,
   "id": "growing-flashing",
   "metadata": {
    "ExecuteTime": {
     "end_time": "2021-12-27T19:29:13.720023Z",
     "start_time": "2021-12-27T19:29:13.681148Z"
    }
   },
   "outputs": [
    {
     "data": {
      "text/html": [
       "<div>\n",
       "<style scoped>\n",
       "    .dataframe tbody tr th:only-of-type {\n",
       "        vertical-align: middle;\n",
       "    }\n",
       "\n",
       "    .dataframe tbody tr th {\n",
       "        vertical-align: top;\n",
       "    }\n",
       "\n",
       "    .dataframe thead th {\n",
       "        text-align: right;\n",
       "    }\n",
       "</style>\n",
       "<table border=\"1\" class=\"dataframe\">\n",
       "  <thead>\n",
       "    <tr style=\"text-align: right;\">\n",
       "      <th></th>\n",
       "      <th>id</th>\n",
       "      <th>discourse_id</th>\n",
       "      <th>discourse_start</th>\n",
       "      <th>discourse_end</th>\n",
       "      <th>discourse_text</th>\n",
       "      <th>discourse_type</th>\n",
       "      <th>discourse_type_num</th>\n",
       "      <th>predictionstring</th>\n",
       "    </tr>\n",
       "  </thead>\n",
       "  <tbody>\n",
       "    <tr>\n",
       "      <th>123311</th>\n",
       "      <td>848CD0BA745D</td>\n",
       "      <td>1621278393457</td>\n",
       "      <td>613</td>\n",
       "      <td>747</td>\n",
       "      <td>When at school, students are surrounded in a c...</td>\n",
       "      <td>Claim</td>\n",
       "      <td>Claim 1</td>\n",
       "      <td>110 111 112 113 114 115 116 117 118 119 120 12...</td>\n",
       "    </tr>\n",
       "    <tr>\n",
       "      <th>2213</th>\n",
       "      <td>3D16AB37AA84</td>\n",
       "      <td>1622571791133</td>\n",
       "      <td>2707</td>\n",
       "      <td>2880</td>\n",
       "      <td>If we can just wait until we arrive at our des...</td>\n",
       "      <td>Position</td>\n",
       "      <td>Position 1</td>\n",
       "      <td>484 485 486 487 488 489 490 491 492 493 494 49...</td>\n",
       "    </tr>\n",
       "    <tr>\n",
       "      <th>12606</th>\n",
       "      <td>6B077DFF9A4A</td>\n",
       "      <td>1622589636027</td>\n",
       "      <td>111</td>\n",
       "      <td>148</td>\n",
       "      <td>it can improve safety and save time.</td>\n",
       "      <td>Claim</td>\n",
       "      <td>Claim 3</td>\n",
       "      <td>19 20 21 22 23 24 25</td>\n",
       "    </tr>\n",
       "    <tr>\n",
       "      <th>99709</th>\n",
       "      <td>9D263A8A768B</td>\n",
       "      <td>1614876610629</td>\n",
       "      <td>207</td>\n",
       "      <td>400</td>\n",
       "      <td>In the passage it had said \"you help choose yo...</td>\n",
       "      <td>Evidence</td>\n",
       "      <td>Evidence 1</td>\n",
       "      <td>33 34 35 36 37 38 39 40 41 42 43 44 45 46 47 4...</td>\n",
       "    </tr>\n",
       "    <tr>\n",
       "      <th>120565</th>\n",
       "      <td>066B1D7C9214</td>\n",
       "      <td>1622156285033</td>\n",
       "      <td>1888</td>\n",
       "      <td>2514</td>\n",
       "      <td>Distance has always been an issue in educatio...</td>\n",
       "      <td>Evidence</td>\n",
       "      <td>Evidence 4</td>\n",
       "      <td>323 324 325 326 327 328 329 330 331 332 333 33...</td>\n",
       "    </tr>\n",
       "  </tbody>\n",
       "</table>\n",
       "</div>"
      ],
      "text/plain": [
       "                  id   discourse_id  discourse_start  discourse_end  \\\n",
       "123311  848CD0BA745D  1621278393457              613            747   \n",
       "2213    3D16AB37AA84  1622571791133             2707           2880   \n",
       "12606   6B077DFF9A4A  1622589636027              111            148   \n",
       "99709   9D263A8A768B  1614876610629              207            400   \n",
       "120565  066B1D7C9214  1622156285033             1888           2514   \n",
       "\n",
       "                                           discourse_text discourse_type  \\\n",
       "123311  When at school, students are surrounded in a c...          Claim   \n",
       "2213    If we can just wait until we arrive at our des...       Position   \n",
       "12606               it can improve safety and save time.           Claim   \n",
       "99709   In the passage it had said \"you help choose yo...       Evidence   \n",
       "120565   Distance has always been an issue in educatio...       Evidence   \n",
       "\n",
       "       discourse_type_num                                   predictionstring  \n",
       "123311            Claim 1  110 111 112 113 114 115 116 117 118 119 120 12...  \n",
       "2213           Position 1  484 485 486 487 488 489 490 491 492 493 494 49...  \n",
       "12606             Claim 3                               19 20 21 22 23 24 25  \n",
       "99709          Evidence 1  33 34 35 36 37 38 39 40 41 42 43 44 45 46 47 4...  \n",
       "120565         Evidence 4  323 324 325 326 327 328 329 330 331 332 333 33...  "
      ]
     },
     "execution_count": 281,
     "metadata": {},
     "output_type": "execute_result"
    }
   ],
   "source": [
    "train_df.sample(5)"
   ]
  },
  {
   "cell_type": "code",
   "execution_count": 258,
   "id": "reasonable-burke",
   "metadata": {
    "ExecuteTime": {
     "end_time": "2021-12-27T16:49:45.518306Z",
     "start_time": "2021-12-27T16:49:45.511484Z"
    }
   },
   "outputs": [],
   "source": [
    "def format_discourse_element(text, type_):\n",
    "    if text:\n",
    "        text = text.replace(\"\\n\", \"<br>\")\n",
    "        return f\"|<span style='color:{TYPE_COLORS[type_]}'>{text}</span>\"\n",
    "    return \"\""
   ]
  },
  {
   "cell_type": "code",
   "execution_count": 279,
   "id": "ordered-player",
   "metadata": {
    "ExecuteTime": {
     "end_time": "2021-12-27T19:28:53.634858Z",
     "start_time": "2021-12-27T19:28:53.628386Z"
    }
   },
   "outputs": [],
   "source": [
    "def print_annotations(essay_id):\n",
    "    elements_df = train_df[train_df[\"id\"] == essay_id]\n",
    "    essay_text = open(f'../raw_data/train/{essay_id}.txt').read()\n",
    "    formatted_elements = \"\"\n",
    "    char_pointer = 0\n",
    "    for i, element in elements_df.iterrows():\n",
    "        unlabelled_element = essay_text[char_pointer:element['discourse_start']]\n",
    "        print(\"unlab :\", char_pointer, element['discourse_start'])\n",
    "        char_pointer = element['discourse_end'] + 1\n",
    "        discourse_element = essay_text[element['discourse_start']:char_pointer]\n",
    "        print(\"lab\", element['discourse_start'], char_pointer)\n",
    "        formatted_elements +=\\\n",
    "            format_discourse_element(unlabelled_element, \"Unlabelled\") +\\\n",
    "            format_discourse_element(discourse_element, element['discourse_type'])\n",
    "    formatted_elements += essay_text[char_pointer:]\n",
    "    return HTML(formatted_elements)"
   ]
  },
  {
   "cell_type": "code",
   "execution_count": 288,
   "id": "improving-reservoir",
   "metadata": {
    "ExecuteTime": {
     "end_time": "2021-12-27T19:32:11.194605Z",
     "start_time": "2021-12-27T19:32:11.181445Z"
    }
   },
   "outputs": [
    {
     "data": {
      "text/plain": [
       "''"
      ]
     },
     "execution_count": 288,
     "metadata": {},
     "output_type": "execute_result"
    }
   ],
   "source": [
    "\"test\"[2:0]"
   ]
  },
  {
   "cell_type": "code",
   "execution_count": 232,
   "id": "early-playing",
   "metadata": {
    "ExecuteTime": {
     "end_time": "2021-12-27T16:24:03.903878Z",
     "start_time": "2021-12-27T16:24:03.878082Z"
    }
   },
   "outputs": [],
   "source": [
    "def print_annotations_2(essay_id):\n",
    "    elements_df = train_df[train_df[\"id\"] == essay_id]\n",
    "    formatted_elements = \"\"\n",
    "    for i, element in elements_df.iterrows():\n",
    "        formatted_elements += f\"|<span style='color:{class_colors[element['discourse_type']]}'>{element['discourse_text']}</span>\"\n",
    "    return HTML(formatted_elements)"
   ]
  },
  {
   "cell_type": "code",
   "execution_count": 291,
   "id": "assumed-theology",
   "metadata": {
    "ExecuteTime": {
     "end_time": "2021-12-27T19:34:12.702761Z",
     "start_time": "2021-12-27T19:34:12.628080Z"
    }
   },
   "outputs": [
    {
     "data": {
      "text/html": [
       "<div>\n",
       "<style scoped>\n",
       "    .dataframe tbody tr th:only-of-type {\n",
       "        vertical-align: middle;\n",
       "    }\n",
       "\n",
       "    .dataframe tbody tr th {\n",
       "        vertical-align: top;\n",
       "    }\n",
       "\n",
       "    .dataframe thead th {\n",
       "        text-align: right;\n",
       "    }\n",
       "</style>\n",
       "<table border=\"1\" class=\"dataframe\">\n",
       "  <thead>\n",
       "    <tr style=\"text-align: right;\">\n",
       "      <th></th>\n",
       "      <th>id</th>\n",
       "      <th>discourse_id</th>\n",
       "      <th>discourse_start</th>\n",
       "      <th>discourse_end</th>\n",
       "      <th>discourse_text</th>\n",
       "      <th>discourse_type</th>\n",
       "      <th>discourse_type_num</th>\n",
       "      <th>predictionstring</th>\n",
       "    </tr>\n",
       "  </thead>\n",
       "  <tbody>\n",
       "    <tr>\n",
       "      <th>2206</th>\n",
       "      <td>3D16AB37AA84</td>\n",
       "      <td>1622573248281</td>\n",
       "      <td>203</td>\n",
       "      <td>627</td>\n",
       "      <td>Cell phones haven't been around a long time bu...</td>\n",
       "      <td>Lead</td>\n",
       "      <td>Lead 1</td>\n",
       "      <td>37 38 39 40 41 42 43 44 45 46 47 48 49 50 51 5...</td>\n",
       "    </tr>\n",
       "    <tr>\n",
       "      <th>2207</th>\n",
       "      <td>3D16AB37AA84</td>\n",
       "      <td>1622571701339</td>\n",
       "      <td>628</td>\n",
       "      <td>732</td>\n",
       "      <td>For one thing, using your cell phone causes ma...</td>\n",
       "      <td>Claim</td>\n",
       "      <td>Claim 1</td>\n",
       "      <td>114 115 116 117 118 119 120 121 122 123 124 12...</td>\n",
       "    </tr>\n",
       "    <tr>\n",
       "      <th>2208</th>\n",
       "      <td>3D16AB37AA84</td>\n",
       "      <td>1622571714914</td>\n",
       "      <td>733</td>\n",
       "      <td>1484</td>\n",
       "      <td>It is easily possible for your eyes tom slip ...</td>\n",
       "      <td>Evidence</td>\n",
       "      <td>Evidence 1</td>\n",
       "      <td>132 133 134 135 136 137 138 139 140 141 142 14...</td>\n",
       "    </tr>\n",
       "    <tr>\n",
       "      <th>2209</th>\n",
       "      <td>3D16AB37AA84</td>\n",
       "      <td>1622571725788</td>\n",
       "      <td>1485</td>\n",
       "      <td>1583</td>\n",
       "      <td>\\nSecondly, texting while driving not only end...</td>\n",
       "      <td>Claim</td>\n",
       "      <td>Claim 2</td>\n",
       "      <td>269 270 271 272 273 274 275 276 277 278 279 28...</td>\n",
       "    </tr>\n",
       "    <tr>\n",
       "      <th>2210</th>\n",
       "      <td>3D16AB37AA84</td>\n",
       "      <td>1622571734093</td>\n",
       "      <td>1584</td>\n",
       "      <td>2454</td>\n",
       "      <td>Texting while driving can limit your response ...</td>\n",
       "      <td>Evidence</td>\n",
       "      <td>Evidence 2</td>\n",
       "      <td>285 286 287 288 289 290 291 292 293 294 295 29...</td>\n",
       "    </tr>\n",
       "    <tr>\n",
       "      <th>2211</th>\n",
       "      <td>3D16AB37AA84</td>\n",
       "      <td>1622571775285</td>\n",
       "      <td>2455</td>\n",
       "      <td>2573</td>\n",
       "      <td>Finally, the numbers speak for themselves, too...</td>\n",
       "      <td>Claim</td>\n",
       "      <td>Claim 3</td>\n",
       "      <td>441 442 443 444 445 446 447 448 449 450 451 45...</td>\n",
       "    </tr>\n",
       "    <tr>\n",
       "      <th>2212</th>\n",
       "      <td>3D16AB37AA84</td>\n",
       "      <td>1622571799486</td>\n",
       "      <td>2574</td>\n",
       "      <td>2707</td>\n",
       "      <td>People's lives will always be endangered if pe...</td>\n",
       "      <td>Evidence</td>\n",
       "      <td>Evidence 3</td>\n",
       "      <td>460 461 462 463 464 465 466 467 468 469 470 47...</td>\n",
       "    </tr>\n",
       "    <tr>\n",
       "      <th>2213</th>\n",
       "      <td>3D16AB37AA84</td>\n",
       "      <td>1622571791133</td>\n",
       "      <td>2707</td>\n",
       "      <td>2880</td>\n",
       "      <td>If we can just wait until we arrive at our des...</td>\n",
       "      <td>Position</td>\n",
       "      <td>Position 1</td>\n",
       "      <td>484 485 486 487 488 489 490 491 492 493 494 49...</td>\n",
       "    </tr>\n",
       "    <tr>\n",
       "      <th>2214</th>\n",
       "      <td>3D16AB37AA84</td>\n",
       "      <td>1622571808829</td>\n",
       "      <td>2881</td>\n",
       "      <td>3014</td>\n",
       "      <td>Remember, think before you pull out your phone...</td>\n",
       "      <td>Concluding Statement</td>\n",
       "      <td>Concluding Statement 1</td>\n",
       "      <td>518 519 520 521 522 523 524 525 526 527 528 52...</td>\n",
       "    </tr>\n",
       "  </tbody>\n",
       "</table>\n",
       "</div>"
      ],
      "text/plain": [
       "                id   discourse_id  discourse_start  discourse_end  \\\n",
       "2206  3D16AB37AA84  1622573248281              203            627   \n",
       "2207  3D16AB37AA84  1622571701339              628            732   \n",
       "2208  3D16AB37AA84  1622571714914              733           1484   \n",
       "2209  3D16AB37AA84  1622571725788             1485           1583   \n",
       "2210  3D16AB37AA84  1622571734093             1584           2454   \n",
       "2211  3D16AB37AA84  1622571775285             2455           2573   \n",
       "2212  3D16AB37AA84  1622571799486             2574           2707   \n",
       "2213  3D16AB37AA84  1622571791133             2707           2880   \n",
       "2214  3D16AB37AA84  1622571808829             2881           3014   \n",
       "\n",
       "                                         discourse_text        discourse_type  \\\n",
       "2206  Cell phones haven't been around a long time bu...                  Lead   \n",
       "2207  For one thing, using your cell phone causes ma...                 Claim   \n",
       "2208   It is easily possible for your eyes tom slip ...              Evidence   \n",
       "2209  \\nSecondly, texting while driving not only end...                 Claim   \n",
       "2210  Texting while driving can limit your response ...              Evidence   \n",
       "2211  Finally, the numbers speak for themselves, too...                 Claim   \n",
       "2212  People's lives will always be endangered if pe...              Evidence   \n",
       "2213  If we can just wait until we arrive at our des...              Position   \n",
       "2214  Remember, think before you pull out your phone...  Concluding Statement   \n",
       "\n",
       "          discourse_type_num  \\\n",
       "2206                  Lead 1   \n",
       "2207                 Claim 1   \n",
       "2208              Evidence 1   \n",
       "2209                 Claim 2   \n",
       "2210              Evidence 2   \n",
       "2211                 Claim 3   \n",
       "2212              Evidence 3   \n",
       "2213              Position 1   \n",
       "2214  Concluding Statement 1   \n",
       "\n",
       "                                       predictionstring  \n",
       "2206  37 38 39 40 41 42 43 44 45 46 47 48 49 50 51 5...  \n",
       "2207  114 115 116 117 118 119 120 121 122 123 124 12...  \n",
       "2208  132 133 134 135 136 137 138 139 140 141 142 14...  \n",
       "2209  269 270 271 272 273 274 275 276 277 278 279 28...  \n",
       "2210  285 286 287 288 289 290 291 292 293 294 295 29...  \n",
       "2211  441 442 443 444 445 446 447 448 449 450 451 45...  \n",
       "2212  460 461 462 463 464 465 466 467 468 469 470 47...  \n",
       "2213  484 485 486 487 488 489 490 491 492 493 494 49...  \n",
       "2214  518 519 520 521 522 523 524 525 526 527 528 52...  "
      ]
     },
     "execution_count": 291,
     "metadata": {},
     "output_type": "execute_result"
    }
   ],
   "source": [
    "train_df[train_df[\"id\"] == \"3D16AB37AA84\"]"
   ]
  },
  {
   "cell_type": "code",
   "execution_count": 284,
   "id": "hydraulic-antibody",
   "metadata": {
    "ExecuteTime": {
     "end_time": "2021-12-27T19:30:05.161894Z",
     "start_time": "2021-12-27T19:30:05.119255Z"
    }
   },
   "outputs": [
    {
     "name": "stdout",
     "output_type": "stream",
     "text": [
      "unlab : 0 203\n",
      "lab 203 628\n",
      "unlab : 628 628\n",
      "lab 628 733\n",
      "unlab : 733 733\n",
      "lab 733 1485\n",
      "unlab : 1485 1485\n",
      "lab 1485 1584\n",
      "unlab : 1584 1584\n",
      "lab 1584 2455\n",
      "unlab : 2455 2455\n",
      "lab 2455 2574\n",
      "unlab : 2574 2574\n",
      "lab 2574 2708\n",
      "unlab : 2708 2707\n",
      "lab 2707 2881\n",
      "unlab : 2881 2881\n",
      "lab 2881 3015\n"
     ]
    },
    {
     "data": {
      "text/html": [
       "|<span style='color:Black'>Today, the majority of humans own and operate cell phones on a daily basis.<br><br>In essay form, explain if drivers should or should not be able to use cell phones in any capacity while operating a vehicle.<br><br></span>|<span style='color:Grey'>Cell phones haven't been around a long time but they have become a very big part of our daily lives. Phones have went from something you use to just call people, too your very personal computer, up to date will all the new software to make surfing the internet easier. Now, that sounds wonderful but these thing can also so be a huge distraction to many. Especially when they are being used while operating a motor vehicle.<br><br></span>|<span style='color:DarkRed'>For one thing, using your cell phone causes many distractions for your eyes, your mind, and your actions.</span>|<span style='color:Blue'> It is easily possible for your eyes tom slip off the road. The Tampa Bay Times claim that it \"takes seconds to get your eyes off the road and into a car accident\". Therefore, instead of your eyes being locked into your phone, they should be focusing in on your speed, the road, and the traffic. At the same time, your mind can only process so much. According to Goldsborough \"the human mind is not capable of texting and driving\". Other people have also confirmed that \" driving is a one mind chore\" meaning that the mind cannot to both at the same time. In addition, your mind need to focus on one thing while driving and that is the road. Thus, concentration is important while driving and breaking that concentration causes a risk for an accident.<br></span>|<span style='color:DarkRed'><br>Secondly, texting while driving not only endangers yourself but other people on the road as well. </span>|<span style='color:Blue'>Texting while driving can limit your response time to something like a car pulling out in front of you, a child or adult walking in front of you, and other things. Texting someone means that you have to put all of your attention into what you are texting which, so if you are driving and texting at the same time you are bound to miss something that you should have been paying attention too or you can hit something that you should have been paying attention too, like a car, animal or even worse a person. A article called \"Texting While Driving\" states that texting and driving has become a \"prominent social issue, and it's the most hazardous practice that risks accidents to drivers, cyclists and pedestrians\". A pedestrian can walk onto the road at anytime but it is up to the driver to pay attention to road and avoid endangering his/her and the pedestrian life.<br><br></span>|<span style='color:DarkRed'>Finally, the numbers speak for themselves, too many accidents have occurred as a result of people texting and driving. </span>|<span style='color:Blue'>People's lives will always be endangered if people feel like the best time to call their mom or girlfriend is when they are driving. I</span>|<span style='color:YellowGreen'>If we can just wait until we arrive at our destination before having to pick up the phone while driving then we can avoid a lot more accidents and more lives will be spared. </span>|<span style='color:Green'>Remember, think before you pull out your phone to text someone while driving because life is to precious and short enough already.   </span>"
      ],
      "text/plain": [
       "<IPython.core.display.HTML object>"
      ]
     },
     "execution_count": 284,
     "metadata": {},
     "output_type": "execute_result"
    }
   ],
   "source": [
    "print_annotations(\"3D16AB37AA84\")#.data"
   ]
  },
  {
   "cell_type": "code",
   "execution_count": 290,
   "id": "cooperative-candy",
   "metadata": {
    "ExecuteTime": {
     "end_time": "2021-12-27T19:32:51.153291Z",
     "start_time": "2021-12-27T19:32:51.144236Z"
    }
   },
   "outputs": [
    {
     "data": {
      "text/plain": [
       "''"
      ]
     },
     "execution_count": 290,
     "metadata": {},
     "output_type": "execute_result"
    }
   ],
   "source": [
    "print(open(f'../raw_data/train/3D16AB37AA84.txt').read())"
   ]
  },
  {
   "cell_type": "code",
   "execution_count": 227,
   "id": "approximate-distribution",
   "metadata": {
    "ExecuteTime": {
     "end_time": "2021-12-27T16:22:59.670777Z",
     "start_time": "2021-12-27T16:22:59.646989Z"
    }
   },
   "outputs": [
    {
     "data": {
      "text/html": [
       "<span style='color:YellowGreen'>The summer project should be Teacher-designed </span> | <span style='color:DarkRed'> the teacher knows more about the subject than students do </span> | <span style='color:DarkRed'>the main reason why a summer project would be assigned is for students to continue their learning career during break.</span> | <span style='color:Blue'>Most school projects are usually not hard but time consuming. They really help students to not forget about what they are learning about. In the summer time, students tend to take their whole mind off school because there is no work to do, but if they have a project to do, its easier to keep your mind on the subject your learning. </span> | <span style='color:DarkRed'>If the teacher was the creator of the project, it would be so much more straight forward and exactly on the topic that he or she was going for. </span> | <span style='color:Blue'>The reason why it wouldn't be a good idea for a student to create the project is because it may not be what the teacher wants us to learn, for example, if we are going to read a summer book, and then write a summary on the book; the student can choose a book that: they already read, a very short book, or a book that has nothing to do with the topics they learned about. If the teacher assigned the book, She would let them read and study a book she thinks is best for what they learned over the year.\n",
       "</span> | <span style='color:DarkRed'>They have more knowledge about the topic </span> | <span style='color:Blue'>For example, my history teacher gave us a project to do on world war II, and we had the choice to either create the project ourselves, or for the teacher to design it for us. We had one week to decide either or not we should design it or not, so we made a chart. The outcome of this chart should us that it would be best if the teacher designed it for us. The reasons for letting our teacher design for us was: the teacher is gonna be grading it so we want to know how to do it right, if we were the ones to design the project, and everyone in the class has a different subject, then it would be very confusing on the teacher to grade or talk about in class when we come back in the summer.\n",
       "</span> | <span style='color:MediumVioletRed'>The only reason I feel like would be a better idea if the students designed the project is because it gives more creativity for the students.</span> | <span style='color:MediumPurple'>The problem about that is, the student can do the project the way the teacher does not want it to be made.</span> | <span style='color:Blue'>I think the best way to handle this situation is if the teacher gave the students a specific topic and specific rules to the project. In that case the student can be creative but at the same time, the teacher would be able to grade it and talk about it in the class for everyone to listen, because everyone's project would be on the same subject.</span> | <span style='color:Green'>the teacher should design the project because, it would give the student a better understanding on the subject that the class is learning about. Students would have a broader thought about what they learned about in that class. They would not forget about what they learned, and they would keep it in mind through out the whole year. It is honestly hard to remember everything you learned during the year, so summer projects are great for students, if the teacher was the one who designed it</span> | "
      ],
      "text/plain": [
       "<IPython.core.display.HTML object>"
      ]
     },
     "execution_count": 227,
     "metadata": {},
     "output_type": "execute_result"
    }
   ],
   "source": [
    "print_annotations_2(\"1BD5E6B368B8\")"
   ]
  },
  {
   "cell_type": "code",
   "execution_count": null,
   "id": "seasonal-carnival",
   "metadata": {},
   "outputs": [],
   "source": []
  }
 ],
 "metadata": {
  "kernelspec": {
   "display_name": "Python 3",
   "language": "python",
   "name": "python3"
  },
  "language_info": {
   "codemirror_mode": {
    "name": "ipython",
    "version": 3
   },
   "file_extension": ".py",
   "mimetype": "text/x-python",
   "name": "python",
   "nbconvert_exporter": "python",
   "pygments_lexer": "ipython3",
   "version": "3.8.6"
  },
  "toc": {
   "base_numbering": 1,
   "nav_menu": {},
   "number_sections": true,
   "sideBar": true,
   "skip_h1_title": false,
   "title_cell": "Table of Contents",
   "title_sidebar": "Contents",
   "toc_cell": false,
   "toc_position": {},
   "toc_section_display": true,
   "toc_window_display": false
  }
 },
 "nbformat": 4,
 "nbformat_minor": 5
}
