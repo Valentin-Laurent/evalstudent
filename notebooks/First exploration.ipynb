{
 "cells": [
  {
   "cell_type": "markdown",
   "id": "numerical-blackjack",
   "metadata": {},
   "source": [
    "# Imports"
   ]
  },
  {
   "cell_type": "code",
   "execution_count": 509,
   "id": "coordinate-interpretation",
   "metadata": {
    "ExecuteTime": {
     "end_time": "2021-12-29T18:06:09.026158Z",
     "start_time": "2021-12-29T18:06:09.018530Z"
    }
   },
   "outputs": [],
   "source": [
    "import pandas as pd\n",
    "from IPython.core.display import HTML\n",
    "from sklearn.feature_extraction.text import TfidfVectorizer\n",
    "from sklearn.naive_bayes import ComplementNB\n",
    "#import matplotlib.pyplot as plt\n",
    "#import seaborn as sns"
   ]
  },
  {
   "cell_type": "markdown",
   "id": "representative-convergence",
   "metadata": {
    "heading_collapsed": true
   },
   "source": [
    "# Utils"
   ]
  },
  {
   "cell_type": "code",
   "execution_count": 384,
   "id": "configured-fighter",
   "metadata": {
    "ExecuteTime": {
     "end_time": "2021-12-28T17:39:18.681417Z",
     "start_time": "2021-12-28T17:39:18.675327Z"
    },
    "hidden": true
   },
   "outputs": [],
   "source": [
    "CLASSES_COLORS = {\n",
    "    \"Lead\": \"Grey\",\n",
    "    \"Position\": \"YellowGreen\",\n",
    "    \"Claim\": \"#F1C40F\",\n",
    "    \"Counterclaim\": \"#E67E22\",\n",
    "    \"Rebuttal\": \"#873600\",\n",
    "    \"Evidence\": \"#3498DB\",\n",
    "    \"Concluding Statement\": \"Green\"\n",
    "}"
   ]
  },
  {
   "cell_type": "code",
   "execution_count": 336,
   "id": "speaking-litigation",
   "metadata": {
    "ExecuteTime": {
     "end_time": "2021-12-28T17:09:47.480739Z",
     "start_time": "2021-12-28T17:09:47.476266Z"
    },
    "hidden": true
   },
   "outputs": [],
   "source": [
    "def format_discourse(text, type_):\n",
    "    if text:\n",
    "        text = text.replace(\"\\n\", \"<br>\")\n",
    "        return f\"|<span style='color:{CLASSES_COLORS.get(type_)}'>{text}</span>\"\n",
    "    return \"\""
   ]
  },
  {
   "cell_type": "code",
   "execution_count": 366,
   "id": "usual-noise",
   "metadata": {
    "ExecuteTime": {
     "end_time": "2021-12-28T17:29:16.003184Z",
     "start_time": "2021-12-28T17:29:15.992299Z"
    },
    "hidden": true
   },
   "outputs": [],
   "source": [
    "def display_classes(essay_id, train_df):\n",
    "    elements_df = train_df[train_df[\"id\"] == essay_id]\n",
    "    essay_text = open(f'../raw_data/train/{essay_id}.txt').read()\n",
    "    formatted_elements = \"\"\n",
    "    char_pointer = 0\n",
    "    for i, element in elements_df.iterrows():\n",
    "        unlabelled_element = essay_text[char_pointer:element['discourse_start']]\n",
    "        char_pointer = element['discourse_end'] + 1\n",
    "        discourse_element = essay_text[element['discourse_start']:char_pointer]\n",
    "        formatted_elements +=\\\n",
    "            format_discourse(unlabelled_element, \"Unlabelled\") +\\\n",
    "            format_discourse(discourse_element, element['discourse_type'])\n",
    "    formatted_elements += essay_text[char_pointer:]\n",
    "    color_labels = \" \".join([format_discourse(class_, class_) for class_ in CLASSES_COLORS.keys()])\n",
    "    return HTML(color_labels + \"<br><br>\" + formatted_elements)"
   ]
  },
  {
   "cell_type": "markdown",
   "id": "finished-kingston",
   "metadata": {},
   "source": [
    "# Exploration"
   ]
  },
  {
   "cell_type": "markdown",
   "id": "developing-static",
   "metadata": {},
   "source": [
    "## Loading data"
   ]
  },
  {
   "cell_type": "code",
   "execution_count": 112,
   "id": "mechanical-mongolia",
   "metadata": {
    "ExecuteTime": {
     "end_time": "2021-12-27T09:15:04.251762Z",
     "start_time": "2021-12-27T09:15:03.375138Z"
    }
   },
   "outputs": [],
   "source": [
    "train_df = pd.read_csv(\"../raw_data/train.csv\", dtype = {\"discourse_id\": int, \"discourse_start\": int, \"discourse_end\": int})"
   ]
  },
  {
   "cell_type": "code",
   "execution_count": 437,
   "id": "egyptian-nursing",
   "metadata": {
    "ExecuteTime": {
     "end_time": "2021-12-28T18:22:38.743666Z",
     "start_time": "2021-12-28T18:22:38.726665Z"
    }
   },
   "outputs": [
    {
     "data": {
      "text/html": [
       "<div>\n",
       "<style scoped>\n",
       "    .dataframe tbody tr th:only-of-type {\n",
       "        vertical-align: middle;\n",
       "    }\n",
       "\n",
       "    .dataframe tbody tr th {\n",
       "        vertical-align: top;\n",
       "    }\n",
       "\n",
       "    .dataframe thead th {\n",
       "        text-align: right;\n",
       "    }\n",
       "</style>\n",
       "<table border=\"1\" class=\"dataframe\">\n",
       "  <thead>\n",
       "    <tr style=\"text-align: right;\">\n",
       "      <th></th>\n",
       "      <th>id</th>\n",
       "      <th>discourse_id</th>\n",
       "      <th>discourse_start</th>\n",
       "      <th>discourse_end</th>\n",
       "      <th>discourse_text</th>\n",
       "      <th>discourse_type</th>\n",
       "      <th>discourse_type_num</th>\n",
       "      <th>predictionstring</th>\n",
       "    </tr>\n",
       "  </thead>\n",
       "  <tbody>\n",
       "    <tr>\n",
       "      <th>0</th>\n",
       "      <td>423A1CA112E2</td>\n",
       "      <td>1622627660524</td>\n",
       "      <td>8</td>\n",
       "      <td>229</td>\n",
       "      <td>Modern humans today are always on their phone....</td>\n",
       "      <td>Lead</td>\n",
       "      <td>Lead 1</td>\n",
       "      <td>1 2 3 4 5 6 7 8 9 10 11 12 13 14 15 16 17 18 1...</td>\n",
       "    </tr>\n",
       "    <tr>\n",
       "      <th>1</th>\n",
       "      <td>423A1CA112E2</td>\n",
       "      <td>1622627653021</td>\n",
       "      <td>230</td>\n",
       "      <td>312</td>\n",
       "      <td>They are some really bad consequences when stu...</td>\n",
       "      <td>Position</td>\n",
       "      <td>Position 1</td>\n",
       "      <td>45 46 47 48 49 50 51 52 53 54 55 56 57 58 59</td>\n",
       "    </tr>\n",
       "    <tr>\n",
       "      <th>2</th>\n",
       "      <td>423A1CA112E2</td>\n",
       "      <td>1622627671020</td>\n",
       "      <td>313</td>\n",
       "      <td>401</td>\n",
       "      <td>Some certain areas in the United States ban ph...</td>\n",
       "      <td>Evidence</td>\n",
       "      <td>Evidence 1</td>\n",
       "      <td>60 61 62 63 64 65 66 67 68 69 70 71 72 73 74 75</td>\n",
       "    </tr>\n",
       "    <tr>\n",
       "      <th>3</th>\n",
       "      <td>423A1CA112E2</td>\n",
       "      <td>1622627696365</td>\n",
       "      <td>402</td>\n",
       "      <td>758</td>\n",
       "      <td>When people have phones, they know about certa...</td>\n",
       "      <td>Evidence</td>\n",
       "      <td>Evidence 2</td>\n",
       "      <td>76 77 78 79 80 81 82 83 84 85 86 87 88 89 90 9...</td>\n",
       "    </tr>\n",
       "    <tr>\n",
       "      <th>4</th>\n",
       "      <td>423A1CA112E2</td>\n",
       "      <td>1622627759780</td>\n",
       "      <td>759</td>\n",
       "      <td>886</td>\n",
       "      <td>Driving is one of the way how to get around. P...</td>\n",
       "      <td>Claim</td>\n",
       "      <td>Claim 1</td>\n",
       "      <td>139 140 141 142 143 144 145 146 147 148 149 15...</td>\n",
       "    </tr>\n",
       "  </tbody>\n",
       "</table>\n",
       "</div>"
      ],
      "text/plain": [
       "             id   discourse_id  discourse_start  discourse_end  \\\n",
       "0  423A1CA112E2  1622627660524                8            229   \n",
       "1  423A1CA112E2  1622627653021              230            312   \n",
       "2  423A1CA112E2  1622627671020              313            401   \n",
       "3  423A1CA112E2  1622627696365              402            758   \n",
       "4  423A1CA112E2  1622627759780              759            886   \n",
       "\n",
       "                                      discourse_text discourse_type  \\\n",
       "0  Modern humans today are always on their phone....           Lead   \n",
       "1  They are some really bad consequences when stu...       Position   \n",
       "2  Some certain areas in the United States ban ph...       Evidence   \n",
       "3  When people have phones, they know about certa...       Evidence   \n",
       "4  Driving is one of the way how to get around. P...          Claim   \n",
       "\n",
       "  discourse_type_num                                   predictionstring  \n",
       "0             Lead 1  1 2 3 4 5 6 7 8 9 10 11 12 13 14 15 16 17 18 1...  \n",
       "1         Position 1       45 46 47 48 49 50 51 52 53 54 55 56 57 58 59  \n",
       "2         Evidence 1    60 61 62 63 64 65 66 67 68 69 70 71 72 73 74 75  \n",
       "3         Evidence 2  76 77 78 79 80 81 82 83 84 85 86 87 88 89 90 9...  \n",
       "4            Claim 1  139 140 141 142 143 144 145 146 147 148 149 15...  "
      ]
     },
     "execution_count": 437,
     "metadata": {},
     "output_type": "execute_result"
    }
   ],
   "source": [
    "train_df.head()"
   ]
  },
  {
   "cell_type": "markdown",
   "id": "acoustic-colorado",
   "metadata": {
    "heading_collapsed": true
   },
   "source": [
    "## Class balance"
   ]
  },
  {
   "cell_type": "markdown",
   "id": "blocked-shooting",
   "metadata": {
    "hidden": true
   },
   "source": [
    "We have an important class imbalance"
   ]
  },
  {
   "cell_type": "code",
   "execution_count": 508,
   "id": "through-lawyer",
   "metadata": {
    "ExecuteTime": {
     "end_time": "2021-12-29T18:04:49.656687Z",
     "start_time": "2021-12-29T18:04:49.624305Z"
    },
    "hidden": true
   },
   "outputs": [
    {
     "data": {
      "text/plain": [
       "Claim                   0.347959\n",
       "Evidence                0.316731\n",
       "Position                0.106859\n",
       "Concluding Statement    0.093594\n",
       "Lead                    0.064487\n",
       "Counterclaim            0.040314\n",
       "Rebuttal                0.030057\n",
       "Name: discourse_type, dtype: float64"
      ]
     },
     "execution_count": 508,
     "metadata": {},
     "output_type": "execute_result"
    }
   ],
   "source": [
    "train_df[\"discourse_type\"].value_counts()/train_df.shape[0]"
   ]
  },
  {
   "cell_type": "markdown",
   "id": "creative-pleasure",
   "metadata": {
    "heading_collapsed": true
   },
   "source": [
    "## Are discourse elements full sentences?"
   ]
  },
  {
   "cell_type": "markdown",
   "id": "later-compiler",
   "metadata": {
    "hidden": true
   },
   "source": [
    "Discourse elements that are sentences or groups of sentences (ie: starts with an uppercase letter and ends with a mark). The real number is higher because some students forget uppercase letters or final marks."
   ]
  },
  {
   "cell_type": "code",
   "execution_count": 453,
   "id": "regular-puzzle",
   "metadata": {
    "ExecuteTime": {
     "end_time": "2021-12-28T18:31:50.389186Z",
     "start_time": "2021-12-28T18:31:50.313798Z"
    },
    "hidden": true
   },
   "outputs": [
    {
     "data": {
      "text/plain": [
       "0.5753778769586883"
      ]
     },
     "execution_count": 453,
     "metadata": {},
     "output_type": "execute_result"
    }
   ],
   "source": [
    "sentences_elements = [\n",
    "    (text[0].isupper() or text[1].isupper())\n",
    "    and (text[-1] in \".?!\" or text[-2] in \".?!\")\n",
    "    for text in train_df[\"discourse_text\"]\n",
    "]\n",
    "sentences_elements.count(True)/len(sentences_elements)"
   ]
  },
  {
   "cell_type": "markdown",
   "id": "green-export",
   "metadata": {
    "hidden": true
   },
   "source": [
    "Breakdown by discourse class:"
   ]
  },
  {
   "cell_type": "code",
   "execution_count": 451,
   "id": "naval-going",
   "metadata": {
    "ExecuteTime": {
     "end_time": "2021-12-28T18:28:49.765538Z",
     "start_time": "2021-12-28T18:28:49.600520Z"
    },
    "hidden": true
   },
   "outputs": [
    {
     "data": {
      "text/plain": [
       "{'Lead': 0.7219774314884471,\n",
       " 'Position': 0.510798365652766,\n",
       " 'Evidence': 0.7472539494989279,\n",
       " 'Claim': 0.43530911408540474,\n",
       " 'Concluding Statement': 0.5780821917808219,\n",
       " 'Counterclaim': 0.45212308750214886,\n",
       " 'Rebuttal': 0.45768964722158173}"
      ]
     },
     "execution_count": 451,
     "metadata": {},
     "output_type": "execute_result"
    }
   ],
   "source": [
    "sentences_ratio = {}\n",
    "for class_ in train_df[\"discourse_type\"].unique():\n",
    "    class_df = train_df[\"discourse_text\"][train_df[\"discourse_type\"] == class_]\n",
    "    sentences_elements = [\n",
    "        (text[0].isupper() or text[1].isupper())\n",
    "        and (text[-1] in \".?!\" or text[-2] in \".?!\")\n",
    "        for text in class_df\n",
    "    ]\n",
    "    sentences_ratio.update({class_: sentences_elements.count(True)/len(sentences_elements)})\n",
    "sentences_ratio"
   ]
  },
  {
   "cell_type": "markdown",
   "id": "iraqi-portsmouth",
   "metadata": {},
   "source": [
    "## Simplest baseline : tf-idf + statistics"
   ]
  },
  {
   "cell_type": "markdown",
   "id": "diverse-capacity",
   "metadata": {
    "ExecuteTime": {
     "end_time": "2021-12-29T09:12:47.655042Z",
     "start_time": "2021-12-29T09:12:47.572057Z"
    }
   },
   "source": [
    "Average count of discourse classes per essay"
   ]
  },
  {
   "cell_type": "code",
   "execution_count": 481,
   "id": "willing-eleven",
   "metadata": {
    "ExecuteTime": {
     "end_time": "2021-12-29T11:22:21.446411Z",
     "start_time": "2021-12-29T11:22:21.359320Z"
    }
   },
   "outputs": [
    {
     "data": {
      "text/html": [
       "<div>\n",
       "<style scoped>\n",
       "    .dataframe tbody tr th:only-of-type {\n",
       "        vertical-align: middle;\n",
       "    }\n",
       "\n",
       "    .dataframe tbody tr th {\n",
       "        vertical-align: top;\n",
       "    }\n",
       "\n",
       "    .dataframe thead th {\n",
       "        text-align: right;\n",
       "    }\n",
       "</style>\n",
       "<table border=\"1\" class=\"dataframe\">\n",
       "  <thead>\n",
       "    <tr style=\"text-align: right;\">\n",
       "      <th></th>\n",
       "      <th>ratio</th>\n",
       "    </tr>\n",
       "    <tr>\n",
       "      <th>discourse_type</th>\n",
       "      <th></th>\n",
       "    </tr>\n",
       "  </thead>\n",
       "  <tbody>\n",
       "    <tr>\n",
       "      <th>Claim</th>\n",
       "      <td>3.363569</td>\n",
       "    </tr>\n",
       "    <tr>\n",
       "      <th>Concluding Statement</th>\n",
       "      <td>1.006484</td>\n",
       "    </tr>\n",
       "    <tr>\n",
       "      <th>Counterclaim</th>\n",
       "      <td>1.271198</td>\n",
       "    </tr>\n",
       "    <tr>\n",
       "      <th>Evidence</th>\n",
       "      <td>2.939035</td>\n",
       "    </tr>\n",
       "    <tr>\n",
       "      <th>Lead</th>\n",
       "      <td>1.000430</td>\n",
       "    </tr>\n",
       "    <tr>\n",
       "      <th>Position</th>\n",
       "      <td>1.003449</td>\n",
       "    </tr>\n",
       "    <tr>\n",
       "      <th>Rebuttal</th>\n",
       "      <td>1.205392</td>\n",
       "    </tr>\n",
       "  </tbody>\n",
       "</table>\n",
       "</div>"
      ],
      "text/plain": [
       "                         ratio\n",
       "discourse_type                \n",
       "Claim                 3.363569\n",
       "Concluding Statement  1.006484\n",
       "Counterclaim          1.271198\n",
       "Evidence              2.939035\n",
       "Lead                  1.000430\n",
       "Position              1.003449\n",
       "Rebuttal              1.205392"
      ]
     },
     "execution_count": 481,
     "metadata": {},
     "output_type": "execute_result"
    }
   ],
   "source": [
    "classes_ratio_df = train_df[[\"id\", \"discourse_id\", \"discourse_type\"]]\\\n",
    "    .groupby([\"id\", \"discourse_type\"]).count()\\\n",
    "    .groupby(\"discourse_type\").mean()\\\n",
    "    .rename(columns={\"discourse_id\": \"ratio\"})\n",
    "classes_ratio_df"
   ]
  },
  {
   "cell_type": "code",
   "execution_count": 486,
   "id": "herbal-valuable",
   "metadata": {
    "ExecuteTime": {
     "end_time": "2021-12-29T12:38:16.212572Z",
     "start_time": "2021-12-29T12:38:16.208720Z"
    }
   },
   "outputs": [],
   "source": [
    "X = train_df[\"discourse_text\"]\n",
    "y = train_df[\"discourse_type\"]"
   ]
  },
  {
   "cell_type": "code",
   "execution_count": 492,
   "id": "optimum-thailand",
   "metadata": {
    "ExecuteTime": {
     "end_time": "2021-12-29T12:43:57.750953Z",
     "start_time": "2021-12-29T12:43:51.922880Z"
    }
   },
   "outputs": [],
   "source": [
    "vectorizer = TfidfVectorizer()\n",
    "X_vec = vectorizer.fit_transform(X)"
   ]
  },
  {
   "cell_type": "markdown",
   "id": "worthy-supervisor",
   "metadata": {},
   "source": [
    "We use `ComplementNB` which is better suited than `MultinomialNB` for imbalanced classes (according to Sklearn doc)."
   ]
  },
  {
   "cell_type": "code",
   "execution_count": 510,
   "id": "cheap-interference",
   "metadata": {
    "ExecuteTime": {
     "end_time": "2021-12-29T18:06:22.645451Z",
     "start_time": "2021-12-29T18:06:21.703888Z"
    }
   },
   "outputs": [
    {
     "data": {
      "text/plain": [
       "ComplementNB()"
      ]
     },
     "execution_count": 510,
     "metadata": {},
     "output_type": "execute_result"
    }
   ],
   "source": [
    "model = ComplementNB()\n",
    "model.fit(X_vec, y)"
   ]
  },
  {
   "cell_type": "code",
   "execution_count": 511,
   "id": "occasional-species",
   "metadata": {
    "ExecuteTime": {
     "end_time": "2021-12-29T18:07:08.521320Z",
     "start_time": "2021-12-29T18:07:08.262285Z"
    }
   },
   "outputs": [
    {
     "data": {
      "text/plain": [
       "0.6153867477978835"
      ]
     },
     "execution_count": 511,
     "metadata": {},
     "output_type": "execute_result"
    }
   ],
   "source": [
    "model.score(X_vec, y)"
   ]
  },
  {
   "cell_type": "code",
   "execution_count": 485,
   "id": "removed-criminal",
   "metadata": {
    "ExecuteTime": {
     "end_time": "2021-12-29T12:27:32.473393Z",
     "start_time": "2021-12-29T12:27:32.425418Z"
    }
   },
   "outputs": [
    {
     "data": {
      "text/html": [
       "|<span style='color:Grey'>Lead</span> |<span style='color:YellowGreen'>Position</span> |<span style='color:#F1C40F'>Claim</span> |<span style='color:#E67E22'>Counterclaim</span> |<span style='color:#873600'>Rebuttal</span> |<span style='color:#3498DB'>Evidence</span> |<span style='color:Green'>Concluding Statement</span><br><br>|<span style='color:None'>Phones<br><br></span>|<span style='color:Grey'>Modern humans today are always on their phone. They are always on their phone more than 5 hours a day no stop .All they do is text back and forward and just have group Chats on social media. They even do it while driving. </span>|<span style='color:YellowGreen'>They are some really bad consequences when stuff happens when it comes to a phone. </span>|<span style='color:#3498DB'>Some certain areas in the United States ban phones from class rooms just because of it.<br><br></span>|<span style='color:#3498DB'>When people have phones, they know about certain apps that they have .Apps like Facebook Twitter Instagram and Snapchat. So like if a friend moves away and you want to be in contact you can still be in contact by posting videos or text messages. People always have different ways how to communicate with a phone. Phones have changed due to our generation.<br><br></span>|<span style='color:#F1C40F'>Driving is one of the way how to get around. People always be on their phones while doing it. Which can cause serious Problems. </span>|<span style='color:#3498DB'>That's why there's a thing that's called no texting while driving. That's a really important thing to remember. Some people still do it because they think It's stupid. No matter what they do they still have to obey it because that's the only way how did he save.<br><br></span>|<span style='color:#3498DB'>Sometimes on the news there is either an accident or a suicide. It might involve someone not looking where they're going or tweet that someone sent. It either injury or death. If a mysterious number says I'm going to kill you and they know where you live but you don't know the person's contact<br><br>,It makes you puzzled and make you start to freak out. Which can end up really badly.<br><br></span>|<span style='color:#F1C40F'>Phones are fine to use and it's also the best way to come over help. </span>|<span style='color:#3498DB'>If you go through a problem and you can't find help you ,always have a phone there with you. Even though phones are used almost every day as long as you're safe it would come into use if you get into trouble. Make sure you do not be like this phone while you're in the middle of driving. </span>|<span style='color:Green'>The news always updated when people do something stupid around that involves their phones. The safest way is the best way to stay safe.  </span>  "
      ],
      "text/plain": [
       "<IPython.core.display.HTML object>"
      ]
     },
     "execution_count": 485,
     "metadata": {},
     "output_type": "execute_result"
    }
   ],
   "source": [
    "display_classes(\"423A1CA112E2\", train_df)"
   ]
  },
  {
   "cell_type": "markdown",
   "id": "manual-singapore",
   "metadata": {},
   "source": [
    "# Unused utils"
   ]
  },
  {
   "cell_type": "markdown",
   "id": "grave-tennessee",
   "metadata": {},
   "source": [
    "`display_classes_2` uses the `discourse_text` field of `train_df`. It is generally better than `display_classes`, but when a element is present several times in the essay text, things get messy."
   ]
  },
  {
   "cell_type": "code",
   "execution_count": 344,
   "id": "quantitative-string",
   "metadata": {
    "ExecuteTime": {
     "end_time": "2021-12-28T17:16:00.933169Z",
     "start_time": "2021-12-28T17:16:00.922434Z"
    }
   },
   "outputs": [],
   "source": [
    "def display_classes_2(essay_id, train_df):\n",
    "    elements_df = train_df[train_df[\"id\"] == essay_id]\n",
    "    essay_text = open(f'../raw_data/train/{essay_id}.txt').read()\n",
    "    for i, element in elements_df.iterrows():\n",
    "        element_text = element[\"discourse_text\"].strip()\n",
    "        # The stripping above is needed to make sure the replace below works\n",
    "        if not element_text in essay_text:\n",
    "            return \"Formatting failed\"\n",
    "        essay_text = essay_text.replace(\n",
    "            element_text,\n",
    "            f\"|<span style='color:{CLASSES_COLORS[element['discourse_type']]}'>{element_text}</span>\"\n",
    "        )\n",
    "    essay_text = essay_text.replace(\"\\n\", \"<br>\")\n",
    "    color_labels = \" - \".join([\n",
    "        f\"<span style='color:{CLASSES_COLORS[class_]}'>{class_}</span>\"\n",
    "        for class_ in CLASSES_COLORS.keys()])\n",
    "    return HTML(color_labels + \"<br><br>\" + essay_text)"
   ]
  },
  {
   "cell_type": "markdown",
   "id": "twelve-cathedral",
   "metadata": {},
   "source": [
    "We maybe can simplify the code using the displaCy tool (https://explosion.ai/demos/displacy-ent), see this example:\n",
    "```python\n",
    "j = 40\n",
    "ents = []\n",
    "for i, row in df[df['id'] == df_f[j][35:-4]].iterrows():\n",
    "    ents.append({\n",
    "                    'start': int(row['discourse_start']), \n",
    "                     'end': int(row['discourse_end']), \n",
    "                     'label': row['discourse_type']\n",
    "                })\n",
    "with open(df_f[j], 'r') as file: data = file.read()\n",
    "\n",
    "doc2 = {\n",
    "    \"text\": data,\n",
    "    \"ents\": ents,\n",
    "}\n",
    "cols = {'Lead': '#dad1f6','Position': '#f9d5de','Claim': '#adcfad','Evidence': '#fbbf9a','Counterclaim': '#bdf2fa','Concluding Statement': '#eea69e','Rebuttal': '#d1f8f4'}\n",
    "options = {\"ents\": df.discourse_type.unique().tolist(), \"colors\": cols}\n",
    "displacy.render(doc2, style=\"ent\", options=options, manual=True, jupyter=True);\n",
    "```"
   ]
  },
  {
   "cell_type": "code",
   "execution_count": null,
   "id": "italic-frederick",
   "metadata": {},
   "outputs": [],
   "source": []
  }
 ],
 "metadata": {
  "kernelspec": {
   "display_name": "Python 3",
   "language": "python",
   "name": "python3"
  },
  "language_info": {
   "codemirror_mode": {
    "name": "ipython",
    "version": 3
   },
   "file_extension": ".py",
   "mimetype": "text/x-python",
   "name": "python",
   "nbconvert_exporter": "python",
   "pygments_lexer": "ipython3",
   "version": "3.8.6"
  },
  "toc": {
   "base_numbering": 1,
   "nav_menu": {},
   "number_sections": true,
   "sideBar": true,
   "skip_h1_title": false,
   "title_cell": "Table of Contents",
   "title_sidebar": "Contents",
   "toc_cell": false,
   "toc_position": {},
   "toc_section_display": true,
   "toc_window_display": false
  }
 },
 "nbformat": 4,
 "nbformat_minor": 5
}
