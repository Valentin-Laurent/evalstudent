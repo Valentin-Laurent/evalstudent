{
 "cells": [
  {
   "cell_type": "markdown",
   "id": "seventh-festival",
   "metadata": {
    "heading_collapsed": true
   },
   "source": [
    "# Imports"
   ]
  },
  {
   "cell_type": "code",
   "execution_count": 5,
   "id": "exceptional-parliament",
   "metadata": {
    "ExecuteTime": {
     "end_time": "2022-01-08T18:22:36.367295Z",
     "start_time": "2022-01-08T18:22:36.328766Z"
    },
    "hidden": true
   },
   "outputs": [
    {
     "name": "stdout",
     "output_type": "stream",
     "text": [
      "The autoreload extension is already loaded. To reload it, use:\n",
      "  %reload_ext autoreload\n"
     ]
    }
   ],
   "source": [
    "import pandas as pd\n",
    "import numpy as np\n",
    "from sklearn.feature_extraction.text import TfidfVectorizer\n",
    "from sklearn.naive_bayes import ComplementNB\n",
    "from nltk.tokenize import sent_tokenize\n",
    "from evalstudent import metrics\n",
    "from evalstudent import utils\n",
    "%load_ext autoreload\n",
    "%autoreload 2"
   ]
  },
  {
   "cell_type": "markdown",
   "id": "young-market",
   "metadata": {
    "heading_collapsed": true
   },
   "source": [
    "# Exploration"
   ]
  },
  {
   "cell_type": "markdown",
   "id": "interim-amendment",
   "metadata": {
    "heading_collapsed": true,
    "hidden": true
   },
   "source": [
    "## Loading data"
   ]
  },
  {
   "cell_type": "code",
   "execution_count": 7,
   "id": "informational-outdoors",
   "metadata": {
    "ExecuteTime": {
     "end_time": "2022-01-08T18:22:38.500872Z",
     "start_time": "2022-01-08T18:22:37.494736Z"
    },
    "hidden": true
   },
   "outputs": [],
   "source": [
    "train_df = pd.read_csv(\"../../raw_data/train.csv\", dtype = {\"discourse_id\": int, \"discourse_start\": int, \"discourse_end\": int})"
   ]
  },
  {
   "cell_type": "code",
   "execution_count": 8,
   "id": "hearing-devices",
   "metadata": {
    "ExecuteTime": {
     "end_time": "2022-01-08T18:22:38.572432Z",
     "start_time": "2022-01-08T18:22:38.504359Z"
    },
    "hidden": true,
    "scrolled": false
   },
   "outputs": [
    {
     "data": {
      "text/html": [
       "<div>\n",
       "<style scoped>\n",
       "    .dataframe tbody tr th:only-of-type {\n",
       "        vertical-align: middle;\n",
       "    }\n",
       "\n",
       "    .dataframe tbody tr th {\n",
       "        vertical-align: top;\n",
       "    }\n",
       "\n",
       "    .dataframe thead th {\n",
       "        text-align: right;\n",
       "    }\n",
       "</style>\n",
       "<table border=\"1\" class=\"dataframe\">\n",
       "  <thead>\n",
       "    <tr style=\"text-align: right;\">\n",
       "      <th></th>\n",
       "      <th>id</th>\n",
       "      <th>discourse_id</th>\n",
       "      <th>discourse_start</th>\n",
       "      <th>discourse_end</th>\n",
       "      <th>discourse_text</th>\n",
       "      <th>discourse_type</th>\n",
       "      <th>discourse_type_num</th>\n",
       "      <th>predictionstring</th>\n",
       "    </tr>\n",
       "  </thead>\n",
       "  <tbody>\n",
       "    <tr>\n",
       "      <th>0</th>\n",
       "      <td>423A1CA112E2</td>\n",
       "      <td>1622627660524</td>\n",
       "      <td>8</td>\n",
       "      <td>229</td>\n",
       "      <td>Modern humans today are always on their phone....</td>\n",
       "      <td>Lead</td>\n",
       "      <td>Lead 1</td>\n",
       "      <td>1 2 3 4 5 6 7 8 9 10 11 12 13 14 15 16 17 18 1...</td>\n",
       "    </tr>\n",
       "    <tr>\n",
       "      <th>1</th>\n",
       "      <td>423A1CA112E2</td>\n",
       "      <td>1622627653021</td>\n",
       "      <td>230</td>\n",
       "      <td>312</td>\n",
       "      <td>They are some really bad consequences when stu...</td>\n",
       "      <td>Position</td>\n",
       "      <td>Position 1</td>\n",
       "      <td>45 46 47 48 49 50 51 52 53 54 55 56 57 58 59</td>\n",
       "    </tr>\n",
       "    <tr>\n",
       "      <th>2</th>\n",
       "      <td>423A1CA112E2</td>\n",
       "      <td>1622627671020</td>\n",
       "      <td>313</td>\n",
       "      <td>401</td>\n",
       "      <td>Some certain areas in the United States ban ph...</td>\n",
       "      <td>Evidence</td>\n",
       "      <td>Evidence 1</td>\n",
       "      <td>60 61 62 63 64 65 66 67 68 69 70 71 72 73 74 75</td>\n",
       "    </tr>\n",
       "    <tr>\n",
       "      <th>3</th>\n",
       "      <td>423A1CA112E2</td>\n",
       "      <td>1622627696365</td>\n",
       "      <td>402</td>\n",
       "      <td>758</td>\n",
       "      <td>When people have phones, they know about certa...</td>\n",
       "      <td>Evidence</td>\n",
       "      <td>Evidence 2</td>\n",
       "      <td>76 77 78 79 80 81 82 83 84 85 86 87 88 89 90 9...</td>\n",
       "    </tr>\n",
       "    <tr>\n",
       "      <th>4</th>\n",
       "      <td>423A1CA112E2</td>\n",
       "      <td>1622627759780</td>\n",
       "      <td>759</td>\n",
       "      <td>886</td>\n",
       "      <td>Driving is one of the way how to get around. P...</td>\n",
       "      <td>Claim</td>\n",
       "      <td>Claim 1</td>\n",
       "      <td>139 140 141 142 143 144 145 146 147 148 149 15...</td>\n",
       "    </tr>\n",
       "  </tbody>\n",
       "</table>\n",
       "</div>"
      ],
      "text/plain": [
       "             id   discourse_id  discourse_start  discourse_end  \\\n",
       "0  423A1CA112E2  1622627660524                8            229   \n",
       "1  423A1CA112E2  1622627653021              230            312   \n",
       "2  423A1CA112E2  1622627671020              313            401   \n",
       "3  423A1CA112E2  1622627696365              402            758   \n",
       "4  423A1CA112E2  1622627759780              759            886   \n",
       "\n",
       "                                      discourse_text discourse_type  \\\n",
       "0  Modern humans today are always on their phone....           Lead   \n",
       "1  They are some really bad consequences when stu...       Position   \n",
       "2  Some certain areas in the United States ban ph...       Evidence   \n",
       "3  When people have phones, they know about certa...       Evidence   \n",
       "4  Driving is one of the way how to get around. P...          Claim   \n",
       "\n",
       "  discourse_type_num                                   predictionstring  \n",
       "0             Lead 1  1 2 3 4 5 6 7 8 9 10 11 12 13 14 15 16 17 18 1...  \n",
       "1         Position 1       45 46 47 48 49 50 51 52 53 54 55 56 57 58 59  \n",
       "2         Evidence 1    60 61 62 63 64 65 66 67 68 69 70 71 72 73 74 75  \n",
       "3         Evidence 2  76 77 78 79 80 81 82 83 84 85 86 87 88 89 90 9...  \n",
       "4            Claim 1  139 140 141 142 143 144 145 146 147 148 149 15...  "
      ]
     },
     "execution_count": 8,
     "metadata": {},
     "output_type": "execute_result"
    }
   ],
   "source": [
    "train_df.head()"
   ]
  },
  {
   "cell_type": "markdown",
   "id": "upset-vinyl",
   "metadata": {
    "heading_collapsed": true,
    "hidden": true
   },
   "source": [
    "## Class balance"
   ]
  },
  {
   "cell_type": "markdown",
   "id": "cordless-welsh",
   "metadata": {
    "hidden": true
   },
   "source": [
    "We have an important class imbalance"
   ]
  },
  {
   "cell_type": "code",
   "execution_count": 9,
   "id": "demanding-genetics",
   "metadata": {
    "ExecuteTime": {
     "end_time": "2022-01-08T18:22:41.295898Z",
     "start_time": "2022-01-08T18:22:41.228583Z"
    },
    "hidden": true
   },
   "outputs": [
    {
     "data": {
      "text/plain": [
       "Claim                   0.347959\n",
       "Evidence                0.316731\n",
       "Position                0.106859\n",
       "Concluding Statement    0.093594\n",
       "Lead                    0.064487\n",
       "Counterclaim            0.040314\n",
       "Rebuttal                0.030057\n",
       "Name: discourse_type, dtype: float64"
      ]
     },
     "execution_count": 9,
     "metadata": {},
     "output_type": "execute_result"
    }
   ],
   "source": [
    "train_df[\"discourse_type\"].value_counts()/train_df.shape[0]"
   ]
  },
  {
   "cell_type": "markdown",
   "id": "pleased-saskatchewan",
   "metadata": {
    "heading_collapsed": true,
    "hidden": true
   },
   "source": [
    "## Are discourse elements full sentences?"
   ]
  },
  {
   "cell_type": "markdown",
   "id": "broken-semester",
   "metadata": {
    "hidden": true
   },
   "source": [
    "Discourse elements that are sentences or groups of sentences (ie: starts with an uppercase letter and ends with a mark). The real number is higher because some students forget uppercase letters or final marks."
   ]
  },
  {
   "cell_type": "code",
   "execution_count": 10,
   "id": "professional-revision",
   "metadata": {
    "ExecuteTime": {
     "end_time": "2022-01-08T18:22:42.068416Z",
     "start_time": "2022-01-08T18:22:41.964488Z"
    },
    "hidden": true
   },
   "outputs": [
    {
     "data": {
      "text/plain": [
       "0.5753778769586883"
      ]
     },
     "execution_count": 10,
     "metadata": {},
     "output_type": "execute_result"
    }
   ],
   "source": [
    "sentences_elements = [\n",
    "    (text[0].isupper() or text[1].isupper())\n",
    "    and (text[-1] in \".?!\" or text[-2] in \".?!\")\n",
    "    for text in train_df[\"discourse_text\"]\n",
    "]\n",
    "sentences_elements.count(True)/len(sentences_elements)"
   ]
  },
  {
   "cell_type": "markdown",
   "id": "annual-explanation",
   "metadata": {
    "hidden": true
   },
   "source": [
    "Breakdown by discourse class:"
   ]
  },
  {
   "cell_type": "code",
   "execution_count": 11,
   "id": "amazing-inside",
   "metadata": {
    "ExecuteTime": {
     "end_time": "2022-01-08T18:22:43.717213Z",
     "start_time": "2022-01-08T18:22:43.520889Z"
    },
    "hidden": true
   },
   "outputs": [
    {
     "data": {
      "text/plain": [
       "{'Lead': 0.7219774314884471,\n",
       " 'Position': 0.510798365652766,\n",
       " 'Evidence': 0.7472539494989279,\n",
       " 'Claim': 0.43530911408540474,\n",
       " 'Concluding Statement': 0.5780821917808219,\n",
       " 'Counterclaim': 0.45212308750214886,\n",
       " 'Rebuttal': 0.45768964722158173}"
      ]
     },
     "execution_count": 11,
     "metadata": {},
     "output_type": "execute_result"
    }
   ],
   "source": [
    "sentences_ratio = {}\n",
    "for class_ in train_df[\"discourse_type\"].unique():\n",
    "    class_df = train_df[\"discourse_text\"][train_df[\"discourse_type\"] == class_]\n",
    "    sentences_elements = [\n",
    "        (text[0].isupper() or text[1].isupper())\n",
    "        and (text[-1] in \".?!\" or text[-2] in \".?!\")\n",
    "        for text in class_df\n",
    "    ]\n",
    "    sentences_ratio.update({class_: sentences_elements.count(True)/len(sentences_elements)})\n",
    "sentences_ratio"
   ]
  },
  {
   "cell_type": "markdown",
   "id": "fresh-disclosure",
   "metadata": {},
   "source": [
    "# Modeling: Super Naive Bayesline"
   ]
  },
  {
   "cell_type": "markdown",
   "id": "difficult-grill",
   "metadata": {
    "ExecuteTime": {
     "end_time": "2021-12-29T09:12:47.655042Z",
     "start_time": "2021-12-29T09:12:47.572057Z"
    }
   },
   "source": [
    "Average count of discourse classes per essay"
   ]
  },
  {
   "cell_type": "code",
   "execution_count": 12,
   "id": "vital-spectrum",
   "metadata": {
    "ExecuteTime": {
     "end_time": "2022-01-08T18:22:46.168124Z",
     "start_time": "2022-01-08T18:22:46.024165Z"
    }
   },
   "outputs": [
    {
     "data": {
      "text/plain": [
       "discourse_type\n",
       "Claim                   3.363569\n",
       "Concluding Statement    1.006484\n",
       "Counterclaim            1.271198\n",
       "Evidence                2.939035\n",
       "Lead                    1.000430\n",
       "Position                1.003449\n",
       "Rebuttal                1.205392\n",
       "Name: discourse_id, dtype: float64"
      ]
     },
     "execution_count": 12,
     "metadata": {},
     "output_type": "execute_result"
    }
   ],
   "source": [
    "classes_ratio = train_df[[\"id\", \"discourse_id\", \"discourse_type\"]]\\\n",
    "    .groupby([\"id\", \"discourse_type\"]).count()\\\n",
    "    .groupby(\"discourse_type\").mean()\\\n",
    "    .squeeze()\n",
    "classes_ratio"
   ]
  },
  {
   "cell_type": "markdown",
   "id": "dried-december",
   "metadata": {},
   "source": [
    "The strategy is to identify the following numbers of discourse classes when we \"predict\" a new essay."
   ]
  },
  {
   "cell_type": "code",
   "execution_count": 13,
   "id": "civic-examination",
   "metadata": {
    "ExecuteTime": {
     "end_time": "2022-01-08T18:22:47.237521Z",
     "start_time": "2022-01-08T18:22:47.197499Z"
    }
   },
   "outputs": [
    {
     "data": {
      "text/plain": [
       "discourse_type\n",
       "Claim                   3\n",
       "Concluding Statement    1\n",
       "Counterclaim            1\n",
       "Evidence                3\n",
       "Lead                    1\n",
       "Position                1\n",
       "Rebuttal                1\n",
       "Name: discourse_id, dtype: int64"
      ]
     },
     "execution_count": 13,
     "metadata": {},
     "output_type": "execute_result"
    }
   ],
   "source": [
    "classes_ratio_rounded = classes_ratio.round().astype(int)\n",
    "classes_ratio_rounded"
   ]
  },
  {
   "cell_type": "code",
   "execution_count": 14,
   "id": "adequate-provincial",
   "metadata": {
    "ExecuteTime": {
     "end_time": "2022-01-08T18:22:48.512305Z",
     "start_time": "2022-01-08T18:22:48.473098Z"
    }
   },
   "outputs": [],
   "source": [
    "X = train_df[\"discourse_text\"]\n",
    "y = train_df[\"discourse_type\"]"
   ]
  },
  {
   "cell_type": "code",
   "execution_count": 15,
   "id": "olympic-allen",
   "metadata": {
    "ExecuteTime": {
     "end_time": "2022-01-08T18:22:54.987339Z",
     "start_time": "2022-01-08T18:22:48.628681Z"
    }
   },
   "outputs": [],
   "source": [
    "vectorizer = TfidfVectorizer(lowercase=False)\n",
    "X_vec = vectorizer.fit_transform(X)"
   ]
  },
  {
   "cell_type": "markdown",
   "id": "spare-vector",
   "metadata": {},
   "source": [
    "We use `ComplementNB` which is better suited than `MultinomialNB` for imbalanced classes (according to Sklearn doc)."
   ]
  },
  {
   "cell_type": "code",
   "execution_count": 16,
   "id": "valuable-reputation",
   "metadata": {
    "ExecuteTime": {
     "end_time": "2022-01-08T18:22:55.743362Z",
     "start_time": "2022-01-08T18:22:54.989884Z"
    }
   },
   "outputs": [
    {
     "data": {
      "text/plain": [
       "ComplementNB()"
      ]
     },
     "execution_count": 16,
     "metadata": {},
     "output_type": "execute_result"
    }
   ],
   "source": [
    "model = ComplementNB()\n",
    "model.fit(X_vec, y)"
   ]
  },
  {
   "cell_type": "code",
   "execution_count": 17,
   "id": "choice-helena",
   "metadata": {
    "ExecuteTime": {
     "end_time": "2022-01-08T18:22:56.040171Z",
     "start_time": "2022-01-08T18:22:55.748350Z"
    },
    "scrolled": true
   },
   "outputs": [
    {
     "data": {
      "text/plain": [
       "0.6329620979534697"
      ]
     },
     "execution_count": 17,
     "metadata": {},
     "output_type": "execute_result"
    }
   ],
   "source": [
    "model.score(X_vec, y)"
   ]
  },
  {
   "cell_type": "markdown",
   "id": "super-wilderness",
   "metadata": {},
   "source": [
    "Prediction :"
   ]
  },
  {
   "cell_type": "code",
   "execution_count": 18,
   "id": "medieval-assignment",
   "metadata": {
    "ExecuteTime": {
     "end_time": "2022-01-08T18:22:56.085401Z",
     "start_time": "2022-01-08T18:22:56.044549Z"
    }
   },
   "outputs": [],
   "source": [
    "def bayesline_predict(essay_id):\n",
    "    essay_text = open(f'../../raw_data/train/{essay_id}.txt').read()\n",
    "\n",
    "    # For each sentence, we compute the probability of belonging to each class, and store this into a Dataframe\n",
    "    sentences = sent_tokenize(essay_text)\n",
    "    predictions_matrix = pd.DataFrame(model.predict_proba(vectorizer.transform(sentences)), columns=model.classes_)\n",
    "\n",
    "    # Now, we assign a defined number of sentences to each class using the numbers in `classes_ratio_rounded`.\n",
    "    # To do so, we take the sentence with the highest probability of belonging to a class, assign it to this class,\n",
    "    # and repeat until all classes have the defined number of sentences assigned.\n",
    "    prediction = []\n",
    "    classes_count = classes_ratio_rounded.copy()\n",
    "    sentences_nb = min(classes_count.sum(), len(sentences))\n",
    "    while len(prediction) < sentences_nb :\n",
    "        highest_score_class = predictions_matrix.max().idxmax()\n",
    "        highest_score_element = predictions_matrix[highest_score_class].idxmax()\n",
    "        prediction.append((highest_score_element, highest_score_class))\n",
    "        predictions_matrix.drop(highest_score_element, inplace=True)\n",
    "        classes_count[highest_score_class] -= 1\n",
    "        if classes_count[highest_score_class] == 0:\n",
    "            predictions_matrix.drop(columns=highest_score_class, inplace=True)\n",
    "    prediction\n",
    "\n",
    "    # To generate the submission DataFrame, we need to match sentences number and words index.\n",
    "    sentences_words_index = []\n",
    "    word_index = 0\n",
    "    for sentence in sentences:\n",
    "        sentence_length = len(sentence.split())\n",
    "        sentences_words_index.append(\" \".join([str(i) for i in range(word_index, word_index+sentence_length)]))\n",
    "        word_index += sentence_length\n",
    "    sentences_words_index\n",
    "\n",
    "    # Returning the submission DataFrame\n",
    "    submission = [[essay_id, element[1], sentences_words_index[element[0]]] for element in prediction]\n",
    "    return pd.DataFrame(submission, columns=[\"id\", \"class\", \"predictionstring\"])"
   ]
  },
  {
   "cell_type": "code",
   "execution_count": 190,
   "id": "strange-hamburg",
   "metadata": {
    "ExecuteTime": {
     "end_time": "2022-01-10T15:13:47.013914Z",
     "start_time": "2022-01-10T15:13:46.933408Z"
    },
    "collapsed": true
   },
   "outputs": [
    {
     "data": {
      "text/html": [
       "|<span style='color:Grey'>Lead</span> |<span style='color:YellowGreen'>Position</span> |<span style='color:#F1C40F'>Claim</span> |<span style='color:#E67E22'>Counterclaim</span> |<span style='color:#873600'>Rebuttal</span> |<span style='color:#3498DB'>Evidence</span> |<span style='color:Green'>Concluding Statement</span><br><br>|<span style='color:Grey'>Phones<br><br>Modern humans today are always on their phone.</span> They are always on their phone more than 5 hours a day no stop .All they do is text back and forward and just have group Chats on social media. They even do it while driving. They are some really bad consequences when stuff happens when it comes to a phone. Some certain areas in the United States ban phones from class rooms just because of it.<br><br>|<span style='color:#3498DB'>When people have phones, they know about certain apps that they have .Apps like Facebook Twitter Instagram and Snapchat.</span> |<span style='color:#3498DB'>So like if a friend moves away and you want to be in contact you can still be in contact by posting videos or text messages.</span> |<span style='color:#F1C40F'>People always have different ways how to communicate with a phone.</span> |<span style='color:YellowGreen'>Phones have changed due to our generation.</span><br><br>Driving is one of the way how to get around. People always be on their phones while doing it. |<span style='color:#F1C40F'>Which can cause serious Problems.</span> |<span style='color:Green'>That's why there's a thing that's called no texting while driving. That's a really important thing to remember.</span> |<span style='color:#E67E22'>Some people still do it because they think It's stupid.</span> |<span style='color:#873600'>No matter what they do they still have to obey it because that's the only way how did he save.</span><br><br>|<span style='color:#3498DB'>Sometimes on the news there is either an accident or a suicide.</span> It might involve someone not looking where they're going or tweet that someone sent. It either injury or death. If a mysterious number says I'm going to kill you and they know where you live but you don't know the person's contact<br><br>,It makes you puzzled and make you start to freak out. Which can end up really badly.<br><br>Phones are fine to use and it's also the best way to come over help. If you go through a problem and you can't find help you ,always have a phone there with you. Even though phones are used almost every day as long as you're safe it would come into use if you get into trouble. Make sure you do not be like this phone while you're in the middle of driving. |<span style='color:#F1C40F'>The news always updated when people do something stupid around that involves their phones. The safest way is the best way to stay safe.</span>"
      ],
      "text/plain": [
       "<IPython.core.display.HTML object>"
      ]
     },
     "execution_count": 190,
     "metadata": {},
     "output_type": "execute_result"
    }
   ],
   "source": [
    "utils.display_classes(\"423A1CA112E2\", bayesline_predict(\"423A1CA112E2\"))"
   ]
  },
  {
   "cell_type": "code",
   "execution_count": 23,
   "id": "incomplete-there",
   "metadata": {
    "ExecuteTime": {
     "end_time": "2022-01-08T18:23:07.492190Z",
     "start_time": "2022-01-08T18:23:07.434232Z"
    },
    "collapsed": true
   },
   "outputs": [
    {
     "data": {
      "text/html": [
       "|<span style='color:Grey'>Lead</span> |<span style='color:YellowGreen'>Position</span> |<span style='color:#F1C40F'>Claim</span> |<span style='color:#E67E22'>Counterclaim</span> |<span style='color:#873600'>Rebuttal</span> |<span style='color:#3498DB'>Evidence</span> |<span style='color:Green'>Concluding Statement</span><br><br>Phones<br><br>|<span style='color:Grey'>Modern humans today are always on their phone. They are always on their phone more than 5 hours a day no stop .All they do is text back and forward and just have group Chats on social media. They even do it while driving.</span> |<span style='color:YellowGreen'>They are some really bad consequences when stuff happens when it comes to a phone.</span> |<span style='color:#3498DB'>Some certain areas in the United States ban phones from class rooms just because of it.</span><br><br>|<span style='color:#3498DB'>When people have phones, they know about certain apps that they have .Apps like Facebook Twitter Instagram and Snapchat. So like if a friend moves away and you want to be in contact you can still be in contact by posting videos or text messages. People always have different ways how to communicate with a phone. Phones have changed due to our generation.</span><br><br>|<span style='color:#F1C40F'>Driving is one of the way how to get around. People always be on their phones while doing it. Which can cause serious Problems.</span> |<span style='color:#3498DB'>That's why there's a thing that's called no texting while driving. That's a really important thing to remember. Some people still do it because they think It's stupid. No matter what they do they still have to obey it because that's the only way how did he save.</span><br><br>|<span style='color:#3498DB'>Sometimes on the news there is either an accident or a suicide. It might involve someone not looking where they're going or tweet that someone sent. It either injury or death. If a mysterious number says I'm going to kill you and they know where you live but you don't know the person's contact<br><br>,It makes you puzzled and make you start to freak out. Which can end up really badly.</span><br><br>|<span style='color:#F1C40F'>Phones are fine to use and it's also the best way to come over help.</span> |<span style='color:#3498DB'>If you go through a problem and you can't find help you ,always have a phone there with you. Even though phones are used almost every day as long as you're safe it would come into use if you get into trouble. Make sure you do not be like this phone while you're in the middle of driving.</span> |<span style='color:Green'>The news always updated when people do something stupid around that involves their phones. The safest way is the best way to stay safe.</span>"
      ],
      "text/plain": [
       "<IPython.core.display.HTML object>"
      ]
     },
     "execution_count": 23,
     "metadata": {},
     "output_type": "execute_result"
    }
   ],
   "source": [
    "utils.display_classes(\"423A1CA112E2\", train_df)"
   ]
  },
  {
   "cell_type": "markdown",
   "id": "artificial-secret",
   "metadata": {},
   "source": [
    "# Improving perfs of score calculation"
   ]
  },
  {
   "cell_type": "code",
   "execution_count": 230,
   "id": "gentle-aircraft",
   "metadata": {
    "ExecuteTime": {
     "end_time": "2022-01-10T15:58:49.678862Z",
     "start_time": "2022-01-10T15:58:49.645547Z"
    }
   },
   "outputs": [],
   "source": [
    "import cProfile\n",
    "from pstats import SortKey"
   ]
  },
  {
   "cell_type": "code",
   "execution_count": null,
   "id": "developmental-ethics",
   "metadata": {
    "ExecuteTime": {
     "end_time": "2022-01-10T15:51:16.199385Z",
     "start_time": "2022-01-10T15:51:01.371064Z"
    },
    "scrolled": true
   },
   "outputs": [],
   "source": [
    "#%%time\n",
    "\n",
    "cProfile.run(\"\"\"essay_list = train_df[\"id\"].unique()[:100]\n",
    "kaggle_scores = []\n",
    "score_details = []\n",
    "for essay_id in essay_list:\n",
    "    kaggle_score, score_detail = metrics.kaggle_score(\n",
    "        bayesline_predict(essay_id),\n",
    "        train_df[train_df[\"id\"] == essay_id],\n",
    "        return_details=True)\n",
    "    kaggle_scores.append(kaggle_score)\n",
    "    score_details.append(pd.DataFrame(score_detail))\n",
    "kaggle_scores = pd.Series(kaggle_scores, index=essay_list)\n",
    "score_details = pd.concat(score_details, keys=essay_list)\n",
    "score_details\"\"\", sort=SortKey.CUMULATIVE)"
   ]
  },
  {
   "cell_type": "code",
   "execution_count": 227,
   "id": "organic-directory",
   "metadata": {
    "ExecuteTime": {
     "end_time": "2022-01-10T15:58:07.704507Z",
     "start_time": "2022-01-10T15:58:07.673623Z"
    }
   },
   "outputs": [],
   "source": [
    "N = 100"
   ]
  },
  {
   "cell_type": "code",
   "execution_count": 228,
   "id": "buried-warrior",
   "metadata": {
    "ExecuteTime": {
     "end_time": "2022-01-10T15:58:15.084005Z",
     "start_time": "2022-01-10T15:58:12.956914Z"
    }
   },
   "outputs": [
    {
     "name": "stdout",
     "output_type": "stream",
     "text": [
      "CPU times: user 1.98 s, sys: 54.4 ms, total: 2.04 s\n",
      "Wall time: 2.09 s\n"
     ]
    }
   ],
   "source": [
    "%%time\n",
    "essay_list = train_df[\"id\"].unique()[:N]\n",
    "preds = []\n",
    "for essay_id in essay_list:\n",
    "    preds.append(bayesline_predict(essay_id))"
   ]
  },
  {
   "cell_type": "code",
   "execution_count": 229,
   "id": "excessive-corner",
   "metadata": {
    "ExecuteTime": {
     "end_time": "2022-01-10T15:58:22.683119Z",
     "start_time": "2022-01-10T15:58:15.088079Z"
    },
    "scrolled": true
   },
   "outputs": [
    {
     "name": "stdout",
     "output_type": "stream",
     "text": [
      "CPU times: user 7.13 s, sys: 81.1 ms, total: 7.21 s\n",
      "Wall time: 7.54 s\n"
     ]
    }
   ],
   "source": [
    "%%time\n",
    "essay_list = train_df[\"id\"].unique()[:N]\n",
    "kaggle_scores = []\n",
    "score_details = []\n",
    "for essay_id, pred in zip(essay_list, preds):\n",
    "    kaggle_score, score_detail = metrics.kaggle_score(\n",
    "        pred,\n",
    "        train_df[train_df[\"id\"] == essay_id],\n",
    "        return_details=True)\n",
    "    kaggle_scores.append(kaggle_score)\n",
    "    score_details.append(pd.DataFrame(score_detail))\n",
    "kaggle_scores = pd.Series(kaggle_scores, index=essay_list)\n",
    "score_details = pd.concat(score_details, keys=essay_list)\n",
    "#score_details"
   ]
  },
  {
   "cell_type": "code",
   "execution_count": 232,
   "id": "forbidden-animation",
   "metadata": {
    "ExecuteTime": {
     "end_time": "2022-01-10T16:02:18.419792Z",
     "start_time": "2022-01-10T16:02:18.274537Z"
    }
   },
   "outputs": [
    {
     "data": {
      "text/plain": [
       "(0.0,\n",
       " {'Lead': {'precision': 0.0, 'recall': 0.0, 'f1': 0.0},\n",
       "  'Position': {'precision': 0.0, 'recall': 0.0, 'f1': 0.0},\n",
       "  'Claim': {'precision': 0.0, 'recall': 0.0, 'f1': 0.0},\n",
       "  'Counterclaim': {'precision': 0, 'recall': nan, 'f1': 0},\n",
       "  'Rebuttal': {'precision': 0, 'recall': nan, 'f1': 0},\n",
       "  'Evidence': {'precision': 0.0, 'recall': 0.0, 'f1': 0.0},\n",
       "  'Concluding Statement': {'precision': 0.0, 'recall': 0.0, 'f1': 0.0}})"
      ]
     },
     "execution_count": 232,
     "metadata": {},
     "output_type": "execute_result"
    }
   ],
   "source": [
    "metrics.kaggle_score(bayesline_predict(\"423A1CA112E2\"), train_df[train_df[\"id\"] == \"423A1CA112E2\"], return_details=True)"
   ]
  },
  {
   "cell_type": "code",
   "execution_count": 231,
   "id": "golden-hopkins",
   "metadata": {
    "ExecuteTime": {
     "end_time": "2022-01-10T16:01:37.791206Z",
     "start_time": "2022-01-10T16:01:37.647671Z"
    }
   },
   "outputs": [
    {
     "data": {
      "text/plain": [
       "(1.0,\n",
       " {'Lead': {'precision': 1.0, 'recall': 1.0, 'f1': 1.0},\n",
       "  'Position': {'precision': 1.0, 'recall': 1.0, 'f1': 1.0},\n",
       "  'Claim': {'precision': 1.0, 'recall': 1.0, 'f1': 1.0},\n",
       "  'Counterclaim': {'precision': nan, 'recall': nan, 'f1': nan},\n",
       "  'Rebuttal': {'precision': nan, 'recall': nan, 'f1': nan},\n",
       "  'Evidence': {'precision': 1.0, 'recall': 1.0, 'f1': 1.0},\n",
       "  'Concluding Statement': {'precision': 1.0, 'recall': 1.0, 'f1': 1.0}})"
      ]
     },
     "execution_count": 231,
     "metadata": {},
     "output_type": "execute_result"
    }
   ],
   "source": [
    "test = train_df[train_df[\"id\"] == \"423A1CA112E2\"][[\"id\", \"discourse_type\", \"predictionstring\"]].copy()\n",
    "test[\"class\"] = test[\"discourse_type\"]\n",
    "metrics.kaggle_score(test, train_df[train_df[\"id\"] == \"423A1CA112E2\"], return_details=True)"
   ]
  },
  {
   "cell_type": "markdown",
   "id": "uniform-channels",
   "metadata": {},
   "source": [
    "# Unused utils"
   ]
  },
  {
   "cell_type": "markdown",
   "id": "vital-fitting",
   "metadata": {},
   "source": [
    "`display_classes_2` uses the `discourse_text` field of `train_df`. It is generally better than `display_classes_3` (which uses `discourse_start/end`), but when a element is present several times in the essay text, things get messy."
   ]
  },
  {
   "cell_type": "code",
   "execution_count": null,
   "id": "toxic-nylon",
   "metadata": {
    "ExecuteTime": {
     "end_time": "2022-01-06T22:52:21.846305Z",
     "start_time": "2022-01-06T22:52:15.831Z"
    }
   },
   "outputs": [],
   "source": [
    "def display_classes_2(essay_id, train_df):\n",
    "    elements_df = train_df[train_df[\"id\"] == essay_id]\n",
    "    essay_text = open(f'../raw_data/train/{essay_id}.txt').read()\n",
    "    for i, element in elements_df.iterrows():\n",
    "        element_text = element[\"discourse_text\"].strip()\n",
    "        # The stripping above is needed to make sure the replace below works\n",
    "        if not element_text in essay_text:\n",
    "            return \"Formatting failed\"\n",
    "        essay_text = essay_text.replace(\n",
    "            element_text,\n",
    "            f\"|<span style='color:{CLASSES_COLORS[element['discourse_type']]}'>{element_text}</span>\"\n",
    "        )\n",
    "    essay_text = essay_text.replace(\"\\n\", \"<br>\")\n",
    "    color_labels = \" - \".join([\n",
    "        f\"<span style='color:{CLASSES_COLORS[class_]}'>{class_}</span>\"\n",
    "        for class_ in CLASSES_COLORS.keys()])\n",
    "    return HTML(color_labels + \"<br><br>\" + essay_text)"
   ]
  },
  {
   "cell_type": "code",
   "execution_count": null,
   "id": "inner-condition",
   "metadata": {
    "ExecuteTime": {
     "end_time": "2022-01-06T22:52:21.848705Z",
     "start_time": "2022-01-06T22:52:15.959Z"
    }
   },
   "outputs": [],
   "source": [
    "def format_discourse(text, type_):\n",
    "    if text:\n",
    "        text = text.replace(\"\\n\", \"<br>\")\n",
    "        return f\"|<span style='color:{CLASSES_COLORS.get(type_)}'>{text}</span>\"\n",
    "    return \"\""
   ]
  },
  {
   "cell_type": "code",
   "execution_count": null,
   "id": "alleged-singer",
   "metadata": {
    "ExecuteTime": {
     "end_time": "2022-01-06T22:52:21.852071Z",
     "start_time": "2022-01-06T22:52:16.088Z"
    }
   },
   "outputs": [],
   "source": [
    "def display_classes_3(essay_id, train_df):\n",
    "    elements_df = train_df[train_df[\"id\"] == essay_id]\n",
    "    essay_text = open(f'../raw_data/train/{essay_id}.txt').read()\n",
    "    formatted_elements = \"\"\n",
    "    char_pointer = 0\n",
    "    for i, element in elements_df.iterrows():\n",
    "        unlabelled_element = essay_text[char_pointer:element['discourse_start']]\n",
    "        char_pointer = element['discourse_end'] + 1\n",
    "        discourse_element = essay_text[element['discourse_start']:char_pointer]\n",
    "        formatted_elements +=\\\n",
    "            format_discourse(unlabelled_element, \"Unlabelled\") +\\\n",
    "            format_discourse(discourse_element, element['discourse_type'])\n",
    "    formatted_elements += essay_text[char_pointer:]\n",
    "    color_labels = \" \".join([format_discourse(class_, class_) for class_ in CLASSES_COLORS.keys()])\n",
    "    return HTML(color_labels + \"<br><br>\" + formatted_elements)"
   ]
  }
 ],
 "metadata": {
  "kernelspec": {
   "display_name": "Python 3",
   "language": "python",
   "name": "python3"
  },
  "language_info": {
   "codemirror_mode": {
    "name": "ipython",
    "version": 3
   },
   "file_extension": ".py",
   "mimetype": "text/x-python",
   "name": "python",
   "nbconvert_exporter": "python",
   "pygments_lexer": "ipython3",
   "version": "3.8.6"
  },
  "toc": {
   "base_numbering": 1,
   "nav_menu": {},
   "number_sections": true,
   "sideBar": true,
   "skip_h1_title": false,
   "title_cell": "Table of Contents",
   "title_sidebar": "Contents",
   "toc_cell": false,
   "toc_position": {},
   "toc_section_display": true,
   "toc_window_display": false
  }
 },
 "nbformat": 4,
 "nbformat_minor": 5
}
