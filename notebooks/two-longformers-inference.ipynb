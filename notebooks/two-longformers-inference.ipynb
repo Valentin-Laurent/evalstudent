{
 "cells": [
  {
   "cell_type": "code",
   "execution_count": 1,
   "id": "485dc478",
   "metadata": {
    "_cell_guid": "e0e4bdf6-bcd9-4f82-a53b-9c5f685500a8",
    "_uuid": "66c995cf-7cbb-421b-bdd3-24906f5fb886",
    "collapsed": false,
    "execution": {
     "iopub.execute_input": "2022-03-15T17:21:22.067468Z",
     "iopub.status.busy": "2022-03-15T17:21:22.065952Z",
     "iopub.status.idle": "2022-03-15T17:21:28.746758Z",
     "shell.execute_reply": "2022-03-15T17:21:28.746149Z",
     "shell.execute_reply.started": "2022-03-14T13:37:07.153020Z"
    },
    "jupyter": {
     "outputs_hidden": false
    },
    "papermill": {
     "duration": 6.696203,
     "end_time": "2022-03-15T17:21:28.746918",
     "exception": false,
     "start_time": "2022-03-15T17:21:22.050715",
     "status": "completed"
    },
    "tags": []
   },
   "outputs": [],
   "source": [
    "import gc\n",
    "gc.enable()\n",
    "\n",
    "import sys\n",
    "sys.path.append(\"../input/tez-lib/\")\n",
    "\n",
    "import os\n",
    "\n",
    "import numpy as np\n",
    "import pandas as pd\n",
    "import tez\n",
    "import torch\n",
    "import torch.nn as nn\n",
    "from joblib import Parallel, delayed\n",
    "from transformers import AutoConfig, AutoModel, AutoTokenizer"
   ]
  },
  {
   "cell_type": "code",
   "execution_count": 2,
   "id": "62efc71a",
   "metadata": {
    "execution": {
     "iopub.execute_input": "2022-03-15T17:21:28.775722Z",
     "iopub.status.busy": "2022-03-15T17:21:28.774953Z",
     "iopub.status.idle": "2022-03-15T17:21:28.776852Z",
     "shell.execute_reply": "2022-03-15T17:21:28.777275Z",
     "shell.execute_reply.started": "2022-03-14T13:37:07.534016Z"
    },
    "papermill": {
     "duration": 0.017812,
     "end_time": "2022-03-15T17:21:28.777417",
     "exception": false,
     "start_time": "2022-03-15T17:21:28.759605",
     "status": "completed"
    },
    "tags": []
   },
   "outputs": [],
   "source": [
    "os.environ[\"CUDA_VISIBLE_DEVICES\"]='0' \n",
    "os.environ['TF_CPP_MIN_LOG_LEVEL'] = '2'"
   ]
  },
  {
   "cell_type": "code",
   "execution_count": 3,
   "id": "bdfb94c7",
   "metadata": {
    "execution": {
     "iopub.execute_input": "2022-03-15T17:21:28.806281Z",
     "iopub.status.busy": "2022-03-15T17:21:28.805505Z",
     "iopub.status.idle": "2022-03-15T17:21:28.807432Z",
     "shell.execute_reply": "2022-03-15T17:21:28.807834Z",
     "shell.execute_reply.started": "2022-03-14T13:37:08.837893Z"
    },
    "papermill": {
     "duration": 0.019625,
     "end_time": "2022-03-15T17:21:28.807945",
     "exception": false,
     "start_time": "2022-03-15T17:21:28.788320",
     "status": "completed"
    },
    "tags": []
   },
   "outputs": [],
   "source": [
    "target_id_map = {\n",
    "    \"B-Lead\": 0,\n",
    "    \"I-Lead\": 1,\n",
    "    \"B-Position\": 2,\n",
    "    \"I-Position\": 3,\n",
    "    \"B-Evidence\": 4,\n",
    "    \"I-Evidence\": 5,\n",
    "    \"B-Claim\": 6,\n",
    "    \"I-Claim\": 7,\n",
    "    \"B-Concluding Statement\": 8,\n",
    "    \"I-Concluding Statement\": 9,\n",
    "    \"B-Counterclaim\": 10,\n",
    "    \"I-Counterclaim\": 11,\n",
    "    \"B-Rebuttal\": 12,\n",
    "    \"I-Rebuttal\": 13,\n",
    "    \"O\": 14,\n",
    "    \"PAD\": -100,\n",
    "}\n",
    "\n",
    "\n",
    "id_target_map = {v: k for k, v in target_id_map.items()}\n",
    "\n",
    "class args1:\n",
    "    input_path = \"../input/feedback-prize-2021/\"\n",
    "    model = \"../input/longformerlarge4096/longformer-large-4096/\"\n",
    "    tez_model= \"../input/fblongformerlarge1536/\"\n",
    "    output = \".\"\n",
    "    batch_size = 8\n",
    "    max_len = 4096\n",
    "    \n",
    "class args2:\n",
    "    input_path = \"../input/feedback-prize-2021/\"\n",
    "    model = \"../input/longformerlarge4096/longformer-large-4096/\"\n",
    "    tez_model= \"../input/tez-fb-large/\"\n",
    "    output = \".\"\n",
    "    batch_size = 8\n",
    "    max_len = 4096"
   ]
  },
  {
   "cell_type": "code",
   "execution_count": 4,
   "id": "b929e2d8",
   "metadata": {
    "execution": {
     "iopub.execute_input": "2022-03-15T17:21:28.836734Z",
     "iopub.status.busy": "2022-03-15T17:21:28.835989Z",
     "iopub.status.idle": "2022-03-15T17:21:28.838271Z",
     "shell.execute_reply": "2022-03-15T17:21:28.837892Z",
     "shell.execute_reply.started": "2022-03-14T13:37:10.345319Z"
    },
    "papermill": {
     "duration": 0.019706,
     "end_time": "2022-03-15T17:21:28.838369",
     "exception": false,
     "start_time": "2022-03-15T17:21:28.818663",
     "status": "completed"
    },
    "tags": []
   },
   "outputs": [],
   "source": [
    "class FeedbackDataset:\n",
    "    def __init__(self, samples, max_len, tokenizer):\n",
    "        self.samples = samples\n",
    "        self.max_len = max_len\n",
    "        self.tokenizer = tokenizer\n",
    "        self.length = len(samples)\n",
    "\n",
    "    def __len__(self):\n",
    "        return self.length\n",
    "\n",
    "    def __getitem__(self, idx):\n",
    "        input_ids = self.samples[idx][\"input_ids\"]\n",
    "        # print(input_ids)\n",
    "        # print(input_labels)\n",
    "\n",
    "        # add start token id to the input_ids\n",
    "        input_ids = [self.tokenizer.cls_token_id] + input_ids\n",
    "\n",
    "        if len(input_ids) > self.max_len - 1:\n",
    "            input_ids = input_ids[: self.max_len - 1]\n",
    "\n",
    "        # add end token id to the input_ids\n",
    "        input_ids = input_ids + [self.tokenizer.sep_token_id]\n",
    "        attention_mask = [1] * len(input_ids)\n",
    "\n",
    "        # padding_length = self.max_len - len(input_ids)\n",
    "        # if padding_length > 0:\n",
    "        #     if self.tokenizer.padding_side == \"right\":\n",
    "        #         input_ids = input_ids + [self.tokenizer.pad_token_id] * padding_length\n",
    "        #         attention_mask = attention_mask + [0] * padding_length\n",
    "        #     else:\n",
    "        #         input_ids = [self.tokenizer.pad_token_id] * padding_length + input_ids\n",
    "        #         attention_mask = [0] * padding_length + attention_mask\n",
    "\n",
    "        # return {\n",
    "        #     \"ids\": torch.tensor(input_ids, dtype=torch.long),\n",
    "        #     \"mask\": torch.tensor(attention_mask, dtype=torch.long),\n",
    "        # }\n",
    "\n",
    "        return {\n",
    "            \"ids\": input_ids,\n",
    "            \"mask\": attention_mask,\n",
    "        }"
   ]
  },
  {
   "cell_type": "code",
   "execution_count": 5,
   "id": "26add343",
   "metadata": {
    "execution": {
     "iopub.execute_input": "2022-03-15T17:21:28.869156Z",
     "iopub.status.busy": "2022-03-15T17:21:28.868318Z",
     "iopub.status.idle": "2022-03-15T17:21:28.869998Z",
     "shell.execute_reply": "2022-03-15T17:21:28.870488Z",
     "shell.execute_reply.started": "2022-03-14T13:37:11.834577Z"
    },
    "papermill": {
     "duration": 0.021422,
     "end_time": "2022-03-15T17:21:28.870603",
     "exception": false,
     "start_time": "2022-03-15T17:21:28.849181",
     "status": "completed"
    },
    "tags": []
   },
   "outputs": [],
   "source": [
    "class Collate:\n",
    "    def __init__(self, tokenizer):\n",
    "        self.tokenizer = tokenizer\n",
    "\n",
    "    def __call__(self, batch):\n",
    "        output = dict()\n",
    "        output[\"ids\"] = [sample[\"ids\"] for sample in batch]\n",
    "        output[\"mask\"] = [sample[\"mask\"] for sample in batch]\n",
    "\n",
    "        # calculate max token length of this batch\n",
    "        batch_max = max([len(ids) for ids in output[\"ids\"]])\n",
    "\n",
    "        # add padding\n",
    "        if self.tokenizer.padding_side == \"right\":\n",
    "            output[\"ids\"] = [s + (batch_max - len(s)) * [self.tokenizer.pad_token_id] for s in output[\"ids\"]]\n",
    "            output[\"mask\"] = [s + (batch_max - len(s)) * [0] for s in output[\"mask\"]]\n",
    "        else:\n",
    "            output[\"ids\"] = [(batch_max - len(s)) * [self.tokenizer.pad_token_id] + s for s in output[\"ids\"]]\n",
    "            output[\"mask\"] = [(batch_max - len(s)) * [0] + s for s in output[\"mask\"]]\n",
    "\n",
    "        # convert to tensors\n",
    "        output[\"ids\"] = torch.tensor(output[\"ids\"], dtype=torch.long)\n",
    "        output[\"mask\"] = torch.tensor(output[\"mask\"], dtype=torch.long)\n",
    "\n",
    "        return output"
   ]
  },
  {
   "cell_type": "code",
   "execution_count": 6,
   "id": "46afa747",
   "metadata": {
    "execution": {
     "iopub.execute_input": "2022-03-15T17:21:28.899242Z",
     "iopub.status.busy": "2022-03-15T17:21:28.898608Z",
     "iopub.status.idle": "2022-03-15T17:21:28.900670Z",
     "shell.execute_reply": "2022-03-15T17:21:28.901035Z",
     "shell.execute_reply.started": "2022-03-14T13:37:13.334297Z"
    },
    "papermill": {
     "duration": 0.019813,
     "end_time": "2022-03-15T17:21:28.901156",
     "exception": false,
     "start_time": "2022-03-15T17:21:28.881343",
     "status": "completed"
    },
    "tags": []
   },
   "outputs": [],
   "source": [
    "class FeedbackModel(tez.Model):\n",
    "    def __init__(self, model_name, num_labels):\n",
    "        super().__init__()\n",
    "        self.model_name = model_name\n",
    "        self.num_labels = num_labels\n",
    "        config = AutoConfig.from_pretrained(model_name)\n",
    "\n",
    "        hidden_dropout_prob: float = 0.1\n",
    "        layer_norm_eps: float = 1e-7\n",
    "        config.update(\n",
    "            {\n",
    "                \"output_hidden_states\": True,\n",
    "                \"hidden_dropout_prob\": hidden_dropout_prob,\n",
    "                \"layer_norm_eps\": layer_norm_eps,\n",
    "                \"add_pooling_layer\": False,\n",
    "            }\n",
    "        )\n",
    "        self.transformer = AutoModel.from_config(config)\n",
    "        self.output = nn.Linear(config.hidden_size, self.num_labels)\n",
    "\n",
    "    def forward(self, ids, mask):\n",
    "        transformer_out = self.transformer(ids, mask)\n",
    "        sequence_output = transformer_out.last_hidden_state\n",
    "        logits = self.output(sequence_output)\n",
    "        logits = torch.softmax(logits, dim=-1)\n",
    "        return logits, 0, {}"
   ]
  },
  {
   "cell_type": "code",
   "execution_count": 7,
   "id": "d2b33ca0",
   "metadata": {
    "execution": {
     "iopub.execute_input": "2022-03-15T17:21:28.930654Z",
     "iopub.status.busy": "2022-03-15T17:21:28.930025Z",
     "iopub.status.idle": "2022-03-15T17:21:28.932652Z",
     "shell.execute_reply": "2022-03-15T17:21:28.932199Z",
     "shell.execute_reply.started": "2022-03-14T13:37:14.884277Z"
    },
    "papermill": {
     "duration": 0.020512,
     "end_time": "2022-03-15T17:21:28.932760",
     "exception": false,
     "start_time": "2022-03-15T17:21:28.912248",
     "status": "completed"
    },
    "tags": []
   },
   "outputs": [],
   "source": [
    "def _prepare_test_data_helper(args, tokenizer, ids, train_or_test):\n",
    "    test_samples = []\n",
    "    for idx in ids:\n",
    "        filename = os.path.join(args.input_path, train_or_test, idx + \".txt\")\n",
    "        with open(filename, \"r\") as f:\n",
    "            text = f.read()\n",
    "\n",
    "        encoded_text = tokenizer.encode_plus(\n",
    "            text,\n",
    "            add_special_tokens=False,\n",
    "            return_offsets_mapping=True,\n",
    "        )\n",
    "        input_ids = encoded_text[\"input_ids\"]\n",
    "        offset_mapping = encoded_text[\"offset_mapping\"]\n",
    "\n",
    "        sample = {\n",
    "            \"id\": idx,\n",
    "            \"input_ids\": input_ids,\n",
    "            \"text\": text,\n",
    "            \"offset_mapping\": offset_mapping,\n",
    "        }\n",
    "\n",
    "        test_samples.append(sample)\n",
    "    return test_samples\n",
    "\n",
    "\n",
    "def prepare_test_data(ids, tokenizer, args, train_or_test):\n",
    "    test_samples = []\n",
    "    ids_splits = np.array_split(ids, 4)\n",
    "\n",
    "    results = Parallel(n_jobs=4, backend=\"multiprocessing\")(\n",
    "        delayed(_prepare_test_data_helper)(args, tokenizer, idx, train_or_test) for idx in ids_splits\n",
    "    )\n",
    "    for result in results:\n",
    "        test_samples.extend(result)\n",
    "\n",
    "    return test_samples"
   ]
  },
  {
   "cell_type": "code",
   "execution_count": 8,
   "id": "537f369c",
   "metadata": {
    "execution": {
     "iopub.execute_input": "2022-03-15T17:21:28.963693Z",
     "iopub.status.busy": "2022-03-15T17:21:28.963162Z",
     "iopub.status.idle": "2022-03-15T17:25:48.303154Z",
     "shell.execute_reply": "2022-03-15T17:25:48.302684Z",
     "shell.execute_reply.started": "2022-03-14T13:37:45.528933Z"
    },
    "papermill": {
     "duration": 259.359528,
     "end_time": "2022-03-15T17:25:48.303299",
     "exception": false,
     "start_time": "2022-03-15T17:21:28.943771",
     "status": "completed"
    },
    "tags": []
   },
   "outputs": [
    {
     "name": "stderr",
     "output_type": "stream",
     "text": [
      "100%|██████████| 1/1 [00:02<00:00,  2.43s/it, stage=test]\n",
      "100%|██████████| 1/1 [00:01<00:00,  1.52s/it, stage=test]\n",
      "100%|██████████| 1/1 [00:01<00:00,  1.55s/it, stage=test]\n",
      "100%|██████████| 1/1 [00:01<00:00,  1.50s/it, stage=test]\n",
      "100%|██████████| 1/1 [00:01<00:00,  1.54s/it, stage=test]\n",
      "100%|██████████| 1/1 [00:01<00:00,  1.51s/it, stage=test]\n",
      "100%|██████████| 1/1 [00:01<00:00,  1.52s/it, stage=test]\n",
      "100%|██████████| 1/1 [00:01<00:00,  1.52s/it, stage=test]\n",
      "100%|██████████| 1/1 [00:01<00:00,  1.52s/it, stage=test]\n",
      "100%|██████████| 1/1 [00:01<00:00,  1.53s/it, stage=test]\n"
     ]
    }
   ],
   "source": [
    "tokenizer = AutoTokenizer.from_pretrained(args1.model)\n",
    "\n",
    "train_or_test = \"test\"\n",
    "ids = [f.split('.')[0] for f in os.listdir(os.path.join(args1.input_path, train_or_test))]\n",
    "#ids = ids[0:150]\n",
    "test_samples = prepare_test_data(ids, tokenizer, args1, train_or_test)\n",
    "\n",
    "collate = Collate(tokenizer=tokenizer)\n",
    "\n",
    "raw_preds = []\n",
    "for fold_ in range(10):\n",
    "    current_idx = 0\n",
    "    test_dataset = FeedbackDataset(test_samples, args1.max_len, tokenizer)\n",
    "    \n",
    "    if fold_ < 5:\n",
    "        model = FeedbackModel(model_name=args1.model, num_labels=len(target_id_map) - 1)\n",
    "        model.load(os.path.join(args1.tez_model, f\"model_{fold_}.bin\"), weights_only=True)\n",
    "        preds_iter = model.predict(test_dataset, batch_size=args1.batch_size, n_jobs=-1, collate_fn=collate)\n",
    "    else:\n",
    "        model = FeedbackModel(model_name=args2.model, num_labels=len(target_id_map) - 1)\n",
    "        model.load(os.path.join(args2.tez_model, f\"model_{fold_-5}.bin\"), weights_only=True)\n",
    "        preds_iter = model.predict(test_dataset, batch_size=args2.batch_size, n_jobs=-1, collate_fn=collate)\n",
    "        \n",
    "    current_idx = 0\n",
    "    \n",
    "    for preds in preds_iter:\n",
    "        preds = preds.astype(np.float16)\n",
    "        preds = preds / 10\n",
    "        if fold_ == 0:\n",
    "            raw_preds.append(preds)\n",
    "        else:\n",
    "            raw_preds[current_idx] += preds\n",
    "            current_idx += 1\n",
    "    torch.cuda.empty_cache()\n",
    "    gc.collect()"
   ]
  },
  {
   "cell_type": "code",
   "execution_count": 9,
   "id": "8d34a8b1",
   "metadata": {
    "execution": {
     "iopub.execute_input": "2022-03-15T17:25:48.359650Z",
     "iopub.status.busy": "2022-03-15T17:25:48.358880Z",
     "iopub.status.idle": "2022-03-15T17:25:48.364308Z",
     "shell.execute_reply": "2022-03-15T17:25:48.363916Z",
     "shell.execute_reply.started": "2022-03-13T17:05:23.578762Z"
    },
    "papermill": {
     "duration": 0.035524,
     "end_time": "2022-03-15T17:25:48.364452",
     "exception": false,
     "start_time": "2022-03-15T17:25:48.328928",
     "status": "completed"
    },
    "tags": []
   },
   "outputs": [],
   "source": [
    "final_preds = []\n",
    "final_scores = []\n",
    "\n",
    "for rp in raw_preds:\n",
    "    pred_class = np.argmax(rp, axis=2)\n",
    "    pred_scrs = np.max(rp, axis=2)\n",
    "    for pred, pred_scr in zip(pred_class, pred_scrs):\n",
    "        pred = pred.tolist()\n",
    "        pred_scr = pred_scr.tolist()\n",
    "        final_preds.append(pred)\n",
    "        final_scores.append(pred_scr)\n",
    "\n",
    "for j in range(len(test_samples)):\n",
    "    tt = [id_target_map[p] for p in final_preds[j][1:]]\n",
    "    tt_score = final_scores[j][1:]\n",
    "    test_samples[j][\"preds\"] = tt\n",
    "    test_samples[j][\"pred_scores\"] = tt_score"
   ]
  },
  {
   "cell_type": "code",
   "execution_count": 10,
   "id": "a9bd6a11",
   "metadata": {
    "execution": {
     "iopub.execute_input": "2022-03-15T17:25:48.423298Z",
     "iopub.status.busy": "2022-03-15T17:25:48.422505Z",
     "iopub.status.idle": "2022-03-15T17:25:48.425145Z",
     "shell.execute_reply": "2022-03-15T17:25:48.424681Z",
     "shell.execute_reply.started": "2022-03-13T17:05:25.265691Z"
    },
    "papermill": {
     "duration": 0.03695,
     "end_time": "2022-03-15T17:25:48.425260",
     "exception": false,
     "start_time": "2022-03-15T17:25:48.388310",
     "status": "completed"
    },
    "tags": []
   },
   "outputs": [],
   "source": [
    "def jn(pst, start, end):\n",
    "    return \" \".join([str(x) for x in pst[start:end]])\n",
    "\n",
    "\n",
    "def link_evidence(oof):\n",
    "    thresh = 1\n",
    "    thresh2 = 26\n",
    "    idu = oof['id'].unique()\n",
    "    eoof = oof[oof['class'] == \"Evidence\"]\n",
    "    neoof = oof[oof['class'] != \"Evidence\"]\n",
    "    retval = []\n",
    "    for idv in idu:\n",
    "        q = eoof[(eoof['id'] == idv)]\n",
    "        if len(q) == 0:\n",
    "            continue\n",
    "        pst = []\n",
    "        c=\"Evidence\"\n",
    "        for i,r in q.iterrows():\n",
    "            pst = pst +[-1] + [int(x) for x in r['predictionstring'].split()]\n",
    "        start = 1\n",
    "        end = 1\n",
    "        for i in range(2,len(pst)):\n",
    "            cur = pst[i]\n",
    "            end = i\n",
    "            #if pst[start] == 205:\n",
    "            #   print(cur, pst[start], cur - pst[start])\n",
    "            if (cur == -1 and c != 'Evidence') or ((cur == -1) and ((pst[i+1] > pst[end-1] + thresh) or (pst[i+1] - pst[start] > thresh2))):\n",
    "                retval.append((idv, c, jn(pst, start, end)))\n",
    "                start = i + 1\n",
    "        v = (idv, c, jn(pst, start, end+1))\n",
    "        #print(v)\n",
    "        retval.append(v)\n",
    "    roof = pd.DataFrame(retval, columns = ['id', 'class', 'predictionstring']) \n",
    "    roof = roof.merge(neoof, how='outer')\n",
    "    return roof"
   ]
  },
  {
   "cell_type": "code",
   "execution_count": 11,
   "id": "cf34b546",
   "metadata": {
    "execution": {
     "iopub.execute_input": "2022-03-15T17:25:48.527389Z",
     "iopub.status.busy": "2022-03-15T17:25:48.524388Z",
     "iopub.status.idle": "2022-03-15T17:25:48.614245Z",
     "shell.execute_reply": "2022-03-15T17:25:48.615553Z",
     "shell.execute_reply.started": "2022-03-13T17:06:48.744774Z"
    },
    "papermill": {
     "duration": 0.150815,
     "end_time": "2022-03-15T17:25:48.615885",
     "exception": false,
     "start_time": "2022-03-15T17:25:48.465070",
     "status": "completed"
    },
    "tags": []
   },
   "outputs": [],
   "source": [
    "proba_thresh = {\n",
    "    \"Lead\": 0.687,\n",
    "    \"Position\": 0.537,\n",
    "    \"Evidence\": 0.637,\n",
    "    \"Claim\": 0.537,\n",
    "    \"Concluding Statement\": 0.687,\n",
    "    \"Counterclaim\": 0.537,\n",
    "    \"Rebuttal\": 0.537,\n",
    "}\n",
    "\n",
    "min_thresh = {\n",
    "    \"Lead\": 9,\n",
    "    \"Position\": 5,\n",
    "    \"Evidence\": 14,\n",
    "    \"Claim\": 3,\n",
    "    \"Concluding Statement\": 11,\n",
    "    \"Counterclaim\": 6,\n",
    "    \"Rebuttal\": 4,\n",
    "}\n",
    "\n",
    "submission = []\n",
    "for sample_idx, sample in enumerate(test_samples):\n",
    "    preds = sample[\"preds\"]\n",
    "    offset_mapping = sample[\"offset_mapping\"]\n",
    "    sample_id = sample[\"id\"]\n",
    "    sample_text = sample[\"text\"]\n",
    "    sample_input_ids = sample[\"input_ids\"]\n",
    "    sample_pred_scores = sample[\"pred_scores\"]\n",
    "    sample_preds = []\n",
    "\n",
    "    if len(preds) < len(offset_mapping):\n",
    "        preds = preds + [\"O\"] * (len(offset_mapping) - len(preds))\n",
    "        sample_pred_scores = sample_pred_scores + [0] * (len(offset_mapping) - len(sample_pred_scores))\n",
    "    \n",
    "    idx = 0\n",
    "    phrase_preds = []\n",
    "    while idx < len(offset_mapping):\n",
    "        start, _ = offset_mapping[idx]\n",
    "        if preds[idx] != \"O\":\n",
    "            label = preds[idx][2:]\n",
    "        else:\n",
    "            label = \"O\"\n",
    "        phrase_scores = []\n",
    "        phrase_scores.append(sample_pred_scores[idx])\n",
    "        idx += 1\n",
    "        while idx < len(offset_mapping):\n",
    "            if label == \"O\":\n",
    "                matching_label = \"O\"\n",
    "            else:\n",
    "                matching_label = f\"I-{label}\"\n",
    "            if preds[idx] == matching_label:\n",
    "                _, end = offset_mapping[idx]\n",
    "                phrase_scores.append(sample_pred_scores[idx])\n",
    "                idx += 1\n",
    "            else:\n",
    "                break\n",
    "        if \"end\" in locals():\n",
    "            phrase = sample_text[start:end]\n",
    "            phrase_preds.append((phrase, start, end, label, phrase_scores))\n",
    "\n",
    "    temp_df = []\n",
    "    for phrase_idx, (phrase, start, end, label, phrase_scores) in enumerate(phrase_preds):\n",
    "        word_start = len(sample_text[:start].split())\n",
    "        word_end = word_start + len(sample_text[start:end].split())\n",
    "        word_end = min(word_end, len(sample_text.split()))\n",
    "        ps = \" \".join([str(x) for x in range(word_start, word_end)])\n",
    "        if label != \"O\":\n",
    "            if sum(phrase_scores) / len(phrase_scores) >= proba_thresh[label]:\n",
    "                if len(ps.split()) >= min_thresh[label]:\n",
    "                    temp_df.append((sample_id, label, ps))\n",
    "    \n",
    "    temp_df = pd.DataFrame(temp_df, columns=[\"id\", \"class\", \"predictionstring\"])\n",
    "    submission.append(temp_df)\n",
    "\n",
    "submission = pd.concat(submission).reset_index(drop=True)\n",
    "submission = link_evidence(submission)"
   ]
  },
  {
   "cell_type": "code",
   "execution_count": 12,
   "id": "96338391",
   "metadata": {
    "execution": {
     "iopub.execute_input": "2022-03-15T17:25:48.731747Z",
     "iopub.status.busy": "2022-03-15T17:25:48.730737Z",
     "iopub.status.idle": "2022-03-15T17:25:48.735920Z",
     "shell.execute_reply": "2022-03-15T17:25:48.736552Z"
    },
    "papermill": {
     "duration": 0.063944,
     "end_time": "2022-03-15T17:25:48.736800",
     "exception": false,
     "start_time": "2022-03-15T17:25:48.672856",
     "status": "completed"
    },
    "tags": []
   },
   "outputs": [],
   "source": [
    "def clean_rebuttals(submission, clean_counterclaim, class_col_name):\n",
    "    \n",
    "    ids = submission.id.unique()\n",
    "    ids_to_clean_r = []\n",
    "    ids_to_clean_c = []\n",
    "\n",
    "    for id_ in ids:\n",
    "        classes = submission[submission.id == id_][class_col_name].unique()\n",
    "        if (\"Rebuttal\" in classes) and (not \"Counterclaim\" in classes):\n",
    "            ids_to_clean_r.append(id_)\n",
    "        elif (\"Counterclaim\" in classes) and (not \"Claim\" in classes) and clean_counterclaim:\n",
    "            ids_to_clean_c.append(id_)\n",
    "    \n",
    "    index_to_drop_r = list(submission[(submission[class_col_name] == \"Rebuttal\") & submission[\"id\"].isin(ids_to_clean_r)].index.values)\n",
    "    index_to_drop_c = list(submission[(submission[class_col_name] == \"Counterclaim\") & submission[\"id\"].isin(ids_to_clean_c)].index.values)\n",
    "    \n",
    "    return submission.drop(index=index_to_drop_r+index_to_drop_c)"
   ]
  },
  {
   "cell_type": "code",
   "execution_count": 13,
   "id": "0960c401",
   "metadata": {
    "execution": {
     "iopub.execute_input": "2022-03-15T17:25:48.836935Z",
     "iopub.status.busy": "2022-03-15T17:25:48.836144Z",
     "iopub.status.idle": "2022-03-15T17:25:48.843983Z",
     "shell.execute_reply": "2022-03-15T17:25:48.845196Z"
    },
    "papermill": {
     "duration": 0.06327,
     "end_time": "2022-03-15T17:25:48.845361",
     "exception": false,
     "start_time": "2022-03-15T17:25:48.782091",
     "status": "completed"
    },
    "tags": []
   },
   "outputs": [],
   "source": [
    "submission = clean_rebuttals(submission, False, \"class\")"
   ]
  },
  {
   "cell_type": "code",
   "execution_count": 14,
   "id": "2e8e52d2",
   "metadata": {
    "execution": {
     "iopub.execute_input": "2022-03-15T17:25:48.942712Z",
     "iopub.status.busy": "2022-03-15T17:25:48.940194Z",
     "iopub.status.idle": "2022-03-15T17:25:48.945163Z",
     "shell.execute_reply": "2022-03-15T17:25:48.945830Z"
    },
    "papermill": {
     "duration": 0.057436,
     "end_time": "2022-03-15T17:25:48.946017",
     "exception": false,
     "start_time": "2022-03-15T17:25:48.888581",
     "status": "completed"
    },
    "tags": []
   },
   "outputs": [],
   "source": [
    "submission.to_csv(\"submission.csv\", index=False)"
   ]
  },
  {
   "cell_type": "code",
   "execution_count": 15,
   "id": "fde991ff",
   "metadata": {
    "execution": {
     "iopub.execute_input": "2022-03-15T17:25:49.044361Z",
     "iopub.status.busy": "2022-03-15T17:25:49.043533Z",
     "iopub.status.idle": "2022-03-15T17:25:49.061688Z",
     "shell.execute_reply": "2022-03-15T17:25:49.061231Z",
     "shell.execute_reply.started": "2022-03-13T17:06:50.987364Z"
    },
    "papermill": {
     "duration": 0.070196,
     "end_time": "2022-03-15T17:25:49.061805",
     "exception": false,
     "start_time": "2022-03-15T17:25:48.991609",
     "status": "completed"
    },
    "tags": []
   },
   "outputs": [
    {
     "data": {
      "text/html": [
       "<div>\n",
       "<style scoped>\n",
       "    .dataframe tbody tr th:only-of-type {\n",
       "        vertical-align: middle;\n",
       "    }\n",
       "\n",
       "    .dataframe tbody tr th {\n",
       "        vertical-align: top;\n",
       "    }\n",
       "\n",
       "    .dataframe thead th {\n",
       "        text-align: right;\n",
       "    }\n",
       "</style>\n",
       "<table border=\"1\" class=\"dataframe\">\n",
       "  <thead>\n",
       "    <tr style=\"text-align: right;\">\n",
       "      <th></th>\n",
       "      <th>id</th>\n",
       "      <th>class</th>\n",
       "      <th>predictionstring</th>\n",
       "    </tr>\n",
       "  </thead>\n",
       "  <tbody>\n",
       "    <tr>\n",
       "      <th>0</th>\n",
       "      <td>0FB0700DAF44</td>\n",
       "      <td>Evidence</td>\n",
       "      <td>123 124 125 126 127 128 129 130 131 132 133 13...</td>\n",
       "    </tr>\n",
       "    <tr>\n",
       "      <th>1</th>\n",
       "      <td>0FB0700DAF44</td>\n",
       "      <td>Evidence</td>\n",
       "      <td>341 342 343 344 345 346 347 348 349 350 351 35...</td>\n",
       "    </tr>\n",
       "    <tr>\n",
       "      <th>2</th>\n",
       "      <td>D72CB1C11673</td>\n",
       "      <td>Evidence</td>\n",
       "      <td>94 95 96 97 98 99 100 101 102 103 104 105 106 ...</td>\n",
       "    </tr>\n",
       "    <tr>\n",
       "      <th>3</th>\n",
       "      <td>D72CB1C11673</td>\n",
       "      <td>Evidence</td>\n",
       "      <td>183 184 185 186 187 188 189 190 191 192 193 19...</td>\n",
       "    </tr>\n",
       "    <tr>\n",
       "      <th>4</th>\n",
       "      <td>D72CB1C11673</td>\n",
       "      <td>Evidence</td>\n",
       "      <td>274 275 276 277 278 279 280 281 282 283 284 28...</td>\n",
       "    </tr>\n",
       "  </tbody>\n",
       "</table>\n",
       "</div>"
      ],
      "text/plain": [
       "             id     class                                   predictionstring\n",
       "0  0FB0700DAF44  Evidence  123 124 125 126 127 128 129 130 131 132 133 13...\n",
       "1  0FB0700DAF44  Evidence  341 342 343 344 345 346 347 348 349 350 351 35...\n",
       "2  D72CB1C11673  Evidence  94 95 96 97 98 99 100 101 102 103 104 105 106 ...\n",
       "3  D72CB1C11673  Evidence  183 184 185 186 187 188 189 190 191 192 193 19...\n",
       "4  D72CB1C11673  Evidence  274 275 276 277 278 279 280 281 282 283 284 28..."
      ]
     },
     "execution_count": 15,
     "metadata": {},
     "output_type": "execute_result"
    }
   ],
   "source": [
    "submission.head()"
   ]
  }
 ],
 "metadata": {
  "kernelspec": {
   "display_name": "Python 3",
   "language": "python",
   "name": "python3"
  },
  "language_info": {
   "codemirror_mode": {
    "name": "ipython",
    "version": 3
   },
   "file_extension": ".py",
   "mimetype": "text/x-python",
   "name": "python",
   "nbconvert_exporter": "python",
   "pygments_lexer": "ipython3",
   "version": "3.7.12"
  },
  "papermill": {
   "default_parameters": {},
   "duration": 278.423044,
   "end_time": "2022-03-15T17:25:52.457033",
   "environment_variables": {},
   "exception": null,
   "input_path": "__notebook__.ipynb",
   "output_path": "__notebook__.ipynb",
   "parameters": {},
   "start_time": "2022-03-15T17:21:14.033989",
   "version": "2.3.3"
  }
 },
 "nbformat": 4,
 "nbformat_minor": 5
}
